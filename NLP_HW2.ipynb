{
 "cells": [
  {
   "cell_type": "markdown",
   "metadata": {
    "colab_type": "text",
    "id": "ZzoSVhT_wZcB"
   },
   "source": [
    "# 1. Preparation and Preprocessing \n",
    "- Install pytoch 0.4.1\n",
    "- Cuda version: 9.2\n",
    "- Load data and preprocessing for training"
   ]
  },
  {
   "cell_type": "code",
   "execution_count": 1,
   "metadata": {
    "colab": {
     "base_uri": "https://localhost:8080/",
     "height": 306
    },
    "colab_type": "code",
    "id": "PazlNpZgiE6T",
    "outputId": "ccc2eff1-92b7-4992-efb4-f3a65fa1f7e4"
   },
   "outputs": [
    {
     "name": "stdout",
     "output_type": "stream",
     "text": [
      "Mon Oct 29 18:18:09 2018       \n",
      "+-----------------------------------------------------------------------------+\n",
      "| NVIDIA-SMI 396.44                 Driver Version: 396.44                    |\n",
      "|-------------------------------+----------------------+----------------------+\n",
      "| GPU  Name        Persistence-M| Bus-Id        Disp.A | Volatile Uncorr. ECC |\n",
      "| Fan  Temp  Perf  Pwr:Usage/Cap|         Memory-Usage | GPU-Util  Compute M. |\n",
      "|===============================+======================+======================|\n",
      "|   0  Tesla K80           Off  | 00000000:00:04.0 Off |                    0 |\n",
      "| N/A   39C    P8    27W / 149W |      0MiB / 11441MiB |      0%      Default |\n",
      "+-------------------------------+----------------------+----------------------+\n",
      "                                                                               \n",
      "+-----------------------------------------------------------------------------+\n",
      "| Processes:                                                       GPU Memory |\n",
      "|  GPU       PID   Type   Process name                             Usage      |\n",
      "|=============================================================================|\n",
      "|  No running processes found                                                 |\n",
      "+-----------------------------------------------------------------------------+\n"
     ]
    }
   ],
   "source": [
    "# NVIDIA profiling tool for the available GPU\n",
    "!nvidia-smi"
   ]
  },
  {
   "cell_type": "code",
   "execution_count": 2,
   "metadata": {
    "colab": {
     "base_uri": "https://localhost:8080/",
     "height": 54
    },
    "colab_type": "code",
    "id": "o3xL5WYd92BB",
    "outputId": "61d22797-bbc1-4d8a-8e71-a00d44bf82dc"
   },
   "outputs": [
    {
     "name": "stdout",
     "output_type": "stream",
     "text": [
      "tcmalloc: large alloc 1073750016 bytes == 0x57dc6000 @  0x7fae79e6f2a4 0x594e17 0x626104 0x51190a 0x4f5277 0x510c78 0x5119bd 0x4f5277 0x4f3338 0x510fb0 0x5119bd 0x4f5277 0x4f3338 0x510fb0 0x5119bd 0x4f5277 0x4f3338 0x510fb0 0x5119bd 0x4f6070 0x510c78 0x5119bd 0x4f5277 0x4f3338 0x510fb0 0x5119bd 0x4f6070 0x4f3338 0x510fb0 0x5119bd 0x4f6070\n"
     ]
    }
   ],
   "source": [
    "# http://pytorch.org/\n",
    "from os.path import exists\n",
    "from wheel.pep425tags import get_abbr_impl, get_impl_ver, get_abi_tag\n",
    "platform = '{}{}-{}'.format(get_abbr_impl(), get_impl_ver(), get_abi_tag())\n",
    "cuda_output = !ldconfig -p|grep cudart.so|sed -e 's/.*\\.\\([0-9]*\\)\\.\\([0-9]*\\)$/cu\\1\\2/'\n",
    "accelerator = cuda_output[0] if exists('/dev/nvidia0') else 'cpu'\n",
    "\n",
    "!pip install -q http://download.pytorch.org/whl/{accelerator}/torch-0.4.1-{platform}-linux_x86_64.whl torchvision\n",
    "import torch"
   ]
  },
  {
   "cell_type": "code",
   "execution_count": 3,
   "metadata": {
    "colab": {
     "base_uri": "https://localhost:8080/",
     "height": 119
    },
    "colab_type": "code",
    "id": "3kYHpLrXnK29",
    "outputId": "618fb9a1-1c89-4975-94dd-bab1723b48c9"
   },
   "outputs": [
    {
     "name": "stdout",
     "output_type": "stream",
     "text": [
      "PyTorch version: \n",
      "0.4.1\n",
      "CUDA Version: \n",
      "9.2.148\n",
      "cuDNN version is: \n",
      "7104\n"
     ]
    }
   ],
   "source": [
    "# Use PyTorch to check versions, CUDA version and cuDNN\n",
    "\n",
    "import torch\n",
    "\n",
    "print(\"PyTorch version: \")\n",
    "print(torch.__version__)\n",
    "print(\"CUDA Version: \")\n",
    "print(torch.version.cuda)\n",
    "print(\"cuDNN version is: \")\n",
    "print(torch.backends.cudnn.version())"
   ]
  },
  {
   "cell_type": "code",
   "execution_count": 4,
   "metadata": {
    "colab": {
     "base_uri": "https://localhost:8080/",
     "height": 289
    },
    "colab_type": "code",
    "id": "7QQERHbZPdzj",
    "outputId": "3e64f743-dd08-40b7-9678-a2fde3aa0dea"
   },
   "outputs": [
    {
     "name": "stdout",
     "output_type": "stream",
     "text": [
      "Thu Oct 25 16:46:11 2018       \n",
      "+-----------------------------------------------------------------------------+\n",
      "| NVIDIA-SMI 396.44                 Driver Version: 396.44                    |\n",
      "|-------------------------------+----------------------+----------------------+\n",
      "| GPU  Name        Persistence-M| Bus-Id        Disp.A | Volatile Uncorr. ECC |\n",
      "| Fan  Temp  Perf  Pwr:Usage/Cap|         Memory-Usage | GPU-Util  Compute M. |\n",
      "|===============================+======================+======================|\n",
      "|   0  Tesla K80           Off  | 00000000:00:04.0 Off |                    0 |\n",
      "| N/A   33C    P0    70W / 149W |    280MiB / 11441MiB |      0%      Default |\n",
      "+-------------------------------+----------------------+----------------------+\n",
      "                                                                               \n",
      "+-----------------------------------------------------------------------------+\n",
      "| Processes:                                                       GPU Memory |\n",
      "|  GPU       PID   Type   Process name                             Usage      |\n",
      "|=============================================================================|\n",
      "+-----------------------------------------------------------------------------+\n"
     ]
    }
   ],
   "source": [
    "!nvidia-smi"
   ]
  },
  {
   "cell_type": "code",
   "execution_count": 4,
   "metadata": {
    "colab": {
     "base_uri": "https://localhost:8080/",
     "height": 122
    },
    "colab_type": "code",
    "id": "Lo4bpleeOVOs",
    "outputId": "73dc5764-c870-495b-9985-0aa69a0ca613"
   },
   "outputs": [
    {
     "name": "stdout",
     "output_type": "stream",
     "text": [
      "Go to this URL in a browser: https://accounts.google.com/o/oauth2/auth?client_id=947318989803-6bn6qk8qdgf4n4g3pfee6491hc0brc4i.apps.googleusercontent.com&redirect_uri=urn%3Aietf%3Awg%3Aoauth%3A2.0%3Aoob&scope=email%20https%3A%2F%2Fwww.googleapis.com%2Fauth%2Fdocs.test%20https%3A%2F%2Fwww.googleapis.com%2Fauth%2Fdrive%20https%3A%2F%2Fwww.googleapis.com%2Fauth%2Fdrive.photos.readonly%20https%3A%2F%2Fwww.googleapis.com%2Fauth%2Fpeopleapi.readonly&response_type=code\n",
      "\n",
      "Enter your authorization code:\n",
      "··········\n",
      "Mounted at /content/drive\n"
     ]
    }
   ],
   "source": [
    "#connect with google drive to load pre-trained embedding \n",
    "from google.colab import drive\n",
    "drive.mount('/content/drive')"
   ]
  },
  {
   "cell_type": "code",
   "execution_count": 0,
   "metadata": {
    "colab": {},
    "colab_type": "code",
    "collapsed": true,
    "id": "jMTzuCVRV50w"
   },
   "outputs": [],
   "source": [
    "#load necessary library\n",
    "import pandas as pd\n",
    "import numpy as np\n",
    "import torch\n",
    "import torch.nn as nn\n",
    "import torch.nn.functional as F\n",
    "import pickle as pkl"
   ]
  },
  {
   "cell_type": "code",
   "execution_count": 0,
   "metadata": {
    "colab": {},
    "colab_type": "code",
    "collapsed": true,
    "id": "FdUdmnw9WYCG"
   },
   "outputs": [],
   "source": [
    "# Load pre-trained embedding and add <pad> and <unk>\n",
    "PAD_IDX = 0\n",
    "UNK_IDX = 1\n",
    "def load_ft(words_to_load):\n",
    "    with open('/content/drive/My Drive/Colab Notebooks/wiki-news-300d-1M.vec') as f:\n",
    "        loaded_embeddings = np.zeros((words_to_load+2, 300))\n",
    "        token2id = {}\n",
    "        token2id['<pad>'] = PAD_IDX \n",
    "        token2id['<unk>'] = UNK_IDX\n",
    "        id2token = []\n",
    "        \n",
    "        for i, line in enumerate(f):\n",
    "            if i >= words_to_load: \n",
    "                break\n",
    "            s = line.split()\n",
    "            loaded_embeddings[i+2, :] = np.asarray(s[1:])\n",
    "            id2token.append(s[0])\n",
    "            token2id[s[0]] = i+2\n",
    "    id2token = ['<pad>', '<unk>'] + id2token\n",
    "    return token2id, id2token, loaded_embeddings"
   ]
  },
  {
   "cell_type": "code",
   "execution_count": 0,
   "metadata": {
    "colab": {},
    "colab_type": "code",
    "collapsed": true,
    "id": "SkWI_n-YWcG3"
   },
   "outputs": [],
   "source": [
    "# call load_ft to load fast_text embedding\n",
    "token2id, id2token,ft_emb = load_ft(500000)"
   ]
  },
  {
   "cell_type": "code",
   "execution_count": 17,
   "metadata": {
    "colab": {
     "base_uri": "https://localhost:8080/",
     "height": 34
    },
    "colab_type": "code",
    "id": "96cb8Dj4Eszc",
    "outputId": "1ef16b69-cf97-495d-b550-bc1c5161482b"
   },
   "outputs": [
    {
     "data": {
      "text/plain": [
       "1"
      ]
     },
     "execution_count": 17,
     "metadata": {
      "tags": []
     },
     "output_type": "execute_result"
    }
   ],
   "source": [
    "token2id['<unk>']"
   ]
  },
  {
   "cell_type": "code",
   "execution_count": 19,
   "metadata": {
    "colab": {
     "base_uri": "https://localhost:8080/",
     "height": 34
    },
    "colab_type": "code",
    "id": "O6Tha3k-E3uo",
    "outputId": "fbffb696-76e9-49d7-92f9-f9f5370edd47"
   },
   "outputs": [
    {
     "data": {
      "text/plain": [
       "77811"
      ]
     },
     "execution_count": 19,
     "metadata": {
      "tags": []
     },
     "output_type": "execute_result"
    }
   ],
   "source": [
    "token2id['UNK']"
   ]
  },
  {
   "cell_type": "code",
   "execution_count": 16,
   "metadata": {
    "colab": {
     "base_uri": "https://localhost:8080/",
     "height": 34
    },
    "colab_type": "code",
    "id": "dmUSwlKmEn45",
    "outputId": "ee375489-6dc0-4ef1-cda0-f96e1e37d1d7"
   },
   "outputs": [
    {
     "data": {
      "text/plain": [
       "307965"
      ]
     },
     "execution_count": 16,
     "metadata": {
      "tags": []
     },
     "output_type": "execute_result"
    }
   ],
   "source": [
    "token2id['unk']"
   ]
  },
  {
   "cell_type": "code",
   "execution_count": 15,
   "metadata": {
    "colab": {
     "base_uri": "https://localhost:8080/",
     "height": 34
    },
    "colab_type": "code",
    "id": "_FtSDKLnEj9p",
    "outputId": "a7db6ff2-2e9b-4b10-c6a4-025f8017f81f"
   },
   "outputs": [
    {
     "data": {
      "text/plain": [
       "77811"
      ]
     },
     "execution_count": 15,
     "metadata": {
      "tags": []
     },
     "output_type": "execute_result"
    }
   ],
   "source": [
    "token2id['UNK']"
   ]
  },
  {
   "cell_type": "code",
   "execution_count": 0,
   "metadata": {
    "colab": {},
    "colab_type": "code",
    "collapsed": true,
    "id": "cD2xhhkmWf0B"
   },
   "outputs": [],
   "source": [
    "def df2idx(fname):\n",
    "    df = pd.read_csv(fname, sep=\"\\t\", index_col=False )\n",
    "    # change the label to numerical value\n",
    "    df.loc[df['label'] == 'entailment', 'label'] = 0\n",
    "    df.loc[df['label'] == 'contradiction', 'label'] = 1\n",
    "    df.loc[df['label'] == 'neutral', 'label'] = 2\n",
    "    # convert token to idx\n",
    "    df['sent1_idx']  = df.apply (lambda row:[token2id[token] if token in token2id else token2id['UNK'] for token in row.sentence1.split()],axis=1)\n",
    "    df['sent2_idx']  = df.apply (lambda row:[token2id[token] if token in token2id else token2id['UNK'] for token in row.sentence2.split()],axis=1)\n",
    "    # convert df to data list and label list\n",
    "    indexed_data = list(zip(df.sent1_idx, df.sent2_idx))\n",
    "    label = np.array(df.label)\n",
    "    return indexed_data, label, df"
   ]
  },
  {
   "cell_type": "code",
   "execution_count": 0,
   "metadata": {
    "colab": {},
    "colab_type": "code",
    "collapsed": true,
    "id": "ON3wj7f8W0jC"
   },
   "outputs": [],
   "source": [
    "val_data, val_targets, val_df = df2idx(\"/content/snli_val.tsv\")\n",
    "train_data, train_targets, train_df = df2idx(\"/content/snli_train.tsv\")"
   ]
  },
  {
   "cell_type": "code",
   "execution_count": 0,
   "metadata": {
    "colab": {},
    "colab_type": "code",
    "collapsed": true,
    "id": "amHVIXIrJCth"
   },
   "outputs": [],
   "source": [
    "# Get a subset of training set to calculate the training accuracy\n",
    "import random\n",
    "subset_idx = random.sample(range(100000), 10000)\n",
    "subset_train_data = [train_data[i] for i in subset_idx]\n",
    "subset_train_targets = [train_targets[i] for i in subset_idx]"
   ]
  },
  {
   "cell_type": "code",
   "execution_count": 11,
   "metadata": {
    "colab": {
     "base_uri": "https://localhost:8080/",
     "height": 51
    },
    "colab_type": "code",
    "id": "xFyPgQbqm7Dq",
    "outputId": "8fc9b740-0120-4a4d-f0df-0394aec7360a"
   },
   "outputs": [
    {
     "name": "stdout",
     "output_type": "stream",
     "text": [
      "The max length of sentence 1 is 82\n",
      "The max length of sentence 2 is 41\n"
     ]
    }
   ],
   "source": [
    "# Get the max length of sentence in training set\n",
    "print('The max length of sentence 1 is {}'.format(max([len(train_data[i][0]) for i in range(len(train_data))])))\n",
    "print('The max length of sentence 2 is {}'.format(max([len(train_data[i][1]) for i in range(len(train_data))])))\n"
   ]
  },
  {
   "cell_type": "code",
   "execution_count": 0,
   "metadata": {
    "colab": {},
    "colab_type": "code",
    "collapsed": true,
    "id": "5KEEUgD-XY4l"
   },
   "outputs": [],
   "source": [
    "MAX_SENTENCE1_LENGTH = 82\n",
    "MAX_SENTENCE2_LENGTH = 41\n",
    "\n",
    "import numpy as np\n",
    "import torch\n",
    "from torch.utils.data import Dataset\n",
    "\n",
    "class NewsGroupDataset(Dataset):\n",
    "    \"\"\"\n",
    "    Class that represents a train/validation/test dataset that's readable for PyTorch\n",
    "    Note that this class inherits torch.utils.data.Dataset\n",
    "    \"\"\"\n",
    "    \n",
    "    def __init__(self, data_list, target_list):\n",
    "        \"\"\"\n",
    "        @param data_list: list of newsgroup tokens \n",
    "        @param target_list: list of newsgroup targets \n",
    "\n",
    "        \"\"\"\n",
    "        self.data_list = data_list\n",
    "        self.target_list = target_list\n",
    "        assert (len(self.data_list) == len(self.target_list))\n",
    "\n",
    "    def __len__(self):\n",
    "        return len(self.data_list)\n",
    "        \n",
    "    def __getitem__(self, key):\n",
    "        \"\"\"\n",
    "        Triggered when you call dataset[i]\n",
    "        \"\"\"\n",
    "        \n",
    "        token1_idx = self.data_list[key][0][:MAX_SENTENCE1_LENGTH]\n",
    "        token2_idx = self.data_list[key][1][:MAX_SENTENCE2_LENGTH]\n",
    "        label = self.target_list[key]\n",
    "        return [token1_idx, token2_idx, len(token1_idx),len(token2_idx),label]\n",
    "\n",
    "def newsgroup_collate_func(batch):\n",
    "    \"\"\"\n",
    "    Customized function for DataLoader that dynamically pads the batch so that all \n",
    "    data have the same length\n",
    "    \"\"\"\n",
    "    token1_data_list = []\n",
    "    token2_data_list = []\n",
    "    label_list = []\n",
    "    token1_length_list = []\n",
    "    token2_length_list = []\n",
    "    #print(\"collate batch: \", batch[0][0])\n",
    "    #batch[0][0] = batch[0][0][:MAX_SENTENCE_LENGTH]\n",
    "    for datum in batch:\n",
    "        label_list.append(datum[4])\n",
    "        token1_length_list.append(datum[2])\n",
    "        token2_length_list.append(datum[3])\n",
    "    # padding\n",
    "    for datum in batch:\n",
    "        token1_padded_vec = np.pad(np.array(datum[0]), \n",
    "                                pad_width=((0,MAX_SENTENCE1_LENGTH-datum[2])), \n",
    "                                mode=\"constant\", constant_values=0)\n",
    "        token2_padded_vec = np.pad(np.array(datum[1]), \n",
    "                                pad_width=((0,MAX_SENTENCE2_LENGTH-datum[3])), \n",
    "                                mode=\"constant\", constant_values=0)\n",
    "        token1_data_list.append(token1_padded_vec)\n",
    "        token2_data_list.append(token2_padded_vec)\n",
    "    return [torch.from_numpy(np.array(token1_data_list)), torch.LongTensor(token1_length_list),\n",
    "            torch.from_numpy(np.array(token2_data_list)), torch.LongTensor(token2_length_list),\n",
    "            torch.LongTensor(label_list)]\n"
   ]
  },
  {
   "cell_type": "code",
   "execution_count": 0,
   "metadata": {
    "colab": {},
    "colab_type": "code",
    "collapsed": true,
    "id": "h2f10G1BXhED"
   },
   "outputs": [],
   "source": [
    "BATCH_SIZE = 32\n",
    "val_dataset = NewsGroupDataset(val_data, val_targets)\n",
    "val_loader = torch.utils.data.DataLoader(dataset=val_dataset, \n",
    "                                           batch_size=BATCH_SIZE,\n",
    "                                           collate_fn=newsgroup_collate_func,\n",
    "                                           shuffle=True)\n",
    "\n",
    "train_dataset =  NewsGroupDataset(train_data, train_targets)\n",
    "train_loader = torch.utils.data.DataLoader(dataset=train_dataset, \n",
    "                                           batch_size=BATCH_SIZE,\n",
    "                                           collate_fn=newsgroup_collate_func,\n",
    "                                           shuffle=True)\n",
    "subset_train_dataset =  NewsGroupDataset(subset_train_data, subset_train_targets)\n",
    "subset_train_loader = torch.utils.data.DataLoader(dataset=subset_train_dataset, \n",
    "                                           batch_size=BATCH_SIZE,\n",
    "                                           collate_fn=newsgroup_collate_func,\n",
    "                                           shuffle=True)"
   ]
  },
  {
   "cell_type": "code",
   "execution_count": 0,
   "metadata": {
    "colab": {},
    "colab_type": "code",
    "collapsed": true,
    "id": "ifq0LuWap3FD"
   },
   "outputs": [],
   "source": [
    "class RNN(nn.Module):\n",
    "    def __init__(self, hidden_size, num_layers, num_classes, pre_trained_emb):\n",
    "        # RNN Accepts the following hyperparams:\n",
    "        # hidden_size: Hidden Size of layer in RNN\n",
    "        # num_layers: number of layers in RNN\n",
    "        # num_classes: number of output classes\n",
    "        # pre_trained_emb : pre_trained embedding matrix. The shape of it can provide the embedding size and vocabulay size\n",
    "        super(RNN, self).__init__()\n",
    "\n",
    "        self.num_layers, self.hidden_size = num_layers, hidden_size\n",
    "        # embedding module\n",
    "        self.embedding = nn.Embedding(pre_trained_emb.shape[0], pre_trained_emb.shape[1], padding_idx=PAD_IDX)\n",
    "        # create bi-directional GRU in pytorch(batch_first: the first dim is batch, 2nd is sequence dim, 3rd is embedding dim)\n",
    "        self.rnn = nn.GRU(pre_trained_emb.shape[1], hidden_size,num_layers, bidirectional=True, batch_first = True) \n",
    "        # create decoder layer \n",
    "        self.linear1 = nn.Linear(hidden_size*4,hidden_size )\n",
    "        self.linear2 = nn.Linear(hidden_size, num_classes)\n",
    "        self.relu = nn.ReLU()\n",
    "        \n",
    "    def init_weights(self, is_static=True):\n",
    "        self.embedding.weight = nn.Parameter(torch.from_numpy(pre_trained_emb).float())\n",
    "        if is_static:\n",
    "            self.embedding.weight.requires_grad = False\n",
    "    \n",
    "    \n",
    "    def init_hidden(self, batch_size):\n",
    "        # Function initializes the activation of recurrent neural net at timestep 0\n",
    "        # Needs to be in format (num_layers, batch_size, hidden_size)\n",
    "        hidden = torch.randn(2 * self.num_layers, batch_size, self.hidden_size)\n",
    "        \n",
    "        return hidden\n",
    "\n",
    "    def forward(self, token1_data, token1_lengths, token2_data, token2_lengths):\n",
    "        # reset hidden state\n",
    "\n",
    "        batch_size, token1_seq_len = token1_data.size()\n",
    "        token2_seq_len = token2_data.size()[1]\n",
    "#### main part of RNN ###########################\n",
    "        self.hidden = self.init_hidden(batch_size)\n",
    "        #get the sorted index based on sentent length\n",
    "        _, token1_idx_sort = torch.sort(token1_lengths, dim=0, descending=True)\n",
    "        _, token1_idx_unsort = torch.sort(token1_idx_sort, dim=0)\n",
    "        token1_lengths = token1_lengths[token1_idx_sort]\n",
    "        _, token2_idx_sort = torch.sort(token2_lengths, dim=0, descending=True)\n",
    "        _, token2_idx_unsort = torch.sort(token2_idx_sort, dim=0)\n",
    "        token2_lengths = token2_lengths[token2_idx_sort]\n",
    "        # Sort input data\n",
    "        token1_rnn = token1_data.index_select(0, token1_idx_sort)\n",
    "        token2_rnn = token2_data.index_select(0, token2_idx_sort)\n",
    "        \n",
    "        # get embedding of two sentences\n",
    "        embed_sent1 = self.embedding(token1_rnn)\n",
    "        embed_sent2 = self.embedding(token2_rnn)\n",
    "        \n",
    "        # pack padded sequence\n",
    "        # transform the tensor in pytorch into the padded sequence . pytorch want the sequence in the descending order\n",
    "        embed_sent1 = torch.nn.utils.rnn.pack_padded_sequence(embed_sent1, token1_lengths, batch_first=True)\n",
    "        embed_sent2 = torch.nn.utils.rnn.pack_padded_sequence(embed_sent2, token2_lengths, batch_first=True)\n",
    "        use_cuda = True\n",
    "        if use_cuda and torch.cuda.is_available():\n",
    "            self.hidden = self.hidden.cuda()\n",
    "            \n",
    "        # fprop though RNN # the rnn_out varaible is size of batch size by the sequence length by the hidden dimension\n",
    "#         rnn_out1, _ = self.rnn(embed_sent1, self.hidden) \n",
    "#         rnn_out2, _ = self.rnn(embed_sent2, self.hidden) \n",
    "        _, hidden_out1 = self.rnn(embed_sent1, self.hidden) \n",
    "        _, hidden_out2 = self.rnn(embed_sent2, self.hidden) \n",
    "        hidden_out1 = torch.cat((hidden_out1[0], hidden_out1[1]),dim = 1)\n",
    "        hidden_out2 = torch.cat((hidden_out2[0], hidden_out2[1]),dim = 1)\n",
    "        #unsort \n",
    "        hidden_out1 = hidden_out1.index_select(0, token1_idx_unsort)\n",
    "        hidden_out2 = hidden_out2.index_select(0, token2_idx_unsort)\n",
    "        # undo packing\n",
    "#         rnn_out1, _ = torch.nn.utils.rnn.pad_packed_sequence(rnn_out1, batch_first=True)\n",
    "#         rnn_out2, _ = torch.nn.utils.rnn.pad_packed_sequence(rnn_out2, batch_first=True)\n",
    "#         #unsort\n",
    "#         rnn_out1 = rnn_out1.index_select(0, token1_idx_unsort)\n",
    "#         rnn_out2 = rnn_out2.index_select(0, token2_idx_unsort)\n",
    "        # concatenate two encoded sentences\n",
    "        out_cat = torch.cat((hidden_out1, hidden_out2), dim = 1)\n",
    "        # sum hidden activations of RNN across time\n",
    "        #out_cat = torch.sum(out_cat, dim=1)\n",
    "####### main part #########################\n",
    "        hidden1 = self.linear1(out_cat)\n",
    "        hidden1 = self.relu(hidden1)\n",
    "        out = self.linear2(hidden1)\n",
    "        preds = F.log_softmax(out, 1)\n",
    "        return preds\n"
   ]
  },
  {
   "cell_type": "code",
   "execution_count": 0,
   "metadata": {
    "colab": {},
    "colab_type": "code",
    "collapsed": true,
    "id": "XcYDyy2lXz61"
   },
   "outputs": [],
   "source": [
    "def test_model(loader, model):\n",
    "    \"\"\"\n",
    "    Help function that tests the model's performance on a dataset\n",
    "    @param: loader - data loader for the dataset to test against\n",
    "    \"\"\"\n",
    "    correct = 0\n",
    "    total = 0\n",
    "    model.eval()\n",
    "    for data1, lengths1,data2, lengths2, labels in loader:\n",
    "#         data1 = Variable(data1)  \n",
    "#         lengths1 = Variable(lengths1)\n",
    "#         data2 = Variable(data2)  \n",
    "#         lengths2 = Variable(lengths2)# Convert torch tensor to Variable: change image from a vector of size 784 to a matrix of 28 x 28\n",
    "#         labels = Variable(labels)\n",
    "        if use_cuda and torch.cuda.is_available():\n",
    "            data1 = data1.cuda()\n",
    "            lengths1  = lengths1.cuda()\n",
    "            data2 = data2.cuda()\n",
    "            lengths2  = lengths2.cuda()\n",
    "            labels = labels.cuda()\n",
    "        data1_batch, lengths1_batch,data2_batch, lengths2_batch, label_batch = data1, lengths1, data2, lengths2,labels\n",
    "        outputs =model(data1_batch, lengths1_batch,data2_batch, lengths2_batch)\n",
    "        predicted = outputs.max(1, keepdim=True)[1]\n",
    "\n",
    "        total += labels.size(0)\n",
    "        correct += predicted.eq(labels.view_as(predicted)).sum().item()\n",
    "    return (100 * correct / total)"
   ]
  },
  {
   "cell_type": "code",
   "execution_count": 0,
   "metadata": {
    "colab": {},
    "colab_type": "code",
    "collapsed": true,
    "id": "WThxJQEqNv5T"
   },
   "outputs": [],
   "source": [
    "def train_model(loader, model):\n",
    "  criterion = torch.nn.NLLLoss()\n",
    "  optimizer = torch.optim.Adam(model.parameters(), lr=learning_rate)\n",
    "  total_step = len(loader)\n",
    "  #train_loss_ls = []\n",
    "  val_acc_ls = []\n",
    "  train_acc_ls = []\n",
    "  for epoch in range(num_epochs):\n",
    "      #loss_batch = []\n",
    "      for i, (data1, lengths1, data2, lengths2, labels) in enumerate(loader):\n",
    "  #         data1 = Variable(data1)  \n",
    "  #         lengths1 = Variable(lengths1)\n",
    "  #         data2 = Variable(data2)  \n",
    "  #         lengths2 = Variable(lengths2)# Convert torch tensor to Variable: change image from a vector of size 784 to a matrix of 28 x 28\n",
    "  #         labels = Variable(labels)\n",
    "          if use_cuda and torch.cuda.is_available():\n",
    "              data1 = data1.cuda()\n",
    "              lengths1  = lengths1.cuda()\n",
    "              data2 = data2.cuda()\n",
    "              lengths2  = lengths2.cuda()\n",
    "              labels = labels.cuda()\n",
    "          model.train()\n",
    "          optimizer.zero_grad()\n",
    "          # Forward pass\n",
    "          outputs = model(data1, lengths1, data2, lengths2)\n",
    "          predicted = outputs.max(1, keepdim=True)[1]\n",
    "          loss = criterion(outputs, labels)\n",
    "          #loss_batch.append(loss.item())\n",
    "          # Backward and optimize\n",
    "          loss.backward()\n",
    "          optimizer.step()\n",
    "          # validate every 100 iterations\n",
    "          if i > 0 and i % 400 == 0:\n",
    "              # validate\n",
    "              #train_loss = loss_batch[i]\n",
    "              val_acc = test_model(val_loader, model)\n",
    "              train_acc = test_model(subset_train_loader, model)\n",
    "              train_acc_ls.append(train_acc)\n",
    "              #train_loss_ls.append(train_loss)\n",
    "              val_acc_ls.append(val_acc)\n",
    "              print('Epoch: [{}/{}], Step: [{}/{}], Validation Acc: {}, Training Acc: {}'.format(\n",
    "                         epoch+1, num_epochs, i+1, len(loader), val_acc, train_acc))\n",
    "  #torch.save(model_object.state_dict(), 'params_{}.pkl'.format())\n",
    "#model_object.load_state_dict(torch.load('params.pkl'))\n",
    "  return  val_acc_ls, train_acc_ls\n",
    "  #return train_loss_ls, val_acc_ls, train_acc_ls\n",
    "\n"
   ]
  },
  {
   "cell_type": "markdown",
   "metadata": {
    "colab_type": "text",
    "id": "VEu65s4CunOg"
   },
   "source": [
    "# 2. RNN Tuning"
   ]
  },
  {
   "cell_type": "markdown",
   "metadata": {
    "colab_type": "text",
    "id": "psgj_P4mpEqN"
   },
   "source": [
    "## 2.1 Hidden Size Tuning for RNN\n",
    "- Ways of interacting two sentences: Concatenation \n",
    "- Learning_rate 3e-4\n",
    "- Number of Epochs: 10\n",
    "- Embedding Weights: Freeze All\n",
    "- hidden size list (50, 100, 200, 300, 400 )"
   ]
  },
  {
   "cell_type": "code",
   "execution_count": 0,
   "metadata": {
    "colab": {},
    "colab_type": "code",
    "collapsed": true,
    "id": "QRtK9XbbiqjV"
   },
   "outputs": [],
   "source": [
    "learning_rate = 3e-4\n",
    "num_epochs = 10 # number epoch to train\n",
    "use_cuda = True\n",
    "\n",
    "def find_best_hiddensize_RNN(hidden_ls):\n",
    "  performance = {}\n",
    "  for hidden_size in hidden_ls:\n",
    "    print('---------RNN_HIDDEN_SIZE: {}-------------'.format(hidden_size))\n",
    "    model = RNN(hidden_size = hidden_size, num_layers=1, num_classes=3, pre_trained_emb = ft_emb)\n",
    "    use_cuda = True\n",
    "    if use_cuda and torch.cuda.is_available():\n",
    "      model.cuda()\n",
    "     # Criterion and Optimizer\n",
    "    #\n",
    "    \n",
    "    train_loss, val_acc = train_model(train_loader,model)\n",
    "    performance['hidden_size_{}'.format(hidden_size)] = (train_loss, val_acc)\n",
    "    torch.save(model.state_dict(), 'RNN_hidden_size_{}.pkl'.format(hidden_size))\n",
    "  return performance"
   ]
  },
  {
   "cell_type": "code",
   "execution_count": 0,
   "metadata": {
    "colab": {
     "base_uri": "https://localhost:8080/",
     "height": 544
    },
    "colab_type": "code",
    "id": "nRsz_UEsp4QP",
    "outputId": "186a2a9e-984b-417d-8bf2-c6831b456397"
   },
   "outputs": [
    {
     "name": "stdout",
     "output_type": "stream",
     "text": [
      "---------RNN_HIDDEN_SIZE: 100-------------\n",
      "Epoch: [1/10], Step: [401/3125], Validation Acc: 51.2, Training Loss: 0.9001179337501526\n",
      "Epoch: [1/10], Step: [801/3125], Validation Acc: 54.6, Training Loss: 1.1211072206497192\n",
      "Epoch: [1/10], Step: [1201/3125], Validation Acc: 58.3, Training Loss: 0.8554650545120239\n",
      "Epoch: [1/10], Step: [1601/3125], Validation Acc: 58.7, Training Loss: 0.9426496624946594\n",
      "Epoch: [1/10], Step: [2001/3125], Validation Acc: 60.3, Training Loss: 0.9723080992698669\n",
      "Epoch: [1/10], Step: [2401/3125], Validation Acc: 62.0, Training Loss: 0.8321115374565125\n",
      "Epoch: [1/10], Step: [2801/3125], Validation Acc: 61.9, Training Loss: 0.8341527581214905\n",
      "Epoch: [2/10], Step: [401/3125], Validation Acc: 63.1, Training Loss: 0.7639567255973816\n",
      "Epoch: [2/10], Step: [801/3125], Validation Acc: 62.1, Training Loss: 0.6325594782829285\n",
      "Epoch: [2/10], Step: [1201/3125], Validation Acc: 63.0, Training Loss: 0.7023106217384338\n",
      "Epoch: [2/10], Step: [1601/3125], Validation Acc: 62.6, Training Loss: 0.7444360256195068\n",
      "Epoch: [2/10], Step: [2001/3125], Validation Acc: 65.2, Training Loss: 0.8778648972511292\n",
      "Epoch: [2/10], Step: [2401/3125], Validation Acc: 64.1, Training Loss: 0.9292409420013428\n",
      "Epoch: [2/10], Step: [2801/3125], Validation Acc: 64.0, Training Loss: 0.7966050505638123\n",
      "Epoch: [3/10], Step: [401/3125], Validation Acc: 64.7, Training Loss: 0.7682164311408997\n",
      "Epoch: [3/10], Step: [801/3125], Validation Acc: 64.7, Training Loss: 0.7115088701248169\n",
      "Epoch: [3/10], Step: [1201/3125], Validation Acc: 64.6, Training Loss: 0.7183374762535095\n",
      "Epoch: [3/10], Step: [1601/3125], Validation Acc: 66.4, Training Loss: 0.6257604956626892\n",
      "Epoch: [3/10], Step: [2001/3125], Validation Acc: 64.2, Training Loss: 0.6739534139633179\n",
      "Epoch: [3/10], Step: [2401/3125], Validation Acc: 66.2, Training Loss: 0.6791074872016907\n",
      "Epoch: [3/10], Step: [2801/3125], Validation Acc: 65.3, Training Loss: 0.7832170128822327\n",
      "Epoch: [4/10], Step: [401/3125], Validation Acc: 64.8, Training Loss: 0.6360828280448914\n",
      "Epoch: [4/10], Step: [801/3125], Validation Acc: 64.5, Training Loss: 0.45534151792526245\n",
      "Epoch: [4/10], Step: [1201/3125], Validation Acc: 66.1, Training Loss: 0.7514709830284119\n",
      "Epoch: [4/10], Step: [1601/3125], Validation Acc: 65.4, Training Loss: 0.6111212968826294\n",
      "Epoch: [4/10], Step: [2001/3125], Validation Acc: 65.7, Training Loss: 0.6554084420204163\n",
      "Epoch: [4/10], Step: [2401/3125], Validation Acc: 66.7, Training Loss: 0.6089156270027161\n",
      "Epoch: [4/10], Step: [2801/3125], Validation Acc: 65.2, Training Loss: 0.5330817103385925\n",
      "Epoch: [5/10], Step: [401/3125], Validation Acc: 64.5, Training Loss: 0.3714858591556549\n",
      "Epoch: [5/10], Step: [801/3125], Validation Acc: 65.9, Training Loss: 0.5383657813072205\n"
     ]
    }
   ],
   "source": [
    "# Can call this function directly while it takes some time. \n",
    "# Since the runtime on google colab is often disconnected for a long-time run, I chose to run them one by one just in case. \n",
    "\n",
    "hidden_ls = [50,100,200,300,400]\n",
    "hidden_record = find_best_hiddensize_RNN(hidden_ls)\n"
   ]
  },
  {
   "cell_type": "code",
   "execution_count": 53,
   "metadata": {
    "colab": {
     "base_uri": "https://localhost:8080/",
     "height": 1207
    },
    "colab_type": "code",
    "id": "TW1LXbIV_vK1",
    "outputId": "34311496-0356-4c18-9168-5a380ecb8317"
   },
   "outputs": [
    {
     "name": "stdout",
     "output_type": "stream",
     "text": [
      "Epoch: [1/10], Step: [401/3125], Validation Acc: 46.9, Training Acc: 47.66\n",
      "Epoch: [1/10], Step: [801/3125], Validation Acc: 53.2, Training Acc: 55.25\n",
      "Epoch: [1/10], Step: [1201/3125], Validation Acc: 55.9, Training Acc: 59.03\n",
      "Epoch: [1/10], Step: [1601/3125], Validation Acc: 57.6, Training Acc: 60.68\n",
      "Epoch: [1/10], Step: [2001/3125], Validation Acc: 59.9, Training Acc: 61.47\n",
      "Epoch: [1/10], Step: [2401/3125], Validation Acc: 61.3, Training Acc: 62.66\n",
      "Epoch: [1/10], Step: [2801/3125], Validation Acc: 61.1, Training Acc: 64.06\n",
      "Epoch: [2/10], Step: [401/3125], Validation Acc: 60.7, Training Acc: 65.81\n",
      "Epoch: [2/10], Step: [801/3125], Validation Acc: 63.5, Training Acc: 66.63\n",
      "Epoch: [2/10], Step: [1201/3125], Validation Acc: 62.5, Training Acc: 66.9\n",
      "Epoch: [2/10], Step: [1601/3125], Validation Acc: 61.1, Training Acc: 67.35\n",
      "Epoch: [2/10], Step: [2001/3125], Validation Acc: 61.5, Training Acc: 68.25\n",
      "Epoch: [2/10], Step: [2401/3125], Validation Acc: 61.0, Training Acc: 68.86\n",
      "Epoch: [2/10], Step: [2801/3125], Validation Acc: 62.4, Training Acc: 69.78\n",
      "Epoch: [3/10], Step: [401/3125], Validation Acc: 63.1, Training Acc: 70.25\n",
      "Epoch: [3/10], Step: [801/3125], Validation Acc: 63.6, Training Acc: 70.84\n",
      "Epoch: [3/10], Step: [1201/3125], Validation Acc: 63.7, Training Acc: 71.53\n",
      "Epoch: [3/10], Step: [1601/3125], Validation Acc: 63.0, Training Acc: 71.98\n",
      "Epoch: [3/10], Step: [2001/3125], Validation Acc: 64.0, Training Acc: 71.73\n",
      "Epoch: [3/10], Step: [2401/3125], Validation Acc: 64.3, Training Acc: 72.65\n",
      "Epoch: [3/10], Step: [2801/3125], Validation Acc: 63.5, Training Acc: 73.69\n",
      "Epoch: [4/10], Step: [401/3125], Validation Acc: 63.7, Training Acc: 74.08\n",
      "Epoch: [4/10], Step: [801/3125], Validation Acc: 65.1, Training Acc: 74.41\n",
      "Epoch: [4/10], Step: [1201/3125], Validation Acc: 65.0, Training Acc: 74.88\n",
      "Epoch: [4/10], Step: [1601/3125], Validation Acc: 64.7, Training Acc: 75.24\n",
      "Epoch: [4/10], Step: [2001/3125], Validation Acc: 63.2, Training Acc: 75.45\n",
      "Epoch: [4/10], Step: [2401/3125], Validation Acc: 63.7, Training Acc: 75.85\n",
      "Epoch: [4/10], Step: [2801/3125], Validation Acc: 65.0, Training Acc: 76.41\n",
      "Epoch: [5/10], Step: [401/3125], Validation Acc: 64.8, Training Acc: 76.88\n",
      "Epoch: [5/10], Step: [801/3125], Validation Acc: 63.9, Training Acc: 77.08\n",
      "Epoch: [5/10], Step: [1201/3125], Validation Acc: 64.1, Training Acc: 77.61\n",
      "Epoch: [5/10], Step: [1601/3125], Validation Acc: 64.9, Training Acc: 77.71\n",
      "Epoch: [5/10], Step: [2001/3125], Validation Acc: 65.9, Training Acc: 78.71\n",
      "Epoch: [5/10], Step: [2401/3125], Validation Acc: 64.5, Training Acc: 79.0\n",
      "Epoch: [5/10], Step: [2801/3125], Validation Acc: 65.0, Training Acc: 79.41\n",
      "Epoch: [6/10], Step: [401/3125], Validation Acc: 65.1, Training Acc: 79.68\n",
      "Epoch: [6/10], Step: [801/3125], Validation Acc: 64.7, Training Acc: 80.05\n",
      "Epoch: [6/10], Step: [1201/3125], Validation Acc: 65.0, Training Acc: 80.43\n",
      "Epoch: [6/10], Step: [1601/3125], Validation Acc: 63.9, Training Acc: 81.02\n",
      "Epoch: [6/10], Step: [2001/3125], Validation Acc: 65.9, Training Acc: 81.16\n",
      "Epoch: [6/10], Step: [2401/3125], Validation Acc: 63.6, Training Acc: 81.39\n",
      "Epoch: [6/10], Step: [2801/3125], Validation Acc: 64.0, Training Acc: 82.16\n",
      "Epoch: [7/10], Step: [401/3125], Validation Acc: 63.2, Training Acc: 82.66\n",
      "Epoch: [7/10], Step: [801/3125], Validation Acc: 63.9, Training Acc: 83.26\n",
      "Epoch: [7/10], Step: [1201/3125], Validation Acc: 64.6, Training Acc: 83.23\n",
      "Epoch: [7/10], Step: [1601/3125], Validation Acc: 65.1, Training Acc: 83.65\n",
      "Epoch: [7/10], Step: [2001/3125], Validation Acc: 63.2, Training Acc: 84.24\n",
      "Epoch: [7/10], Step: [2401/3125], Validation Acc: 63.2, Training Acc: 84.38\n",
      "Epoch: [7/10], Step: [2801/3125], Validation Acc: 63.9, Training Acc: 84.68\n",
      "Epoch: [8/10], Step: [401/3125], Validation Acc: 63.9, Training Acc: 85.26\n",
      "Epoch: [8/10], Step: [801/3125], Validation Acc: 63.5, Training Acc: 85.4\n",
      "Epoch: [8/10], Step: [1201/3125], Validation Acc: 63.5, Training Acc: 85.38\n",
      "Epoch: [8/10], Step: [1601/3125], Validation Acc: 63.6, Training Acc: 85.78\n",
      "Epoch: [8/10], Step: [2001/3125], Validation Acc: 63.7, Training Acc: 86.47\n",
      "Epoch: [8/10], Step: [2401/3125], Validation Acc: 64.0, Training Acc: 86.89\n",
      "Epoch: [8/10], Step: [2801/3125], Validation Acc: 64.5, Training Acc: 86.99\n",
      "Epoch: [9/10], Step: [401/3125], Validation Acc: 63.2, Training Acc: 87.02\n",
      "Epoch: [9/10], Step: [801/3125], Validation Acc: 64.3, Training Acc: 87.47\n",
      "Epoch: [9/10], Step: [1201/3125], Validation Acc: 64.5, Training Acc: 87.67\n",
      "Epoch: [9/10], Step: [1601/3125], Validation Acc: 64.2, Training Acc: 88.01\n",
      "Epoch: [9/10], Step: [2001/3125], Validation Acc: 64.1, Training Acc: 88.07\n",
      "Epoch: [9/10], Step: [2401/3125], Validation Acc: 64.5, Training Acc: 88.61\n",
      "Epoch: [9/10], Step: [2801/3125], Validation Acc: 64.3, Training Acc: 88.78\n",
      "Epoch: [10/10], Step: [401/3125], Validation Acc: 63.5, Training Acc: 89.32\n",
      "Epoch: [10/10], Step: [801/3125], Validation Acc: 64.0, Training Acc: 89.12\n",
      "Epoch: [10/10], Step: [1201/3125], Validation Acc: 64.0, Training Acc: 89.31\n",
      "Epoch: [10/10], Step: [1601/3125], Validation Acc: 63.4, Training Acc: 89.46\n",
      "Epoch: [10/10], Step: [2001/3125], Validation Acc: 62.7, Training Acc: 89.82\n",
      "Epoch: [10/10], Step: [2401/3125], Validation Acc: 64.5, Training Acc: 90.47\n",
      "Epoch: [10/10], Step: [2801/3125], Validation Acc: 64.6, Training Acc: 90.57\n"
     ]
    }
   ],
   "source": [
    "hidden_size = 50\n",
    "model = RNN(hidden_size = hidden_size, num_layers=1, num_classes=3, pre_trained_emb = ft_emb)\n",
    "use_cuda = True\n",
    "if use_cuda and torch.cuda.is_available():\n",
    "  model.cuda()\n",
    "val_acc,train_acc = train_model(train_loader,model)\n",
    "torch.save(model.state_dict(), 'RNN_hidden_size_{}.pkl'.format(hidden_size))\n",
    "trainacc_performance['hidden_size_{}'.format(hidden_size)] = (val_acc,train_acc)\n",
    "!cp 'RNN_hidden_size_50.pkl' 'drive/My Drive/Colab Notebooks/RNN_hidden_size_50.pkl'"
   ]
  },
  {
   "cell_type": "code",
   "execution_count": 19,
   "metadata": {
    "colab": {
     "base_uri": "https://localhost:8080/",
     "height": 1207
    },
    "colab_type": "code",
    "id": "C3QoCQ3MVRD-",
    "outputId": "ddf0b8cc-7942-469b-e4e2-5a4a5929aa94"
   },
   "outputs": [
    {
     "name": "stdout",
     "output_type": "stream",
     "text": [
      "Epoch: [1/10], Step: [401/3125], Validation Acc: 46.9, Training Loss: 1.0772716999053955\n",
      "Epoch: [1/10], Step: [801/3125], Validation Acc: 52.7, Training Loss: 1.0260114669799805\n",
      "Epoch: [1/10], Step: [1201/3125], Validation Acc: 56.8, Training Loss: 0.8532036542892456\n",
      "Epoch: [1/10], Step: [1601/3125], Validation Acc: 56.2, Training Loss: 0.7398672103881836\n",
      "Epoch: [1/10], Step: [2001/3125], Validation Acc: 58.2, Training Loss: 0.8313394784927368\n",
      "Epoch: [1/10], Step: [2401/3125], Validation Acc: 59.8, Training Loss: 0.7919907569885254\n",
      "Epoch: [1/10], Step: [2801/3125], Validation Acc: 59.1, Training Loss: 1.002533197402954\n",
      "Epoch: [2/10], Step: [401/3125], Validation Acc: 60.4, Training Loss: 0.7861840724945068\n",
      "Epoch: [2/10], Step: [801/3125], Validation Acc: 62.0, Training Loss: 0.6704171895980835\n",
      "Epoch: [2/10], Step: [1201/3125], Validation Acc: 61.3, Training Loss: 0.5599439144134521\n",
      "Epoch: [2/10], Step: [1601/3125], Validation Acc: 62.6, Training Loss: 0.8423176407814026\n",
      "Epoch: [2/10], Step: [2001/3125], Validation Acc: 61.7, Training Loss: 0.769456148147583\n",
      "Epoch: [2/10], Step: [2401/3125], Validation Acc: 63.1, Training Loss: 0.8810536861419678\n",
      "Epoch: [2/10], Step: [2801/3125], Validation Acc: 62.5, Training Loss: 0.7615305781364441\n",
      "Epoch: [3/10], Step: [401/3125], Validation Acc: 62.5, Training Loss: 0.6954521536827087\n",
      "Epoch: [3/10], Step: [801/3125], Validation Acc: 62.5, Training Loss: 0.7608652710914612\n",
      "Epoch: [3/10], Step: [1201/3125], Validation Acc: 62.8, Training Loss: 0.7306617498397827\n",
      "Epoch: [3/10], Step: [1601/3125], Validation Acc: 62.3, Training Loss: 0.591854453086853\n",
      "Epoch: [3/10], Step: [2001/3125], Validation Acc: 62.5, Training Loss: 0.7522742748260498\n",
      "Epoch: [3/10], Step: [2401/3125], Validation Acc: 64.8, Training Loss: 0.6570790410041809\n",
      "Epoch: [3/10], Step: [2801/3125], Validation Acc: 65.3, Training Loss: 0.7189062833786011\n",
      "Epoch: [4/10], Step: [401/3125], Validation Acc: 64.0, Training Loss: 0.6012048125267029\n",
      "Epoch: [4/10], Step: [801/3125], Validation Acc: 64.0, Training Loss: 0.6333828568458557\n",
      "Epoch: [4/10], Step: [1201/3125], Validation Acc: 64.3, Training Loss: 0.6196991205215454\n",
      "Epoch: [4/10], Step: [1601/3125], Validation Acc: 63.8, Training Loss: 0.6788502931594849\n",
      "Epoch: [4/10], Step: [2001/3125], Validation Acc: 64.6, Training Loss: 0.6228143572807312\n",
      "Epoch: [4/10], Step: [2401/3125], Validation Acc: 62.9, Training Loss: 0.8136864900588989\n",
      "Epoch: [4/10], Step: [2801/3125], Validation Acc: 64.8, Training Loss: 0.5115336179733276\n",
      "Epoch: [5/10], Step: [401/3125], Validation Acc: 65.4, Training Loss: 0.5380813479423523\n",
      "Epoch: [5/10], Step: [801/3125], Validation Acc: 63.8, Training Loss: 0.5413206219673157\n",
      "Epoch: [5/10], Step: [1201/3125], Validation Acc: 63.5, Training Loss: 0.4513026177883148\n",
      "Epoch: [5/10], Step: [1601/3125], Validation Acc: 64.2, Training Loss: 0.7897797226905823\n",
      "Epoch: [5/10], Step: [2001/3125], Validation Acc: 64.5, Training Loss: 0.7112306356430054\n",
      "Epoch: [5/10], Step: [2401/3125], Validation Acc: 63.3, Training Loss: 0.7077197432518005\n",
      "Epoch: [5/10], Step: [2801/3125], Validation Acc: 64.6, Training Loss: 0.6987397074699402\n",
      "Epoch: [6/10], Step: [401/3125], Validation Acc: 63.6, Training Loss: 0.5713666677474976\n",
      "Epoch: [6/10], Step: [801/3125], Validation Acc: 63.1, Training Loss: 0.5509368777275085\n",
      "Epoch: [6/10], Step: [1201/3125], Validation Acc: 63.1, Training Loss: 0.6219959855079651\n",
      "Epoch: [6/10], Step: [1601/3125], Validation Acc: 62.9, Training Loss: 0.6043602228164673\n",
      "Epoch: [6/10], Step: [2001/3125], Validation Acc: 64.9, Training Loss: 0.674467146396637\n",
      "Epoch: [6/10], Step: [2401/3125], Validation Acc: 63.8, Training Loss: 0.6419293880462646\n",
      "Epoch: [6/10], Step: [2801/3125], Validation Acc: 62.8, Training Loss: 0.6111428737640381\n",
      "Epoch: [7/10], Step: [401/3125], Validation Acc: 64.1, Training Loss: 0.7289628982543945\n",
      "Epoch: [7/10], Step: [801/3125], Validation Acc: 64.1, Training Loss: 0.3573618233203888\n",
      "Epoch: [7/10], Step: [1201/3125], Validation Acc: 62.7, Training Loss: 0.4611358642578125\n",
      "Epoch: [7/10], Step: [1601/3125], Validation Acc: 63.9, Training Loss: 0.39189857244491577\n",
      "Epoch: [7/10], Step: [2001/3125], Validation Acc: 63.2, Training Loss: 0.43135398626327515\n",
      "Epoch: [7/10], Step: [2401/3125], Validation Acc: 63.4, Training Loss: 0.4551304876804352\n",
      "Epoch: [7/10], Step: [2801/3125], Validation Acc: 64.4, Training Loss: 0.6833598613739014\n",
      "Epoch: [8/10], Step: [401/3125], Validation Acc: 65.0, Training Loss: 0.38667675852775574\n",
      "Epoch: [8/10], Step: [801/3125], Validation Acc: 63.8, Training Loss: 0.45873361825942993\n",
      "Epoch: [8/10], Step: [1201/3125], Validation Acc: 63.6, Training Loss: 0.39123761653900146\n",
      "Epoch: [8/10], Step: [1601/3125], Validation Acc: 62.4, Training Loss: 0.3961593508720398\n",
      "Epoch: [8/10], Step: [2001/3125], Validation Acc: 64.3, Training Loss: 0.5274561047554016\n",
      "Epoch: [8/10], Step: [2401/3125], Validation Acc: 62.7, Training Loss: 0.30116093158721924\n",
      "Epoch: [8/10], Step: [2801/3125], Validation Acc: 62.5, Training Loss: 0.3848375082015991\n",
      "Epoch: [9/10], Step: [401/3125], Validation Acc: 62.9, Training Loss: 0.4376605153083801\n",
      "Epoch: [9/10], Step: [801/3125], Validation Acc: 62.1, Training Loss: 0.35282403230667114\n",
      "Epoch: [9/10], Step: [1201/3125], Validation Acc: 62.3, Training Loss: 0.3716663122177124\n",
      "Epoch: [9/10], Step: [1601/3125], Validation Acc: 62.4, Training Loss: 0.43440502882003784\n",
      "Epoch: [9/10], Step: [2001/3125], Validation Acc: 60.7, Training Loss: 0.38321197032928467\n",
      "Epoch: [9/10], Step: [2401/3125], Validation Acc: 62.1, Training Loss: 0.24224643409252167\n",
      "Epoch: [9/10], Step: [2801/3125], Validation Acc: 64.2, Training Loss: 0.7469965815544128\n",
      "Epoch: [10/10], Step: [401/3125], Validation Acc: 63.0, Training Loss: 0.24093768000602722\n",
      "Epoch: [10/10], Step: [801/3125], Validation Acc: 62.0, Training Loss: 0.3661651909351349\n",
      "Epoch: [10/10], Step: [1201/3125], Validation Acc: 62.3, Training Loss: 0.3375393748283386\n",
      "Epoch: [10/10], Step: [1601/3125], Validation Acc: 61.8, Training Loss: 0.517785906791687\n",
      "Epoch: [10/10], Step: [2001/3125], Validation Acc: 61.3, Training Loss: 0.2771492302417755\n",
      "Epoch: [10/10], Step: [2401/3125], Validation Acc: 61.8, Training Loss: 0.3487647473812103\n",
      "Epoch: [10/10], Step: [2801/3125], Validation Acc: 61.5, Training Loss: 0.23103708028793335\n"
     ]
    }
   ],
   "source": [
    "performance = {}\n",
    "hidden_size = 50\n",
    "model = RNN(hidden_size = hidden_size, num_layers=1, num_classes=3, pre_trained_emb = ft_emb)\n",
    "use_cuda = True\n",
    "if use_cuda and torch.cuda.is_available():\n",
    "  model.cuda()\n",
    "train_loss, val_acc = train_model(train_loader,model)\n",
    "torch.save(model.state_dict(), 'RNN_hidden_size_{}.pkl'.format(hidden_size))\n",
    "performance['hidden_size_{}'.format(hidden_size)] = (train_loss, val_acc)"
   ]
  },
  {
   "cell_type": "code",
   "execution_count": 43,
   "metadata": {
    "colab": {
     "base_uri": "https://localhost:8080/",
     "height": 1207
    },
    "colab_type": "code",
    "id": "7-KacFq8K3wg",
    "outputId": "e9e77c71-848a-4d4e-9d1e-55dbc6c8e5c8"
   },
   "outputs": [
    {
     "name": "stdout",
     "output_type": "stream",
     "text": [
      "Epoch: [1/10], Step: [401/3125], Validation Acc: 51.0, Training Loss: 0.9422149062156677, Training Acc: 52.81\n",
      "Epoch: [1/10], Step: [801/3125], Validation Acc: 56.8, Training Loss: 0.827469527721405, Training Acc: 56.88\n",
      "Epoch: [1/10], Step: [1201/3125], Validation Acc: 59.5, Training Loss: 1.1401127576828003, Training Acc: 60.38\n",
      "Epoch: [1/10], Step: [1601/3125], Validation Acc: 59.2, Training Loss: 0.8711609244346619, Training Acc: 61.74\n",
      "Epoch: [1/10], Step: [2001/3125], Validation Acc: 59.9, Training Loss: 0.8310251235961914, Training Acc: 63.7\n",
      "Epoch: [1/10], Step: [2401/3125], Validation Acc: 61.5, Training Loss: 1.101127028465271, Training Acc: 64.72\n",
      "Epoch: [1/10], Step: [2801/3125], Validation Acc: 62.4, Training Loss: 0.7982498407363892, Training Acc: 65.83\n",
      "Epoch: [2/10], Step: [401/3125], Validation Acc: 63.3, Training Loss: 0.8344654440879822, Training Acc: 67.8\n",
      "Epoch: [2/10], Step: [801/3125], Validation Acc: 64.7, Training Loss: 0.8579233884811401, Training Acc: 68.5\n",
      "Epoch: [2/10], Step: [1201/3125], Validation Acc: 65.5, Training Loss: 0.6757416725158691, Training Acc: 69.39\n",
      "Epoch: [2/10], Step: [1601/3125], Validation Acc: 63.8, Training Loss: 0.7371922731399536, Training Acc: 69.88\n",
      "Epoch: [2/10], Step: [2001/3125], Validation Acc: 64.5, Training Loss: 0.7114542126655579, Training Acc: 70.97\n",
      "Epoch: [2/10], Step: [2401/3125], Validation Acc: 63.5, Training Loss: 0.5985633134841919, Training Acc: 71.91\n",
      "Epoch: [2/10], Step: [2801/3125], Validation Acc: 63.3, Training Loss: 0.8237380385398865, Training Acc: 72.49\n",
      "Epoch: [3/10], Step: [401/3125], Validation Acc: 63.4, Training Loss: 0.5625661015510559, Training Acc: 73.03\n",
      "Epoch: [3/10], Step: [801/3125], Validation Acc: 64.1, Training Loss: 0.6640154719352722, Training Acc: 73.93\n",
      "Epoch: [3/10], Step: [1201/3125], Validation Acc: 64.5, Training Loss: 0.6794196963310242, Training Acc: 74.55\n",
      "Epoch: [3/10], Step: [1601/3125], Validation Acc: 63.2, Training Loss: 0.6631848216056824, Training Acc: 75.16\n",
      "Epoch: [3/10], Step: [2001/3125], Validation Acc: 65.8, Training Loss: 0.5512200593948364, Training Acc: 75.42\n",
      "Epoch: [3/10], Step: [2401/3125], Validation Acc: 65.5, Training Loss: 0.8580141663551331, Training Acc: 76.49\n",
      "Epoch: [3/10], Step: [2801/3125], Validation Acc: 66.9, Training Loss: 0.5622845888137817, Training Acc: 76.52\n",
      "Epoch: [4/10], Step: [401/3125], Validation Acc: 64.2, Training Loss: 0.5055546164512634, Training Acc: 77.34\n",
      "Epoch: [4/10], Step: [801/3125], Validation Acc: 64.1, Training Loss: 0.5327088832855225, Training Acc: 77.81\n",
      "Epoch: [4/10], Step: [1201/3125], Validation Acc: 63.8, Training Loss: 0.6667420864105225, Training Acc: 78.49\n",
      "Epoch: [4/10], Step: [1601/3125], Validation Acc: 63.7, Training Loss: 0.7038313150405884, Training Acc: 79.23\n",
      "Epoch: [4/10], Step: [2001/3125], Validation Acc: 66.0, Training Loss: 0.7267328500747681, Training Acc: 80.09\n",
      "Epoch: [4/10], Step: [2401/3125], Validation Acc: 65.7, Training Loss: 0.4724394381046295, Training Acc: 80.41\n",
      "Epoch: [4/10], Step: [2801/3125], Validation Acc: 66.3, Training Loss: 0.5871305465698242, Training Acc: 81.14\n",
      "Epoch: [5/10], Step: [401/3125], Validation Acc: 64.6, Training Loss: 0.37157514691352844, Training Acc: 81.62\n",
      "Epoch: [5/10], Step: [801/3125], Validation Acc: 65.2, Training Loss: 0.5309145450592041, Training Acc: 82.48\n",
      "Epoch: [5/10], Step: [1201/3125], Validation Acc: 64.1, Training Loss: 0.6452277302742004, Training Acc: 82.85\n",
      "Epoch: [5/10], Step: [1601/3125], Validation Acc: 65.4, Training Loss: 0.41587725281715393, Training Acc: 83.42\n",
      "Epoch: [5/10], Step: [2001/3125], Validation Acc: 67.6, Training Loss: 0.5396397113800049, Training Acc: 84.05\n",
      "Epoch: [5/10], Step: [2401/3125], Validation Acc: 65.4, Training Loss: 0.4375509023666382, Training Acc: 84.34\n",
      "Epoch: [5/10], Step: [2801/3125], Validation Acc: 64.7, Training Loss: 0.6138139367103577, Training Acc: 85.25\n",
      "Epoch: [6/10], Step: [401/3125], Validation Acc: 65.0, Training Loss: 0.3763347566127777, Training Acc: 85.6\n",
      "Epoch: [6/10], Step: [801/3125], Validation Acc: 65.1, Training Loss: 0.4874672591686249, Training Acc: 86.75\n",
      "Epoch: [6/10], Step: [1201/3125], Validation Acc: 64.1, Training Loss: 0.24547554552555084, Training Acc: 86.86\n",
      "Epoch: [6/10], Step: [1601/3125], Validation Acc: 65.1, Training Loss: 0.6181648969650269, Training Acc: 87.49\n",
      "Epoch: [6/10], Step: [2001/3125], Validation Acc: 64.1, Training Loss: 0.2518910765647888, Training Acc: 87.49\n",
      "Epoch: [6/10], Step: [2401/3125], Validation Acc: 65.5, Training Loss: 0.4267328381538391, Training Acc: 88.19\n",
      "Epoch: [6/10], Step: [2801/3125], Validation Acc: 65.4, Training Loss: 0.3107609748840332, Training Acc: 88.83\n",
      "Epoch: [7/10], Step: [401/3125], Validation Acc: 63.9, Training Loss: 0.2269221991300583, Training Acc: 89.47\n",
      "Epoch: [7/10], Step: [801/3125], Validation Acc: 62.6, Training Loss: 0.4397115409374237, Training Acc: 89.62\n",
      "Epoch: [7/10], Step: [1201/3125], Validation Acc: 64.0, Training Loss: 0.4214960038661957, Training Acc: 89.92\n",
      "Epoch: [7/10], Step: [1601/3125], Validation Acc: 63.4, Training Loss: 0.47643813490867615, Training Acc: 90.85\n",
      "Epoch: [7/10], Step: [2001/3125], Validation Acc: 64.8, Training Loss: 0.37477365136146545, Training Acc: 90.48\n",
      "Epoch: [7/10], Step: [2401/3125], Validation Acc: 64.4, Training Loss: 0.35061538219451904, Training Acc: 91.29\n",
      "Epoch: [7/10], Step: [2801/3125], Validation Acc: 64.7, Training Loss: 0.21232113242149353, Training Acc: 91.65\n",
      "Epoch: [8/10], Step: [401/3125], Validation Acc: 64.6, Training Loss: 0.16045600175857544, Training Acc: 92.12\n",
      "Epoch: [8/10], Step: [801/3125], Validation Acc: 64.8, Training Loss: 0.24218185245990753, Training Acc: 92.32\n",
      "Epoch: [8/10], Step: [1201/3125], Validation Acc: 62.9, Training Loss: 0.3824717402458191, Training Acc: 92.41\n",
      "Epoch: [8/10], Step: [1601/3125], Validation Acc: 63.7, Training Loss: 0.21606285870075226, Training Acc: 92.65\n",
      "Epoch: [8/10], Step: [2001/3125], Validation Acc: 63.3, Training Loss: 0.23923715949058533, Training Acc: 93.1\n",
      "Epoch: [8/10], Step: [2401/3125], Validation Acc: 65.7, Training Loss: 0.3825339376926422, Training Acc: 93.25\n",
      "Epoch: [8/10], Step: [2801/3125], Validation Acc: 64.5, Training Loss: 0.27355197072029114, Training Acc: 94.0\n",
      "Epoch: [9/10], Step: [401/3125], Validation Acc: 63.4, Training Loss: 0.34068024158477783, Training Acc: 94.12\n",
      "Epoch: [9/10], Step: [801/3125], Validation Acc: 63.7, Training Loss: 0.27026745676994324, Training Acc: 94.08\n",
      "Epoch: [9/10], Step: [1201/3125], Validation Acc: 64.8, Training Loss: 0.2357424795627594, Training Acc: 94.77\n",
      "Epoch: [9/10], Step: [1601/3125], Validation Acc: 64.1, Training Loss: 0.765163242816925, Training Acc: 94.54\n",
      "Epoch: [9/10], Step: [2001/3125], Validation Acc: 64.8, Training Loss: 0.13228164613246918, Training Acc: 94.79\n",
      "Epoch: [9/10], Step: [2401/3125], Validation Acc: 64.1, Training Loss: 0.18980008363723755, Training Acc: 94.99\n",
      "Epoch: [9/10], Step: [2801/3125], Validation Acc: 64.8, Training Loss: 0.18097341060638428, Training Acc: 95.17\n",
      "Epoch: [10/10], Step: [401/3125], Validation Acc: 62.9, Training Loss: 0.1105087548494339, Training Acc: 95.94\n",
      "Epoch: [10/10], Step: [801/3125], Validation Acc: 64.6, Training Loss: 0.08167310059070587, Training Acc: 96.11\n",
      "Epoch: [10/10], Step: [1201/3125], Validation Acc: 65.9, Training Loss: 0.22689874470233917, Training Acc: 96.0\n",
      "Epoch: [10/10], Step: [1601/3125], Validation Acc: 65.3, Training Loss: 0.2492481917142868, Training Acc: 95.87\n",
      "Epoch: [10/10], Step: [2001/3125], Validation Acc: 62.8, Training Loss: 0.23215807974338531, Training Acc: 96.21\n",
      "Epoch: [10/10], Step: [2401/3125], Validation Acc: 64.6, Training Loss: 0.3895115256309509, Training Acc: 96.32\n",
      "Epoch: [10/10], Step: [2801/3125], Validation Acc: 63.3, Training Loss: 0.07052069902420044, Training Acc: 96.51\n"
     ]
    }
   ],
   "source": [
    "trainacc_performance = {}\n",
    "hidden_size = 100\n",
    "model = RNN(hidden_size = hidden_size, num_layers=1, num_classes=3, pre_trained_emb = ft_emb)\n",
    "use_cuda = True\n",
    "if use_cuda and torch.cuda.is_available():\n",
    "  model.cuda()\n",
    "train_loss, val_acc,train_acc = train_model(train_loader,model)\n",
    "torch.save(model.state_dict(), 'RNN_hidden_size_{}.pkl'.format(hidden_size))\n",
    "trainacc_performance['hidden_size_{}'.format(hidden_size)] = (train_loss, val_acc,train_acc)"
   ]
  },
  {
   "cell_type": "code",
   "execution_count": 0,
   "metadata": {
    "colab": {},
    "colab_type": "code",
    "collapsed": true,
    "id": "-v4KfqFSdhEk"
   },
   "outputs": [],
   "source": [
    "!cp 'RNN_hidden_size_100.pkl' 'drive/My Drive/Colab Notebooks/RNN_hidden_size_100.pkl'"
   ]
  },
  {
   "cell_type": "code",
   "execution_count": 21,
   "metadata": {
    "colab": {
     "base_uri": "https://localhost:8080/",
     "height": 1207
    },
    "colab_type": "code",
    "id": "hBQeHCbOWoN8",
    "outputId": "a4187709-8635-4912-88db-6a028ae92b4d"
   },
   "outputs": [
    {
     "name": "stdout",
     "output_type": "stream",
     "text": [
      "Epoch: [1/10], Step: [401/3125], Validation Acc: 50.6, Training Loss: 1.0688800811767578\n",
      "Epoch: [1/10], Step: [801/3125], Validation Acc: 57.0, Training Loss: 0.9318221807479858\n",
      "Epoch: [1/10], Step: [1201/3125], Validation Acc: 58.6, Training Loss: 0.7519932985305786\n",
      "Epoch: [1/10], Step: [1601/3125], Validation Acc: 59.5, Training Loss: 1.0058008432388306\n",
      "Epoch: [1/10], Step: [2001/3125], Validation Acc: 59.0, Training Loss: 0.7431007623672485\n",
      "Epoch: [1/10], Step: [2401/3125], Validation Acc: 62.2, Training Loss: 0.8491858243942261\n",
      "Epoch: [1/10], Step: [2801/3125], Validation Acc: 61.7, Training Loss: 0.5690383315086365\n",
      "Epoch: [2/10], Step: [401/3125], Validation Acc: 62.4, Training Loss: 0.7876433730125427\n",
      "Epoch: [2/10], Step: [801/3125], Validation Acc: 63.1, Training Loss: 0.6197104454040527\n",
      "Epoch: [2/10], Step: [1201/3125], Validation Acc: 65.1, Training Loss: 0.6464472413063049\n",
      "Epoch: [2/10], Step: [1601/3125], Validation Acc: 63.4, Training Loss: 0.7454239130020142\n",
      "Epoch: [2/10], Step: [2001/3125], Validation Acc: 64.9, Training Loss: 0.8637406229972839\n",
      "Epoch: [2/10], Step: [2401/3125], Validation Acc: 64.0, Training Loss: 0.7447988986968994\n",
      "Epoch: [2/10], Step: [2801/3125], Validation Acc: 65.2, Training Loss: 0.6388844847679138\n",
      "Epoch: [3/10], Step: [401/3125], Validation Acc: 63.8, Training Loss: 0.6749444603919983\n",
      "Epoch: [3/10], Step: [801/3125], Validation Acc: 64.5, Training Loss: 0.6014832854270935\n",
      "Epoch: [3/10], Step: [1201/3125], Validation Acc: 64.2, Training Loss: 0.5989563465118408\n",
      "Epoch: [3/10], Step: [1601/3125], Validation Acc: 65.2, Training Loss: 0.784792423248291\n",
      "Epoch: [3/10], Step: [2001/3125], Validation Acc: 64.4, Training Loss: 0.6053112149238586\n",
      "Epoch: [3/10], Step: [2401/3125], Validation Acc: 65.5, Training Loss: 0.6385416984558105\n",
      "Epoch: [3/10], Step: [2801/3125], Validation Acc: 64.8, Training Loss: 0.7254891395568848\n",
      "Epoch: [4/10], Step: [401/3125], Validation Acc: 66.4, Training Loss: 0.4738255739212036\n",
      "Epoch: [4/10], Step: [801/3125], Validation Acc: 64.3, Training Loss: 0.6709689497947693\n",
      "Epoch: [4/10], Step: [1201/3125], Validation Acc: 64.9, Training Loss: 0.4818575978279114\n",
      "Epoch: [4/10], Step: [1601/3125], Validation Acc: 65.0, Training Loss: 0.4968627095222473\n",
      "Epoch: [4/10], Step: [2001/3125], Validation Acc: 65.4, Training Loss: 0.5619657635688782\n",
      "Epoch: [4/10], Step: [2401/3125], Validation Acc: 64.6, Training Loss: 0.6776871085166931\n",
      "Epoch: [4/10], Step: [2801/3125], Validation Acc: 65.1, Training Loss: 0.6899110078811646\n",
      "Epoch: [5/10], Step: [401/3125], Validation Acc: 64.2, Training Loss: 0.416484534740448\n",
      "Epoch: [5/10], Step: [801/3125], Validation Acc: 66.1, Training Loss: 0.5221492052078247\n",
      "Epoch: [5/10], Step: [1201/3125], Validation Acc: 65.5, Training Loss: 0.5108622312545776\n",
      "Epoch: [5/10], Step: [1601/3125], Validation Acc: 65.0, Training Loss: 0.3750133812427521\n",
      "Epoch: [5/10], Step: [2001/3125], Validation Acc: 64.6, Training Loss: 0.528184711933136\n",
      "Epoch: [5/10], Step: [2401/3125], Validation Acc: 64.9, Training Loss: 0.49962958693504333\n",
      "Epoch: [5/10], Step: [2801/3125], Validation Acc: 64.7, Training Loss: 0.3566052317619324\n",
      "Epoch: [6/10], Step: [401/3125], Validation Acc: 64.8, Training Loss: 0.23527422547340393\n",
      "Epoch: [6/10], Step: [801/3125], Validation Acc: 65.2, Training Loss: 0.3452134430408478\n",
      "Epoch: [6/10], Step: [1201/3125], Validation Acc: 64.6, Training Loss: 0.525381863117218\n",
      "Epoch: [6/10], Step: [1601/3125], Validation Acc: 65.1, Training Loss: 0.3917417824268341\n",
      "Epoch: [6/10], Step: [2001/3125], Validation Acc: 64.5, Training Loss: 0.2879256010055542\n",
      "Epoch: [6/10], Step: [2401/3125], Validation Acc: 64.5, Training Loss: 0.3588036596775055\n",
      "Epoch: [6/10], Step: [2801/3125], Validation Acc: 66.2, Training Loss: 0.32747986912727356\n",
      "Epoch: [7/10], Step: [401/3125], Validation Acc: 64.3, Training Loss: 0.43039143085479736\n",
      "Epoch: [7/10], Step: [801/3125], Validation Acc: 64.2, Training Loss: 0.2722991108894348\n",
      "Epoch: [7/10], Step: [1201/3125], Validation Acc: 64.7, Training Loss: 0.18092304468154907\n",
      "Epoch: [7/10], Step: [1601/3125], Validation Acc: 63.4, Training Loss: 0.3050696849822998\n",
      "Epoch: [7/10], Step: [2001/3125], Validation Acc: 64.4, Training Loss: 0.5257131457328796\n",
      "Epoch: [7/10], Step: [2401/3125], Validation Acc: 63.1, Training Loss: 0.3930620551109314\n",
      "Epoch: [7/10], Step: [2801/3125], Validation Acc: 63.5, Training Loss: 0.528980553150177\n",
      "Epoch: [8/10], Step: [401/3125], Validation Acc: 64.9, Training Loss: 0.3389512598514557\n",
      "Epoch: [8/10], Step: [801/3125], Validation Acc: 64.5, Training Loss: 0.29771891236305237\n",
      "Epoch: [8/10], Step: [1201/3125], Validation Acc: 63.2, Training Loss: 0.29911869764328003\n",
      "Epoch: [8/10], Step: [1601/3125], Validation Acc: 64.2, Training Loss: 0.4338924288749695\n",
      "Epoch: [8/10], Step: [2001/3125], Validation Acc: 65.3, Training Loss: 0.15266388654708862\n",
      "Epoch: [8/10], Step: [2401/3125], Validation Acc: 64.2, Training Loss: 0.19519975781440735\n",
      "Epoch: [8/10], Step: [2801/3125], Validation Acc: 66.1, Training Loss: 0.2994285821914673\n",
      "Epoch: [9/10], Step: [401/3125], Validation Acc: 65.9, Training Loss: 0.26303908228874207\n",
      "Epoch: [9/10], Step: [801/3125], Validation Acc: 65.0, Training Loss: 0.08510798215866089\n",
      "Epoch: [9/10], Step: [1201/3125], Validation Acc: 64.4, Training Loss: 0.09172945469617844\n",
      "Epoch: [9/10], Step: [1601/3125], Validation Acc: 62.0, Training Loss: 0.22884421050548553\n",
      "Epoch: [9/10], Step: [2001/3125], Validation Acc: 65.0, Training Loss: 0.095011867582798\n",
      "Epoch: [9/10], Step: [2401/3125], Validation Acc: 63.7, Training Loss: 0.2059391289949417\n",
      "Epoch: [9/10], Step: [2801/3125], Validation Acc: 63.8, Training Loss: 0.2695542275905609\n",
      "Epoch: [10/10], Step: [401/3125], Validation Acc: 62.9, Training Loss: 0.08546700328588486\n",
      "Epoch: [10/10], Step: [801/3125], Validation Acc: 63.5, Training Loss: 0.047314830124378204\n",
      "Epoch: [10/10], Step: [1201/3125], Validation Acc: 62.4, Training Loss: 0.16906769573688507\n",
      "Epoch: [10/10], Step: [1601/3125], Validation Acc: 62.9, Training Loss: 0.28415608406066895\n",
      "Epoch: [10/10], Step: [2001/3125], Validation Acc: 63.8, Training Loss: 0.23102602362632751\n",
      "Epoch: [10/10], Step: [2401/3125], Validation Acc: 62.4, Training Loss: 0.13009285926818848\n",
      "Epoch: [10/10], Step: [2801/3125], Validation Acc: 63.2, Training Loss: 0.10730113089084625\n"
     ]
    }
   ],
   "source": [
    "#performance = {}\n",
    "hidden_size = 100\n",
    "model = RNN(hidden_size = hidden_size, num_layers=1, num_classes=3, pre_trained_emb = ft_emb)\n",
    "use_cuda = True\n",
    "if use_cuda and torch.cuda.is_available():\n",
    "  model.cuda()\n",
    "train_loss, val_acc = train_model(train_loader,model)\n",
    "torch.save(model.state_dict(), 'RNN_hidden_size_{}.pkl'.format(hidden_size))\n",
    "performance['hidden_size_{}'.format(hidden_size)] = (train_loss, val_acc)"
   ]
  },
  {
   "cell_type": "code",
   "execution_count": 46,
   "metadata": {
    "colab": {
     "base_uri": "https://localhost:8080/",
     "height": 1207
    },
    "colab_type": "code",
    "id": "mAvb_DoxeB2n",
    "outputId": "375de1da-18d8-4564-9ba9-e3cfffee94e5"
   },
   "outputs": [
    {
     "name": "stdout",
     "output_type": "stream",
     "text": [
      "Epoch: [1/10], Step: [401/3125], Validation Acc: 56.4, Training Loss: 1.0357942581176758, Training Acc: 54.7\n",
      "Epoch: [1/10], Step: [801/3125], Validation Acc: 57.7, Training Loss: 0.8202587366104126, Training Acc: 58.87\n",
      "Epoch: [1/10], Step: [1201/3125], Validation Acc: 59.6, Training Loss: 0.8594374060630798, Training Acc: 61.84\n",
      "Epoch: [1/10], Step: [1601/3125], Validation Acc: 61.1, Training Loss: 0.9310346841812134, Training Acc: 63.12\n",
      "Epoch: [1/10], Step: [2001/3125], Validation Acc: 61.1, Training Loss: 0.8988821506500244, Training Acc: 64.58\n",
      "Epoch: [1/10], Step: [2401/3125], Validation Acc: 61.9, Training Loss: 0.9715330600738525, Training Acc: 66.64\n",
      "Epoch: [1/10], Step: [2801/3125], Validation Acc: 63.1, Training Loss: 0.7604234218597412, Training Acc: 67.11\n",
      "Epoch: [2/10], Step: [401/3125], Validation Acc: 63.5, Training Loss: 0.8899407982826233, Training Acc: 69.59\n",
      "Epoch: [2/10], Step: [801/3125], Validation Acc: 64.8, Training Loss: 0.642221987247467, Training Acc: 70.25\n",
      "Epoch: [2/10], Step: [1201/3125], Validation Acc: 65.7, Training Loss: 0.598707914352417, Training Acc: 70.77\n",
      "Epoch: [2/10], Step: [1601/3125], Validation Acc: 64.4, Training Loss: 1.0277374982833862, Training Acc: 71.9\n",
      "Epoch: [2/10], Step: [2001/3125], Validation Acc: 65.6, Training Loss: 0.4914242923259735, Training Acc: 72.5\n",
      "Epoch: [2/10], Step: [2401/3125], Validation Acc: 66.2, Training Loss: 0.5492291450500488, Training Acc: 73.05\n",
      "Epoch: [2/10], Step: [2801/3125], Validation Acc: 65.9, Training Loss: 0.570173442363739, Training Acc: 74.28\n",
      "Epoch: [3/10], Step: [401/3125], Validation Acc: 65.2, Training Loss: 0.5163955092430115, Training Acc: 75.22\n",
      "Epoch: [3/10], Step: [801/3125], Validation Acc: 66.9, Training Loss: 0.6566522717475891, Training Acc: 76.18\n",
      "Epoch: [3/10], Step: [1201/3125], Validation Acc: 67.2, Training Loss: 0.5057274103164673, Training Acc: 77.02\n",
      "Epoch: [3/10], Step: [1601/3125], Validation Acc: 66.0, Training Loss: 0.5538709163665771, Training Acc: 77.72\n",
      "Epoch: [3/10], Step: [2001/3125], Validation Acc: 64.9, Training Loss: 0.781531572341919, Training Acc: 78.42\n",
      "Epoch: [3/10], Step: [2401/3125], Validation Acc: 65.8, Training Loss: 0.5011927485466003, Training Acc: 78.87\n",
      "Epoch: [3/10], Step: [2801/3125], Validation Acc: 66.9, Training Loss: 0.5622388124465942, Training Acc: 80.04\n",
      "Epoch: [4/10], Step: [401/3125], Validation Acc: 65.0, Training Loss: 0.40168026089668274, Training Acc: 80.86\n",
      "Epoch: [4/10], Step: [801/3125], Validation Acc: 65.3, Training Loss: 0.5345520973205566, Training Acc: 82.09\n",
      "Epoch: [4/10], Step: [1201/3125], Validation Acc: 65.8, Training Loss: 0.5546861290931702, Training Acc: 82.59\n",
      "Epoch: [4/10], Step: [1601/3125], Validation Acc: 66.1, Training Loss: 0.5760483741760254, Training Acc: 82.79\n",
      "Epoch: [4/10], Step: [2001/3125], Validation Acc: 65.2, Training Loss: 0.4587676227092743, Training Acc: 84.17\n",
      "Epoch: [4/10], Step: [2401/3125], Validation Acc: 65.8, Training Loss: 0.33245933055877686, Training Acc: 85.0\n",
      "Epoch: [4/10], Step: [2801/3125], Validation Acc: 65.4, Training Loss: 0.29898136854171753, Training Acc: 85.37\n",
      "Epoch: [5/10], Step: [401/3125], Validation Acc: 64.4, Training Loss: 0.4524443447589874, Training Acc: 86.82\n",
      "Epoch: [5/10], Step: [801/3125], Validation Acc: 64.7, Training Loss: 0.37283098697662354, Training Acc: 87.44\n",
      "Epoch: [5/10], Step: [1201/3125], Validation Acc: 64.8, Training Loss: 0.41267359256744385, Training Acc: 88.18\n",
      "Epoch: [5/10], Step: [1601/3125], Validation Acc: 66.1, Training Loss: 0.3188633322715759, Training Acc: 88.49\n",
      "Epoch: [5/10], Step: [2001/3125], Validation Acc: 66.3, Training Loss: 0.2805965542793274, Training Acc: 89.59\n",
      "Epoch: [5/10], Step: [2401/3125], Validation Acc: 65.2, Training Loss: 0.41972866654396057, Training Acc: 90.03\n",
      "Epoch: [5/10], Step: [2801/3125], Validation Acc: 64.2, Training Loss: 0.34750232100486755, Training Acc: 90.9\n",
      "Epoch: [6/10], Step: [401/3125], Validation Acc: 64.6, Training Loss: 0.42676419019699097, Training Acc: 91.8\n",
      "Epoch: [6/10], Step: [801/3125], Validation Acc: 64.5, Training Loss: 0.3175315856933594, Training Acc: 91.95\n",
      "Epoch: [6/10], Step: [1201/3125], Validation Acc: 64.9, Training Loss: 0.29160958528518677, Training Acc: 92.75\n",
      "Epoch: [6/10], Step: [1601/3125], Validation Acc: 65.2, Training Loss: 0.24240663647651672, Training Acc: 92.64\n",
      "Epoch: [6/10], Step: [2001/3125], Validation Acc: 64.9, Training Loss: 0.36094433069229126, Training Acc: 93.42\n",
      "Epoch: [6/10], Step: [2401/3125], Validation Acc: 64.9, Training Loss: 0.3514333963394165, Training Acc: 93.9\n",
      "Epoch: [6/10], Step: [2801/3125], Validation Acc: 64.1, Training Loss: 0.332145094871521, Training Acc: 94.54\n",
      "Epoch: [7/10], Step: [401/3125], Validation Acc: 66.0, Training Loss: 0.13021527230739594, Training Acc: 95.73\n",
      "Epoch: [7/10], Step: [801/3125], Validation Acc: 63.8, Training Loss: 0.3150416314601898, Training Acc: 95.17\n",
      "Epoch: [7/10], Step: [1201/3125], Validation Acc: 64.3, Training Loss: 0.06516814231872559, Training Acc: 95.77\n",
      "Epoch: [7/10], Step: [1601/3125], Validation Acc: 64.7, Training Loss: 0.24747535586357117, Training Acc: 95.6\n",
      "Epoch: [7/10], Step: [2001/3125], Validation Acc: 65.2, Training Loss: 0.13272036612033844, Training Acc: 95.6\n",
      "Epoch: [7/10], Step: [2401/3125], Validation Acc: 64.1, Training Loss: 0.2365683913230896, Training Acc: 96.11\n",
      "Epoch: [7/10], Step: [2801/3125], Validation Acc: 63.5, Training Loss: 0.37412574887275696, Training Acc: 96.46\n",
      "Epoch: [8/10], Step: [401/3125], Validation Acc: 65.6, Training Loss: 0.12885849177837372, Training Acc: 97.27\n",
      "Epoch: [8/10], Step: [801/3125], Validation Acc: 64.6, Training Loss: 0.24657337367534637, Training Acc: 97.37\n",
      "Epoch: [8/10], Step: [1201/3125], Validation Acc: 63.9, Training Loss: 0.09271293878555298, Training Acc: 97.29\n",
      "Epoch: [8/10], Step: [1601/3125], Validation Acc: 63.7, Training Loss: 0.09037524461746216, Training Acc: 97.15\n",
      "Epoch: [8/10], Step: [2001/3125], Validation Acc: 65.4, Training Loss: 0.1624051034450531, Training Acc: 97.38\n",
      "Epoch: [8/10], Step: [2401/3125], Validation Acc: 64.9, Training Loss: 0.06985434889793396, Training Acc: 97.44\n",
      "Epoch: [8/10], Step: [2801/3125], Validation Acc: 64.1, Training Loss: 0.12947073578834534, Training Acc: 97.52\n",
      "Epoch: [9/10], Step: [401/3125], Validation Acc: 65.1, Training Loss: 0.07469075918197632, Training Acc: 98.21\n",
      "Epoch: [9/10], Step: [801/3125], Validation Acc: 64.0, Training Loss: 0.05444977805018425, Training Acc: 98.37\n",
      "Epoch: [9/10], Step: [1201/3125], Validation Acc: 64.7, Training Loss: 0.10438096523284912, Training Acc: 98.04\n",
      "Epoch: [9/10], Step: [1601/3125], Validation Acc: 63.7, Training Loss: 0.1316346377134323, Training Acc: 97.79\n",
      "Epoch: [9/10], Step: [2001/3125], Validation Acc: 64.7, Training Loss: 0.08338058739900589, Training Acc: 98.02\n",
      "Epoch: [9/10], Step: [2401/3125], Validation Acc: 63.8, Training Loss: 0.11255025863647461, Training Acc: 97.94\n",
      "Epoch: [9/10], Step: [2801/3125], Validation Acc: 62.7, Training Loss: 0.03635333850979805, Training Acc: 98.31\n",
      "Epoch: [10/10], Step: [401/3125], Validation Acc: 64.7, Training Loss: 0.06252492219209671, Training Acc: 98.52\n",
      "Epoch: [10/10], Step: [801/3125], Validation Acc: 65.1, Training Loss: 0.0452355332672596, Training Acc: 98.7\n",
      "Epoch: [10/10], Step: [1201/3125], Validation Acc: 64.1, Training Loss: 0.02111286297440529, Training Acc: 98.56\n",
      "Epoch: [10/10], Step: [1601/3125], Validation Acc: 64.7, Training Loss: 0.01845276728272438, Training Acc: 98.62\n",
      "Epoch: [10/10], Step: [2001/3125], Validation Acc: 65.2, Training Loss: 0.07812013477087021, Training Acc: 98.6\n",
      "Epoch: [10/10], Step: [2401/3125], Validation Acc: 64.3, Training Loss: 0.04570499435067177, Training Acc: 98.38\n",
      "Epoch: [10/10], Step: [2801/3125], Validation Acc: 64.1, Training Loss: 0.0691133365035057, Training Acc: 98.41\n"
     ]
    }
   ],
   "source": [
    "hidden_size = 200\n",
    "model = RNN(hidden_size = hidden_size, num_layers=1, num_classes=3, pre_trained_emb = ft_emb)\n",
    "use_cuda = True\n",
    "if use_cuda and torch.cuda.is_available():\n",
    "  model.cuda()\n",
    "train_loss, val_acc,train_acc = train_model(train_loader,model)\n",
    "torch.save(model.state_dict(), 'RNN_hidden_size_{}.pkl'.format(hidden_size))\n",
    "trainacc_performance['hidden_size_{}'.format(hidden_size)] = (train_loss, val_acc,train_acc)\n",
    "!cp 'RNN_hidden_size_200.pkl' 'drive/My Drive/Colab Notebooks/RNN_hidden_size_200.pkl'"
   ]
  },
  {
   "cell_type": "code",
   "execution_count": 26,
   "metadata": {
    "colab": {
     "base_uri": "https://localhost:8080/",
     "height": 1207
    },
    "colab_type": "code",
    "id": "tSKqC6llXDJu",
    "outputId": "7c5f5aa7-b304-4d75-99e7-26450c3b5828"
   },
   "outputs": [
    {
     "name": "stdout",
     "output_type": "stream",
     "text": [
      "Epoch: [1/10], Step: [401/3125], Validation Acc: 52.9, Training Loss: 0.8373058438301086\n",
      "Epoch: [1/10], Step: [801/3125], Validation Acc: 56.3, Training Loss: 0.9558172225952148\n",
      "Epoch: [1/10], Step: [1201/3125], Validation Acc: 59.7, Training Loss: 0.9582279324531555\n",
      "Epoch: [1/10], Step: [1601/3125], Validation Acc: 60.2, Training Loss: 0.9013748168945312\n",
      "Epoch: [1/10], Step: [2001/3125], Validation Acc: 63.1, Training Loss: 0.8715951442718506\n",
      "Epoch: [1/10], Step: [2401/3125], Validation Acc: 62.1, Training Loss: 0.8525784015655518\n",
      "Epoch: [1/10], Step: [2801/3125], Validation Acc: 63.4, Training Loss: 0.7277835607528687\n",
      "Epoch: [2/10], Step: [401/3125], Validation Acc: 63.6, Training Loss: 0.5997782349586487\n",
      "Epoch: [2/10], Step: [801/3125], Validation Acc: 64.7, Training Loss: 0.6879258155822754\n",
      "Epoch: [2/10], Step: [1201/3125], Validation Acc: 64.1, Training Loss: 0.6123311519622803\n",
      "Epoch: [2/10], Step: [1601/3125], Validation Acc: 65.1, Training Loss: 0.5418102145195007\n",
      "Epoch: [2/10], Step: [2001/3125], Validation Acc: 65.8, Training Loss: 0.863711953163147\n",
      "Epoch: [2/10], Step: [2401/3125], Validation Acc: 66.7, Training Loss: 0.7462697625160217\n",
      "Epoch: [2/10], Step: [2801/3125], Validation Acc: 66.3, Training Loss: 0.6707324385643005\n",
      "Epoch: [3/10], Step: [401/3125], Validation Acc: 65.9, Training Loss: 0.5094320774078369\n",
      "Epoch: [3/10], Step: [801/3125], Validation Acc: 65.4, Training Loss: 0.8518672585487366\n",
      "Epoch: [3/10], Step: [1201/3125], Validation Acc: 65.8, Training Loss: 0.48117443919181824\n",
      "Epoch: [3/10], Step: [1601/3125], Validation Acc: 65.8, Training Loss: 0.7659093737602234\n",
      "Epoch: [3/10], Step: [2001/3125], Validation Acc: 65.7, Training Loss: 0.5079427361488342\n",
      "Epoch: [3/10], Step: [2401/3125], Validation Acc: 66.8, Training Loss: 0.8070825934410095\n",
      "Epoch: [3/10], Step: [2801/3125], Validation Acc: 66.5, Training Loss: 0.5257688760757446\n",
      "Epoch: [4/10], Step: [401/3125], Validation Acc: 65.2, Training Loss: 0.7321940660476685\n",
      "Epoch: [4/10], Step: [801/3125], Validation Acc: 66.4, Training Loss: 0.7396239042282104\n",
      "Epoch: [4/10], Step: [1201/3125], Validation Acc: 65.7, Training Loss: 0.5881268978118896\n",
      "Epoch: [4/10], Step: [1601/3125], Validation Acc: 66.4, Training Loss: 0.502033531665802\n",
      "Epoch: [4/10], Step: [2001/3125], Validation Acc: 65.7, Training Loss: 0.499315083026886\n",
      "Epoch: [4/10], Step: [2401/3125], Validation Acc: 66.0, Training Loss: 0.7463251352310181\n",
      "Epoch: [4/10], Step: [2801/3125], Validation Acc: 66.3, Training Loss: 0.44794148206710815\n",
      "Epoch: [5/10], Step: [401/3125], Validation Acc: 67.3, Training Loss: 0.2592006325721741\n",
      "Epoch: [5/10], Step: [801/3125], Validation Acc: 66.4, Training Loss: 0.38058149814605713\n",
      "Epoch: [5/10], Step: [1201/3125], Validation Acc: 66.0, Training Loss: 0.4856295883655548\n",
      "Epoch: [5/10], Step: [1601/3125], Validation Acc: 64.9, Training Loss: 0.32160404324531555\n",
      "Epoch: [5/10], Step: [2001/3125], Validation Acc: 64.1, Training Loss: 0.47254565358161926\n",
      "Epoch: [5/10], Step: [2401/3125], Validation Acc: 65.9, Training Loss: 0.5004627108573914\n",
      "Epoch: [5/10], Step: [2801/3125], Validation Acc: 65.8, Training Loss: 0.4542749524116516\n",
      "Epoch: [6/10], Step: [401/3125], Validation Acc: 64.5, Training Loss: 0.1946495771408081\n",
      "Epoch: [6/10], Step: [801/3125], Validation Acc: 65.5, Training Loss: 0.35315755009651184\n",
      "Epoch: [6/10], Step: [1201/3125], Validation Acc: 67.5, Training Loss: 0.16472280025482178\n",
      "Epoch: [6/10], Step: [1601/3125], Validation Acc: 65.3, Training Loss: 0.27865591645240784\n",
      "Epoch: [6/10], Step: [2001/3125], Validation Acc: 64.7, Training Loss: 0.21983036398887634\n",
      "Epoch: [6/10], Step: [2401/3125], Validation Acc: 65.0, Training Loss: 0.3952184319496155\n",
      "Epoch: [6/10], Step: [2801/3125], Validation Acc: 65.9, Training Loss: 0.3364488184452057\n",
      "Epoch: [7/10], Step: [401/3125], Validation Acc: 66.3, Training Loss: 0.17451071739196777\n",
      "Epoch: [7/10], Step: [801/3125], Validation Acc: 65.1, Training Loss: 0.1676122099161148\n",
      "Epoch: [7/10], Step: [1201/3125], Validation Acc: 64.4, Training Loss: 0.0872601792216301\n",
      "Epoch: [7/10], Step: [1601/3125], Validation Acc: 65.1, Training Loss: 0.20852254331111908\n",
      "Epoch: [7/10], Step: [2001/3125], Validation Acc: 66.2, Training Loss: 0.29879140853881836\n",
      "Epoch: [7/10], Step: [2401/3125], Validation Acc: 66.1, Training Loss: 0.17141522467136383\n",
      "Epoch: [7/10], Step: [2801/3125], Validation Acc: 64.5, Training Loss: 0.29551342129707336\n",
      "Epoch: [8/10], Step: [401/3125], Validation Acc: 65.3, Training Loss: 0.029724542051553726\n",
      "Epoch: [8/10], Step: [801/3125], Validation Acc: 65.6, Training Loss: 0.06907331198453903\n",
      "Epoch: [8/10], Step: [1201/3125], Validation Acc: 64.9, Training Loss: 0.10283753275871277\n",
      "Epoch: [8/10], Step: [1601/3125], Validation Acc: 65.3, Training Loss: 0.12736369669437408\n",
      "Epoch: [8/10], Step: [2001/3125], Validation Acc: 64.3, Training Loss: 0.14976638555526733\n",
      "Epoch: [8/10], Step: [2401/3125], Validation Acc: 64.0, Training Loss: 0.1189977303147316\n",
      "Epoch: [8/10], Step: [2801/3125], Validation Acc: 64.6, Training Loss: 0.11384057253599167\n",
      "Epoch: [9/10], Step: [401/3125], Validation Acc: 66.1, Training Loss: 0.03466692566871643\n",
      "Epoch: [9/10], Step: [801/3125], Validation Acc: 64.9, Training Loss: 0.03609447926282883\n",
      "Epoch: [9/10], Step: [1201/3125], Validation Acc: 64.3, Training Loss: 0.08700498938560486\n",
      "Epoch: [9/10], Step: [1601/3125], Validation Acc: 64.2, Training Loss: 0.0907612144947052\n",
      "Epoch: [9/10], Step: [2001/3125], Validation Acc: 64.0, Training Loss: 0.06041849032044411\n",
      "Epoch: [9/10], Step: [2401/3125], Validation Acc: 64.4, Training Loss: 0.09271900355815887\n",
      "Epoch: [9/10], Step: [2801/3125], Validation Acc: 65.2, Training Loss: 0.17171746492385864\n",
      "Epoch: [10/10], Step: [401/3125], Validation Acc: 64.6, Training Loss: 0.016519755125045776\n",
      "Epoch: [10/10], Step: [801/3125], Validation Acc: 63.7, Training Loss: 0.03576194494962692\n",
      "Epoch: [10/10], Step: [1201/3125], Validation Acc: 65.8, Training Loss: 0.3524775803089142\n",
      "Epoch: [10/10], Step: [1601/3125], Validation Acc: 64.4, Training Loss: 0.02819940075278282\n",
      "Epoch: [10/10], Step: [2001/3125], Validation Acc: 63.3, Training Loss: 0.0370200052857399\n",
      "Epoch: [10/10], Step: [2401/3125], Validation Acc: 64.0, Training Loss: 0.026582445949316025\n",
      "Epoch: [10/10], Step: [2801/3125], Validation Acc: 64.3, Training Loss: 0.321615070104599\n"
     ]
    }
   ],
   "source": [
    "hidden_size = 200\n",
    "model = RNN(hidden_size = hidden_size, num_layers=1, num_classes=3, pre_trained_emb = ft_emb)\n",
    "use_cuda = True\n",
    "if use_cuda and torch.cuda.is_available():\n",
    "  model.cuda()\n",
    "train_loss, val_acc = train_model(train_loader,model)\n",
    "torch.save(model.state_dict(), 'RNN_hidden_size_{}.pkl'.format(hidden_size))\n",
    "performance['hidden_size_{}'.format(hidden_size)] = (train_loss, val_acc)"
   ]
  },
  {
   "cell_type": "code",
   "execution_count": 50,
   "metadata": {
    "colab": {
     "base_uri": "https://localhost:8080/",
     "height": 1207
    },
    "colab_type": "code",
    "id": "PEaEqORFeO56",
    "outputId": "87889007-d9d1-4992-e41b-1ad18b96506a"
   },
   "outputs": [
    {
     "name": "stdout",
     "output_type": "stream",
     "text": [
      "Epoch: [1/10], Step: [401/3125], Validation Acc: 52.3, Training Acc: 53.19\n",
      "Epoch: [1/10], Step: [801/3125], Validation Acc: 54.2, Training Acc: 58.33\n",
      "Epoch: [1/10], Step: [1201/3125], Validation Acc: 58.4, Training Acc: 60.96\n",
      "Epoch: [1/10], Step: [1601/3125], Validation Acc: 60.1, Training Acc: 62.99\n",
      "Epoch: [1/10], Step: [2001/3125], Validation Acc: 60.5, Training Acc: 64.47\n",
      "Epoch: [1/10], Step: [2401/3125], Validation Acc: 62.1, Training Acc: 65.6\n",
      "Epoch: [1/10], Step: [2801/3125], Validation Acc: 62.6, Training Acc: 66.84\n",
      "Epoch: [2/10], Step: [401/3125], Validation Acc: 61.3, Training Acc: 69.19\n",
      "Epoch: [2/10], Step: [801/3125], Validation Acc: 63.8, Training Acc: 69.9\n",
      "Epoch: [2/10], Step: [1201/3125], Validation Acc: 65.0, Training Acc: 70.17\n",
      "Epoch: [2/10], Step: [1601/3125], Validation Acc: 63.9, Training Acc: 71.52\n",
      "Epoch: [2/10], Step: [2001/3125], Validation Acc: 65.0, Training Acc: 72.42\n",
      "Epoch: [2/10], Step: [2401/3125], Validation Acc: 65.6, Training Acc: 73.37\n",
      "Epoch: [2/10], Step: [2801/3125], Validation Acc: 67.3, Training Acc: 73.66\n",
      "Epoch: [3/10], Step: [401/3125], Validation Acc: 65.9, Training Acc: 75.31\n",
      "Epoch: [3/10], Step: [801/3125], Validation Acc: 65.8, Training Acc: 76.21\n",
      "Epoch: [3/10], Step: [1201/3125], Validation Acc: 65.9, Training Acc: 77.45\n",
      "Epoch: [3/10], Step: [1601/3125], Validation Acc: 66.7, Training Acc: 78.33\n",
      "Epoch: [3/10], Step: [2001/3125], Validation Acc: 65.1, Training Acc: 78.93\n",
      "Epoch: [3/10], Step: [2401/3125], Validation Acc: 67.3, Training Acc: 80.02\n",
      "Epoch: [3/10], Step: [2801/3125], Validation Acc: 66.1, Training Acc: 80.46\n",
      "Epoch: [4/10], Step: [401/3125], Validation Acc: 67.6, Training Acc: 82.61\n",
      "Epoch: [4/10], Step: [801/3125], Validation Acc: 68.2, Training Acc: 83.32\n",
      "Epoch: [4/10], Step: [1201/3125], Validation Acc: 66.7, Training Acc: 83.79\n",
      "Epoch: [4/10], Step: [1601/3125], Validation Acc: 67.9, Training Acc: 85.03\n",
      "Epoch: [4/10], Step: [2001/3125], Validation Acc: 66.5, Training Acc: 85.99\n",
      "Epoch: [4/10], Step: [2401/3125], Validation Acc: 67.2, Training Acc: 86.68\n",
      "Epoch: [4/10], Step: [2801/3125], Validation Acc: 68.3, Training Acc: 87.58\n",
      "Epoch: [5/10], Step: [401/3125], Validation Acc: 66.9, Training Acc: 88.67\n",
      "Epoch: [5/10], Step: [801/3125], Validation Acc: 67.0, Training Acc: 89.17\n",
      "Epoch: [5/10], Step: [1201/3125], Validation Acc: 66.7, Training Acc: 90.36\n",
      "Epoch: [5/10], Step: [1601/3125], Validation Acc: 66.7, Training Acc: 90.84\n",
      "Epoch: [5/10], Step: [2001/3125], Validation Acc: 66.6, Training Acc: 91.18\n",
      "Epoch: [5/10], Step: [2401/3125], Validation Acc: 65.4, Training Acc: 92.21\n",
      "Epoch: [5/10], Step: [2801/3125], Validation Acc: 66.3, Training Acc: 92.58\n",
      "Epoch: [6/10], Step: [401/3125], Validation Acc: 67.0, Training Acc: 93.69\n",
      "Epoch: [6/10], Step: [801/3125], Validation Acc: 68.0, Training Acc: 94.17\n",
      "Epoch: [6/10], Step: [1201/3125], Validation Acc: 67.0, Training Acc: 94.05\n",
      "Epoch: [6/10], Step: [1601/3125], Validation Acc: 65.6, Training Acc: 94.38\n",
      "Epoch: [6/10], Step: [2001/3125], Validation Acc: 66.8, Training Acc: 94.97\n",
      "Epoch: [6/10], Step: [2401/3125], Validation Acc: 65.7, Training Acc: 95.41\n",
      "Epoch: [6/10], Step: [2801/3125], Validation Acc: 65.3, Training Acc: 96.18\n",
      "Epoch: [7/10], Step: [401/3125], Validation Acc: 68.0, Training Acc: 97.23\n",
      "Epoch: [7/10], Step: [801/3125], Validation Acc: 65.9, Training Acc: 96.89\n",
      "Epoch: [7/10], Step: [1201/3125], Validation Acc: 67.2, Training Acc: 96.88\n",
      "Epoch: [7/10], Step: [1601/3125], Validation Acc: 65.5, Training Acc: 97.22\n",
      "Epoch: [7/10], Step: [2001/3125], Validation Acc: 66.2, Training Acc: 97.06\n",
      "Epoch: [7/10], Step: [2401/3125], Validation Acc: 66.2, Training Acc: 97.25\n",
      "Epoch: [7/10], Step: [2801/3125], Validation Acc: 66.0, Training Acc: 97.67\n",
      "Epoch: [8/10], Step: [401/3125], Validation Acc: 67.3, Training Acc: 98.12\n",
      "Epoch: [8/10], Step: [801/3125], Validation Acc: 66.8, Training Acc: 98.11\n",
      "Epoch: [8/10], Step: [1201/3125], Validation Acc: 64.0, Training Acc: 98.39\n",
      "Epoch: [8/10], Step: [1601/3125], Validation Acc: 65.5, Training Acc: 97.99\n",
      "Epoch: [8/10], Step: [2001/3125], Validation Acc: 66.1, Training Acc: 97.94\n",
      "Epoch: [8/10], Step: [2401/3125], Validation Acc: 64.7, Training Acc: 98.18\n",
      "Epoch: [8/10], Step: [2801/3125], Validation Acc: 66.6, Training Acc: 97.76\n",
      "Epoch: [9/10], Step: [401/3125], Validation Acc: 67.4, Training Acc: 98.4\n",
      "Epoch: [9/10], Step: [801/3125], Validation Acc: 67.5, Training Acc: 98.68\n",
      "Epoch: [9/10], Step: [1201/3125], Validation Acc: 66.0, Training Acc: 98.59\n",
      "Epoch: [9/10], Step: [1601/3125], Validation Acc: 65.4, Training Acc: 98.24\n",
      "Epoch: [9/10], Step: [2001/3125], Validation Acc: 66.0, Training Acc: 98.32\n",
      "Epoch: [9/10], Step: [2401/3125], Validation Acc: 65.9, Training Acc: 98.46\n",
      "Epoch: [9/10], Step: [2801/3125], Validation Acc: 66.1, Training Acc: 98.6\n",
      "Epoch: [10/10], Step: [401/3125], Validation Acc: 65.0, Training Acc: 98.92\n",
      "Epoch: [10/10], Step: [801/3125], Validation Acc: 64.7, Training Acc: 99.05\n",
      "Epoch: [10/10], Step: [1201/3125], Validation Acc: 65.5, Training Acc: 98.72\n",
      "Epoch: [10/10], Step: [1601/3125], Validation Acc: 65.2, Training Acc: 98.65\n",
      "Epoch: [10/10], Step: [2001/3125], Validation Acc: 65.9, Training Acc: 98.61\n",
      "Epoch: [10/10], Step: [2401/3125], Validation Acc: 66.1, Training Acc: 98.61\n",
      "Epoch: [10/10], Step: [2801/3125], Validation Acc: 67.3, Training Acc: 98.77\n"
     ]
    }
   ],
   "source": [
    "hidden_size = 300\n",
    "model = RNN(hidden_size = hidden_size, num_layers=1, num_classes=3, pre_trained_emb = ft_emb)\n",
    "use_cuda = True\n",
    "if use_cuda and torch.cuda.is_available():\n",
    "  model.cuda()\n",
    "val_acc,train_acc = train_model(train_loader,model)\n",
    "torch.save(model.state_dict(), 'RNN_hidden_size_{}.pkl'.format(hidden_size))\n",
    "trainacc_performance['hidden_size_{}'.format(hidden_size)] = (val_acc,train_acc)\n",
    "!cp 'RNN_hidden_size_300.pkl' 'drive/My Drive/Colab Notebooks/RNN_hidden_size_300.pkl'"
   ]
  },
  {
   "cell_type": "code",
   "execution_count": 30,
   "metadata": {
    "colab": {
     "base_uri": "https://localhost:8080/",
     "height": 1207
    },
    "colab_type": "code",
    "id": "cWQGjyDJXHmk",
    "outputId": "fb5be77a-055a-42c8-8c10-d7af1fb2f4eb"
   },
   "outputs": [
    {
     "name": "stdout",
     "output_type": "stream",
     "text": [
      "Epoch: [1/10], Step: [401/3125], Validation Acc: 52.7, Training Loss: 0.9874268174171448\n",
      "Epoch: [1/10], Step: [801/3125], Validation Acc: 54.8, Training Loss: 1.0813761949539185\n",
      "Epoch: [1/10], Step: [1201/3125], Validation Acc: 57.5, Training Loss: 0.8890181183815002\n",
      "Epoch: [1/10], Step: [1601/3125], Validation Acc: 58.4, Training Loss: 0.8045153617858887\n",
      "Epoch: [1/10], Step: [2001/3125], Validation Acc: 61.7, Training Loss: 0.9623076319694519\n",
      "Epoch: [1/10], Step: [2401/3125], Validation Acc: 59.7, Training Loss: 0.8783605694770813\n",
      "Epoch: [1/10], Step: [2801/3125], Validation Acc: 61.7, Training Loss: 0.8318474292755127\n",
      "Epoch: [2/10], Step: [401/3125], Validation Acc: 62.1, Training Loss: 0.6349196434020996\n",
      "Epoch: [2/10], Step: [801/3125], Validation Acc: 64.0, Training Loss: 0.60161292552948\n",
      "Epoch: [2/10], Step: [1201/3125], Validation Acc: 65.2, Training Loss: 0.8527363538742065\n",
      "Epoch: [2/10], Step: [1601/3125], Validation Acc: 66.1, Training Loss: 0.6099053621292114\n",
      "Epoch: [2/10], Step: [2001/3125], Validation Acc: 66.1, Training Loss: 0.7480457425117493\n",
      "Epoch: [2/10], Step: [2401/3125], Validation Acc: 64.9, Training Loss: 0.9103125929832458\n",
      "Epoch: [2/10], Step: [2801/3125], Validation Acc: 64.6, Training Loss: 0.6144192218780518\n",
      "Epoch: [3/10], Step: [401/3125], Validation Acc: 65.4, Training Loss: 0.560551643371582\n",
      "Epoch: [3/10], Step: [801/3125], Validation Acc: 65.4, Training Loss: 0.6775681972503662\n",
      "Epoch: [3/10], Step: [1201/3125], Validation Acc: 65.3, Training Loss: 0.4169101417064667\n",
      "Epoch: [3/10], Step: [1601/3125], Validation Acc: 66.3, Training Loss: 0.6244233250617981\n",
      "Epoch: [3/10], Step: [2001/3125], Validation Acc: 64.8, Training Loss: 0.534110426902771\n",
      "Epoch: [3/10], Step: [2401/3125], Validation Acc: 66.7, Training Loss: 0.6057085394859314\n",
      "Epoch: [3/10], Step: [2801/3125], Validation Acc: 66.6, Training Loss: 0.6185594797134399\n",
      "Epoch: [4/10], Step: [401/3125], Validation Acc: 65.8, Training Loss: 0.34938928484916687\n",
      "Epoch: [4/10], Step: [801/3125], Validation Acc: 65.9, Training Loss: 0.585684597492218\n",
      "Epoch: [4/10], Step: [1201/3125], Validation Acc: 67.1, Training Loss: 0.5365846157073975\n",
      "Epoch: [4/10], Step: [1601/3125], Validation Acc: 67.4, Training Loss: 0.6505370736122131\n",
      "Epoch: [4/10], Step: [2001/3125], Validation Acc: 66.4, Training Loss: 0.30885422229766846\n",
      "Epoch: [4/10], Step: [2401/3125], Validation Acc: 65.6, Training Loss: 0.5712590217590332\n",
      "Epoch: [4/10], Step: [2801/3125], Validation Acc: 67.0, Training Loss: 0.4932219982147217\n",
      "Epoch: [5/10], Step: [401/3125], Validation Acc: 65.5, Training Loss: 0.39874616265296936\n",
      "Epoch: [5/10], Step: [801/3125], Validation Acc: 65.2, Training Loss: 0.17373962700366974\n",
      "Epoch: [5/10], Step: [1201/3125], Validation Acc: 66.4, Training Loss: 0.2723180055618286\n",
      "Epoch: [5/10], Step: [1601/3125], Validation Acc: 65.3, Training Loss: 0.2682296633720398\n",
      "Epoch: [5/10], Step: [2001/3125], Validation Acc: 66.5, Training Loss: 0.3506621718406677\n",
      "Epoch: [5/10], Step: [2401/3125], Validation Acc: 65.9, Training Loss: 0.3131440281867981\n",
      "Epoch: [5/10], Step: [2801/3125], Validation Acc: 64.3, Training Loss: 0.25548332929611206\n",
      "Epoch: [6/10], Step: [401/3125], Validation Acc: 66.2, Training Loss: 0.2793840169906616\n",
      "Epoch: [6/10], Step: [801/3125], Validation Acc: 65.8, Training Loss: 0.08176650106906891\n",
      "Epoch: [6/10], Step: [1201/3125], Validation Acc: 65.7, Training Loss: 0.3442835807800293\n",
      "Epoch: [6/10], Step: [1601/3125], Validation Acc: 66.3, Training Loss: 0.13985541462898254\n",
      "Epoch: [6/10], Step: [2001/3125], Validation Acc: 66.7, Training Loss: 0.2884581685066223\n",
      "Epoch: [6/10], Step: [2401/3125], Validation Acc: 63.7, Training Loss: 0.22926798462867737\n",
      "Epoch: [6/10], Step: [2801/3125], Validation Acc: 64.4, Training Loss: 0.13622845709323883\n",
      "Epoch: [7/10], Step: [401/3125], Validation Acc: 66.6, Training Loss: 0.08662626147270203\n",
      "Epoch: [7/10], Step: [801/3125], Validation Acc: 65.0, Training Loss: 0.07663363218307495\n",
      "Epoch: [7/10], Step: [1201/3125], Validation Acc: 64.5, Training Loss: 0.10976514220237732\n",
      "Epoch: [7/10], Step: [1601/3125], Validation Acc: 66.6, Training Loss: 0.20878839492797852\n",
      "Epoch: [7/10], Step: [2001/3125], Validation Acc: 66.5, Training Loss: 0.0851333886384964\n",
      "Epoch: [7/10], Step: [2401/3125], Validation Acc: 65.9, Training Loss: 0.12312490493059158\n",
      "Epoch: [7/10], Step: [2801/3125], Validation Acc: 66.6, Training Loss: 0.19618281722068787\n",
      "Epoch: [8/10], Step: [401/3125], Validation Acc: 65.7, Training Loss: 0.17988380789756775\n",
      "Epoch: [8/10], Step: [801/3125], Validation Acc: 66.2, Training Loss: 0.02821424975991249\n",
      "Epoch: [8/10], Step: [1201/3125], Validation Acc: 65.6, Training Loss: 0.06611085683107376\n",
      "Epoch: [8/10], Step: [1601/3125], Validation Acc: 64.9, Training Loss: 0.12371490895748138\n",
      "Epoch: [8/10], Step: [2001/3125], Validation Acc: 66.9, Training Loss: 0.02585167996585369\n",
      "Epoch: [8/10], Step: [2401/3125], Validation Acc: 66.7, Training Loss: 0.12432309985160828\n",
      "Epoch: [8/10], Step: [2801/3125], Validation Acc: 66.9, Training Loss: 0.171055868268013\n",
      "Epoch: [9/10], Step: [401/3125], Validation Acc: 66.6, Training Loss: 0.07560724765062332\n",
      "Epoch: [9/10], Step: [801/3125], Validation Acc: 66.8, Training Loss: 0.006554171442985535\n",
      "Epoch: [9/10], Step: [1201/3125], Validation Acc: 67.1, Training Loss: 0.02397182211279869\n",
      "Epoch: [9/10], Step: [1601/3125], Validation Acc: 66.9, Training Loss: 0.03645278140902519\n",
      "Epoch: [9/10], Step: [2001/3125], Validation Acc: 65.9, Training Loss: 0.14759618043899536\n",
      "Epoch: [9/10], Step: [2401/3125], Validation Acc: 66.8, Training Loss: 0.051698826253414154\n",
      "Epoch: [9/10], Step: [2801/3125], Validation Acc: 66.0, Training Loss: 0.09675116091966629\n",
      "Epoch: [10/10], Step: [401/3125], Validation Acc: 65.9, Training Loss: 0.01264188438653946\n",
      "Epoch: [10/10], Step: [801/3125], Validation Acc: 65.5, Training Loss: 0.015581145882606506\n",
      "Epoch: [10/10], Step: [1201/3125], Validation Acc: 66.3, Training Loss: 0.11831517517566681\n",
      "Epoch: [10/10], Step: [1601/3125], Validation Acc: 66.6, Training Loss: 0.08478303253650665\n",
      "Epoch: [10/10], Step: [2001/3125], Validation Acc: 65.4, Training Loss: 0.12155171483755112\n",
      "Epoch: [10/10], Step: [2401/3125], Validation Acc: 65.2, Training Loss: 0.1979520469903946\n",
      "Epoch: [10/10], Step: [2801/3125], Validation Acc: 66.2, Training Loss: 0.04278431832790375\n"
     ]
    }
   ],
   "source": [
    "hidden_size = 300\n",
    "model = RNN(hidden_size = hidden_size, num_layers=1, num_classes=3, pre_trained_emb = ft_emb)\n",
    "use_cuda = True\n",
    "if use_cuda and torch.cuda.is_available():\n",
    "  model.cuda()\n",
    "train_loss, val_acc = train_model(train_loader,model)\n",
    "torch.save(model.state_dict(), 'RNN_hidden_size_{}.pkl'.format(hidden_size))\n",
    "performance['hidden_size_{}'.format(hidden_size)] = (train_loss, val_acc)"
   ]
  },
  {
   "cell_type": "code",
   "execution_count": 51,
   "metadata": {
    "colab": {
     "base_uri": "https://localhost:8080/",
     "height": 1207
    },
    "colab_type": "code",
    "id": "gA5hp5pbnoDN",
    "outputId": "37ce4c58-1ed9-443c-81dc-20a039037c8a"
   },
   "outputs": [
    {
     "name": "stdout",
     "output_type": "stream",
     "text": [
      "Epoch: [1/10], Step: [401/3125], Validation Acc: 55.2, Training Acc: 55.72\n",
      "Epoch: [1/10], Step: [801/3125], Validation Acc: 54.8, Training Acc: 59.27\n",
      "Epoch: [1/10], Step: [1201/3125], Validation Acc: 57.0, Training Acc: 61.13\n",
      "Epoch: [1/10], Step: [1601/3125], Validation Acc: 58.0, Training Acc: 63.1\n",
      "Epoch: [1/10], Step: [2001/3125], Validation Acc: 60.1, Training Acc: 64.68\n",
      "Epoch: [1/10], Step: [2401/3125], Validation Acc: 62.4, Training Acc: 66.29\n",
      "Epoch: [1/10], Step: [2801/3125], Validation Acc: 63.7, Training Acc: 66.57\n",
      "Epoch: [2/10], Step: [401/3125], Validation Acc: 63.5, Training Acc: 68.92\n",
      "Epoch: [2/10], Step: [801/3125], Validation Acc: 65.1, Training Acc: 69.58\n",
      "Epoch: [2/10], Step: [1201/3125], Validation Acc: 64.9, Training Acc: 71.48\n",
      "Epoch: [2/10], Step: [1601/3125], Validation Acc: 65.6, Training Acc: 71.96\n",
      "Epoch: [2/10], Step: [2001/3125], Validation Acc: 66.3, Training Acc: 72.48\n",
      "Epoch: [2/10], Step: [2401/3125], Validation Acc: 66.2, Training Acc: 73.63\n",
      "Epoch: [2/10], Step: [2801/3125], Validation Acc: 67.5, Training Acc: 73.73\n",
      "Epoch: [3/10], Step: [401/3125], Validation Acc: 66.7, Training Acc: 75.8\n",
      "Epoch: [3/10], Step: [801/3125], Validation Acc: 66.5, Training Acc: 76.48\n",
      "Epoch: [3/10], Step: [1201/3125], Validation Acc: 65.3, Training Acc: 77.03\n",
      "Epoch: [3/10], Step: [1601/3125], Validation Acc: 66.4, Training Acc: 78.73\n",
      "Epoch: [3/10], Step: [2001/3125], Validation Acc: 67.4, Training Acc: 79.21\n",
      "Epoch: [3/10], Step: [2401/3125], Validation Acc: 66.6, Training Acc: 79.95\n",
      "Epoch: [3/10], Step: [2801/3125], Validation Acc: 68.4, Training Acc: 80.76\n",
      "Epoch: [4/10], Step: [401/3125], Validation Acc: 66.4, Training Acc: 82.63\n",
      "Epoch: [4/10], Step: [801/3125], Validation Acc: 67.1, Training Acc: 83.32\n",
      "Epoch: [4/10], Step: [1201/3125], Validation Acc: 67.6, Training Acc: 84.29\n",
      "Epoch: [4/10], Step: [1601/3125], Validation Acc: 65.9, Training Acc: 85.5\n",
      "Epoch: [4/10], Step: [2001/3125], Validation Acc: 66.6, Training Acc: 85.73\n",
      "Epoch: [4/10], Step: [2401/3125], Validation Acc: 66.1, Training Acc: 87.36\n",
      "Epoch: [4/10], Step: [2801/3125], Validation Acc: 68.9, Training Acc: 87.26\n",
      "Epoch: [5/10], Step: [401/3125], Validation Acc: 66.0, Training Acc: 89.35\n",
      "Epoch: [5/10], Step: [801/3125], Validation Acc: 66.9, Training Acc: 89.86\n",
      "Epoch: [5/10], Step: [1201/3125], Validation Acc: 65.7, Training Acc: 90.42\n",
      "Epoch: [5/10], Step: [1601/3125], Validation Acc: 65.5, Training Acc: 91.53\n",
      "Epoch: [5/10], Step: [2001/3125], Validation Acc: 64.4, Training Acc: 92.37\n",
      "Epoch: [5/10], Step: [2401/3125], Validation Acc: 66.8, Training Acc: 93.1\n",
      "Epoch: [5/10], Step: [2801/3125], Validation Acc: 65.2, Training Acc: 93.43\n",
      "Epoch: [6/10], Step: [401/3125], Validation Acc: 67.2, Training Acc: 94.73\n",
      "Epoch: [6/10], Step: [801/3125], Validation Acc: 65.4, Training Acc: 94.66\n",
      "Epoch: [6/10], Step: [1201/3125], Validation Acc: 64.7, Training Acc: 94.94\n",
      "Epoch: [6/10], Step: [1601/3125], Validation Acc: 67.4, Training Acc: 95.7\n",
      "Epoch: [6/10], Step: [2001/3125], Validation Acc: 66.8, Training Acc: 95.76\n",
      "Epoch: [6/10], Step: [2401/3125], Validation Acc: 65.8, Training Acc: 96.19\n",
      "Epoch: [6/10], Step: [2801/3125], Validation Acc: 65.2, Training Acc: 96.28\n",
      "Epoch: [7/10], Step: [401/3125], Validation Acc: 66.6, Training Acc: 97.4\n",
      "Epoch: [7/10], Step: [801/3125], Validation Acc: 66.9, Training Acc: 97.64\n",
      "Epoch: [7/10], Step: [1201/3125], Validation Acc: 66.0, Training Acc: 97.36\n",
      "Epoch: [7/10], Step: [1601/3125], Validation Acc: 63.9, Training Acc: 97.26\n",
      "Epoch: [7/10], Step: [2001/3125], Validation Acc: 64.9, Training Acc: 97.65\n",
      "Epoch: [7/10], Step: [2401/3125], Validation Acc: 66.0, Training Acc: 97.59\n",
      "Epoch: [7/10], Step: [2801/3125], Validation Acc: 67.0, Training Acc: 97.94\n",
      "Epoch: [8/10], Step: [401/3125], Validation Acc: 67.2, Training Acc: 98.33\n",
      "Epoch: [8/10], Step: [801/3125], Validation Acc: 65.1, Training Acc: 98.37\n",
      "Epoch: [8/10], Step: [1201/3125], Validation Acc: 68.0, Training Acc: 98.23\n",
      "Epoch: [8/10], Step: [1601/3125], Validation Acc: 65.7, Training Acc: 98.33\n",
      "Epoch: [8/10], Step: [2001/3125], Validation Acc: 65.8, Training Acc: 98.28\n",
      "Epoch: [8/10], Step: [2401/3125], Validation Acc: 66.1, Training Acc: 98.56\n",
      "Epoch: [8/10], Step: [2801/3125], Validation Acc: 67.0, Training Acc: 98.34\n",
      "Epoch: [9/10], Step: [401/3125], Validation Acc: 66.3, Training Acc: 98.71\n",
      "Epoch: [9/10], Step: [801/3125], Validation Acc: 64.6, Training Acc: 98.74\n",
      "Epoch: [9/10], Step: [1201/3125], Validation Acc: 64.8, Training Acc: 98.62\n",
      "Epoch: [9/10], Step: [1601/3125], Validation Acc: 66.8, Training Acc: 98.4\n",
      "Epoch: [9/10], Step: [2001/3125], Validation Acc: 65.0, Training Acc: 98.6\n",
      "Epoch: [9/10], Step: [2401/3125], Validation Acc: 65.2, Training Acc: 98.23\n",
      "Epoch: [9/10], Step: [2801/3125], Validation Acc: 66.9, Training Acc: 98.44\n",
      "Epoch: [10/10], Step: [401/3125], Validation Acc: 67.2, Training Acc: 98.66\n",
      "Epoch: [10/10], Step: [801/3125], Validation Acc: 66.5, Training Acc: 99.04\n",
      "Epoch: [10/10], Step: [1201/3125], Validation Acc: 65.4, Training Acc: 98.91\n",
      "Epoch: [10/10], Step: [1601/3125], Validation Acc: 65.9, Training Acc: 98.68\n",
      "Epoch: [10/10], Step: [2001/3125], Validation Acc: 66.3, Training Acc: 98.64\n",
      "Epoch: [10/10], Step: [2401/3125], Validation Acc: 67.5, Training Acc: 98.8\n",
      "Epoch: [10/10], Step: [2801/3125], Validation Acc: 64.7, Training Acc: 98.64\n"
     ]
    }
   ],
   "source": [
    "hidden_size = 400\n",
    "model = RNN(hidden_size = hidden_size, num_layers=1, num_classes=3, pre_trained_emb = ft_emb)\n",
    "use_cuda = True\n",
    "if use_cuda and torch.cuda.is_available():\n",
    "  model.cuda()\n",
    "val_acc,train_acc = train_model(train_loader,model)\n",
    "torch.save(model.state_dict(), 'RNN_hidden_size_{}.pkl'.format(hidden_size))\n",
    "trainacc_performance['hidden_size_{}'.format(hidden_size)] = (val_acc,train_acc)\n",
    "!cp 'RNN_hidden_size_400.pkl' 'drive/My Drive/Colab Notebooks/RNN_hidden_size_400.pkl'"
   ]
  },
  {
   "cell_type": "code",
   "execution_count": 0,
   "metadata": {
    "colab": {},
    "colab_type": "code",
    "collapsed": true,
    "id": "zKQu5shZZQgK"
   },
   "outputs": [],
   "source": [
    "import pickle\n",
    "f = open(\"rnn_hidden_size_record_new.pkl\",\"wb\")\n",
    "pickle.dump(trainacc_performance,f)\n",
    "f.close()"
   ]
  },
  {
   "cell_type": "code",
   "execution_count": 0,
   "metadata": {
    "colab": {},
    "colab_type": "code",
    "collapsed": true,
    "id": "Eu1ki6kYZaB9"
   },
   "outputs": [],
   "source": [
    "from google.colab import files\n",
    "files.download('rnn_hidden_size_record_new.pkl') "
   ]
  },
  {
   "cell_type": "code",
   "execution_count": 31,
   "metadata": {
    "colab": {
     "base_uri": "https://localhost:8080/",
     "height": 1207
    },
    "colab_type": "code",
    "id": "ZFYrEiNPpORE",
    "outputId": "d20efd55-28d2-4a41-cb41-127326a56bd3"
   },
   "outputs": [
    {
     "name": "stdout",
     "output_type": "stream",
     "text": [
      "Epoch: [1/10], Step: [401/3125], Validation Acc: 53.1, Training Loss: 0.9983417987823486\n",
      "Epoch: [1/10], Step: [801/3125], Validation Acc: 56.5, Training Loss: 1.0401420593261719\n",
      "Epoch: [1/10], Step: [1201/3125], Validation Acc: 60.4, Training Loss: 0.7093570828437805\n",
      "Epoch: [1/10], Step: [1601/3125], Validation Acc: 60.6, Training Loss: 0.8327824473381042\n",
      "Epoch: [1/10], Step: [2001/3125], Validation Acc: 61.7, Training Loss: 0.7499194741249084\n",
      "Epoch: [1/10], Step: [2401/3125], Validation Acc: 62.1, Training Loss: 0.8026942014694214\n",
      "Epoch: [1/10], Step: [2801/3125], Validation Acc: 64.5, Training Loss: 0.8780301809310913\n",
      "Epoch: [2/10], Step: [401/3125], Validation Acc: 65.7, Training Loss: 0.5154721736907959\n",
      "Epoch: [2/10], Step: [801/3125], Validation Acc: 66.0, Training Loss: 0.8337960243225098\n",
      "Epoch: [2/10], Step: [1201/3125], Validation Acc: 64.4, Training Loss: 0.5293896198272705\n",
      "Epoch: [2/10], Step: [1601/3125], Validation Acc: 63.7, Training Loss: 0.7270818948745728\n",
      "Epoch: [2/10], Step: [2001/3125], Validation Acc: 65.4, Training Loss: 0.8721280097961426\n",
      "Epoch: [2/10], Step: [2401/3125], Validation Acc: 66.0, Training Loss: 0.7432835102081299\n",
      "Epoch: [2/10], Step: [2801/3125], Validation Acc: 66.1, Training Loss: 0.7544721961021423\n",
      "Epoch: [3/10], Step: [401/3125], Validation Acc: 66.7, Training Loss: 0.8222837448120117\n",
      "Epoch: [3/10], Step: [801/3125], Validation Acc: 66.5, Training Loss: 0.461679071187973\n",
      "Epoch: [3/10], Step: [1201/3125], Validation Acc: 67.5, Training Loss: 0.5289972424507141\n",
      "Epoch: [3/10], Step: [1601/3125], Validation Acc: 64.8, Training Loss: 0.6313188672065735\n",
      "Epoch: [3/10], Step: [2001/3125], Validation Acc: 65.4, Training Loss: 0.4053584337234497\n",
      "Epoch: [3/10], Step: [2401/3125], Validation Acc: 67.0, Training Loss: 0.6237558722496033\n",
      "Epoch: [3/10], Step: [2801/3125], Validation Acc: 67.2, Training Loss: 0.8130788207054138\n",
      "Epoch: [4/10], Step: [401/3125], Validation Acc: 65.3, Training Loss: 0.452239990234375\n",
      "Epoch: [4/10], Step: [801/3125], Validation Acc: 66.4, Training Loss: 0.5887544751167297\n",
      "Epoch: [4/10], Step: [1201/3125], Validation Acc: 67.8, Training Loss: 0.4763156771659851\n",
      "Epoch: [4/10], Step: [1601/3125], Validation Acc: 65.6, Training Loss: 0.42874306440353394\n",
      "Epoch: [4/10], Step: [2001/3125], Validation Acc: 69.1, Training Loss: 0.5529327988624573\n",
      "Epoch: [4/10], Step: [2401/3125], Validation Acc: 66.2, Training Loss: 0.3794654905796051\n",
      "Epoch: [4/10], Step: [2801/3125], Validation Acc: 66.0, Training Loss: 0.7178385853767395\n",
      "Epoch: [5/10], Step: [401/3125], Validation Acc: 66.2, Training Loss: 0.39883965253829956\n",
      "Epoch: [5/10], Step: [801/3125], Validation Acc: 65.9, Training Loss: 0.314313143491745\n",
      "Epoch: [5/10], Step: [1201/3125], Validation Acc: 66.5, Training Loss: 0.28952130675315857\n",
      "Epoch: [5/10], Step: [1601/3125], Validation Acc: 67.0, Training Loss: 0.250486820936203\n",
      "Epoch: [5/10], Step: [2001/3125], Validation Acc: 65.9, Training Loss: 0.11795458197593689\n",
      "Epoch: [5/10], Step: [2401/3125], Validation Acc: 66.2, Training Loss: 0.17937131226062775\n",
      "Epoch: [5/10], Step: [2801/3125], Validation Acc: 66.6, Training Loss: 0.3479830026626587\n",
      "Epoch: [6/10], Step: [401/3125], Validation Acc: 65.9, Training Loss: 0.21814371645450592\n",
      "Epoch: [6/10], Step: [801/3125], Validation Acc: 65.8, Training Loss: 0.16004590690135956\n",
      "Epoch: [6/10], Step: [1201/3125], Validation Acc: 68.6, Training Loss: 0.2901853621006012\n",
      "Epoch: [6/10], Step: [1601/3125], Validation Acc: 67.7, Training Loss: 0.08681520819664001\n",
      "Epoch: [6/10], Step: [2001/3125], Validation Acc: 65.4, Training Loss: 0.19951209425926208\n",
      "Epoch: [6/10], Step: [2401/3125], Validation Acc: 68.1, Training Loss: 0.2644997239112854\n",
      "Epoch: [6/10], Step: [2801/3125], Validation Acc: 67.0, Training Loss: 0.4328012466430664\n",
      "Epoch: [7/10], Step: [401/3125], Validation Acc: 65.9, Training Loss: 0.05589096620678902\n",
      "Epoch: [7/10], Step: [801/3125], Validation Acc: 66.0, Training Loss: 0.01898616924881935\n",
      "Epoch: [7/10], Step: [1201/3125], Validation Acc: 65.5, Training Loss: 0.12682470679283142\n",
      "Epoch: [7/10], Step: [1601/3125], Validation Acc: 65.2, Training Loss: 0.0884404182434082\n",
      "Epoch: [7/10], Step: [2001/3125], Validation Acc: 65.8, Training Loss: 0.0737185850739479\n",
      "Epoch: [7/10], Step: [2401/3125], Validation Acc: 65.7, Training Loss: 0.5410284996032715\n",
      "Epoch: [7/10], Step: [2801/3125], Validation Acc: 65.4, Training Loss: 0.046487994492053986\n",
      "Epoch: [8/10], Step: [401/3125], Validation Acc: 66.7, Training Loss: 0.022218598052859306\n",
      "Epoch: [8/10], Step: [801/3125], Validation Acc: 67.2, Training Loss: 0.01034276932477951\n",
      "Epoch: [8/10], Step: [1201/3125], Validation Acc: 65.6, Training Loss: 0.055537790060043335\n",
      "Epoch: [8/10], Step: [1601/3125], Validation Acc: 65.8, Training Loss: 0.03740258887410164\n",
      "Epoch: [8/10], Step: [2001/3125], Validation Acc: 67.1, Training Loss: 0.06228926032781601\n",
      "Epoch: [8/10], Step: [2401/3125], Validation Acc: 65.5, Training Loss: 0.2230181246995926\n",
      "Epoch: [8/10], Step: [2801/3125], Validation Acc: 64.8, Training Loss: 0.14133456349372864\n",
      "Epoch: [9/10], Step: [401/3125], Validation Acc: 65.7, Training Loss: 0.00374516099691391\n",
      "Epoch: [9/10], Step: [801/3125], Validation Acc: 65.4, Training Loss: 0.018442736938595772\n",
      "Epoch: [9/10], Step: [1201/3125], Validation Acc: 66.5, Training Loss: 0.034808795899152756\n",
      "Epoch: [9/10], Step: [1601/3125], Validation Acc: 66.1, Training Loss: 0.0827411487698555\n",
      "Epoch: [9/10], Step: [2001/3125], Validation Acc: 66.3, Training Loss: 0.13049526512622833\n",
      "Epoch: [9/10], Step: [2401/3125], Validation Acc: 66.6, Training Loss: 0.03803176432847977\n",
      "Epoch: [9/10], Step: [2801/3125], Validation Acc: 66.4, Training Loss: 0.024172021076083183\n",
      "Epoch: [10/10], Step: [401/3125], Validation Acc: 64.9, Training Loss: 0.11614510416984558\n",
      "Epoch: [10/10], Step: [801/3125], Validation Acc: 66.8, Training Loss: 0.018770813941955566\n",
      "Epoch: [10/10], Step: [1201/3125], Validation Acc: 67.1, Training Loss: 0.004688285291194916\n",
      "Epoch: [10/10], Step: [1601/3125], Validation Acc: 66.5, Training Loss: 0.08883599191904068\n",
      "Epoch: [10/10], Step: [2001/3125], Validation Acc: 64.7, Training Loss: 0.010954000055789948\n",
      "Epoch: [10/10], Step: [2401/3125], Validation Acc: 65.8, Training Loss: 0.07793779671192169\n",
      "Epoch: [10/10], Step: [2801/3125], Validation Acc: 66.7, Training Loss: 0.08850552141666412\n"
     ]
    }
   ],
   "source": [
    "hidden_size = 400\n",
    "model = RNN(hidden_size = hidden_size, num_layers=1, num_classes=3, pre_trained_emb = ft_emb)\n",
    "use_cuda = True\n",
    "if use_cuda and torch.cuda.is_available():\n",
    "  model.cuda()\n",
    "train_loss, val_acc = train_model(train_loader,model)\n",
    "torch.save(model.state_dict(), 'RNN_hidden_size_{}.pkl'.format(hidden_size))\n",
    "performance['hidden_size_{}'.format(hidden_size)] = (train_loss, val_acc)"
   ]
  },
  {
   "cell_type": "code",
   "execution_count": 0,
   "metadata": {
    "colab": {},
    "colab_type": "code",
    "collapsed": true,
    "id": "9gJiaKCN5vJF"
   },
   "outputs": [],
   "source": [
    "files.download('RNN_hidden_size_50.pkl')\n",
    "files.download('RNN_hidden_size_100.pkl') \n",
    "files.download('RNN_hidden_size_200.pkl') \n",
    "files.download('RNN_hidden_size_300.pkl')\n",
    "files.download('RNN_hidden_size_400.pkl')"
   ]
  },
  {
   "cell_type": "markdown",
   "metadata": {
    "colab_type": "text",
    "id": "fJL0_xhkO3Qm"
   },
   "source": [
    "## 2.2 Concatenate two encoded sentences with element-wise multiplication for RNN\n",
    "- Instead of concatenation of two encoded sentences, do element-wise multiplication\n",
    "- Freeze all embedding weights\n",
    "- Also tuning hidden size\n",
    "- Hidden size list (100, 200, 300, 400, 800)"
   ]
  },
  {
   "cell_type": "code",
   "execution_count": 0,
   "metadata": {
    "colab": {},
    "colab_type": "code",
    "collapsed": true,
    "id": "2UpeeJRnO2Hp"
   },
   "outputs": [],
   "source": [
    "class RNN_mul(nn.Module):\n",
    "    def __init__(self, hidden_size, num_layers, num_classes, pre_trained_emb):\n",
    "        # RNN Accepts the following hyperparams\n",
    "        # hidden_size: Hidden Size of layer in RNN\n",
    "        # num_layers: number of layers in RNN\n",
    "        # num_classes: number of output classes\n",
    "        # pre_trained_emb: pre_trained fast text results\n",
    "        super(RNN_mul, self).__init__()\n",
    "\n",
    "        self.num_layers, self.hidden_size = num_layers, hidden_size\n",
    "        # embedding module\n",
    "        self.embedding = nn.Embedding(pre_trained_emb.shape[0], pre_trained_emb.shape[1], padding_idx=PAD_IDX)\n",
    "        # create RNN in pytorch(batch_first: the first dim is batch, 2nd is sequence dim, 3rd is embedding dim)\n",
    "        self.rnn = nn.GRU(pre_trained_emb.shape[1], hidden_size,num_layers, bidirectional=True, batch_first = True) \n",
    "        \n",
    "        self.linear1 = nn.Linear(hidden_size*2,hidden_size )\n",
    "        self.linear2 = nn.Linear(hidden_size, num_classes)\n",
    "        self.relu = nn.ReLU()\n",
    "    def init_weights(self, is_static=True):\n",
    "        self.embedding.weight = nn.Parameter(torch.from_numpy(pre_trained_emb).float())\n",
    "        if is_static:\n",
    "            self.embedding.weight.requires_grad = False\n",
    "    \n",
    "    \n",
    "    def init_hidden(self, batch_size):\n",
    "        # Function initializes the activation of recurrent neural net at timestep 0\n",
    "        # Needs to be in format (num_layers, batch_size, hidden_size)\n",
    "        hidden = torch.randn(2 * self.num_layers, batch_size, self.hidden_size)\n",
    "        \n",
    "        return hidden\n",
    "\n",
    "    def forward(self, token1_data, token1_lengths, token2_data, token2_lengths):\n",
    "        # reset hidden state\n",
    "\n",
    "        batch_size, token1_seq_len = token1_data.size()\n",
    "        token2_seq_len = token2_data.size()[1]\n",
    "#### main part of RNN ###########################\n",
    "        self.hidden = self.init_hidden(batch_size)\n",
    "        #sort \n",
    "        _, token1_idx_sort = torch.sort(token1_lengths, dim=0, descending=True)\n",
    "        _, token1_idx_unsort = torch.sort(token1_idx_sort, dim=0)\n",
    "        token1_lengths = token1_lengths[token1_idx_sort]\n",
    "        _, token2_idx_sort = torch.sort(token2_lengths, dim=0, descending=True)\n",
    "        _, token2_idx_unsort = torch.sort(token2_idx_sort, dim=0)\n",
    "        token2_lengths = token2_lengths[token2_idx_sort]\n",
    "        # Sort x\n",
    "        token1_rnn = token1_data.index_select(0, token1_idx_sort)\n",
    "        token2_rnn = token2_data.index_select(0, token2_idx_sort)\n",
    "        \n",
    "        # get embedding of characters\n",
    "        embed_sent1 = self.embedding(token1_rnn)\n",
    "        embed_sent2 = self.embedding(token2_rnn)\n",
    "        # pretrained_weight is a numpy matrix of shape (num_embeddings, embedding_dim)\n",
    "        #embed.weight = nn.Parameter(torch.from_numpy(pre_trained_emb))\n",
    "        \n",
    "        #embed = m * embed + (1-m) * embed.clone().detch()\n",
    "       # embed.weight.data.copy_(torch.from_numpy(pre_trained_emb))\n",
    "        # pack padded sequence\n",
    "        # transform the tensor in pytorch into the padded sequence . pytorch want the sequence in the descending order\n",
    "        embed_sent1 = torch.nn.utils.rnn.pack_padded_sequence(embed_sent1, token1_lengths, batch_first=True)\n",
    "        embed_sent2 = torch.nn.utils.rnn.pack_padded_sequence(embed_sent2, token2_lengths, batch_first=True)\n",
    "        use_cuda = True\n",
    "        if use_cuda and torch.cuda.is_available():\n",
    "#           embed_sent1 = embed_sent1.cuda()\n",
    "#           embed_sent2 = embed_sent1.cuda()\n",
    "            self.hidden = self.hidden.cuda()\n",
    "            \n",
    "        # fprop though RNN # the rnn_out varaible is size of batch size by the sequence length by the hidden dimension\n",
    "#         rnn_out1, _ = self.rnn(embed_sent1, self.hidden) \n",
    "#         rnn_out2, _ = self.rnn(embed_sent2, self.hidden) \n",
    "        _, hidden_out1 = self.rnn(embed_sent1, self.hidden) \n",
    "        _, hidden_out2 = self.rnn(embed_sent2, self.hidden) \n",
    "        hidden_out1 = torch.cat((hidden_out1[0], hidden_out1[1]),dim = 1)\n",
    "        hidden_out2 = torch.cat((hidden_out2[0], hidden_out2[1]),dim = 1)\n",
    "        #unsort \n",
    "        hidden_out1 = hidden_out1.index_select(0, token1_idx_unsort)\n",
    "        hidden_out2 = hidden_out2.index_select(0, token2_idx_unsort)\n",
    "       \n",
    "        out_cat = torch.mul(hidden_out1, hidden_out2)\n",
    "        # sum hidden activations of RNN across time\n",
    "        #out_cat = torch.sum(out_cat, dim=1)\n",
    "####### main part #########################\n",
    "        hidden1 = self.linear1(out_cat)\n",
    "        hidden1 = self.relu(hidden1)\n",
    "        out = self.linear2(hidden1)\n",
    "        preds = F.log_softmax(out, 1)\n",
    "        return preds\n"
   ]
  },
  {
   "cell_type": "code",
   "execution_count": 58,
   "metadata": {
    "colab": {
     "base_uri": "https://localhost:8080/",
     "height": 1207
    },
    "colab_type": "code",
    "id": "svGoqBXPrYT0",
    "outputId": "ce244bce-6ae4-4659-d37a-52393ec1c374"
   },
   "outputs": [
    {
     "name": "stdout",
     "output_type": "stream",
     "text": [
      "Epoch: [1/10], Step: [401/3125], Validation Acc: 49.7, Training Acc: 53.46\n",
      "Epoch: [1/10], Step: [801/3125], Validation Acc: 57.2, Training Acc: 59.21\n",
      "Epoch: [1/10], Step: [1201/3125], Validation Acc: 60.9, Training Acc: 63.63\n",
      "Epoch: [1/10], Step: [1601/3125], Validation Acc: 61.6, Training Acc: 65.59\n",
      "Epoch: [1/10], Step: [2001/3125], Validation Acc: 63.3, Training Acc: 67.25\n",
      "Epoch: [1/10], Step: [2401/3125], Validation Acc: 64.6, Training Acc: 70.18\n",
      "Epoch: [1/10], Step: [2801/3125], Validation Acc: 63.8, Training Acc: 70.79\n",
      "Epoch: [2/10], Step: [401/3125], Validation Acc: 63.9, Training Acc: 74.25\n",
      "Epoch: [2/10], Step: [801/3125], Validation Acc: 64.5, Training Acc: 75.72\n",
      "Epoch: [2/10], Step: [1201/3125], Validation Acc: 66.9, Training Acc: 77.26\n",
      "Epoch: [2/10], Step: [1601/3125], Validation Acc: 65.3, Training Acc: 78.54\n",
      "Epoch: [2/10], Step: [2001/3125], Validation Acc: 65.7, Training Acc: 79.24\n",
      "Epoch: [2/10], Step: [2401/3125], Validation Acc: 67.3, Training Acc: 80.76\n",
      "Epoch: [2/10], Step: [2801/3125], Validation Acc: 68.9, Training Acc: 82.14\n",
      "Epoch: [3/10], Step: [401/3125], Validation Acc: 68.3, Training Acc: 84.14\n",
      "Epoch: [3/10], Step: [801/3125], Validation Acc: 68.4, Training Acc: 85.2\n",
      "Epoch: [3/10], Step: [1201/3125], Validation Acc: 67.3, Training Acc: 86.25\n",
      "Epoch: [3/10], Step: [1601/3125], Validation Acc: 66.7, Training Acc: 87.2\n",
      "Epoch: [3/10], Step: [2001/3125], Validation Acc: 67.2, Training Acc: 88.6\n",
      "Epoch: [3/10], Step: [2401/3125], Validation Acc: 67.3, Training Acc: 89.72\n",
      "Epoch: [3/10], Step: [2801/3125], Validation Acc: 68.1, Training Acc: 90.35\n",
      "Epoch: [4/10], Step: [401/3125], Validation Acc: 68.7, Training Acc: 91.92\n",
      "Epoch: [4/10], Step: [801/3125], Validation Acc: 67.2, Training Acc: 92.08\n",
      "Epoch: [4/10], Step: [1201/3125], Validation Acc: 67.5, Training Acc: 92.87\n",
      "Epoch: [4/10], Step: [1601/3125], Validation Acc: 67.1, Training Acc: 93.56\n",
      "Epoch: [4/10], Step: [2001/3125], Validation Acc: 67.5, Training Acc: 94.17\n",
      "Epoch: [4/10], Step: [2401/3125], Validation Acc: 67.7, Training Acc: 94.65\n",
      "Epoch: [4/10], Step: [2801/3125], Validation Acc: 67.2, Training Acc: 95.73\n",
      "Epoch: [5/10], Step: [401/3125], Validation Acc: 66.6, Training Acc: 96.21\n",
      "Epoch: [5/10], Step: [801/3125], Validation Acc: 66.4, Training Acc: 96.54\n",
      "Epoch: [5/10], Step: [1201/3125], Validation Acc: 66.6, Training Acc: 96.43\n",
      "Epoch: [5/10], Step: [1601/3125], Validation Acc: 65.9, Training Acc: 96.27\n",
      "Epoch: [5/10], Step: [2001/3125], Validation Acc: 67.8, Training Acc: 96.86\n",
      "Epoch: [5/10], Step: [2401/3125], Validation Acc: 66.3, Training Acc: 96.92\n",
      "Epoch: [5/10], Step: [2801/3125], Validation Acc: 66.2, Training Acc: 97.34\n",
      "Epoch: [6/10], Step: [401/3125], Validation Acc: 67.4, Training Acc: 97.86\n",
      "Epoch: [6/10], Step: [801/3125], Validation Acc: 67.2, Training Acc: 97.72\n",
      "Epoch: [6/10], Step: [1201/3125], Validation Acc: 66.5, Training Acc: 97.64\n",
      "Epoch: [6/10], Step: [1601/3125], Validation Acc: 67.5, Training Acc: 97.97\n",
      "Epoch: [6/10], Step: [2001/3125], Validation Acc: 66.3, Training Acc: 97.77\n",
      "Epoch: [6/10], Step: [2401/3125], Validation Acc: 66.4, Training Acc: 97.94\n",
      "Epoch: [6/10], Step: [2801/3125], Validation Acc: 67.0, Training Acc: 98.22\n",
      "Epoch: [7/10], Step: [401/3125], Validation Acc: 65.9, Training Acc: 98.58\n",
      "Epoch: [7/10], Step: [801/3125], Validation Acc: 67.0, Training Acc: 98.4\n",
      "Epoch: [7/10], Step: [1201/3125], Validation Acc: 66.5, Training Acc: 98.11\n",
      "Epoch: [7/10], Step: [1601/3125], Validation Acc: 65.4, Training Acc: 98.14\n",
      "Epoch: [7/10], Step: [2001/3125], Validation Acc: 66.0, Training Acc: 98.21\n",
      "Epoch: [7/10], Step: [2401/3125], Validation Acc: 66.6, Training Acc: 98.28\n",
      "Epoch: [7/10], Step: [2801/3125], Validation Acc: 66.5, Training Acc: 98.32\n",
      "Epoch: [8/10], Step: [401/3125], Validation Acc: 66.7, Training Acc: 98.85\n",
      "Epoch: [8/10], Step: [801/3125], Validation Acc: 67.9, Training Acc: 98.8\n",
      "Epoch: [8/10], Step: [1201/3125], Validation Acc: 67.6, Training Acc: 98.47\n",
      "Epoch: [8/10], Step: [1601/3125], Validation Acc: 66.5, Training Acc: 98.86\n",
      "Epoch: [8/10], Step: [2001/3125], Validation Acc: 65.5, Training Acc: 98.43\n",
      "Epoch: [8/10], Step: [2401/3125], Validation Acc: 66.0, Training Acc: 98.58\n",
      "Epoch: [8/10], Step: [2801/3125], Validation Acc: 66.9, Training Acc: 98.72\n",
      "Epoch: [9/10], Step: [401/3125], Validation Acc: 66.6, Training Acc: 98.97\n",
      "Epoch: [9/10], Step: [801/3125], Validation Acc: 65.4, Training Acc: 98.98\n",
      "Epoch: [9/10], Step: [1201/3125], Validation Acc: 68.0, Training Acc: 98.99\n",
      "Epoch: [9/10], Step: [1601/3125], Validation Acc: 65.5, Training Acc: 98.91\n",
      "Epoch: [9/10], Step: [2001/3125], Validation Acc: 67.3, Training Acc: 98.86\n",
      "Epoch: [9/10], Step: [2401/3125], Validation Acc: 64.9, Training Acc: 98.61\n",
      "Epoch: [9/10], Step: [2801/3125], Validation Acc: 66.2, Training Acc: 98.91\n",
      "Epoch: [10/10], Step: [401/3125], Validation Acc: 65.8, Training Acc: 99.06\n",
      "Epoch: [10/10], Step: [801/3125], Validation Acc: 66.3, Training Acc: 98.87\n",
      "Epoch: [10/10], Step: [1201/3125], Validation Acc: 65.6, Training Acc: 98.95\n",
      "Epoch: [10/10], Step: [1601/3125], Validation Acc: 65.7, Training Acc: 98.66\n",
      "Epoch: [10/10], Step: [2001/3125], Validation Acc: 64.9, Training Acc: 98.68\n",
      "Epoch: [10/10], Step: [2401/3125], Validation Acc: 66.5, Training Acc: 98.83\n",
      "Epoch: [10/10], Step: [2801/3125], Validation Acc: 64.3, Training Acc: 98.83\n"
     ]
    }
   ],
   "source": [
    "rnn_mul_trainacc = {}\n",
    "hidden_size = 300\n",
    "model = RNN_mul(hidden_size = hidden_size, num_layers=1, num_classes=3, pre_trained_emb = ft_emb)\n",
    "use_cuda = True\n",
    "if use_cuda and torch.cuda.is_available():\n",
    "  model.cuda()\n",
    "val_acc,train_acc = train_model(train_loader,model)\n",
    "torch.save(model.state_dict(), 'mul_RNN_hidden_size_{}.pkl'.format(hidden_size))\n",
    "rnn_mul_trainacc['hidden_size_{}'.format(hidden_size)] = (val_acc,train_acc)\n",
    "!cp 'mul_RNN_hidden_size_300.pkl' 'drive/My Drive/Colab Notebooks/mul_RNN_hidden_size_300.pkl'"
   ]
  },
  {
   "cell_type": "code",
   "execution_count": 30,
   "metadata": {
    "colab": {
     "base_uri": "https://localhost:8080/",
     "height": 1207
    },
    "colab_type": "code",
    "id": "SHUva3bcO1zu",
    "outputId": "a7f38f90-e3d8-4f6b-97c0-7fe1b0893f4d"
   },
   "outputs": [
    {
     "name": "stdout",
     "output_type": "stream",
     "text": [
      "Epoch: [1/10], Step: [401/3125], Validation Acc: 50.7, Training Loss: 1.0234849452972412\n",
      "Epoch: [1/10], Step: [801/3125], Validation Acc: 57.1, Training Loss: 0.9339804649353027\n",
      "Epoch: [1/10], Step: [1201/3125], Validation Acc: 59.1, Training Loss: 0.950441837310791\n",
      "Epoch: [1/10], Step: [1601/3125], Validation Acc: 63.1, Training Loss: 0.8755513429641724\n",
      "Epoch: [1/10], Step: [2001/3125], Validation Acc: 64.7, Training Loss: 0.8076320886611938\n",
      "Epoch: [1/10], Step: [2401/3125], Validation Acc: 62.8, Training Loss: 0.6440338492393494\n",
      "Epoch: [1/10], Step: [2801/3125], Validation Acc: 67.3, Training Loss: 0.6421260833740234\n",
      "Epoch: [2/10], Step: [401/3125], Validation Acc: 67.4, Training Loss: 0.6005825996398926\n",
      "Epoch: [2/10], Step: [801/3125], Validation Acc: 66.9, Training Loss: 0.7194742560386658\n",
      "Epoch: [2/10], Step: [1201/3125], Validation Acc: 67.8, Training Loss: 0.603550374507904\n",
      "Epoch: [2/10], Step: [1601/3125], Validation Acc: 66.3, Training Loss: 0.39446747303009033\n",
      "Epoch: [2/10], Step: [2001/3125], Validation Acc: 68.0, Training Loss: 1.0635002851486206\n",
      "Epoch: [2/10], Step: [2401/3125], Validation Acc: 68.6, Training Loss: 0.5244681239128113\n",
      "Epoch: [2/10], Step: [2801/3125], Validation Acc: 69.9, Training Loss: 0.7113959789276123\n",
      "Epoch: [3/10], Step: [401/3125], Validation Acc: 68.4, Training Loss: 0.41004395484924316\n",
      "Epoch: [3/10], Step: [801/3125], Validation Acc: 67.8, Training Loss: 0.656448483467102\n",
      "Epoch: [3/10], Step: [1201/3125], Validation Acc: 69.7, Training Loss: 0.4805130660533905\n",
      "Epoch: [3/10], Step: [1601/3125], Validation Acc: 70.0, Training Loss: 0.5321686267852783\n",
      "Epoch: [3/10], Step: [2001/3125], Validation Acc: 68.5, Training Loss: 0.58481764793396\n",
      "Epoch: [3/10], Step: [2401/3125], Validation Acc: 68.4, Training Loss: 0.4044570326805115\n",
      "Epoch: [3/10], Step: [2801/3125], Validation Acc: 69.3, Training Loss: 0.7167794108390808\n",
      "Epoch: [4/10], Step: [401/3125], Validation Acc: 69.8, Training Loss: 0.1349577158689499\n",
      "Epoch: [4/10], Step: [801/3125], Validation Acc: 67.7, Training Loss: 0.37498658895492554\n",
      "Epoch: [4/10], Step: [1201/3125], Validation Acc: 68.1, Training Loss: 0.40319299697875977\n",
      "Epoch: [4/10], Step: [1601/3125], Validation Acc: 67.2, Training Loss: 0.2377520054578781\n",
      "Epoch: [4/10], Step: [2001/3125], Validation Acc: 67.2, Training Loss: 0.13643065094947815\n",
      "Epoch: [4/10], Step: [2401/3125], Validation Acc: 67.9, Training Loss: 0.2556459903717041\n",
      "Epoch: [4/10], Step: [2801/3125], Validation Acc: 68.3, Training Loss: 0.3739026188850403\n",
      "Epoch: [5/10], Step: [401/3125], Validation Acc: 68.6, Training Loss: 0.12882710993289948\n",
      "Epoch: [5/10], Step: [801/3125], Validation Acc: 67.4, Training Loss: 0.0664302185177803\n",
      "Epoch: [5/10], Step: [1201/3125], Validation Acc: 68.8, Training Loss: 0.22756636142730713\n",
      "Epoch: [5/10], Step: [1601/3125], Validation Acc: 68.7, Training Loss: 0.09082946181297302\n",
      "Epoch: [5/10], Step: [2001/3125], Validation Acc: 68.6, Training Loss: 0.18522867560386658\n",
      "Epoch: [5/10], Step: [2401/3125], Validation Acc: 67.7, Training Loss: 0.24866072833538055\n",
      "Epoch: [5/10], Step: [2801/3125], Validation Acc: 67.9, Training Loss: 0.10885454714298248\n",
      "Epoch: [6/10], Step: [401/3125], Validation Acc: 65.3, Training Loss: 0.06932755559682846\n",
      "Epoch: [6/10], Step: [801/3125], Validation Acc: 66.6, Training Loss: 0.05831693485379219\n",
      "Epoch: [6/10], Step: [1201/3125], Validation Acc: 66.4, Training Loss: 0.06656614691019058\n",
      "Epoch: [6/10], Step: [1601/3125], Validation Acc: 68.6, Training Loss: 0.015749629586935043\n",
      "Epoch: [6/10], Step: [2001/3125], Validation Acc: 66.0, Training Loss: 0.11748406291007996\n",
      "Epoch: [6/10], Step: [2401/3125], Validation Acc: 65.0, Training Loss: 0.06089732050895691\n",
      "Epoch: [6/10], Step: [2801/3125], Validation Acc: 66.3, Training Loss: 0.05272633582353592\n",
      "Epoch: [7/10], Step: [401/3125], Validation Acc: 67.1, Training Loss: 0.02910153567790985\n",
      "Epoch: [7/10], Step: [801/3125], Validation Acc: 68.0, Training Loss: 0.2750488817691803\n",
      "Epoch: [7/10], Step: [1201/3125], Validation Acc: 67.1, Training Loss: 0.044303279370069504\n",
      "Epoch: [7/10], Step: [1601/3125], Validation Acc: 66.3, Training Loss: 0.13022682070732117\n",
      "Epoch: [7/10], Step: [2001/3125], Validation Acc: 65.9, Training Loss: 0.15877671539783478\n",
      "Epoch: [7/10], Step: [2401/3125], Validation Acc: 67.0, Training Loss: 0.07964683324098587\n",
      "Epoch: [7/10], Step: [2801/3125], Validation Acc: 66.5, Training Loss: 0.19048303365707397\n",
      "Epoch: [8/10], Step: [401/3125], Validation Acc: 67.3, Training Loss: 0.014426060020923615\n",
      "Epoch: [8/10], Step: [801/3125], Validation Acc: 68.3, Training Loss: 0.06391292810440063\n",
      "Epoch: [8/10], Step: [1201/3125], Validation Acc: 67.7, Training Loss: 0.05396512523293495\n",
      "Epoch: [8/10], Step: [1601/3125], Validation Acc: 67.7, Training Loss: 0.06765563786029816\n",
      "Epoch: [8/10], Step: [2001/3125], Validation Acc: 68.2, Training Loss: 0.17869868874549866\n",
      "Epoch: [8/10], Step: [2401/3125], Validation Acc: 67.5, Training Loss: 0.0715513825416565\n",
      "Epoch: [8/10], Step: [2801/3125], Validation Acc: 67.8, Training Loss: 0.04980127513408661\n",
      "Epoch: [9/10], Step: [401/3125], Validation Acc: 68.2, Training Loss: 0.020164132118225098\n",
      "Epoch: [9/10], Step: [801/3125], Validation Acc: 68.4, Training Loss: 0.012739889323711395\n",
      "Epoch: [9/10], Step: [1201/3125], Validation Acc: 68.5, Training Loss: 0.027098171412944794\n",
      "Epoch: [9/10], Step: [1601/3125], Validation Acc: 68.6, Training Loss: 0.01843828335404396\n",
      "Epoch: [9/10], Step: [2001/3125], Validation Acc: 67.8, Training Loss: 0.046491581946611404\n",
      "Epoch: [9/10], Step: [2401/3125], Validation Acc: 68.1, Training Loss: 0.020610123872756958\n",
      "Epoch: [9/10], Step: [2801/3125], Validation Acc: 68.0, Training Loss: 0.022321391850709915\n",
      "Epoch: [10/10], Step: [401/3125], Validation Acc: 68.0, Training Loss: 0.009295746684074402\n",
      "Epoch: [10/10], Step: [801/3125], Validation Acc: 66.4, Training Loss: 0.09518083184957504\n",
      "Epoch: [10/10], Step: [1201/3125], Validation Acc: 68.0, Training Loss: 0.05914376303553581\n",
      "Epoch: [10/10], Step: [1601/3125], Validation Acc: 67.9, Training Loss: 0.10619507730007172\n",
      "Epoch: [10/10], Step: [2001/3125], Validation Acc: 67.0, Training Loss: 0.09118328243494034\n",
      "Epoch: [10/10], Step: [2401/3125], Validation Acc: 68.0, Training Loss: 0.020380191504955292\n",
      "Epoch: [10/10], Step: [2801/3125], Validation Acc: 67.7, Training Loss: 0.014625739306211472\n"
     ]
    }
   ],
   "source": [
    "record_multiply_rnn = {}\n",
    "hidden_size = 300\n",
    "model_mul = RNN_mul(hidden_size = hidden_size, num_layers=1, num_classes=3, pre_trained_emb = ft_emb)\n",
    "use_cuda = True\n",
    "if use_cuda and torch.cuda.is_available():\n",
    "  model_mul.cuda()\n",
    "train_loss, val_acc = train_model(train_loader,model_mul)\n",
    "torch.save(model_mul.state_dict(), 'RNN_mul_hidden_size_{}.pkl'.format(hidden_size))\n",
    "record_multiply_rnn['hidden_size_{}'.format(hidden_size)] = (train_loss, val_acc)"
   ]
  },
  {
   "cell_type": "code",
   "execution_count": 34,
   "metadata": {
    "colab": {
     "base_uri": "https://localhost:8080/",
     "height": 34
    },
    "colab_type": "code",
    "id": "It51WpPVm4GX",
    "outputId": "b24c5a46-f146-430f-cddd-f0cd80eaf6c8"
   },
   "outputs": [
    {
     "data": {
      "text/plain": [
       "66.9"
      ]
     },
     "execution_count": 34,
     "metadata": {
      "tags": []
     },
     "output_type": "execute_result"
    }
   ],
   "source": [
    "# The validation accuracy of RNN model with multipliation encoded sentences when hidden size 300\n",
    "test_model(val_loader, model_mul)"
   ]
  },
  {
   "cell_type": "code",
   "execution_count": 0,
   "metadata": {
    "colab": {},
    "colab_type": "code",
    "collapsed": true,
    "id": "jybFteuXO1km"
   },
   "outputs": [],
   "source": [
    "g = open(\"rnn_mul_hidden_size300_record.pkl\",\"wb\")\n",
    "pkl.dump(record_multiply_rnn,g)\n",
    "g.close()"
   ]
  },
  {
   "cell_type": "code",
   "execution_count": 0,
   "metadata": {
    "colab": {},
    "colab_type": "code",
    "collapsed": true,
    "id": "LHw6HuYjViWT"
   },
   "outputs": [],
   "source": [
    "from google.colab import files\n",
    "files.download('rnn_mul_hidden_size300_record.pkl')"
   ]
  },
  {
   "cell_type": "code",
   "execution_count": 0,
   "metadata": {
    "colab": {},
    "colab_type": "code",
    "collapsed": true,
    "id": "9qQhQiY5V01R"
   },
   "outputs": [],
   "source": [
    "!cp 'RNN_mul_hidden_size_300.pkl' 'drive/My Drive/Colab Notebooks'"
   ]
  },
  {
   "cell_type": "code",
   "execution_count": 19,
   "metadata": {
    "colab": {
     "base_uri": "https://localhost:8080/",
     "height": 1207
    },
    "colab_type": "code",
    "id": "KN_idly2rzj2",
    "outputId": "6005831f-8835-4239-e15a-52f17c8445d9"
   },
   "outputs": [
    {
     "name": "stdout",
     "output_type": "stream",
     "text": [
      "Epoch: [1/10], Step: [401/3125], Validation Acc: 53.0, Training Acc: 51.86\n",
      "Epoch: [1/10], Step: [801/3125], Validation Acc: 56.3, Training Acc: 58.62\n",
      "Epoch: [1/10], Step: [1201/3125], Validation Acc: 61.9, Training Acc: 63.07\n",
      "Epoch: [1/10], Step: [1601/3125], Validation Acc: 61.6, Training Acc: 64.89\n",
      "Epoch: [1/10], Step: [2001/3125], Validation Acc: 63.0, Training Acc: 67.54\n",
      "Epoch: [1/10], Step: [2401/3125], Validation Acc: 67.0, Training Acc: 69.63\n",
      "Epoch: [1/10], Step: [2801/3125], Validation Acc: 66.4, Training Acc: 70.55\n",
      "Epoch: [2/10], Step: [401/3125], Validation Acc: 68.2, Training Acc: 74.14\n",
      "Epoch: [2/10], Step: [801/3125], Validation Acc: 67.1, Training Acc: 75.22\n",
      "Epoch: [2/10], Step: [1201/3125], Validation Acc: 67.7, Training Acc: 76.43\n",
      "Epoch: [2/10], Step: [1601/3125], Validation Acc: 66.5, Training Acc: 78.43\n",
      "Epoch: [2/10], Step: [2001/3125], Validation Acc: 68.5, Training Acc: 79.79\n",
      "Epoch: [2/10], Step: [2401/3125], Validation Acc: 70.1, Training Acc: 81.55\n",
      "Epoch: [2/10], Step: [2801/3125], Validation Acc: 70.8, Training Acc: 83.11\n",
      "Epoch: [3/10], Step: [401/3125], Validation Acc: 68.9, Training Acc: 84.87\n",
      "Epoch: [3/10], Step: [801/3125], Validation Acc: 69.0, Training Acc: 85.9\n",
      "Epoch: [3/10], Step: [1201/3125], Validation Acc: 69.4, Training Acc: 87.32\n",
      "Epoch: [3/10], Step: [1601/3125], Validation Acc: 66.6, Training Acc: 88.62\n",
      "Epoch: [3/10], Step: [2001/3125], Validation Acc: 69.2, Training Acc: 89.01\n",
      "Epoch: [3/10], Step: [2401/3125], Validation Acc: 66.3, Training Acc: 90.49\n",
      "Epoch: [3/10], Step: [2801/3125], Validation Acc: 68.5, Training Acc: 91.55\n",
      "Epoch: [4/10], Step: [401/3125], Validation Acc: 66.9, Training Acc: 93.42\n",
      "Epoch: [4/10], Step: [801/3125], Validation Acc: 68.5, Training Acc: 93.66\n",
      "Epoch: [4/10], Step: [1201/3125], Validation Acc: 66.7, Training Acc: 93.4\n",
      "Epoch: [4/10], Step: [1601/3125], Validation Acc: 67.5, Training Acc: 94.01\n",
      "Epoch: [4/10], Step: [2001/3125], Validation Acc: 66.4, Training Acc: 95.33\n",
      "Epoch: [4/10], Step: [2401/3125], Validation Acc: 68.9, Training Acc: 95.62\n",
      "Epoch: [4/10], Step: [2801/3125], Validation Acc: 68.5, Training Acc: 96.21\n",
      "Epoch: [5/10], Step: [401/3125], Validation Acc: 67.2, Training Acc: 97.01\n",
      "Epoch: [5/10], Step: [801/3125], Validation Acc: 68.6, Training Acc: 97.04\n",
      "Epoch: [5/10], Step: [1201/3125], Validation Acc: 68.0, Training Acc: 97.07\n",
      "Epoch: [5/10], Step: [1601/3125], Validation Acc: 68.1, Training Acc: 97.41\n",
      "Epoch: [5/10], Step: [2001/3125], Validation Acc: 65.7, Training Acc: 97.64\n",
      "Epoch: [5/10], Step: [2401/3125], Validation Acc: 67.9, Training Acc: 97.23\n",
      "Epoch: [5/10], Step: [2801/3125], Validation Acc: 65.6, Training Acc: 98.06\n",
      "Epoch: [6/10], Step: [401/3125], Validation Acc: 63.3, Training Acc: 97.92\n",
      "Epoch: [6/10], Step: [801/3125], Validation Acc: 65.7, Training Acc: 98.36\n",
      "Epoch: [6/10], Step: [1201/3125], Validation Acc: 66.0, Training Acc: 98.3\n",
      "Epoch: [6/10], Step: [1601/3125], Validation Acc: 65.6, Training Acc: 97.81\n",
      "Epoch: [6/10], Step: [2001/3125], Validation Acc: 65.5, Training Acc: 98.07\n",
      "Epoch: [6/10], Step: [2401/3125], Validation Acc: 67.2, Training Acc: 97.94\n",
      "Epoch: [6/10], Step: [2801/3125], Validation Acc: 65.7, Training Acc: 97.86\n",
      "Epoch: [7/10], Step: [401/3125], Validation Acc: 67.3, Training Acc: 98.48\n",
      "Epoch: [7/10], Step: [801/3125], Validation Acc: 65.9, Training Acc: 98.54\n",
      "Epoch: [7/10], Step: [1201/3125], Validation Acc: 65.6, Training Acc: 98.27\n",
      "Epoch: [7/10], Step: [1601/3125], Validation Acc: 67.0, Training Acc: 98.37\n",
      "Epoch: [7/10], Step: [2001/3125], Validation Acc: 66.6, Training Acc: 98.44\n",
      "Epoch: [7/10], Step: [2401/3125], Validation Acc: 67.2, Training Acc: 98.47\n",
      "Epoch: [7/10], Step: [2801/3125], Validation Acc: 66.5, Training Acc: 98.67\n",
      "Epoch: [8/10], Step: [401/3125], Validation Acc: 68.0, Training Acc: 98.81\n",
      "Epoch: [8/10], Step: [801/3125], Validation Acc: 66.6, Training Acc: 98.91\n",
      "Epoch: [8/10], Step: [1201/3125], Validation Acc: 68.0, Training Acc: 98.86\n",
      "Epoch: [8/10], Step: [1601/3125], Validation Acc: 66.8, Training Acc: 98.78\n",
      "Epoch: [8/10], Step: [2001/3125], Validation Acc: 68.3, Training Acc: 98.64\n",
      "Epoch: [8/10], Step: [2401/3125], Validation Acc: 67.4, Training Acc: 98.71\n",
      "Epoch: [8/10], Step: [2801/3125], Validation Acc: 67.7, Training Acc: 98.8\n",
      "Epoch: [9/10], Step: [401/3125], Validation Acc: 66.9, Training Acc: 99.08\n",
      "Epoch: [9/10], Step: [801/3125], Validation Acc: 65.1, Training Acc: 99.09\n",
      "Epoch: [9/10], Step: [1201/3125], Validation Acc: 67.9, Training Acc: 98.95\n",
      "Epoch: [9/10], Step: [1601/3125], Validation Acc: 66.8, Training Acc: 98.83\n",
      "Epoch: [9/10], Step: [2001/3125], Validation Acc: 66.7, Training Acc: 98.83\n",
      "Epoch: [9/10], Step: [2401/3125], Validation Acc: 67.0, Training Acc: 98.78\n",
      "Epoch: [9/10], Step: [2801/3125], Validation Acc: 67.1, Training Acc: 98.92\n",
      "Epoch: [10/10], Step: [401/3125], Validation Acc: 65.7, Training Acc: 99.24\n",
      "Epoch: [10/10], Step: [801/3125], Validation Acc: 67.0, Training Acc: 99.13\n",
      "Epoch: [10/10], Step: [1201/3125], Validation Acc: 65.9, Training Acc: 98.88\n",
      "Epoch: [10/10], Step: [1601/3125], Validation Acc: 66.1, Training Acc: 98.88\n",
      "Epoch: [10/10], Step: [2001/3125], Validation Acc: 65.9, Training Acc: 98.94\n",
      "Epoch: [10/10], Step: [2401/3125], Validation Acc: 66.3, Training Acc: 98.86\n",
      "Epoch: [10/10], Step: [2801/3125], Validation Acc: 67.5, Training Acc: 99.11\n"
     ]
    }
   ],
   "source": [
    "rnn_mul_trainacc = {}\n",
    "hidden_size = 400\n",
    "model = RNN_mul(hidden_size = hidden_size, num_layers=1, num_classes=3, pre_trained_emb = ft_emb)\n",
    "use_cuda = True\n",
    "if use_cuda and torch.cuda.is_available():\n",
    "  model.cuda()\n",
    "val_acc,train_acc = train_model(train_loader,model)\n",
    "torch.save(model.state_dict(), 'mul_RNN_hidden_size_{}.pkl'.format(hidden_size))\n",
    "rnn_mul_trainacc['hidden_size_{}'.format(hidden_size)] = (val_acc,train_acc)\n",
    "!cp 'mul_RNN_hidden_size_400.pkl' 'drive/My Drive/Colab Notebooks/mul_RNN_hidden_size_400.pkl'"
   ]
  },
  {
   "cell_type": "code",
   "execution_count": 0,
   "metadata": {
    "colab": {},
    "colab_type": "code",
    "collapsed": true,
    "id": "w51dq4rx-XRD"
   },
   "outputs": [],
   "source": [
    "import pickle\n",
    "f = open(\"rnn_mul_hidden_new1.pkl\",\"wb\")\n",
    "pickle.dump(rnn_mul_trainacc,f)\n",
    "f.close()"
   ]
  },
  {
   "cell_type": "code",
   "execution_count": 0,
   "metadata": {
    "colab": {},
    "colab_type": "code",
    "collapsed": true,
    "id": "LsS_Z3hC-o29"
   },
   "outputs": [],
   "source": [
    "from google.colab import files\n",
    "files.download('rnn_mul_hidden_new1.pkl')"
   ]
  },
  {
   "cell_type": "code",
   "execution_count": 63,
   "metadata": {
    "colab": {
     "base_uri": "https://localhost:8080/",
     "height": 34
    },
    "colab_type": "code",
    "id": "tuL9Dfz_-u3z",
    "outputId": "3b6274e8-0c95-4081-830f-b77a24860768"
   },
   "outputs": [
    {
     "data": {
      "text/plain": [
       "dict_keys(['hidden_size_300'])"
      ]
     },
     "execution_count": 63,
     "metadata": {
      "tags": []
     },
     "output_type": "execute_result"
    }
   ],
   "source": [
    "rnn_mul_trainacc.keys()"
   ]
  },
  {
   "cell_type": "code",
   "execution_count": 35,
   "metadata": {
    "colab": {
     "base_uri": "https://localhost:8080/",
     "height": 1207
    },
    "colab_type": "code",
    "id": "LYSB14nPnR4z",
    "outputId": "7b4a3c5c-1b2a-4df4-9d68-e41fb3281526"
   },
   "outputs": [
    {
     "name": "stdout",
     "output_type": "stream",
     "text": [
      "Epoch: [1/10], Step: [401/3125], Validation Acc: 53.1, Training Loss: 1.0472723245620728\n",
      "Epoch: [1/10], Step: [801/3125], Validation Acc: 54.8, Training Loss: 0.9839993119239807\n",
      "Epoch: [1/10], Step: [1201/3125], Validation Acc: 57.0, Training Loss: 0.8641213178634644\n",
      "Epoch: [1/10], Step: [1601/3125], Validation Acc: 62.6, Training Loss: 0.8164116740226746\n",
      "Epoch: [1/10], Step: [2001/3125], Validation Acc: 63.7, Training Loss: 0.7026777863502502\n",
      "Epoch: [1/10], Step: [2401/3125], Validation Acc: 64.1, Training Loss: 0.697812020778656\n",
      "Epoch: [1/10], Step: [2801/3125], Validation Acc: 65.7, Training Loss: 0.8754838109016418\n",
      "Epoch: [2/10], Step: [401/3125], Validation Acc: 67.4, Training Loss: 0.8912612199783325\n",
      "Epoch: [2/10], Step: [801/3125], Validation Acc: 68.6, Training Loss: 0.7119446992874146\n",
      "Epoch: [2/10], Step: [1201/3125], Validation Acc: 69.4, Training Loss: 0.4001390337944031\n",
      "Epoch: [2/10], Step: [1601/3125], Validation Acc: 69.7, Training Loss: 0.7165548801422119\n",
      "Epoch: [2/10], Step: [2001/3125], Validation Acc: 69.8, Training Loss: 0.6104667782783508\n",
      "Epoch: [2/10], Step: [2401/3125], Validation Acc: 69.1, Training Loss: 0.5888619422912598\n",
      "Epoch: [2/10], Step: [2801/3125], Validation Acc: 70.6, Training Loss: 0.6032848358154297\n",
      "Epoch: [3/10], Step: [401/3125], Validation Acc: 69.5, Training Loss: 0.4643975496292114\n",
      "Epoch: [3/10], Step: [801/3125], Validation Acc: 69.5, Training Loss: 0.484893798828125\n",
      "Epoch: [3/10], Step: [1201/3125], Validation Acc: 69.0, Training Loss: 0.32010042667388916\n",
      "Epoch: [3/10], Step: [1601/3125], Validation Acc: 68.7, Training Loss: 0.5476841926574707\n",
      "Epoch: [3/10], Step: [2001/3125], Validation Acc: 69.4, Training Loss: 0.5798571705818176\n",
      "Epoch: [3/10], Step: [2401/3125], Validation Acc: 70.7, Training Loss: 0.23353926837444305\n",
      "Epoch: [3/10], Step: [2801/3125], Validation Acc: 71.4, Training Loss: 0.487741619348526\n",
      "Epoch: [4/10], Step: [401/3125], Validation Acc: 69.1, Training Loss: 0.20710283517837524\n",
      "Epoch: [4/10], Step: [801/3125], Validation Acc: 69.5, Training Loss: 0.16845832765102386\n",
      "Epoch: [4/10], Step: [1201/3125], Validation Acc: 69.8, Training Loss: 0.2907920479774475\n",
      "Epoch: [4/10], Step: [1601/3125], Validation Acc: 69.4, Training Loss: 0.19899538159370422\n",
      "Epoch: [4/10], Step: [2001/3125], Validation Acc: 69.7, Training Loss: 0.23250216245651245\n",
      "Epoch: [4/10], Step: [2401/3125], Validation Acc: 68.9, Training Loss: 0.2566640377044678\n",
      "Epoch: [4/10], Step: [2801/3125], Validation Acc: 69.9, Training Loss: 0.11835132539272308\n",
      "Epoch: [5/10], Step: [401/3125], Validation Acc: 69.5, Training Loss: 0.18163909018039703\n",
      "Epoch: [5/10], Step: [801/3125], Validation Acc: 68.4, Training Loss: 0.026676863431930542\n",
      "Epoch: [5/10], Step: [1201/3125], Validation Acc: 68.9, Training Loss: 0.013276159763336182\n",
      "Epoch: [5/10], Step: [1601/3125], Validation Acc: 69.0, Training Loss: 0.12928128242492676\n",
      "Epoch: [5/10], Step: [2001/3125], Validation Acc: 68.7, Training Loss: 0.06315670907497406\n",
      "Epoch: [5/10], Step: [2401/3125], Validation Acc: 68.7, Training Loss: 0.1722181886434555\n",
      "Epoch: [5/10], Step: [2801/3125], Validation Acc: 68.7, Training Loss: 0.08344966173171997\n",
      "Epoch: [6/10], Step: [401/3125], Validation Acc: 68.7, Training Loss: 0.17519983649253845\n",
      "Epoch: [6/10], Step: [801/3125], Validation Acc: 68.2, Training Loss: 0.015092551708221436\n",
      "Epoch: [6/10], Step: [1201/3125], Validation Acc: 69.6, Training Loss: 0.007928043603897095\n",
      "Epoch: [6/10], Step: [1601/3125], Validation Acc: 68.6, Training Loss: 0.232269287109375\n",
      "Epoch: [6/10], Step: [2001/3125], Validation Acc: 69.7, Training Loss: 0.034187376499176025\n",
      "Epoch: [6/10], Step: [2401/3125], Validation Acc: 69.6, Training Loss: 0.06194917857646942\n",
      "Epoch: [6/10], Step: [2801/3125], Validation Acc: 68.6, Training Loss: 0.24815361201763153\n",
      "Epoch: [7/10], Step: [401/3125], Validation Acc: 67.1, Training Loss: 0.019730783998966217\n",
      "Epoch: [7/10], Step: [801/3125], Validation Acc: 67.5, Training Loss: 0.01674068719148636\n",
      "Epoch: [7/10], Step: [1201/3125], Validation Acc: 68.2, Training Loss: 0.012569170445203781\n",
      "Epoch: [7/10], Step: [1601/3125], Validation Acc: 67.3, Training Loss: 0.010101862251758575\n",
      "Epoch: [7/10], Step: [2001/3125], Validation Acc: 68.0, Training Loss: 0.022771380841732025\n",
      "Epoch: [7/10], Step: [2401/3125], Validation Acc: 68.3, Training Loss: 0.050010938197374344\n",
      "Epoch: [7/10], Step: [2801/3125], Validation Acc: 66.8, Training Loss: 0.02486143633723259\n",
      "Epoch: [8/10], Step: [401/3125], Validation Acc: 68.9, Training Loss: 0.004871249198913574\n",
      "Epoch: [8/10], Step: [801/3125], Validation Acc: 68.5, Training Loss: 0.18167372047901154\n",
      "Epoch: [8/10], Step: [1201/3125], Validation Acc: 67.4, Training Loss: 0.5823332071304321\n",
      "Epoch: [8/10], Step: [1601/3125], Validation Acc: 69.5, Training Loss: 0.01310720294713974\n",
      "Epoch: [8/10], Step: [2001/3125], Validation Acc: 68.3, Training Loss: 0.09656623005867004\n",
      "Epoch: [8/10], Step: [2401/3125], Validation Acc: 67.4, Training Loss: 0.1326017528772354\n",
      "Epoch: [8/10], Step: [2801/3125], Validation Acc: 68.3, Training Loss: 0.1445036232471466\n",
      "Epoch: [9/10], Step: [401/3125], Validation Acc: 67.3, Training Loss: 0.036911312490701675\n",
      "Epoch: [9/10], Step: [801/3125], Validation Acc: 67.7, Training Loss: 0.011524535715579987\n",
      "Epoch: [9/10], Step: [1201/3125], Validation Acc: 67.6, Training Loss: 0.32364505529403687\n",
      "Epoch: [9/10], Step: [1601/3125], Validation Acc: 67.5, Training Loss: 0.01889018341898918\n",
      "Epoch: [9/10], Step: [2001/3125], Validation Acc: 67.9, Training Loss: 0.013217862695455551\n",
      "Epoch: [9/10], Step: [2401/3125], Validation Acc: 67.5, Training Loss: 0.005591817200183868\n",
      "Epoch: [9/10], Step: [2801/3125], Validation Acc: 69.5, Training Loss: 0.016385190188884735\n",
      "Epoch: [10/10], Step: [401/3125], Validation Acc: 68.6, Training Loss: 0.012540452182292938\n",
      "Epoch: [10/10], Step: [801/3125], Validation Acc: 67.2, Training Loss: 0.008795443922281265\n",
      "Epoch: [10/10], Step: [1201/3125], Validation Acc: 67.5, Training Loss: 0.040174201130867004\n",
      "Epoch: [10/10], Step: [1601/3125], Validation Acc: 66.4, Training Loss: 0.0006014928221702576\n",
      "Epoch: [10/10], Step: [2001/3125], Validation Acc: 69.3, Training Loss: 0.03786871209740639\n",
      "Epoch: [10/10], Step: [2401/3125], Validation Acc: 67.2, Training Loss: 0.01737314462661743\n",
      "Epoch: [10/10], Step: [2801/3125], Validation Acc: 68.9, Training Loss: 0.02881721407175064\n"
     ]
    }
   ],
   "source": [
    "hidden_size = 400\n",
    "model_mul = RNN_mul(hidden_size = hidden_size, num_layers=1, num_classes=3, pre_trained_emb = ft_emb)\n",
    "use_cuda = True\n",
    "if use_cuda and torch.cuda.is_available():\n",
    "  model_mul.cuda()\n",
    "train_loss, val_acc = train_model(train_loader,model_mul)\n",
    "torch.save(model_mul.state_dict(), 'RNN_mul_hidden_size_{}.pkl'.format(hidden_size))\n",
    "record_multiply_rnn['hidden_size_{}'.format(hidden_size)] = (train_loss, val_acc)"
   ]
  },
  {
   "cell_type": "code",
   "execution_count": 39,
   "metadata": {
    "colab": {
     "base_uri": "https://localhost:8080/",
     "height": 34
    },
    "colab_type": "code",
    "id": "scfKpnI60gqT",
    "outputId": "fcf2998a-750f-47c0-929c-a2c14171c437"
   },
   "outputs": [
    {
     "data": {
      "text/plain": [
       "68.1"
      ]
     },
     "execution_count": 39,
     "metadata": {
      "tags": []
     },
     "output_type": "execute_result"
    }
   ],
   "source": [
    "#val acc of hiddensize 400 with multiplication concat\n",
    "test_model(val_loader, model_mul)"
   ]
  },
  {
   "cell_type": "code",
   "execution_count": 0,
   "metadata": {
    "colab": {},
    "colab_type": "code",
    "collapsed": true,
    "id": "3DVr_Gj2tfH4"
   },
   "outputs": [],
   "source": [
    "g = open(\"rnn_mul_record2.pkl\",\"wb\")\n",
    "pkl.dump(record_multiply_rnn,g)\n",
    "g.close()\n",
    "from google.colab import files\n",
    "files.download('rnn_mul_record2.pkl')"
   ]
  },
  {
   "cell_type": "code",
   "execution_count": 0,
   "metadata": {
    "colab": {},
    "colab_type": "code",
    "collapsed": true,
    "id": "f_bMyEdrtvPQ"
   },
   "outputs": [],
   "source": [
    "!cp 'RNN_mul_hidden_size_400.pkl' 'drive/My Drive/Colab Notebooks'"
   ]
  },
  {
   "cell_type": "code",
   "execution_count": 24,
   "metadata": {
    "colab": {
     "base_uri": "https://localhost:8080/",
     "height": 1207
    },
    "colab_type": "code",
    "id": "w2ZRDdf6_F_-",
    "outputId": "6c39543b-8e93-48d1-ad4a-2bac8ff8f286"
   },
   "outputs": [
    {
     "name": "stdout",
     "output_type": "stream",
     "text": [
      "Epoch: [1/10], Step: [401/3125], Validation Acc: 50.4, Training Acc: 49.4\n",
      "Epoch: [1/10], Step: [801/3125], Validation Acc: 56.7, Training Acc: 57.46\n",
      "Epoch: [1/10], Step: [1201/3125], Validation Acc: 57.9, Training Acc: 60.49\n",
      "Epoch: [1/10], Step: [1601/3125], Validation Acc: 61.7, Training Acc: 63.97\n",
      "Epoch: [1/10], Step: [2001/3125], Validation Acc: 62.6, Training Acc: 66.23\n",
      "Epoch: [1/10], Step: [2401/3125], Validation Acc: 61.7, Training Acc: 66.92\n",
      "Epoch: [1/10], Step: [2801/3125], Validation Acc: 65.4, Training Acc: 69.13\n",
      "Epoch: [2/10], Step: [401/3125], Validation Acc: 64.5, Training Acc: 72.41\n",
      "Epoch: [2/10], Step: [801/3125], Validation Acc: 65.4, Training Acc: 73.62\n",
      "Epoch: [2/10], Step: [1201/3125], Validation Acc: 67.4, Training Acc: 74.59\n",
      "Epoch: [2/10], Step: [1601/3125], Validation Acc: 64.7, Training Acc: 76.63\n",
      "Epoch: [2/10], Step: [2001/3125], Validation Acc: 67.8, Training Acc: 78.02\n",
      "Epoch: [2/10], Step: [2401/3125], Validation Acc: 67.6, Training Acc: 78.73\n",
      "Epoch: [2/10], Step: [2801/3125], Validation Acc: 68.1, Training Acc: 79.15\n",
      "Epoch: [3/10], Step: [401/3125], Validation Acc: 65.9, Training Acc: 81.07\n",
      "Epoch: [3/10], Step: [801/3125], Validation Acc: 65.4, Training Acc: 81.85\n",
      "Epoch: [3/10], Step: [1201/3125], Validation Acc: 68.7, Training Acc: 84.35\n",
      "Epoch: [3/10], Step: [1601/3125], Validation Acc: 67.7, Training Acc: 84.55\n",
      "Epoch: [3/10], Step: [2001/3125], Validation Acc: 67.8, Training Acc: 86.41\n",
      "Epoch: [3/10], Step: [2401/3125], Validation Acc: 68.8, Training Acc: 87.25\n",
      "Epoch: [3/10], Step: [2801/3125], Validation Acc: 68.7, Training Acc: 87.46\n",
      "Epoch: [4/10], Step: [401/3125], Validation Acc: 67.1, Training Acc: 89.09\n",
      "Epoch: [4/10], Step: [801/3125], Validation Acc: 66.1, Training Acc: 90.15\n",
      "Epoch: [4/10], Step: [1201/3125], Validation Acc: 67.0, Training Acc: 90.61\n",
      "Epoch: [4/10], Step: [1601/3125], Validation Acc: 67.3, Training Acc: 91.31\n",
      "Epoch: [4/10], Step: [2001/3125], Validation Acc: 67.7, Training Acc: 91.83\n",
      "Epoch: [4/10], Step: [2401/3125], Validation Acc: 68.1, Training Acc: 92.88\n",
      "Epoch: [4/10], Step: [2801/3125], Validation Acc: 68.6, Training Acc: 93.67\n",
      "Epoch: [5/10], Step: [401/3125], Validation Acc: 68.0, Training Acc: 94.67\n",
      "Epoch: [5/10], Step: [801/3125], Validation Acc: 66.6, Training Acc: 94.47\n",
      "Epoch: [5/10], Step: [1201/3125], Validation Acc: 67.7, Training Acc: 94.81\n",
      "Epoch: [5/10], Step: [1601/3125], Validation Acc: 66.0, Training Acc: 95.01\n",
      "Epoch: [5/10], Step: [2001/3125], Validation Acc: 66.2, Training Acc: 95.31\n",
      "Epoch: [5/10], Step: [2401/3125], Validation Acc: 67.1, Training Acc: 95.6\n",
      "Epoch: [5/10], Step: [2801/3125], Validation Acc: 66.3, Training Acc: 96.98\n",
      "Epoch: [6/10], Step: [401/3125], Validation Acc: 66.5, Training Acc: 97.2\n",
      "Epoch: [6/10], Step: [801/3125], Validation Acc: 67.4, Training Acc: 97.29\n",
      "Epoch: [6/10], Step: [1201/3125], Validation Acc: 67.8, Training Acc: 97.03\n",
      "Epoch: [6/10], Step: [1601/3125], Validation Acc: 67.3, Training Acc: 97.42\n",
      "Epoch: [6/10], Step: [2001/3125], Validation Acc: 67.2, Training Acc: 97.07\n",
      "Epoch: [6/10], Step: [2401/3125], Validation Acc: 65.9, Training Acc: 97.22\n",
      "Epoch: [6/10], Step: [2801/3125], Validation Acc: 66.0, Training Acc: 97.62\n",
      "Epoch: [7/10], Step: [401/3125], Validation Acc: 66.3, Training Acc: 98.14\n",
      "Epoch: [7/10], Step: [801/3125], Validation Acc: 65.0, Training Acc: 97.88\n",
      "Epoch: [7/10], Step: [1201/3125], Validation Acc: 66.9, Training Acc: 97.93\n",
      "Epoch: [7/10], Step: [1601/3125], Validation Acc: 67.9, Training Acc: 98.0\n",
      "Epoch: [7/10], Step: [2001/3125], Validation Acc: 67.3, Training Acc: 98.1\n",
      "Epoch: [7/10], Step: [2401/3125], Validation Acc: 68.2, Training Acc: 98.02\n",
      "Epoch: [7/10], Step: [2801/3125], Validation Acc: 67.1, Training Acc: 98.2\n",
      "Epoch: [8/10], Step: [401/3125], Validation Acc: 66.6, Training Acc: 98.93\n",
      "Epoch: [8/10], Step: [801/3125], Validation Acc: 66.2, Training Acc: 98.6\n",
      "Epoch: [8/10], Step: [1201/3125], Validation Acc: 64.5, Training Acc: 98.54\n",
      "Epoch: [8/10], Step: [1601/3125], Validation Acc: 66.7, Training Acc: 98.48\n",
      "Epoch: [8/10], Step: [2001/3125], Validation Acc: 66.9, Training Acc: 98.39\n",
      "Epoch: [8/10], Step: [2401/3125], Validation Acc: 66.5, Training Acc: 98.31\n",
      "Epoch: [8/10], Step: [2801/3125], Validation Acc: 65.3, Training Acc: 98.63\n",
      "Epoch: [9/10], Step: [401/3125], Validation Acc: 66.8, Training Acc: 98.95\n",
      "Epoch: [9/10], Step: [801/3125], Validation Acc: 66.1, Training Acc: 98.6\n",
      "Epoch: [9/10], Step: [1201/3125], Validation Acc: 65.7, Training Acc: 98.62\n",
      "Epoch: [9/10], Step: [1601/3125], Validation Acc: 66.2, Training Acc: 98.31\n",
      "Epoch: [9/10], Step: [2001/3125], Validation Acc: 66.5, Training Acc: 98.63\n",
      "Epoch: [9/10], Step: [2401/3125], Validation Acc: 65.7, Training Acc: 98.61\n",
      "Epoch: [9/10], Step: [2801/3125], Validation Acc: 66.9, Training Acc: 98.56\n",
      "Epoch: [10/10], Step: [401/3125], Validation Acc: 65.9, Training Acc: 99.2\n",
      "Epoch: [10/10], Step: [801/3125], Validation Acc: 66.0, Training Acc: 98.86\n",
      "Epoch: [10/10], Step: [1201/3125], Validation Acc: 66.7, Training Acc: 98.95\n",
      "Epoch: [10/10], Step: [1601/3125], Validation Acc: 65.5, Training Acc: 98.87\n",
      "Epoch: [10/10], Step: [2001/3125], Validation Acc: 66.1, Training Acc: 98.68\n",
      "Epoch: [10/10], Step: [2401/3125], Validation Acc: 66.0, Training Acc: 98.87\n",
      "Epoch: [10/10], Step: [2801/3125], Validation Acc: 66.6, Training Acc: 98.8\n"
     ]
    }
   ],
   "source": [
    "hidden_size = 200\n",
    "model = RNN_mul(hidden_size = hidden_size, num_layers=1, num_classes=3, pre_trained_emb = ft_emb)\n",
    "use_cuda = True\n",
    "if use_cuda and torch.cuda.is_available():\n",
    "  model.cuda()\n",
    "val_acc,train_acc = train_model(train_loader,model)\n",
    "torch.save(model.state_dict(), 'mul_RNN_hidden_size_{}.pkl'.format(hidden_size))\n",
    "rnn_mul_trainacc['hidden_size_{}'.format(hidden_size)] = (val_acc,train_acc)\n",
    "!cp 'mul_RNN_hidden_size_200.pkl' 'drive/My Drive/Colab Notebooks/mul_RNN_hidden_size_200.pkl'\n"
   ]
  },
  {
   "cell_type": "code",
   "execution_count": 0,
   "metadata": {
    "colab": {},
    "colab_type": "code",
    "collapsed": true,
    "id": "eYRZt6Fm_SXi"
   },
   "outputs": [],
   "source": [
    "import pickle\n",
    "f = open(\"rnn_mul_hidden_new2.pkl\",\"wb\")\n",
    "pickle.dump(rnn_mul_trainacc,f)\n",
    "f.close()"
   ]
  },
  {
   "cell_type": "code",
   "execution_count": 0,
   "metadata": {
    "colab": {},
    "colab_type": "code",
    "collapsed": true,
    "id": "S4xREttf_U0z"
   },
   "outputs": [],
   "source": [
    "files.download('rnn_mul_hidden_new2.pkl')"
   ]
  },
  {
   "cell_type": "code",
   "execution_count": 42,
   "metadata": {
    "colab": {
     "base_uri": "https://localhost:8080/",
     "height": 1207
    },
    "colab_type": "code",
    "id": "tDcQtIww5Xcm",
    "outputId": "954a79bf-7529-467c-bace-e1a39709732a"
   },
   "outputs": [
    {
     "name": "stdout",
     "output_type": "stream",
     "text": [
      "Epoch: [1/10], Step: [401/3125], Validation Acc: 46.2, Training Loss: 1.0637015104293823\n",
      "Epoch: [1/10], Step: [801/3125], Validation Acc: 53.4, Training Loss: 1.0498462915420532\n",
      "Epoch: [1/10], Step: [1201/3125], Validation Acc: 57.6, Training Loss: 0.8259854912757874\n",
      "Epoch: [1/10], Step: [1601/3125], Validation Acc: 62.2, Training Loss: 0.9250548481941223\n",
      "Epoch: [1/10], Step: [2001/3125], Validation Acc: 61.1, Training Loss: 0.8727205395698547\n",
      "Epoch: [1/10], Step: [2401/3125], Validation Acc: 63.6, Training Loss: 0.77269446849823\n",
      "Epoch: [1/10], Step: [2801/3125], Validation Acc: 63.6, Training Loss: 0.9557252526283264\n",
      "Epoch: [2/10], Step: [401/3125], Validation Acc: 66.1, Training Loss: 0.6130464673042297\n",
      "Epoch: [2/10], Step: [801/3125], Validation Acc: 66.3, Training Loss: 0.6182383894920349\n",
      "Epoch: [2/10], Step: [1201/3125], Validation Acc: 67.9, Training Loss: 0.798732578754425\n",
      "Epoch: [2/10], Step: [1601/3125], Validation Acc: 66.7, Training Loss: 0.6599235534667969\n",
      "Epoch: [2/10], Step: [2001/3125], Validation Acc: 66.7, Training Loss: 0.6402644515037537\n",
      "Epoch: [2/10], Step: [2401/3125], Validation Acc: 69.2, Training Loss: 0.6134650707244873\n",
      "Epoch: [2/10], Step: [2801/3125], Validation Acc: 69.2, Training Loss: 0.6594870090484619\n",
      "Epoch: [3/10], Step: [401/3125], Validation Acc: 68.3, Training Loss: 0.3621896505355835\n",
      "Epoch: [3/10], Step: [801/3125], Validation Acc: 67.9, Training Loss: 0.36255109310150146\n",
      "Epoch: [3/10], Step: [1201/3125], Validation Acc: 67.2, Training Loss: 0.4786987900733948\n",
      "Epoch: [3/10], Step: [1601/3125], Validation Acc: 68.8, Training Loss: 0.4486478567123413\n",
      "Epoch: [3/10], Step: [2001/3125], Validation Acc: 69.4, Training Loss: 0.5191536545753479\n",
      "Epoch: [3/10], Step: [2401/3125], Validation Acc: 68.4, Training Loss: 0.34234818816185\n",
      "Epoch: [3/10], Step: [2801/3125], Validation Acc: 68.9, Training Loss: 0.5791025161743164\n",
      "Epoch: [4/10], Step: [401/3125], Validation Acc: 68.3, Training Loss: 0.4618942141532898\n",
      "Epoch: [4/10], Step: [801/3125], Validation Acc: 68.4, Training Loss: 0.6207186579704285\n",
      "Epoch: [4/10], Step: [1201/3125], Validation Acc: 68.5, Training Loss: 0.48862388730049133\n",
      "Epoch: [4/10], Step: [1601/3125], Validation Acc: 68.4, Training Loss: 0.3985622823238373\n",
      "Epoch: [4/10], Step: [2001/3125], Validation Acc: 66.9, Training Loss: 0.7143938541412354\n",
      "Epoch: [4/10], Step: [2401/3125], Validation Acc: 68.6, Training Loss: 0.472222238779068\n",
      "Epoch: [4/10], Step: [2801/3125], Validation Acc: 68.1, Training Loss: 0.30759212374687195\n",
      "Epoch: [5/10], Step: [401/3125], Validation Acc: 68.0, Training Loss: 0.6563085317611694\n",
      "Epoch: [5/10], Step: [801/3125], Validation Acc: 67.7, Training Loss: 0.09301541745662689\n",
      "Epoch: [5/10], Step: [1201/3125], Validation Acc: 68.3, Training Loss: 0.11699200421571732\n",
      "Epoch: [5/10], Step: [1601/3125], Validation Acc: 69.2, Training Loss: 0.33209067583084106\n",
      "Epoch: [5/10], Step: [2001/3125], Validation Acc: 67.1, Training Loss: 0.25246161222457886\n",
      "Epoch: [5/10], Step: [2401/3125], Validation Acc: 66.6, Training Loss: 0.23438623547554016\n",
      "Epoch: [5/10], Step: [2801/3125], Validation Acc: 67.2, Training Loss: 0.2068813145160675\n",
      "Epoch: [6/10], Step: [401/3125], Validation Acc: 68.6, Training Loss: 0.13981479406356812\n",
      "Epoch: [6/10], Step: [801/3125], Validation Acc: 65.0, Training Loss: 0.09334005415439606\n",
      "Epoch: [6/10], Step: [1201/3125], Validation Acc: 66.2, Training Loss: 0.015518587082624435\n",
      "Epoch: [6/10], Step: [1601/3125], Validation Acc: 68.4, Training Loss: 0.11371547728776932\n",
      "Epoch: [6/10], Step: [2001/3125], Validation Acc: 67.9, Training Loss: 0.11254771798849106\n",
      "Epoch: [6/10], Step: [2401/3125], Validation Acc: 65.6, Training Loss: 0.0987769141793251\n",
      "Epoch: [6/10], Step: [2801/3125], Validation Acc: 67.6, Training Loss: 0.2154366672039032\n",
      "Epoch: [7/10], Step: [401/3125], Validation Acc: 69.0, Training Loss: 0.08240441977977753\n",
      "Epoch: [7/10], Step: [801/3125], Validation Acc: 68.5, Training Loss: 0.07493885606527328\n",
      "Epoch: [7/10], Step: [1201/3125], Validation Acc: 66.9, Training Loss: 0.03002689592540264\n",
      "Epoch: [7/10], Step: [1601/3125], Validation Acc: 66.2, Training Loss: 0.09495733678340912\n",
      "Epoch: [7/10], Step: [2001/3125], Validation Acc: 66.9, Training Loss: 0.08618506789207458\n",
      "Epoch: [7/10], Step: [2401/3125], Validation Acc: 67.6, Training Loss: 0.21715888381004333\n",
      "Epoch: [7/10], Step: [2801/3125], Validation Acc: 67.3, Training Loss: 0.1348666548728943\n",
      "Epoch: [8/10], Step: [401/3125], Validation Acc: 67.8, Training Loss: 0.1326938420534134\n",
      "Epoch: [8/10], Step: [801/3125], Validation Acc: 67.3, Training Loss: 0.026069771498441696\n",
      "Epoch: [8/10], Step: [1201/3125], Validation Acc: 67.5, Training Loss: 0.009667575359344482\n",
      "Epoch: [8/10], Step: [1601/3125], Validation Acc: 67.6, Training Loss: 0.11693831533193588\n",
      "Epoch: [8/10], Step: [2001/3125], Validation Acc: 66.5, Training Loss: 0.16482993960380554\n",
      "Epoch: [8/10], Step: [2401/3125], Validation Acc: 65.7, Training Loss: 0.03591641038656235\n",
      "Epoch: [8/10], Step: [2801/3125], Validation Acc: 69.5, Training Loss: 0.4098910689353943\n",
      "Epoch: [9/10], Step: [401/3125], Validation Acc: 66.5, Training Loss: 0.08464811742305756\n",
      "Epoch: [9/10], Step: [801/3125], Validation Acc: 67.2, Training Loss: 0.018400289118289948\n",
      "Epoch: [9/10], Step: [1201/3125], Validation Acc: 67.7, Training Loss: 0.08026905357837677\n",
      "Epoch: [9/10], Step: [1601/3125], Validation Acc: 66.9, Training Loss: 0.11158104240894318\n",
      "Epoch: [9/10], Step: [2001/3125], Validation Acc: 66.4, Training Loss: 0.013095028698444366\n",
      "Epoch: [9/10], Step: [2401/3125], Validation Acc: 65.4, Training Loss: 0.10780107975006104\n",
      "Epoch: [9/10], Step: [2801/3125], Validation Acc: 66.6, Training Loss: 0.007730104029178619\n",
      "Epoch: [10/10], Step: [401/3125], Validation Acc: 66.6, Training Loss: 0.09006759524345398\n",
      "Epoch: [10/10], Step: [801/3125], Validation Acc: 67.9, Training Loss: 0.020532667636871338\n",
      "Epoch: [10/10], Step: [1201/3125], Validation Acc: 66.7, Training Loss: 0.005680803209543228\n",
      "Epoch: [10/10], Step: [1601/3125], Validation Acc: 66.8, Training Loss: 0.005774062126874924\n",
      "Epoch: [10/10], Step: [2001/3125], Validation Acc: 66.3, Training Loss: 0.06283397972583771\n",
      "Epoch: [10/10], Step: [2401/3125], Validation Acc: 67.0, Training Loss: 0.046357810497283936\n",
      "Epoch: [10/10], Step: [2801/3125], Validation Acc: 66.2, Training Loss: 0.06089867278933525\n"
     ]
    }
   ],
   "source": [
    "hidden_size = 200\n",
    "model_mul_200= RNN_mul(hidden_size = hidden_size, num_layers=1, num_classes=3, pre_trained_emb = ft_emb)\n",
    "use_cuda = True\n",
    "if use_cuda and torch.cuda.is_available():\n",
    "  model_mul_200.cuda()\n",
    "train_loss, val_acc = train_model(train_loader,model_mul_200)\n",
    "torch.save(model_mul_200.state_dict(), 'RNN_mul_hidden_size_{}.pkl'.format(hidden_size))\n",
    "record_multiply_rnn['hidden_size_{}'.format(hidden_size)] = (train_loss, val_acc)"
   ]
  },
  {
   "cell_type": "code",
   "execution_count": 43,
   "metadata": {
    "colab": {
     "base_uri": "https://localhost:8080/",
     "height": 34
    },
    "colab_type": "code",
    "id": "MljReXprHOtw",
    "outputId": "16731be3-e8b0-4485-f94c-a8807ff3b49e"
   },
   "outputs": [
    {
     "data": {
      "text/plain": [
       "65.4"
      ]
     },
     "execution_count": 43,
     "metadata": {
      "tags": []
     },
     "output_type": "execute_result"
    }
   ],
   "source": [
    "#val acc of hiddensize 200 with multiplication concat\n",
    "test_model(val_loader, model_mul_200)"
   ]
  },
  {
   "cell_type": "code",
   "execution_count": 0,
   "metadata": {
    "colab": {},
    "colab_type": "code",
    "collapsed": true,
    "id": "A3UzRW6WHTQI"
   },
   "outputs": [],
   "source": [
    "g = open(\"rnn_mul_record3.pkl\",\"wb\")\n",
    "pkl.dump(record_multiply_rnn,g)\n",
    "g.close()\n",
    "from google.colab import files\n",
    "files.download('rnn_mul_record3.pkl')"
   ]
  },
  {
   "cell_type": "code",
   "execution_count": 0,
   "metadata": {
    "colab": {},
    "colab_type": "code",
    "collapsed": true,
    "id": "2diQ7F3mHYuN"
   },
   "outputs": [],
   "source": [
    "!cp 'RNN_mul_hidden_size_200.pkl' 'drive/My Drive/Colab Notebooks'"
   ]
  },
  {
   "cell_type": "code",
   "execution_count": 0,
   "metadata": {
    "colab": {},
    "colab_type": "code",
    "collapsed": true,
    "id": "E_wxu3YHLqOb"
   },
   "outputs": [],
   "source": [
    "files.download('RNN_mul_hidden_size_200.pkl')"
   ]
  },
  {
   "cell_type": "code",
   "execution_count": 27,
   "metadata": {
    "colab": {
     "base_uri": "https://localhost:8080/",
     "height": 1207
    },
    "colab_type": "code",
    "id": "fUNogCT2_dL2",
    "outputId": "bc1f0720-5435-4dd2-a25b-73f016cc692b"
   },
   "outputs": [
    {
     "name": "stdout",
     "output_type": "stream",
     "text": [
      "Epoch: [1/10], Step: [401/3125], Validation Acc: 47.1, Training Acc: 47.24\n",
      "Epoch: [1/10], Step: [801/3125], Validation Acc: 52.0, Training Acc: 51.82\n",
      "Epoch: [1/10], Step: [1201/3125], Validation Acc: 57.0, Training Acc: 57.01\n",
      "Epoch: [1/10], Step: [1601/3125], Validation Acc: 59.1, Training Acc: 59.94\n",
      "Epoch: [1/10], Step: [2001/3125], Validation Acc: 61.1, Training Acc: 61.78\n",
      "Epoch: [1/10], Step: [2401/3125], Validation Acc: 63.9, Training Acc: 64.51\n",
      "Epoch: [1/10], Step: [2801/3125], Validation Acc: 63.4, Training Acc: 65.81\n",
      "Epoch: [2/10], Step: [401/3125], Validation Acc: 64.1, Training Acc: 67.75\n",
      "Epoch: [2/10], Step: [801/3125], Validation Acc: 65.4, Training Acc: 69.22\n",
      "Epoch: [2/10], Step: [1201/3125], Validation Acc: 66.0, Training Acc: 69.1\n",
      "Epoch: [2/10], Step: [1601/3125], Validation Acc: 65.3, Training Acc: 72.23\n",
      "Epoch: [2/10], Step: [2001/3125], Validation Acc: 66.4, Training Acc: 73.0\n",
      "Epoch: [2/10], Step: [2401/3125], Validation Acc: 64.8, Training Acc: 73.5\n",
      "Epoch: [2/10], Step: [2801/3125], Validation Acc: 67.5, Training Acc: 74.3\n",
      "Epoch: [3/10], Step: [401/3125], Validation Acc: 66.5, Training Acc: 76.12\n",
      "Epoch: [3/10], Step: [801/3125], Validation Acc: 67.1, Training Acc: 76.82\n",
      "Epoch: [3/10], Step: [1201/3125], Validation Acc: 66.1, Training Acc: 77.51\n",
      "Epoch: [3/10], Step: [1601/3125], Validation Acc: 67.6, Training Acc: 78.46\n",
      "Epoch: [3/10], Step: [2001/3125], Validation Acc: 66.2, Training Acc: 79.48\n",
      "Epoch: [3/10], Step: [2401/3125], Validation Acc: 68.5, Training Acc: 80.47\n",
      "Epoch: [3/10], Step: [2801/3125], Validation Acc: 67.5, Training Acc: 81.22\n",
      "Epoch: [4/10], Step: [401/3125], Validation Acc: 66.6, Training Acc: 82.19\n",
      "Epoch: [4/10], Step: [801/3125], Validation Acc: 66.1, Training Acc: 82.26\n",
      "Epoch: [4/10], Step: [1201/3125], Validation Acc: 66.4, Training Acc: 83.49\n",
      "Epoch: [4/10], Step: [1601/3125], Validation Acc: 66.5, Training Acc: 84.05\n",
      "Epoch: [4/10], Step: [2001/3125], Validation Acc: 66.8, Training Acc: 85.37\n",
      "Epoch: [4/10], Step: [2401/3125], Validation Acc: 67.3, Training Acc: 85.98\n",
      "Epoch: [4/10], Step: [2801/3125], Validation Acc: 66.5, Training Acc: 86.4\n",
      "Epoch: [5/10], Step: [401/3125], Validation Acc: 67.4, Training Acc: 87.33\n",
      "Epoch: [5/10], Step: [801/3125], Validation Acc: 65.1, Training Acc: 87.18\n",
      "Epoch: [5/10], Step: [1201/3125], Validation Acc: 65.9, Training Acc: 88.02\n",
      "Epoch: [5/10], Step: [1601/3125], Validation Acc: 67.3, Training Acc: 87.76\n",
      "Epoch: [5/10], Step: [2001/3125], Validation Acc: 67.0, Training Acc: 89.4\n",
      "Epoch: [5/10], Step: [2401/3125], Validation Acc: 67.4, Training Acc: 89.63\n",
      "Epoch: [5/10], Step: [2801/3125], Validation Acc: 67.5, Training Acc: 90.26\n",
      "Epoch: [6/10], Step: [401/3125], Validation Acc: 66.6, Training Acc: 91.21\n",
      "Epoch: [6/10], Step: [801/3125], Validation Acc: 67.0, Training Acc: 91.17\n",
      "Epoch: [6/10], Step: [1201/3125], Validation Acc: 65.5, Training Acc: 91.11\n",
      "Epoch: [6/10], Step: [1601/3125], Validation Acc: 67.0, Training Acc: 92.45\n",
      "Epoch: [6/10], Step: [2001/3125], Validation Acc: 66.1, Training Acc: 92.77\n",
      "Epoch: [6/10], Step: [2401/3125], Validation Acc: 66.6, Training Acc: 93.23\n",
      "Epoch: [6/10], Step: [2801/3125], Validation Acc: 66.2, Training Acc: 93.69\n",
      "Epoch: [7/10], Step: [401/3125], Validation Acc: 66.8, Training Acc: 94.03\n",
      "Epoch: [7/10], Step: [801/3125], Validation Acc: 67.3, Training Acc: 94.21\n",
      "Epoch: [7/10], Step: [1201/3125], Validation Acc: 66.3, Training Acc: 94.48\n",
      "Epoch: [7/10], Step: [1601/3125], Validation Acc: 65.6, Training Acc: 94.42\n",
      "Epoch: [7/10], Step: [2001/3125], Validation Acc: 66.9, Training Acc: 94.82\n",
      "Epoch: [7/10], Step: [2401/3125], Validation Acc: 66.2, Training Acc: 94.43\n",
      "Epoch: [7/10], Step: [2801/3125], Validation Acc: 66.6, Training Acc: 95.54\n",
      "Epoch: [8/10], Step: [401/3125], Validation Acc: 66.8, Training Acc: 96.2\n",
      "Epoch: [8/10], Step: [801/3125], Validation Acc: 67.6, Training Acc: 95.91\n",
      "Epoch: [8/10], Step: [1201/3125], Validation Acc: 67.6, Training Acc: 95.67\n",
      "Epoch: [8/10], Step: [1601/3125], Validation Acc: 65.5, Training Acc: 95.78\n",
      "Epoch: [8/10], Step: [2001/3125], Validation Acc: 65.8, Training Acc: 95.95\n",
      "Epoch: [8/10], Step: [2401/3125], Validation Acc: 66.8, Training Acc: 96.18\n",
      "Epoch: [8/10], Step: [2801/3125], Validation Acc: 67.6, Training Acc: 96.21\n",
      "Epoch: [9/10], Step: [401/3125], Validation Acc: 67.0, Training Acc: 97.32\n",
      "Epoch: [9/10], Step: [801/3125], Validation Acc: 65.5, Training Acc: 97.1\n",
      "Epoch: [9/10], Step: [1201/3125], Validation Acc: 67.7, Training Acc: 97.18\n",
      "Epoch: [9/10], Step: [1601/3125], Validation Acc: 66.8, Training Acc: 97.23\n",
      "Epoch: [9/10], Step: [2001/3125], Validation Acc: 67.5, Training Acc: 97.04\n",
      "Epoch: [9/10], Step: [2401/3125], Validation Acc: 66.1, Training Acc: 97.33\n",
      "Epoch: [9/10], Step: [2801/3125], Validation Acc: 65.0, Training Acc: 97.15\n",
      "Epoch: [10/10], Step: [401/3125], Validation Acc: 65.4, Training Acc: 97.91\n",
      "Epoch: [10/10], Step: [801/3125], Validation Acc: 66.7, Training Acc: 97.9\n",
      "Epoch: [10/10], Step: [1201/3125], Validation Acc: 66.7, Training Acc: 97.87\n",
      "Epoch: [10/10], Step: [1601/3125], Validation Acc: 65.7, Training Acc: 97.66\n",
      "Epoch: [10/10], Step: [2001/3125], Validation Acc: 65.1, Training Acc: 97.74\n",
      "Epoch: [10/10], Step: [2401/3125], Validation Acc: 65.9, Training Acc: 97.8\n",
      "Epoch: [10/10], Step: [2801/3125], Validation Acc: 66.1, Training Acc: 98.02\n"
     ]
    }
   ],
   "source": [
    "hidden_size = 100\n",
    "model = RNN_mul(hidden_size = hidden_size, num_layers=1, num_classes=3, pre_trained_emb = ft_emb)\n",
    "use_cuda = True\n",
    "if use_cuda and torch.cuda.is_available():\n",
    "  model.cuda()\n",
    "val_acc,train_acc = train_model(train_loader,model)\n",
    "torch.save(model.state_dict(), 'mul_RNN_hidden_size_{}.pkl'.format(hidden_size))\n",
    "rnn_mul_trainacc['hidden_size_{}'.format(hidden_size)] = (val_acc,train_acc)\n",
    "!cp 'mul_RNN_hidden_size_100.pkl' 'drive/My Drive/Colab Notebooks/mul_RNN_hidden_size_100.pkl'\n"
   ]
  },
  {
   "cell_type": "code",
   "execution_count": 0,
   "metadata": {
    "colab": {},
    "colab_type": "code",
    "collapsed": true,
    "id": "deHy-C5g_f0W"
   },
   "outputs": [],
   "source": [
    "import pickle\n",
    "f = open(\"rnn_mul_hidden_new3.pkl\",\"wb\")\n",
    "pickle.dump(rnn_mul_trainacc,f)\n",
    "f.close()"
   ]
  },
  {
   "cell_type": "code",
   "execution_count": 0,
   "metadata": {
    "colab": {},
    "colab_type": "code",
    "collapsed": true,
    "id": "UCSAZb84_nmR"
   },
   "outputs": [],
   "source": [
    "files.download(\"rnn_mul_hidden_new3.pkl\")"
   ]
  },
  {
   "cell_type": "code",
   "execution_count": 47,
   "metadata": {
    "colab": {
     "base_uri": "https://localhost:8080/",
     "height": 1207
    },
    "colab_type": "code",
    "id": "tmoq8TUrLwWN",
    "outputId": "c097b5da-43c6-4e3a-9eda-3dee891f9f12"
   },
   "outputs": [
    {
     "name": "stdout",
     "output_type": "stream",
     "text": [
      "Epoch: [1/10], Step: [401/3125], Validation Acc: 42.8, Training Loss: 0.9908033013343811\n",
      "Epoch: [1/10], Step: [801/3125], Validation Acc: 52.2, Training Loss: 1.0574074983596802\n",
      "Epoch: [1/10], Step: [1201/3125], Validation Acc: 55.0, Training Loss: 0.7142316102981567\n",
      "Epoch: [1/10], Step: [1601/3125], Validation Acc: 58.3, Training Loss: 0.8137086033821106\n",
      "Epoch: [1/10], Step: [2001/3125], Validation Acc: 60.8, Training Loss: 0.7809378504753113\n",
      "Epoch: [1/10], Step: [2401/3125], Validation Acc: 60.2, Training Loss: 0.8366739749908447\n",
      "Epoch: [1/10], Step: [2801/3125], Validation Acc: 62.7, Training Loss: 0.817129909992218\n",
      "Epoch: [2/10], Step: [401/3125], Validation Acc: 63.6, Training Loss: 0.6973512768745422\n",
      "Epoch: [2/10], Step: [801/3125], Validation Acc: 65.4, Training Loss: 0.5673294067382812\n",
      "Epoch: [2/10], Step: [1201/3125], Validation Acc: 63.9, Training Loss: 0.9167680740356445\n",
      "Epoch: [2/10], Step: [1601/3125], Validation Acc: 65.7, Training Loss: 0.686924934387207\n",
      "Epoch: [2/10], Step: [2001/3125], Validation Acc: 66.0, Training Loss: 0.8660764098167419\n",
      "Epoch: [2/10], Step: [2401/3125], Validation Acc: 67.5, Training Loss: 0.7940448522567749\n",
      "Epoch: [2/10], Step: [2801/3125], Validation Acc: 68.1, Training Loss: 0.699252724647522\n",
      "Epoch: [3/10], Step: [401/3125], Validation Acc: 68.1, Training Loss: 0.305233895778656\n",
      "Epoch: [3/10], Step: [801/3125], Validation Acc: 66.8, Training Loss: 0.37073951959609985\n",
      "Epoch: [3/10], Step: [1201/3125], Validation Acc: 68.2, Training Loss: 0.5533314943313599\n",
      "Epoch: [3/10], Step: [1601/3125], Validation Acc: 67.7, Training Loss: 0.4788442552089691\n",
      "Epoch: [3/10], Step: [2001/3125], Validation Acc: 69.3, Training Loss: 0.567145824432373\n",
      "Epoch: [3/10], Step: [2401/3125], Validation Acc: 69.7, Training Loss: 0.5731379985809326\n",
      "Epoch: [3/10], Step: [2801/3125], Validation Acc: 68.0, Training Loss: 0.8078463673591614\n",
      "Epoch: [4/10], Step: [401/3125], Validation Acc: 67.1, Training Loss: 0.49575576186180115\n",
      "Epoch: [4/10], Step: [801/3125], Validation Acc: 67.3, Training Loss: 0.6317837834358215\n",
      "Epoch: [4/10], Step: [1201/3125], Validation Acc: 66.7, Training Loss: 0.5566539168357849\n",
      "Epoch: [4/10], Step: [1601/3125], Validation Acc: 67.8, Training Loss: 0.6342733502388\n",
      "Epoch: [4/10], Step: [2001/3125], Validation Acc: 69.4, Training Loss: 0.5394102334976196\n",
      "Epoch: [4/10], Step: [2401/3125], Validation Acc: 67.7, Training Loss: 0.7445910573005676\n",
      "Epoch: [4/10], Step: [2801/3125], Validation Acc: 68.7, Training Loss: 0.5787798762321472\n",
      "Epoch: [5/10], Step: [401/3125], Validation Acc: 68.4, Training Loss: 0.551413893699646\n",
      "Epoch: [5/10], Step: [801/3125], Validation Acc: 69.2, Training Loss: 0.2506211996078491\n",
      "Epoch: [5/10], Step: [1201/3125], Validation Acc: 68.0, Training Loss: 0.37513625621795654\n",
      "Epoch: [5/10], Step: [1601/3125], Validation Acc: 68.3, Training Loss: 0.35605427622795105\n",
      "Epoch: [5/10], Step: [2001/3125], Validation Acc: 68.6, Training Loss: 0.37412846088409424\n",
      "Epoch: [5/10], Step: [2401/3125], Validation Acc: 66.5, Training Loss: 0.15830206871032715\n",
      "Epoch: [5/10], Step: [2801/3125], Validation Acc: 67.1, Training Loss: 0.3381955027580261\n",
      "Epoch: [6/10], Step: [401/3125], Validation Acc: 67.1, Training Loss: 0.19725683331489563\n",
      "Epoch: [6/10], Step: [801/3125], Validation Acc: 65.4, Training Loss: 0.22032365202903748\n",
      "Epoch: [6/10], Step: [1201/3125], Validation Acc: 66.6, Training Loss: 0.4857708215713501\n",
      "Epoch: [6/10], Step: [1601/3125], Validation Acc: 67.1, Training Loss: 0.29386213421821594\n",
      "Epoch: [6/10], Step: [2001/3125], Validation Acc: 65.2, Training Loss: 0.2963152825832367\n",
      "Epoch: [6/10], Step: [2401/3125], Validation Acc: 66.3, Training Loss: 0.23932653665542603\n",
      "Epoch: [6/10], Step: [2801/3125], Validation Acc: 65.7, Training Loss: 0.316965788602829\n",
      "Epoch: [7/10], Step: [401/3125], Validation Acc: 64.7, Training Loss: 0.25709930062294006\n",
      "Epoch: [7/10], Step: [801/3125], Validation Acc: 66.1, Training Loss: 0.10675953328609467\n",
      "Epoch: [7/10], Step: [1201/3125], Validation Acc: 66.2, Training Loss: 0.10636905580759048\n",
      "Epoch: [7/10], Step: [1601/3125], Validation Acc: 64.3, Training Loss: 0.20186427235603333\n",
      "Epoch: [7/10], Step: [2001/3125], Validation Acc: 65.7, Training Loss: 0.22547173500061035\n",
      "Epoch: [7/10], Step: [2401/3125], Validation Acc: 65.2, Training Loss: 0.26008662581443787\n",
      "Epoch: [7/10], Step: [2801/3125], Validation Acc: 65.5, Training Loss: 0.19290871918201447\n",
      "Epoch: [8/10], Step: [401/3125], Validation Acc: 65.8, Training Loss: 0.11771330237388611\n",
      "Epoch: [8/10], Step: [801/3125], Validation Acc: 65.3, Training Loss: 0.08240459114313126\n",
      "Epoch: [8/10], Step: [1201/3125], Validation Acc: 66.3, Training Loss: 0.16292746365070343\n",
      "Epoch: [8/10], Step: [1601/3125], Validation Acc: 65.4, Training Loss: 0.15420056879520416\n",
      "Epoch: [8/10], Step: [2001/3125], Validation Acc: 65.3, Training Loss: 0.13377010822296143\n",
      "Epoch: [8/10], Step: [2401/3125], Validation Acc: 64.7, Training Loss: 0.13248738646507263\n",
      "Epoch: [8/10], Step: [2801/3125], Validation Acc: 65.9, Training Loss: 0.055325161665678024\n",
      "Epoch: [9/10], Step: [401/3125], Validation Acc: 65.2, Training Loss: 0.04499782621860504\n",
      "Epoch: [9/10], Step: [801/3125], Validation Acc: 65.1, Training Loss: 0.019111942499876022\n",
      "Epoch: [9/10], Step: [1201/3125], Validation Acc: 64.8, Training Loss: 0.20869478583335876\n",
      "Epoch: [9/10], Step: [1601/3125], Validation Acc: 66.1, Training Loss: 0.2140948325395584\n",
      "Epoch: [9/10], Step: [2001/3125], Validation Acc: 63.7, Training Loss: 0.18329885601997375\n",
      "Epoch: [9/10], Step: [2401/3125], Validation Acc: 63.7, Training Loss: 0.0866592526435852\n",
      "Epoch: [9/10], Step: [2801/3125], Validation Acc: 65.5, Training Loss: 0.05752335116267204\n",
      "Epoch: [10/10], Step: [401/3125], Validation Acc: 64.6, Training Loss: 0.09842876344919205\n",
      "Epoch: [10/10], Step: [801/3125], Validation Acc: 65.2, Training Loss: 0.059876810759305954\n",
      "Epoch: [10/10], Step: [1201/3125], Validation Acc: 63.7, Training Loss: 0.1297699511051178\n",
      "Epoch: [10/10], Step: [1601/3125], Validation Acc: 63.9, Training Loss: 0.06106449291110039\n",
      "Epoch: [10/10], Step: [2001/3125], Validation Acc: 64.7, Training Loss: 0.09228235483169556\n",
      "Epoch: [10/10], Step: [2401/3125], Validation Acc: 65.7, Training Loss: 0.12314287573099136\n",
      "Epoch: [10/10], Step: [2801/3125], Validation Acc: 65.0, Training Loss: 0.06798244267702103\n"
     ]
    }
   ],
   "source": [
    "hidden_size = 100\n",
    "model_mul_100= RNN_mul(hidden_size = hidden_size, num_layers=1, num_classes=3, pre_trained_emb = ft_emb)\n",
    "use_cuda = True\n",
    "if use_cuda and torch.cuda.is_available():\n",
    "  model_mul_100.cuda()\n",
    "train_loss, val_acc = train_model(train_loader,model_mul_100)\n",
    "torch.save(model_mul_100.state_dict(), 'RNN_mul_hidden_size_{}.pkl'.format(hidden_size))\n",
    "record_multiply_rnn['hidden_size_{}'.format(hidden_size)] = (train_loss, val_acc)"
   ]
  },
  {
   "cell_type": "code",
   "execution_count": 48,
   "metadata": {
    "colab": {
     "base_uri": "https://localhost:8080/",
     "height": 34
    },
    "colab_type": "code",
    "id": "sw4cRjN_anDm",
    "outputId": "03f0c26e-e468-4c54-d1d4-5ff2466d67a6"
   },
   "outputs": [
    {
     "data": {
      "text/plain": [
       "65.7"
      ]
     },
     "execution_count": 48,
     "metadata": {
      "tags": []
     },
     "output_type": "execute_result"
    }
   ],
   "source": [
    "#val acc of hiddensize 100 with multiplication concat\n",
    "test_model(val_loader, model_mul_100)"
   ]
  },
  {
   "cell_type": "code",
   "execution_count": 0,
   "metadata": {
    "colab": {},
    "colab_type": "code",
    "collapsed": true,
    "id": "3TsmCNPEcymR"
   },
   "outputs": [],
   "source": [
    "g = open(\"rnn_mul_record4.pkl\",\"wb\")\n",
    "pkl.dump(record_multiply_rnn,g)\n",
    "g.close()\n",
    "from google.colab import files\n",
    "files.download('rnn_mul_record4.pkl')"
   ]
  },
  {
   "cell_type": "code",
   "execution_count": 0,
   "metadata": {
    "colab": {},
    "colab_type": "code",
    "collapsed": true,
    "id": "4krWTCdsc5Cu"
   },
   "outputs": [],
   "source": [
    "!cp 'RNN_mul_hidden_size_100.pkl' 'drive/My Drive/Colab Notebooks'"
   ]
  },
  {
   "cell_type": "code",
   "execution_count": 0,
   "metadata": {
    "colab": {},
    "colab_type": "code",
    "collapsed": true,
    "id": "2-BoNWXRdFWJ"
   },
   "outputs": [],
   "source": [
    "files.download('RNN_mul_hidden_size_100.pkl')"
   ]
  },
  {
   "cell_type": "code",
   "execution_count": 0,
   "metadata": {
    "colab": {},
    "colab_type": "code",
    "collapsed": true,
    "id": "HFy_burnWxq_"
   },
   "outputs": [],
   "source": [
    "learning_rate = 3e-4\n",
    "num_epochs = 10 # number epoch to train\n",
    "use_cuda = True"
   ]
  },
  {
   "cell_type": "code",
   "execution_count": 30,
   "metadata": {
    "colab": {
     "base_uri": "https://localhost:8080/",
     "height": 1207
    },
    "colab_type": "code",
    "id": "xQG-jsKEKyNw",
    "outputId": "b3d08a66-d96c-4a9b-e66d-252ddfe8761e"
   },
   "outputs": [
    {
     "name": "stdout",
     "output_type": "stream",
     "text": [
      "Epoch: [1/10], Step: [401/3125], Validation Acc: 51.0, Training Acc: 52.17\n",
      "Epoch: [1/10], Step: [801/3125], Validation Acc: 56.3, Training Acc: 58.69\n",
      "Epoch: [1/10], Step: [1201/3125], Validation Acc: 59.9, Training Acc: 62.34\n",
      "Epoch: [1/10], Step: [1601/3125], Validation Acc: 61.7, Training Acc: 65.39\n",
      "Epoch: [1/10], Step: [2001/3125], Validation Acc: 62.9, Training Acc: 66.22\n",
      "Epoch: [1/10], Step: [2401/3125], Validation Acc: 63.8, Training Acc: 68.84\n",
      "Epoch: [1/10], Step: [2801/3125], Validation Acc: 65.8, Training Acc: 70.7\n",
      "Epoch: [2/10], Step: [401/3125], Validation Acc: 65.6, Training Acc: 74.06\n",
      "Epoch: [2/10], Step: [801/3125], Validation Acc: 64.8, Training Acc: 76.89\n",
      "Epoch: [2/10], Step: [1201/3125], Validation Acc: 66.8, Training Acc: 78.56\n",
      "Epoch: [2/10], Step: [1601/3125], Validation Acc: 67.3, Training Acc: 79.52\n",
      "Epoch: [2/10], Step: [2001/3125], Validation Acc: 68.7, Training Acc: 80.45\n",
      "Epoch: [2/10], Step: [2401/3125], Validation Acc: 68.4, Training Acc: 82.4\n",
      "Epoch: [2/10], Step: [2801/3125], Validation Acc: 67.4, Training Acc: 83.54\n",
      "Epoch: [3/10], Step: [401/3125], Validation Acc: 67.7, Training Acc: 86.05\n",
      "Epoch: [3/10], Step: [801/3125], Validation Acc: 66.2, Training Acc: 87.76\n",
      "Epoch: [3/10], Step: [1201/3125], Validation Acc: 68.3, Training Acc: 88.39\n",
      "Epoch: [3/10], Step: [1601/3125], Validation Acc: 66.8, Training Acc: 90.01\n",
      "Epoch: [3/10], Step: [2001/3125], Validation Acc: 68.5, Training Acc: 90.88\n",
      "Epoch: [3/10], Step: [2401/3125], Validation Acc: 67.2, Training Acc: 91.59\n",
      "Epoch: [3/10], Step: [2801/3125], Validation Acc: 67.6, Training Acc: 93.98\n",
      "Epoch: [4/10], Step: [401/3125], Validation Acc: 66.6, Training Acc: 95.59\n",
      "Epoch: [4/10], Step: [801/3125], Validation Acc: 68.3, Training Acc: 95.38\n",
      "Epoch: [4/10], Step: [1201/3125], Validation Acc: 66.7, Training Acc: 95.43\n",
      "Epoch: [4/10], Step: [1601/3125], Validation Acc: 66.5, Training Acc: 95.5\n",
      "Epoch: [4/10], Step: [2001/3125], Validation Acc: 66.5, Training Acc: 96.56\n",
      "Epoch: [4/10], Step: [2401/3125], Validation Acc: 67.3, Training Acc: 96.72\n",
      "Epoch: [4/10], Step: [2801/3125], Validation Acc: 66.4, Training Acc: 96.85\n",
      "Epoch: [5/10], Step: [401/3125], Validation Acc: 67.1, Training Acc: 97.67\n",
      "Epoch: [5/10], Step: [801/3125], Validation Acc: 66.5, Training Acc: 97.89\n",
      "Epoch: [5/10], Step: [1201/3125], Validation Acc: 65.8, Training Acc: 97.15\n",
      "Epoch: [5/10], Step: [1601/3125], Validation Acc: 67.1, Training Acc: 97.91\n",
      "Epoch: [5/10], Step: [2001/3125], Validation Acc: 66.8, Training Acc: 97.78\n",
      "Epoch: [5/10], Step: [2401/3125], Validation Acc: 66.8, Training Acc: 97.5\n",
      "Epoch: [5/10], Step: [2801/3125], Validation Acc: 67.3, Training Acc: 97.66\n",
      "Epoch: [6/10], Step: [401/3125], Validation Acc: 66.8, Training Acc: 98.46\n",
      "Epoch: [6/10], Step: [801/3125], Validation Acc: 67.4, Training Acc: 98.24\n",
      "Epoch: [6/10], Step: [1201/3125], Validation Acc: 68.9, Training Acc: 98.39\n",
      "Epoch: [6/10], Step: [1601/3125], Validation Acc: 67.5, Training Acc: 98.21\n",
      "Epoch: [6/10], Step: [2001/3125], Validation Acc: 68.7, Training Acc: 98.41\n",
      "Epoch: [6/10], Step: [2401/3125], Validation Acc: 68.2, Training Acc: 98.17\n",
      "Epoch: [6/10], Step: [2801/3125], Validation Acc: 68.0, Training Acc: 98.23\n",
      "Epoch: [7/10], Step: [401/3125], Validation Acc: 68.4, Training Acc: 99.02\n",
      "Epoch: [7/10], Step: [801/3125], Validation Acc: 67.9, Training Acc: 98.87\n",
      "Epoch: [7/10], Step: [1201/3125], Validation Acc: 68.0, Training Acc: 98.84\n",
      "Epoch: [7/10], Step: [1601/3125], Validation Acc: 67.1, Training Acc: 98.55\n",
      "Epoch: [7/10], Step: [2001/3125], Validation Acc: 67.7, Training Acc: 98.56\n",
      "Epoch: [7/10], Step: [2401/3125], Validation Acc: 66.0, Training Acc: 98.6\n",
      "Epoch: [7/10], Step: [2801/3125], Validation Acc: 67.1, Training Acc: 98.7\n",
      "Epoch: [8/10], Step: [401/3125], Validation Acc: 66.2, Training Acc: 98.71\n",
      "Epoch: [8/10], Step: [801/3125], Validation Acc: 66.7, Training Acc: 98.53\n",
      "Epoch: [8/10], Step: [1201/3125], Validation Acc: 67.3, Training Acc: 98.75\n",
      "Epoch: [8/10], Step: [1601/3125], Validation Acc: 67.0, Training Acc: 98.97\n",
      "Epoch: [8/10], Step: [2001/3125], Validation Acc: 66.3, Training Acc: 98.68\n",
      "Epoch: [8/10], Step: [2401/3125], Validation Acc: 66.8, Training Acc: 98.64\n",
      "Epoch: [8/10], Step: [2801/3125], Validation Acc: 66.0, Training Acc: 98.55\n",
      "Epoch: [9/10], Step: [401/3125], Validation Acc: 67.5, Training Acc: 98.79\n",
      "Epoch: [9/10], Step: [801/3125], Validation Acc: 65.8, Training Acc: 98.79\n",
      "Epoch: [9/10], Step: [1201/3125], Validation Acc: 66.6, Training Acc: 98.85\n",
      "Epoch: [9/10], Step: [1601/3125], Validation Acc: 66.7, Training Acc: 98.63\n",
      "Epoch: [9/10], Step: [2001/3125], Validation Acc: 66.2, Training Acc: 98.87\n",
      "Epoch: [9/10], Step: [2401/3125], Validation Acc: 68.0, Training Acc: 98.84\n",
      "Epoch: [9/10], Step: [2801/3125], Validation Acc: 66.7, Training Acc: 98.95\n",
      "Epoch: [10/10], Step: [401/3125], Validation Acc: 67.2, Training Acc: 99.08\n",
      "Epoch: [10/10], Step: [801/3125], Validation Acc: 66.1, Training Acc: 98.99\n",
      "Epoch: [10/10], Step: [1201/3125], Validation Acc: 66.3, Training Acc: 99.01\n",
      "Epoch: [10/10], Step: [1601/3125], Validation Acc: 64.7, Training Acc: 99.02\n",
      "Epoch: [10/10], Step: [2001/3125], Validation Acc: 66.5, Training Acc: 99.02\n",
      "Epoch: [10/10], Step: [2401/3125], Validation Acc: 68.2, Training Acc: 98.75\n",
      "Epoch: [10/10], Step: [2801/3125], Validation Acc: 67.1, Training Acc: 99.05\n"
     ]
    }
   ],
   "source": [
    "hidden_size = 800\n",
    "model = RNN_mul(hidden_size = hidden_size, num_layers=1, num_classes=3, pre_trained_emb = ft_emb)\n",
    "use_cuda = True\n",
    "if use_cuda and torch.cuda.is_available():\n",
    "  model.cuda()\n",
    "val_acc,train_acc = train_model(train_loader,model)\n",
    "torch.save(model.state_dict(), 'mul_RNN_hidden_size_{}.pkl'.format(hidden_size))\n",
    "rnn_mul_trainacc['hidden_size_{}'.format(hidden_size)] = (val_acc,train_acc)\n",
    "!cp 'mul_RNN_hidden_size_800.pkl' 'drive/My Drive/Colab Notebooks/mul_RNN_hidden_size_800.pkl'\n"
   ]
  },
  {
   "cell_type": "code",
   "execution_count": 0,
   "metadata": {
    "colab": {},
    "colab_type": "code",
    "collapsed": true,
    "id": "vJGJJwW__272"
   },
   "outputs": [],
   "source": [
    "import pickle\n",
    "f = open(\"rnn_mul_hidden_new4.pkl\",\"wb\")\n",
    "pickle.dump(rnn_mul_trainacc,f)\n",
    "f.close()"
   ]
  },
  {
   "cell_type": "code",
   "execution_count": 0,
   "metadata": {
    "colab": {},
    "colab_type": "code",
    "collapsed": true,
    "id": "-ur8ckgp_4-K"
   },
   "outputs": [],
   "source": [
    "files.download(\"rnn_mul_hidden_new4.pkl\")"
   ]
  },
  {
   "cell_type": "code",
   "execution_count": 22,
   "metadata": {
    "colab": {
     "base_uri": "https://localhost:8080/",
     "height": 1663
    },
    "colab_type": "code",
    "id": "F1-yJo3wdV53",
    "outputId": "381df009-5e76-43c5-cdf0-db3fc04575c7"
   },
   "outputs": [
    {
     "name": "stdout",
     "output_type": "stream",
     "text": [
      "Epoch: [1/10], Step: [401/3125], Validation Acc: 50.9, Training Loss: 0.9593042731285095\n",
      "Epoch: [1/10], Step: [801/3125], Validation Acc: 57.7, Training Loss: 0.8576378226280212\n",
      "Epoch: [1/10], Step: [1201/3125], Validation Acc: 59.1, Training Loss: 0.7772582173347473\n",
      "Epoch: [1/10], Step: [1601/3125], Validation Acc: 64.3, Training Loss: 0.8571440577507019\n",
      "Epoch: [1/10], Step: [2001/3125], Validation Acc: 65.5, Training Loss: 0.9116935133934021\n",
      "Epoch: [1/10], Step: [2401/3125], Validation Acc: 66.8, Training Loss: 0.740634560585022\n",
      "Epoch: [1/10], Step: [2801/3125], Validation Acc: 64.5, Training Loss: 0.8019828796386719\n",
      "Epoch: [2/10], Step: [401/3125], Validation Acc: 66.9, Training Loss: 0.7925124764442444\n",
      "Epoch: [2/10], Step: [801/3125], Validation Acc: 68.3, Training Loss: 0.6408252716064453\n",
      "Epoch: [2/10], Step: [1201/3125], Validation Acc: 67.9, Training Loss: 0.5875497460365295\n",
      "Epoch: [2/10], Step: [1601/3125], Validation Acc: 69.1, Training Loss: 0.7827160358428955\n",
      "Epoch: [2/10], Step: [2001/3125], Validation Acc: 69.8, Training Loss: 0.7318112850189209\n",
      "Epoch: [2/10], Step: [2401/3125], Validation Acc: 68.4, Training Loss: 0.4997711777687073\n",
      "Epoch: [2/10], Step: [2801/3125], Validation Acc: 68.6, Training Loss: 0.6832644939422607\n",
      "Epoch: [3/10], Step: [401/3125], Validation Acc: 68.4, Training Loss: 0.31462809443473816\n",
      "Epoch: [3/10], Step: [801/3125], Validation Acc: 68.8, Training Loss: 0.3481989800930023\n",
      "Epoch: [3/10], Step: [1201/3125], Validation Acc: 66.3, Training Loss: 0.4980841875076294\n",
      "Epoch: [3/10], Step: [1601/3125], Validation Acc: 68.6, Training Loss: 0.29095199704170227\n",
      "Epoch: [3/10], Step: [2001/3125], Validation Acc: 69.6, Training Loss: 0.31923583149909973\n",
      "Epoch: [3/10], Step: [2401/3125], Validation Acc: 67.9, Training Loss: 0.5345668792724609\n",
      "Epoch: [3/10], Step: [2801/3125], Validation Acc: 68.7, Training Loss: 0.580937922000885\n",
      "Epoch: [4/10], Step: [401/3125], Validation Acc: 69.7, Training Loss: 0.06850020587444305\n",
      "Epoch: [4/10], Step: [801/3125], Validation Acc: 68.3, Training Loss: 0.19437579810619354\n",
      "Epoch: [4/10], Step: [1201/3125], Validation Acc: 69.2, Training Loss: 0.34272482991218567\n",
      "Epoch: [4/10], Step: [1601/3125], Validation Acc: 68.2, Training Loss: 0.1519624888896942\n",
      "Epoch: [4/10], Step: [2001/3125], Validation Acc: 69.7, Training Loss: 0.23093843460083008\n",
      "Epoch: [4/10], Step: [2401/3125], Validation Acc: 68.5, Training Loss: 0.20599505305290222\n",
      "Epoch: [4/10], Step: [2801/3125], Validation Acc: 69.5, Training Loss: 0.20214992761611938\n",
      "Epoch: [5/10], Step: [401/3125], Validation Acc: 69.4, Training Loss: 0.03090468794107437\n",
      "Epoch: [5/10], Step: [801/3125], Validation Acc: 68.5, Training Loss: 0.11139446496963501\n",
      "Epoch: [5/10], Step: [1201/3125], Validation Acc: 67.9, Training Loss: 0.8077460527420044\n",
      "Epoch: [5/10], Step: [1601/3125], Validation Acc: 67.6, Training Loss: 0.07243897765874863\n",
      "Epoch: [5/10], Step: [2001/3125], Validation Acc: 67.5, Training Loss: 0.22070954740047455\n",
      "Epoch: [5/10], Step: [2401/3125], Validation Acc: 68.0, Training Loss: 0.03995470702648163\n",
      "Epoch: [5/10], Step: [2801/3125], Validation Acc: 66.5, Training Loss: 0.6119420528411865\n",
      "Epoch: [6/10], Step: [401/3125], Validation Acc: 67.7, Training Loss: 0.0211351178586483\n",
      "Epoch: [6/10], Step: [801/3125], Validation Acc: 68.7, Training Loss: 0.13848371803760529\n",
      "Epoch: [6/10], Step: [1201/3125], Validation Acc: 68.2, Training Loss: 0.006286710500717163\n",
      "Epoch: [6/10], Step: [1601/3125], Validation Acc: 68.1, Training Loss: 0.048324257135391235\n",
      "Epoch: [6/10], Step: [2001/3125], Validation Acc: 67.9, Training Loss: 0.018674403429031372\n",
      "Epoch: [6/10], Step: [2401/3125], Validation Acc: 67.6, Training Loss: 0.1283099353313446\n",
      "Epoch: [6/10], Step: [2801/3125], Validation Acc: 66.9, Training Loss: 0.11519502848386765\n",
      "Epoch: [7/10], Step: [401/3125], Validation Acc: 67.9, Training Loss: 0.019463472068309784\n",
      "Epoch: [7/10], Step: [801/3125], Validation Acc: 68.1, Training Loss: 0.04637785255908966\n",
      "Epoch: [7/10], Step: [1201/3125], Validation Acc: 69.0, Training Loss: 0.03982171416282654\n",
      "Epoch: [7/10], Step: [1601/3125], Validation Acc: 68.5, Training Loss: 0.4107195734977722\n",
      "Epoch: [7/10], Step: [2001/3125], Validation Acc: 67.0, Training Loss: 0.011738784611225128\n",
      "Epoch: [7/10], Step: [2401/3125], Validation Acc: 68.4, Training Loss: 0.00586353987455368\n",
      "Epoch: [7/10], Step: [2801/3125], Validation Acc: 66.5, Training Loss: 0.0742739588022232\n",
      "Epoch: [8/10], Step: [401/3125], Validation Acc: 69.8, Training Loss: 0.02739098109304905\n",
      "Epoch: [8/10], Step: [801/3125], Validation Acc: 68.4, Training Loss: 0.0225997231900692\n",
      "Epoch: [8/10], Step: [1201/3125], Validation Acc: 68.0, Training Loss: 0.10040462017059326\n",
      "Epoch: [8/10], Step: [1601/3125], Validation Acc: 68.2, Training Loss: 0.021792210638523102\n",
      "Epoch: [8/10], Step: [2001/3125], Validation Acc: 70.0, Training Loss: 0.010630890727043152\n",
      "Epoch: [8/10], Step: [2401/3125], Validation Acc: 67.2, Training Loss: 0.005012452602386475\n",
      "Epoch: [8/10], Step: [2801/3125], Validation Acc: 68.0, Training Loss: 0.015348859131336212\n",
      "Epoch: [9/10], Step: [401/3125], Validation Acc: 68.4, Training Loss: 0.007948577404022217\n",
      "Epoch: [9/10], Step: [801/3125], Validation Acc: 67.6, Training Loss: 0.04991165176033974\n",
      "Epoch: [9/10], Step: [1201/3125], Validation Acc: 69.3, Training Loss: 0.0298568457365036\n",
      "Epoch: [9/10], Step: [1601/3125], Validation Acc: 67.0, Training Loss: 0.045999012887477875\n",
      "Epoch: [9/10], Step: [2001/3125], Validation Acc: 67.1, Training Loss: 0.06296208500862122\n",
      "Epoch: [9/10], Step: [2401/3125], Validation Acc: 67.3, Training Loss: 0.023454036563634872\n",
      "Epoch: [9/10], Step: [2801/3125], Validation Acc: 66.0, Training Loss: 0.17026637494564056\n",
      "Epoch: [10/10], Step: [401/3125], Validation Acc: 68.9, Training Loss: 0.054668378084897995\n",
      "Epoch: [10/10], Step: [801/3125], Validation Acc: 66.3, Training Loss: 0.05117678642272949\n",
      "Epoch: [10/10], Step: [1201/3125], Validation Acc: 69.1, Training Loss: 0.08308828622102737\n",
      "Epoch: [10/10], Step: [1601/3125], Validation Acc: 68.2, Training Loss: 0.0311263557523489\n",
      "Epoch: [10/10], Step: [2001/3125], Validation Acc: 68.5, Training Loss: 0.014035351574420929\n",
      "Epoch: [10/10], Step: [2401/3125], Validation Acc: 68.8, Training Loss: 0.013635190203785896\n",
      "Epoch: [10/10], Step: [2801/3125], Validation Acc: 68.3, Training Loss: 0.024338461458683014\n"
     ]
    },
    {
     "ename": "FileNotFoundError",
     "evalue": "ignored",
     "output_type": "error",
     "traceback": [
      "\u001b[0;31m---------------------------------------------------------------------------\u001b[0m",
      "\u001b[0;31mFileNotFoundError\u001b[0m                         Traceback (most recent call last)",
      "\u001b[0;32m<ipython-input-22-7bee9f0ef163>\u001b[0m in \u001b[0;36m<module>\u001b[0;34m()\u001b[0m\n\u001b[1;32m      6\u001b[0m   \u001b[0mmodel_mul_800\u001b[0m\u001b[0;34m.\u001b[0m\u001b[0mcuda\u001b[0m\u001b[0;34m(\u001b[0m\u001b[0;34m)\u001b[0m\u001b[0;34m\u001b[0m\u001b[0m\n\u001b[1;32m      7\u001b[0m \u001b[0mtrain_loss\u001b[0m\u001b[0;34m,\u001b[0m \u001b[0mval_acc\u001b[0m \u001b[0;34m=\u001b[0m \u001b[0mtrain_model\u001b[0m\u001b[0;34m(\u001b[0m\u001b[0mtrain_loader\u001b[0m\u001b[0;34m,\u001b[0m\u001b[0mmodel_mul_800\u001b[0m\u001b[0;34m)\u001b[0m\u001b[0;34m\u001b[0m\u001b[0m\n\u001b[0;32m----> 8\u001b[0;31m \u001b[0mtorch\u001b[0m\u001b[0;34m.\u001b[0m\u001b[0msave\u001b[0m\u001b[0;34m(\u001b[0m\u001b[0mmodel_mul_800\u001b[0m\u001b[0;34m.\u001b[0m\u001b[0mstate_dict\u001b[0m\u001b[0;34m(\u001b[0m\u001b[0;34m)\u001b[0m\u001b[0;34m,\u001b[0m \u001b[0;34m'drive/My Drive/Colab Notebook/RNN_mul_hidden_size_{}.pkl'\u001b[0m\u001b[0;34m.\u001b[0m\u001b[0mformat\u001b[0m\u001b[0;34m(\u001b[0m\u001b[0mhidden_size\u001b[0m\u001b[0;34m)\u001b[0m\u001b[0;34m)\u001b[0m\u001b[0;34m\u001b[0m\u001b[0m\n\u001b[0m\u001b[1;32m      9\u001b[0m \u001b[0mrecord_mul_800\u001b[0m\u001b[0;34m[\u001b[0m\u001b[0;34m'hidden_size_{}'\u001b[0m\u001b[0;34m.\u001b[0m\u001b[0mformat\u001b[0m\u001b[0;34m(\u001b[0m\u001b[0mhidden_size\u001b[0m\u001b[0;34m)\u001b[0m\u001b[0;34m]\u001b[0m \u001b[0;34m=\u001b[0m \u001b[0;34m(\u001b[0m\u001b[0mtrain_loss\u001b[0m\u001b[0;34m,\u001b[0m \u001b[0mval_acc\u001b[0m\u001b[0;34m)\u001b[0m\u001b[0;34m\u001b[0m\u001b[0m\n",
      "\u001b[0;32m/usr/local/lib/python3.6/dist-packages/torch/serialization.py\u001b[0m in \u001b[0;36msave\u001b[0;34m(obj, f, pickle_module, pickle_protocol)\u001b[0m\n\u001b[1;32m    207\u001b[0m         \u001b[0;34m>>\u001b[0m\u001b[0;34m>\u001b[0m \u001b[0mtorch\u001b[0m\u001b[0;34m.\u001b[0m\u001b[0msave\u001b[0m\u001b[0;34m(\u001b[0m\u001b[0mx\u001b[0m\u001b[0;34m,\u001b[0m \u001b[0mbuffer\u001b[0m\u001b[0;34m)\u001b[0m\u001b[0;34m\u001b[0m\u001b[0m\n\u001b[1;32m    208\u001b[0m     \"\"\"\n\u001b[0;32m--> 209\u001b[0;31m     \u001b[0;32mreturn\u001b[0m \u001b[0m_with_file_like\u001b[0m\u001b[0;34m(\u001b[0m\u001b[0mf\u001b[0m\u001b[0;34m,\u001b[0m \u001b[0;34m\"wb\"\u001b[0m\u001b[0;34m,\u001b[0m \u001b[0;32mlambda\u001b[0m \u001b[0mf\u001b[0m\u001b[0;34m:\u001b[0m \u001b[0m_save\u001b[0m\u001b[0;34m(\u001b[0m\u001b[0mobj\u001b[0m\u001b[0;34m,\u001b[0m \u001b[0mf\u001b[0m\u001b[0;34m,\u001b[0m \u001b[0mpickle_module\u001b[0m\u001b[0;34m,\u001b[0m \u001b[0mpickle_protocol\u001b[0m\u001b[0;34m)\u001b[0m\u001b[0;34m)\u001b[0m\u001b[0;34m\u001b[0m\u001b[0m\n\u001b[0m\u001b[1;32m    210\u001b[0m \u001b[0;34m\u001b[0m\u001b[0m\n\u001b[1;32m    211\u001b[0m \u001b[0;34m\u001b[0m\u001b[0m\n",
      "\u001b[0;32m/usr/local/lib/python3.6/dist-packages/torch/serialization.py\u001b[0m in \u001b[0;36m_with_file_like\u001b[0;34m(f, mode, body)\u001b[0m\n\u001b[1;32m    130\u001b[0m             \u001b[0;34m(\u001b[0m\u001b[0msys\u001b[0m\u001b[0;34m.\u001b[0m\u001b[0mversion_info\u001b[0m\u001b[0;34m[\u001b[0m\u001b[0;36m0\u001b[0m\u001b[0;34m]\u001b[0m \u001b[0;34m==\u001b[0m \u001b[0;36m3\u001b[0m \u001b[0;32mand\u001b[0m \u001b[0misinstance\u001b[0m\u001b[0;34m(\u001b[0m\u001b[0mf\u001b[0m\u001b[0;34m,\u001b[0m \u001b[0mpathlib\u001b[0m\u001b[0;34m.\u001b[0m\u001b[0mPath\u001b[0m\u001b[0;34m)\u001b[0m\u001b[0;34m)\u001b[0m\u001b[0;34m:\u001b[0m\u001b[0;34m\u001b[0m\u001b[0m\n\u001b[1;32m    131\u001b[0m         \u001b[0mnew_fd\u001b[0m \u001b[0;34m=\u001b[0m \u001b[0;32mTrue\u001b[0m\u001b[0;34m\u001b[0m\u001b[0m\n\u001b[0;32m--> 132\u001b[0;31m         \u001b[0mf\u001b[0m \u001b[0;34m=\u001b[0m \u001b[0mopen\u001b[0m\u001b[0;34m(\u001b[0m\u001b[0mf\u001b[0m\u001b[0;34m,\u001b[0m \u001b[0mmode\u001b[0m\u001b[0;34m)\u001b[0m\u001b[0;34m\u001b[0m\u001b[0m\n\u001b[0m\u001b[1;32m    133\u001b[0m     \u001b[0;32mtry\u001b[0m\u001b[0;34m:\u001b[0m\u001b[0;34m\u001b[0m\u001b[0m\n\u001b[1;32m    134\u001b[0m         \u001b[0;32mreturn\u001b[0m \u001b[0mbody\u001b[0m\u001b[0;34m(\u001b[0m\u001b[0mf\u001b[0m\u001b[0;34m)\u001b[0m\u001b[0;34m\u001b[0m\u001b[0m\n",
      "\u001b[0;31mFileNotFoundError\u001b[0m: [Errno 2] No such file or directory: 'drive/My Drive/Colab Notebook/RNN_mul_hidden_size_800.pkl'"
     ]
    }
   ],
   "source": [
    "record_mul_800 = {}\n",
    "hidden_size = 800\n",
    "model_mul_800= RNN_mul(hidden_size = hidden_size, num_layers=1, num_classes=3, pre_trained_emb = ft_emb)\n",
    "use_cuda = True\n",
    "if use_cuda and torch.cuda.is_available():\n",
    "  model_mul_800.cuda()\n",
    "train_loss, val_acc = train_model(train_loader,model_mul_800)\n",
    "torch.save(model_mul_800.state_dict(), 'drive/My Drive/Colab Notebook/RNN_mul_hidden_size_{}.pkl'.format(hidden_size))\n",
    "record_mul_800['hidden_size_{}'.format(hidden_size)] = (train_loss, val_acc)"
   ]
  },
  {
   "cell_type": "code",
   "execution_count": 0,
   "metadata": {
    "colab": {},
    "colab_type": "code",
    "collapsed": true,
    "id": "Dcy58bwxsbR6"
   },
   "outputs": [],
   "source": [
    "torch.save(model_mul_800.state_dict(), 'RNN_mul_hidden_size_{}.pkl'.format(hidden_size))\n"
   ]
  },
  {
   "cell_type": "code",
   "execution_count": 0,
   "metadata": {
    "colab": {},
    "colab_type": "code",
    "collapsed": true,
    "id": "J3FwQzTns5km"
   },
   "outputs": [],
   "source": [
    "!cp 'RNN_mul_hidden_size_800.pkl' 'drive/My Drive/Colab Notebooks'"
   ]
  },
  {
   "cell_type": "code",
   "execution_count": 0,
   "metadata": {
    "colab": {},
    "colab_type": "code",
    "collapsed": true,
    "id": "QkNzqm0WtCDW"
   },
   "outputs": [],
   "source": [
    "record_mul_800['hidden_size_{}'.format(hidden_size)] = (train_loss, val_acc)"
   ]
  },
  {
   "cell_type": "code",
   "execution_count": 27,
   "metadata": {
    "colab": {
     "base_uri": "https://localhost:8080/",
     "height": 34
    },
    "colab_type": "code",
    "id": "gfOorD0ttIKY",
    "outputId": "4e53ca27-3811-463e-8a78-577304bdba6a"
   },
   "outputs": [
    {
     "data": {
      "text/plain": [
       "68.7"
      ]
     },
     "execution_count": 27,
     "metadata": {
      "tags": []
     },
     "output_type": "execute_result"
    }
   ],
   "source": [
    "#val acc of hiddensize 800 with multiplication concat\n",
    "val_acc_rnn_mul800 = test_model(val_loader, model_mul_800)\n",
    "val_acc_rnn_mul800"
   ]
  },
  {
   "cell_type": "code",
   "execution_count": 29,
   "metadata": {
    "colab": {
     "base_uri": "https://localhost:8080/",
     "height": 34
    },
    "colab_type": "code",
    "id": "n9BN9fk2uiuV",
    "outputId": "126e808f-f468-4d2c-acef-129e99716d70"
   },
   "outputs": [
    {
     "data": {
      "text/plain": [
       "64.6"
      ]
     },
     "execution_count": 29,
     "metadata": {
      "tags": []
     },
     "output_type": "execute_result"
    }
   ],
   "source": [
    "rnn_mul_100 = RNN_mul(hidden_size = 100,  num_layers = 1, num_classes = 3, pre_trained_emb = ft_emb)\n",
    "use_cuda = True\n",
    "if use_cuda and torch.cuda.is_available():\n",
    "  rnn_mul_100.cuda()\n",
    "rnn_mul_100.load_state_dict(torch.load('drive/My Drive/Colab Notebooks/RNN_mul_hidden_size_100.pkl'))\n",
    "test_model(val_loader, rnn_mul_100)\n"
   ]
  },
  {
   "cell_type": "code",
   "execution_count": 0,
   "metadata": {
    "colab": {},
    "colab_type": "code",
    "collapsed": true,
    "id": "u8pGKec0tbK_"
   },
   "outputs": [],
   "source": [
    "g = open(\"rnn_mul_800_record.pkl\",\"wb\")\n",
    "pkl.dump(record_mul_800,g)\n",
    "g.close()\n",
    "from google.colab import files\n",
    "files.download('rnn_mul_800_record.pkl')"
   ]
  },
  {
   "cell_type": "markdown",
   "metadata": {
    "colab_type": "text",
    "id": "QJT4lXnOuaY_"
   },
   "source": [
    "# 3. CNN Tuning"
   ]
  },
  {
   "cell_type": "markdown",
   "metadata": {
    "colab_type": "text",
    "id": "EdaTnbGtu77H"
   },
   "source": [
    "## 3.1 Hidden Size Tuning for CNN\n",
    "- Ways of interacting two encoded sentences: concatenation\n",
    "- Weights of embedding : freeze all\n",
    "- Kernel size: 3\n",
    "- Hidden size list: (50, 100, 200, 300, 400, 800)"
   ]
  },
  {
   "cell_type": "code",
   "execution_count": 0,
   "metadata": {
    "colab": {},
    "colab_type": "code",
    "collapsed": true,
    "id": "KTpqA_UyNpUb"
   },
   "outputs": [],
   "source": [
    "class CNN(nn.Module):\n",
    "    def __init__(self,  hidden_size, kernel_size, padding_size, num_layers, num_classes, pre_trained_emb):\n",
    "\n",
    "        super(CNN, self).__init__()\n",
    "\n",
    "        self.num_layers, self.hidden_size, self.kernel_size ,self.padding_size= num_layers, hidden_size,kernel_size,padding_size\n",
    "        self.embedding = nn.Embedding(pre_trained_emb.shape[0], pre_trained_emb.shape[1], padding_idx=PAD_IDX)\n",
    "        #emb_size is the size of imput, hidden_size is the size of output. kernel_size is like the window size, \n",
    "        # the kernel size 3 here means read 3 words/chars once\n",
    "        self.conv1 = nn.Conv1d( pre_trained_emb.shape[1], hidden_size, kernel_size, padding=padding_size)\n",
    "        self.conv2 = nn.Conv1d(hidden_size, hidden_size, kernel_size, padding=padding_size)\n",
    "\n",
    "        self.linear1 = nn.Linear(hidden_size*2, hidden_size)\n",
    "        self.relu = nn.ReLU()\n",
    "        self.linear2 = nn.Linear(hidden_size, num_classes)\n",
    "        #self.maxpooling = nn.MaxPool1d()\n",
    "    def init_weights(self, is_static=True):\n",
    "        self.embedding.weight = nn.Parameter(torch.from_numpy(pre_trained_emb).float())\n",
    "        if is_static:\n",
    "            self.embedding.weight.requires_grad = False\n",
    "            \n",
    "    def forward(self, token1_data, token1_lengths,token2_data, token2_lengths):\n",
    "        batch_size, token1_seq_len = token1_data.size()\n",
    "        _,token2_seq_len = token2_data.size()\n",
    "\n",
    "        embed_sent1 = self.embedding(token1_data)\n",
    "        embed_sent2 = self.embedding(token2_data)\n",
    "        # the convolusional module in pytorch expects the input of size  batch size by the hidden size by the sequence length\n",
    "        hidden_sent1 = self.conv1(embed_sent1.transpose(1,2)).transpose(1,2)\n",
    "        hidden_sent2 = self.conv1(embed_sent2.transpose(1,2)).transpose(1,2)\n",
    "        # relu expect 2-d tensor as input , merging the 0th and 1st dim together\n",
    "        hidden_sent1 = F.relu(hidden_sent1.contiguous().view(-1, hidden_sent1.size(-1))).view(batch_size, token1_seq_len, hidden_sent1.size(-1))\n",
    "        hidden_sent2 = F.relu(hidden_sent2.contiguous().view(-1, hidden_sent2.size(-1))).view(batch_size, token2_seq_len, hidden_sent2.size(-1))\n",
    "        hidden_sent1 = self.conv2(hidden_sent1.transpose(1,2)).transpose(1,2)\n",
    "        hidden_sent2 = self.conv2(hidden_sent2.transpose(1,2)).transpose(1,2)\n",
    "        hidden_sent1 = F.relu(hidden_sent1.contiguous().view(-1, hidden_sent1.size(-1))).view(batch_size, token1_seq_len, hidden_sent1.size(-1))\n",
    "        hidden_sent2 = F.relu(hidden_sent2.contiguous().view(-1, hidden_sent2.size(-1))).view(batch_size, token2_seq_len, hidden_sent2.size(-1))\n",
    "        # max-pooling over time\n",
    "        hidden_sent1 = F.max_pool1d(hidden_sent1.transpose(1,2), kernel_size = token1_seq_len ).transpose(1,2)\n",
    "        hidden_sent2 = F.max_pool1d(hidden_sent2.transpose(1,2), kernel_size = token2_seq_len ).transpose(1,2)\n",
    "        hidden = torch.cat((hidden_sent1, hidden_sent2), dim=2).squeeze()\n",
    "        fc1_out = self.linear1(hidden)\n",
    "        fc1_out = self.relu(fc1_out)\n",
    "        fc2_out = self.linear2(fc1_out)\n",
    "        preds = F.log_softmax(fc2_out, 1)\n",
    "        return preds\n",
    "        "
   ]
  },
  {
   "cell_type": "code",
   "execution_count": 0,
   "metadata": {
    "colab": {},
    "colab_type": "code",
    "collapsed": true,
    "id": "kYjPSGAfY6AG"
   },
   "outputs": [],
   "source": [
    "learning_rate = 3e-4\n",
    "num_epochs = 10 # number epoch to train\n",
    "use_cuda = True"
   ]
  },
  {
   "cell_type": "code",
   "execution_count": 35,
   "metadata": {
    "colab": {
     "base_uri": "https://localhost:8080/",
     "height": 1207
    },
    "colab_type": "code",
    "id": "yXjB0GxfnMkG",
    "outputId": "62d1928c-2e06-44e4-be66-a18aed34c060"
   },
   "outputs": [
    {
     "name": "stdout",
     "output_type": "stream",
     "text": [
      "Epoch: [1/10], Step: [401/3125], Validation Acc: 46.7, Training Acc: 48.26\n",
      "Epoch: [1/10], Step: [801/3125], Validation Acc: 55.7, Training Acc: 54.09\n",
      "Epoch: [1/10], Step: [1201/3125], Validation Acc: 56.7, Training Acc: 56.79\n",
      "Epoch: [1/10], Step: [1601/3125], Validation Acc: 58.6, Training Acc: 59.12\n",
      "Epoch: [1/10], Step: [2001/3125], Validation Acc: 57.2, Training Acc: 58.85\n",
      "Epoch: [1/10], Step: [2401/3125], Validation Acc: 60.0, Training Acc: 61.27\n",
      "Epoch: [1/10], Step: [2801/3125], Validation Acc: 60.1, Training Acc: 62.53\n",
      "Epoch: [2/10], Step: [401/3125], Validation Acc: 59.9, Training Acc: 63.28\n",
      "Epoch: [2/10], Step: [801/3125], Validation Acc: 60.2, Training Acc: 63.76\n",
      "Epoch: [2/10], Step: [1201/3125], Validation Acc: 60.9, Training Acc: 64.54\n",
      "Epoch: [2/10], Step: [1601/3125], Validation Acc: 58.9, Training Acc: 64.91\n",
      "Epoch: [2/10], Step: [2001/3125], Validation Acc: 61.6, Training Acc: 65.93\n",
      "Epoch: [2/10], Step: [2401/3125], Validation Acc: 61.7, Training Acc: 66.68\n",
      "Epoch: [2/10], Step: [2801/3125], Validation Acc: 61.6, Training Acc: 66.72\n",
      "Epoch: [3/10], Step: [401/3125], Validation Acc: 61.8, Training Acc: 67.67\n",
      "Epoch: [3/10], Step: [801/3125], Validation Acc: 61.8, Training Acc: 68.32\n",
      "Epoch: [3/10], Step: [1201/3125], Validation Acc: 60.6, Training Acc: 68.42\n",
      "Epoch: [3/10], Step: [1601/3125], Validation Acc: 61.8, Training Acc: 68.78\n",
      "Epoch: [3/10], Step: [2001/3125], Validation Acc: 62.8, Training Acc: 69.38\n",
      "Epoch: [3/10], Step: [2401/3125], Validation Acc: 61.6, Training Acc: 70.22\n",
      "Epoch: [3/10], Step: [2801/3125], Validation Acc: 62.3, Training Acc: 69.98\n",
      "Epoch: [4/10], Step: [401/3125], Validation Acc: 62.3, Training Acc: 71.36\n",
      "Epoch: [4/10], Step: [801/3125], Validation Acc: 60.6, Training Acc: 71.91\n",
      "Epoch: [4/10], Step: [1201/3125], Validation Acc: 61.6, Training Acc: 72.5\n",
      "Epoch: [4/10], Step: [1601/3125], Validation Acc: 61.2, Training Acc: 72.39\n",
      "Epoch: [4/10], Step: [2001/3125], Validation Acc: 60.9, Training Acc: 73.24\n",
      "Epoch: [4/10], Step: [2401/3125], Validation Acc: 61.9, Training Acc: 73.13\n",
      "Epoch: [4/10], Step: [2801/3125], Validation Acc: 62.1, Training Acc: 73.46\n",
      "Epoch: [5/10], Step: [401/3125], Validation Acc: 62.7, Training Acc: 74.77\n",
      "Epoch: [5/10], Step: [801/3125], Validation Acc: 60.8, Training Acc: 74.78\n",
      "Epoch: [5/10], Step: [1201/3125], Validation Acc: 62.8, Training Acc: 74.74\n",
      "Epoch: [5/10], Step: [1601/3125], Validation Acc: 62.2, Training Acc: 76.05\n",
      "Epoch: [5/10], Step: [2001/3125], Validation Acc: 62.8, Training Acc: 75.81\n",
      "Epoch: [5/10], Step: [2401/3125], Validation Acc: 61.8, Training Acc: 76.17\n",
      "Epoch: [5/10], Step: [2801/3125], Validation Acc: 64.1, Training Acc: 75.95\n",
      "Epoch: [6/10], Step: [401/3125], Validation Acc: 63.7, Training Acc: 77.06\n",
      "Epoch: [6/10], Step: [801/3125], Validation Acc: 62.6, Training Acc: 77.78\n",
      "Epoch: [6/10], Step: [1201/3125], Validation Acc: 62.5, Training Acc: 78.24\n",
      "Epoch: [6/10], Step: [1601/3125], Validation Acc: 63.0, Training Acc: 77.81\n",
      "Epoch: [6/10], Step: [2001/3125], Validation Acc: 64.0, Training Acc: 78.23\n",
      "Epoch: [6/10], Step: [2401/3125], Validation Acc: 61.7, Training Acc: 78.14\n",
      "Epoch: [6/10], Step: [2801/3125], Validation Acc: 63.4, Training Acc: 78.72\n",
      "Epoch: [7/10], Step: [401/3125], Validation Acc: 62.4, Training Acc: 79.51\n",
      "Epoch: [7/10], Step: [801/3125], Validation Acc: 62.1, Training Acc: 80.17\n",
      "Epoch: [7/10], Step: [1201/3125], Validation Acc: 62.9, Training Acc: 80.51\n",
      "Epoch: [7/10], Step: [1601/3125], Validation Acc: 62.6, Training Acc: 80.25\n",
      "Epoch: [7/10], Step: [2001/3125], Validation Acc: 62.1, Training Acc: 80.38\n",
      "Epoch: [7/10], Step: [2401/3125], Validation Acc: 63.5, Training Acc: 81.05\n",
      "Epoch: [7/10], Step: [2801/3125], Validation Acc: 60.4, Training Acc: 81.15\n",
      "Epoch: [8/10], Step: [401/3125], Validation Acc: 63.4, Training Acc: 82.01\n",
      "Epoch: [8/10], Step: [801/3125], Validation Acc: 61.5, Training Acc: 81.88\n",
      "Epoch: [8/10], Step: [1201/3125], Validation Acc: 61.4, Training Acc: 82.56\n",
      "Epoch: [8/10], Step: [1601/3125], Validation Acc: 62.4, Training Acc: 82.38\n",
      "Epoch: [8/10], Step: [2001/3125], Validation Acc: 62.6, Training Acc: 83.34\n",
      "Epoch: [8/10], Step: [2401/3125], Validation Acc: 63.1, Training Acc: 82.19\n",
      "Epoch: [8/10], Step: [2801/3125], Validation Acc: 60.7, Training Acc: 83.14\n",
      "Epoch: [9/10], Step: [401/3125], Validation Acc: 60.6, Training Acc: 84.24\n",
      "Epoch: [9/10], Step: [801/3125], Validation Acc: 61.2, Training Acc: 84.25\n",
      "Epoch: [9/10], Step: [1201/3125], Validation Acc: 60.8, Training Acc: 84.06\n",
      "Epoch: [9/10], Step: [1601/3125], Validation Acc: 61.2, Training Acc: 84.37\n",
      "Epoch: [9/10], Step: [2001/3125], Validation Acc: 61.1, Training Acc: 85.0\n",
      "Epoch: [9/10], Step: [2401/3125], Validation Acc: 61.5, Training Acc: 85.58\n",
      "Epoch: [9/10], Step: [2801/3125], Validation Acc: 60.8, Training Acc: 85.67\n",
      "Epoch: [10/10], Step: [401/3125], Validation Acc: 60.5, Training Acc: 85.9\n",
      "Epoch: [10/10], Step: [801/3125], Validation Acc: 59.4, Training Acc: 85.41\n",
      "Epoch: [10/10], Step: [1201/3125], Validation Acc: 60.7, Training Acc: 86.17\n",
      "Epoch: [10/10], Step: [1601/3125], Validation Acc: 61.5, Training Acc: 85.93\n",
      "Epoch: [10/10], Step: [2001/3125], Validation Acc: 61.9, Training Acc: 86.57\n",
      "Epoch: [10/10], Step: [2401/3125], Validation Acc: 62.2, Training Acc: 86.57\n",
      "Epoch: [10/10], Step: [2801/3125], Validation Acc: 61.4, Training Acc: 87.25\n"
     ]
    }
   ],
   "source": [
    "cnn_hidden_trainacc = {}\n",
    "hidden_size = 50\n",
    "model = CNN(hidden_size = hidden_size,  kernel_size = 3,padding_size = 1,num_layers=2, num_classes=3, pre_trained_emb = ft_emb)\n",
    "use_cuda = True\n",
    "if use_cuda and torch.cuda.is_available():\n",
    "  model.cuda()\n",
    "val_acc,train_acc = train_model(train_loader,model)\n",
    "torch.save(model.state_dict(), 'new_CNN_hidden_size_{}.pkl'.format(hidden_size))\n",
    "cnn_hidden_trainacc['hidden_size_{}'.format(hidden_size)] = (val_acc,train_acc)\n",
    "!cp 'new_CNN_hidden_size_50.pkl' 'drive/My Drive/Colab Notebooks/new_CNN_hidden_size_50.pkl'\n"
   ]
  },
  {
   "cell_type": "code",
   "execution_count": 0,
   "metadata": {
    "colab": {},
    "colab_type": "code",
    "collapsed": true,
    "id": "wGawmQ032SNM"
   },
   "outputs": [],
   "source": [
    "import pickle\n",
    "f = open(\"cnn_cat_hidden50_trainacc.pkl\",\"wb\")\n",
    "pickle.dump(cnn_hidden_trainacc,f)\n",
    "f.close()"
   ]
  },
  {
   "cell_type": "code",
   "execution_count": 0,
   "metadata": {
    "colab": {},
    "colab_type": "code",
    "collapsed": true,
    "id": "m9ApxsS82cki"
   },
   "outputs": [],
   "source": [
    "files.download('cnn_cat_hidden50_trainacc.pkl')"
   ]
  },
  {
   "cell_type": "code",
   "execution_count": 29,
   "metadata": {
    "colab": {
     "base_uri": "https://localhost:8080/",
     "height": 1207
    },
    "colab_type": "code",
    "id": "xZI7FiiNY2PH",
    "outputId": "aa529f82-36d0-4f6f-b2af-0a11098e5a93"
   },
   "outputs": [
    {
     "name": "stdout",
     "output_type": "stream",
     "text": [
      "Epoch: [1/10], Step: [401/3125], Validation Acc: 49.5, Training Loss: 1.0595282316207886\n",
      "Epoch: [1/10], Step: [801/3125], Validation Acc: 52.7, Training Loss: 1.0235836505889893\n",
      "Epoch: [1/10], Step: [1201/3125], Validation Acc: 58.3, Training Loss: 0.9650046825408936\n",
      "Epoch: [1/10], Step: [1601/3125], Validation Acc: 58.3, Training Loss: 0.7270699143409729\n",
      "Epoch: [1/10], Step: [2001/3125], Validation Acc: 59.9, Training Loss: 1.0607911348342896\n",
      "Epoch: [1/10], Step: [2401/3125], Validation Acc: 59.6, Training Loss: 0.9951475858688354\n",
      "Epoch: [1/10], Step: [2801/3125], Validation Acc: 58.7, Training Loss: 0.9968999624252319\n",
      "Epoch: [2/10], Step: [401/3125], Validation Acc: 61.7, Training Loss: 0.7215070128440857\n",
      "Epoch: [2/10], Step: [801/3125], Validation Acc: 61.3, Training Loss: 0.880528450012207\n",
      "Epoch: [2/10], Step: [1201/3125], Validation Acc: 62.1, Training Loss: 0.8688835501670837\n",
      "Epoch: [2/10], Step: [1601/3125], Validation Acc: 62.2, Training Loss: 0.7485660910606384\n",
      "Epoch: [2/10], Step: [2001/3125], Validation Acc: 61.0, Training Loss: 0.5856716632843018\n",
      "Epoch: [2/10], Step: [2401/3125], Validation Acc: 63.3, Training Loss: 1.0019714832305908\n",
      "Epoch: [2/10], Step: [2801/3125], Validation Acc: 62.0, Training Loss: 0.7867307662963867\n",
      "Epoch: [3/10], Step: [401/3125], Validation Acc: 62.6, Training Loss: 0.7809978127479553\n",
      "Epoch: [3/10], Step: [801/3125], Validation Acc: 62.6, Training Loss: 0.6695414185523987\n",
      "Epoch: [3/10], Step: [1201/3125], Validation Acc: 64.0, Training Loss: 0.8648766875267029\n",
      "Epoch: [3/10], Step: [1601/3125], Validation Acc: 63.3, Training Loss: 0.6663268208503723\n",
      "Epoch: [3/10], Step: [2001/3125], Validation Acc: 62.3, Training Loss: 1.1150585412979126\n",
      "Epoch: [3/10], Step: [2401/3125], Validation Acc: 62.2, Training Loss: 0.661048173904419\n",
      "Epoch: [3/10], Step: [2801/3125], Validation Acc: 62.6, Training Loss: 0.4963233768939972\n",
      "Epoch: [4/10], Step: [401/3125], Validation Acc: 64.2, Training Loss: 0.7048852443695068\n",
      "Epoch: [4/10], Step: [801/3125], Validation Acc: 62.7, Training Loss: 0.7451242804527283\n",
      "Epoch: [4/10], Step: [1201/3125], Validation Acc: 63.6, Training Loss: 0.8489177227020264\n",
      "Epoch: [4/10], Step: [1601/3125], Validation Acc: 63.0, Training Loss: 0.6532166004180908\n",
      "Epoch: [4/10], Step: [2001/3125], Validation Acc: 64.0, Training Loss: 0.664060115814209\n",
      "Epoch: [4/10], Step: [2401/3125], Validation Acc: 63.0, Training Loss: 0.658601701259613\n",
      "Epoch: [4/10], Step: [2801/3125], Validation Acc: 64.3, Training Loss: 0.6536038517951965\n",
      "Epoch: [5/10], Step: [401/3125], Validation Acc: 63.1, Training Loss: 0.632737934589386\n",
      "Epoch: [5/10], Step: [801/3125], Validation Acc: 64.1, Training Loss: 0.5530288219451904\n",
      "Epoch: [5/10], Step: [1201/3125], Validation Acc: 63.9, Training Loss: 0.7748141884803772\n",
      "Epoch: [5/10], Step: [1601/3125], Validation Acc: 63.7, Training Loss: 0.7862377762794495\n",
      "Epoch: [5/10], Step: [2001/3125], Validation Acc: 64.0, Training Loss: 0.6194809675216675\n",
      "Epoch: [5/10], Step: [2401/3125], Validation Acc: 63.2, Training Loss: 0.789474368095398\n",
      "Epoch: [5/10], Step: [2801/3125], Validation Acc: 63.2, Training Loss: 0.662028431892395\n",
      "Epoch: [6/10], Step: [401/3125], Validation Acc: 63.4, Training Loss: 0.6280721426010132\n",
      "Epoch: [6/10], Step: [801/3125], Validation Acc: 61.6, Training Loss: 0.9164879322052002\n",
      "Epoch: [6/10], Step: [1201/3125], Validation Acc: 63.0, Training Loss: 0.6203283071517944\n",
      "Epoch: [6/10], Step: [1601/3125], Validation Acc: 64.2, Training Loss: 0.7035948634147644\n",
      "Epoch: [6/10], Step: [2001/3125], Validation Acc: 65.4, Training Loss: 0.45399507880210876\n",
      "Epoch: [6/10], Step: [2401/3125], Validation Acc: 63.5, Training Loss: 0.5737125873565674\n",
      "Epoch: [6/10], Step: [2801/3125], Validation Acc: 63.1, Training Loss: 0.6739866733551025\n",
      "Epoch: [7/10], Step: [401/3125], Validation Acc: 64.0, Training Loss: 0.6433504223823547\n",
      "Epoch: [7/10], Step: [801/3125], Validation Acc: 64.4, Training Loss: 0.5105781555175781\n",
      "Epoch: [7/10], Step: [1201/3125], Validation Acc: 62.4, Training Loss: 0.9785649180412292\n",
      "Epoch: [7/10], Step: [1601/3125], Validation Acc: 62.4, Training Loss: 0.5909256935119629\n",
      "Epoch: [7/10], Step: [2001/3125], Validation Acc: 63.5, Training Loss: 0.5694164037704468\n",
      "Epoch: [7/10], Step: [2401/3125], Validation Acc: 63.1, Training Loss: 0.7234873175621033\n",
      "Epoch: [7/10], Step: [2801/3125], Validation Acc: 62.1, Training Loss: 0.7179542779922485\n",
      "Epoch: [8/10], Step: [401/3125], Validation Acc: 62.5, Training Loss: 0.29777097702026367\n",
      "Epoch: [8/10], Step: [801/3125], Validation Acc: 62.8, Training Loss: 0.5161488652229309\n",
      "Epoch: [8/10], Step: [1201/3125], Validation Acc: 62.3, Training Loss: 0.5735813975334167\n",
      "Epoch: [8/10], Step: [1601/3125], Validation Acc: 63.4, Training Loss: 0.4099861681461334\n",
      "Epoch: [8/10], Step: [2001/3125], Validation Acc: 61.7, Training Loss: 0.3254944980144501\n",
      "Epoch: [8/10], Step: [2401/3125], Validation Acc: 62.1, Training Loss: 0.2918614149093628\n",
      "Epoch: [8/10], Step: [2801/3125], Validation Acc: 64.9, Training Loss: 0.5002826452255249\n",
      "Epoch: [9/10], Step: [401/3125], Validation Acc: 61.3, Training Loss: 0.4346224069595337\n",
      "Epoch: [9/10], Step: [801/3125], Validation Acc: 62.3, Training Loss: 0.4828205108642578\n",
      "Epoch: [9/10], Step: [1201/3125], Validation Acc: 63.6, Training Loss: 0.4503771960735321\n",
      "Epoch: [9/10], Step: [1601/3125], Validation Acc: 63.3, Training Loss: 0.3299436569213867\n",
      "Epoch: [9/10], Step: [2001/3125], Validation Acc: 62.0, Training Loss: 0.5975068807601929\n",
      "Epoch: [9/10], Step: [2401/3125], Validation Acc: 62.1, Training Loss: 0.27860164642333984\n",
      "Epoch: [9/10], Step: [2801/3125], Validation Acc: 61.0, Training Loss: 0.5226299166679382\n",
      "Epoch: [10/10], Step: [401/3125], Validation Acc: 61.8, Training Loss: 0.4025040864944458\n",
      "Epoch: [10/10], Step: [801/3125], Validation Acc: 63.3, Training Loss: 0.46930480003356934\n",
      "Epoch: [10/10], Step: [1201/3125], Validation Acc: 63.1, Training Loss: 0.44988858699798584\n",
      "Epoch: [10/10], Step: [1601/3125], Validation Acc: 62.1, Training Loss: 0.2837081849575043\n",
      "Epoch: [10/10], Step: [2001/3125], Validation Acc: 62.1, Training Loss: 0.3913499712944031\n",
      "Epoch: [10/10], Step: [2401/3125], Validation Acc: 61.6, Training Loss: 0.5481525659561157\n",
      "Epoch: [10/10], Step: [2801/3125], Validation Acc: 60.6, Training Loss: 0.38825684785842896\n"
     ]
    }
   ],
   "source": [
    "performance_CNN = {}\n",
    "hidden_size = 50\n",
    "model_CNN = CNN(hidden_size = hidden_size, kernel_size = 3,padding_size = 1, num_layers=2, num_classes=3, pre_trained_emb = ft_emb)\n",
    "use_cuda = True\n",
    "if use_cuda and torch.cuda.is_available():\n",
    "  model_CNN.cuda()\n",
    "train_loss, val_acc = train_model(train_loader,model_CNN)\n",
    "torch.save(model_CNN.state_dict(), 'CNN_hidden_size_{}.pkl'.format(hidden_size))\n",
    "performance_CNN['hidden_size_{}'.format(hidden_size)] = (train_loss, val_acc)"
   ]
  },
  {
   "cell_type": "code",
   "execution_count": 0,
   "metadata": {
    "colab": {},
    "colab_type": "code",
    "collapsed": true,
    "id": "ic5MWiMP8C4J"
   },
   "outputs": [],
   "source": [
    "import pickle\n",
    "g = open(\"cnn_hidden_size_record.pkl\",\"wb\")\n",
    "pickle.dump(performance_CNN,g)\n",
    "g.close()"
   ]
  },
  {
   "cell_type": "code",
   "execution_count": 0,
   "metadata": {
    "colab": {},
    "colab_type": "code",
    "collapsed": true,
    "id": "iH2Aoegy8KTw"
   },
   "outputs": [],
   "source": [
    "files.download('cnn_hidden_size_record.pkl') "
   ]
  },
  {
   "cell_type": "code",
   "execution_count": 38,
   "metadata": {
    "colab": {
     "base_uri": "https://localhost:8080/",
     "height": 1207
    },
    "colab_type": "code",
    "id": "Fjp7ey0L2lg8",
    "outputId": "2e07fd9f-aab8-4ad7-ca70-0630c4a28521"
   },
   "outputs": [
    {
     "name": "stdout",
     "output_type": "stream",
     "text": [
      "Epoch: [1/10], Step: [401/3125], Validation Acc: 54.4, Training Acc: 50.87\n",
      "Epoch: [1/10], Step: [801/3125], Validation Acc: 57.0, Training Acc: 56.65\n",
      "Epoch: [1/10], Step: [1201/3125], Validation Acc: 57.7, Training Acc: 59.14\n",
      "Epoch: [1/10], Step: [1601/3125], Validation Acc: 58.0, Training Acc: 61.24\n",
      "Epoch: [1/10], Step: [2001/3125], Validation Acc: 60.7, Training Acc: 62.72\n",
      "Epoch: [1/10], Step: [2401/3125], Validation Acc: 58.9, Training Acc: 62.62\n",
      "Epoch: [1/10], Step: [2801/3125], Validation Acc: 61.0, Training Acc: 63.9\n",
      "Epoch: [2/10], Step: [401/3125], Validation Acc: 61.9, Training Acc: 66.34\n",
      "Epoch: [2/10], Step: [801/3125], Validation Acc: 61.6, Training Acc: 66.81\n",
      "Epoch: [2/10], Step: [1201/3125], Validation Acc: 63.0, Training Acc: 67.41\n",
      "Epoch: [2/10], Step: [1601/3125], Validation Acc: 62.6, Training Acc: 67.9\n",
      "Epoch: [2/10], Step: [2001/3125], Validation Acc: 63.2, Training Acc: 68.46\n",
      "Epoch: [2/10], Step: [2401/3125], Validation Acc: 62.3, Training Acc: 69.51\n",
      "Epoch: [2/10], Step: [2801/3125], Validation Acc: 63.3, Training Acc: 69.55\n",
      "Epoch: [3/10], Step: [401/3125], Validation Acc: 64.5, Training Acc: 70.61\n",
      "Epoch: [3/10], Step: [801/3125], Validation Acc: 64.0, Training Acc: 71.48\n",
      "Epoch: [3/10], Step: [1201/3125], Validation Acc: 64.2, Training Acc: 70.43\n",
      "Epoch: [3/10], Step: [1601/3125], Validation Acc: 64.9, Training Acc: 72.5\n",
      "Epoch: [3/10], Step: [2001/3125], Validation Acc: 64.0, Training Acc: 71.84\n",
      "Epoch: [3/10], Step: [2401/3125], Validation Acc: 63.6, Training Acc: 73.13\n",
      "Epoch: [3/10], Step: [2801/3125], Validation Acc: 65.4, Training Acc: 74.27\n",
      "Epoch: [4/10], Step: [401/3125], Validation Acc: 65.3, Training Acc: 74.88\n",
      "Epoch: [4/10], Step: [801/3125], Validation Acc: 64.5, Training Acc: 74.92\n",
      "Epoch: [4/10], Step: [1201/3125], Validation Acc: 65.1, Training Acc: 75.87\n",
      "Epoch: [4/10], Step: [1601/3125], Validation Acc: 64.0, Training Acc: 75.43\n",
      "Epoch: [4/10], Step: [2001/3125], Validation Acc: 65.2, Training Acc: 76.66\n",
      "Epoch: [4/10], Step: [2401/3125], Validation Acc: 63.4, Training Acc: 76.6\n",
      "Epoch: [4/10], Step: [2801/3125], Validation Acc: 64.7, Training Acc: 76.99\n",
      "Epoch: [5/10], Step: [401/3125], Validation Acc: 64.2, Training Acc: 78.7\n",
      "Epoch: [5/10], Step: [801/3125], Validation Acc: 63.8, Training Acc: 78.31\n",
      "Epoch: [5/10], Step: [1201/3125], Validation Acc: 64.9, Training Acc: 79.07\n",
      "Epoch: [5/10], Step: [1601/3125], Validation Acc: 64.3, Training Acc: 79.41\n",
      "Epoch: [5/10], Step: [2001/3125], Validation Acc: 64.4, Training Acc: 80.3\n",
      "Epoch: [5/10], Step: [2401/3125], Validation Acc: 65.6, Training Acc: 80.71\n",
      "Epoch: [5/10], Step: [2801/3125], Validation Acc: 64.8, Training Acc: 81.28\n",
      "Epoch: [6/10], Step: [401/3125], Validation Acc: 64.5, Training Acc: 82.08\n",
      "Epoch: [6/10], Step: [801/3125], Validation Acc: 63.7, Training Acc: 82.35\n",
      "Epoch: [6/10], Step: [1201/3125], Validation Acc: 63.3, Training Acc: 82.23\n",
      "Epoch: [6/10], Step: [1601/3125], Validation Acc: 63.0, Training Acc: 82.62\n",
      "Epoch: [6/10], Step: [2001/3125], Validation Acc: 63.1, Training Acc: 83.37\n",
      "Epoch: [6/10], Step: [2401/3125], Validation Acc: 64.0, Training Acc: 83.5\n",
      "Epoch: [6/10], Step: [2801/3125], Validation Acc: 65.8, Training Acc: 83.56\n",
      "Epoch: [7/10], Step: [401/3125], Validation Acc: 62.3, Training Acc: 84.99\n",
      "Epoch: [7/10], Step: [801/3125], Validation Acc: 63.9, Training Acc: 84.91\n",
      "Epoch: [7/10], Step: [1201/3125], Validation Acc: 62.7, Training Acc: 85.84\n",
      "Epoch: [7/10], Step: [1601/3125], Validation Acc: 65.5, Training Acc: 85.64\n",
      "Epoch: [7/10], Step: [2001/3125], Validation Acc: 63.3, Training Acc: 86.1\n",
      "Epoch: [7/10], Step: [2401/3125], Validation Acc: 63.7, Training Acc: 86.27\n",
      "Epoch: [7/10], Step: [2801/3125], Validation Acc: 63.9, Training Acc: 86.69\n",
      "Epoch: [8/10], Step: [401/3125], Validation Acc: 62.8, Training Acc: 87.78\n",
      "Epoch: [8/10], Step: [801/3125], Validation Acc: 61.0, Training Acc: 86.79\n",
      "Epoch: [8/10], Step: [1201/3125], Validation Acc: 60.9, Training Acc: 88.45\n",
      "Epoch: [8/10], Step: [1601/3125], Validation Acc: 62.4, Training Acc: 88.45\n",
      "Epoch: [8/10], Step: [2001/3125], Validation Acc: 63.8, Training Acc: 88.45\n",
      "Epoch: [8/10], Step: [2401/3125], Validation Acc: 64.8, Training Acc: 88.26\n",
      "Epoch: [8/10], Step: [2801/3125], Validation Acc: 62.2, Training Acc: 89.41\n",
      "Epoch: [9/10], Step: [401/3125], Validation Acc: 62.4, Training Acc: 88.97\n",
      "Epoch: [9/10], Step: [801/3125], Validation Acc: 61.2, Training Acc: 89.61\n",
      "Epoch: [9/10], Step: [1201/3125], Validation Acc: 62.9, Training Acc: 90.51\n",
      "Epoch: [9/10], Step: [1601/3125], Validation Acc: 62.3, Training Acc: 90.84\n",
      "Epoch: [9/10], Step: [2001/3125], Validation Acc: 62.8, Training Acc: 90.77\n",
      "Epoch: [9/10], Step: [2401/3125], Validation Acc: 63.0, Training Acc: 90.76\n",
      "Epoch: [9/10], Step: [2801/3125], Validation Acc: 62.6, Training Acc: 90.88\n",
      "Epoch: [10/10], Step: [401/3125], Validation Acc: 63.8, Training Acc: 91.76\n",
      "Epoch: [10/10], Step: [801/3125], Validation Acc: 61.3, Training Acc: 91.69\n",
      "Epoch: [10/10], Step: [1201/3125], Validation Acc: 61.7, Training Acc: 91.34\n",
      "Epoch: [10/10], Step: [1601/3125], Validation Acc: 62.0, Training Acc: 91.85\n",
      "Epoch: [10/10], Step: [2001/3125], Validation Acc: 60.5, Training Acc: 91.91\n",
      "Epoch: [10/10], Step: [2401/3125], Validation Acc: 62.5, Training Acc: 92.42\n",
      "Epoch: [10/10], Step: [2801/3125], Validation Acc: 61.2, Training Acc: 92.91\n"
     ]
    }
   ],
   "source": [
    "#cnn_hidden_trainacc = {}\n",
    "hidden_size = 100\n",
    "model = CNN(hidden_size = hidden_size,  kernel_size = 3,padding_size = 1,num_layers=2, num_classes=3, pre_trained_emb = ft_emb)\n",
    "use_cuda = True\n",
    "if use_cuda and torch.cuda.is_available():\n",
    "  model.cuda()\n",
    "val_acc,train_acc = train_model(train_loader,model)\n",
    "torch.save(model.state_dict(), 'new_CNN_hidden_size_{}.pkl'.format(hidden_size))\n",
    "cnn_hidden_trainacc['hidden_size_{}'.format(hidden_size)] = (val_acc,train_acc)\n",
    "!cp 'new_CNN_hidden_size_100.pkl' 'drive/My Drive/Colab Notebooks/new_CNN_hidden_size_100.pkl'"
   ]
  },
  {
   "cell_type": "code",
   "execution_count": 24,
   "metadata": {
    "colab": {
     "base_uri": "https://localhost:8080/",
     "height": 1207
    },
    "colab_type": "code",
    "id": "gXI9tLnTas43",
    "outputId": "60b4f2ef-5485-4165-a9ab-1850c084d89d"
   },
   "outputs": [
    {
     "name": "stdout",
     "output_type": "stream",
     "text": [
      "Epoch: [1/10], Step: [401/3125], Validation Acc: 52.4, Training Acc: 52.5\n",
      "Epoch: [1/10], Step: [801/3125], Validation Acc: 56.5, Training Acc: 55.94\n",
      "Epoch: [1/10], Step: [1201/3125], Validation Acc: 59.1, Training Acc: 60.15\n",
      "Epoch: [1/10], Step: [1601/3125], Validation Acc: 60.9, Training Acc: 61.05\n",
      "Epoch: [1/10], Step: [2001/3125], Validation Acc: 61.0, Training Acc: 62.46\n",
      "Epoch: [1/10], Step: [2401/3125], Validation Acc: 61.2, Training Acc: 63.42\n",
      "Epoch: [1/10], Step: [2801/3125], Validation Acc: 62.1, Training Acc: 64.02\n",
      "Epoch: [2/10], Step: [401/3125], Validation Acc: 61.1, Training Acc: 65.4\n",
      "Epoch: [2/10], Step: [801/3125], Validation Acc: 62.3, Training Acc: 66.78\n",
      "Epoch: [2/10], Step: [1201/3125], Validation Acc: 60.5, Training Acc: 67.52\n",
      "Epoch: [2/10], Step: [1601/3125], Validation Acc: 61.2, Training Acc: 68.4\n",
      "Epoch: [2/10], Step: [2001/3125], Validation Acc: 62.7, Training Acc: 68.46\n",
      "Epoch: [2/10], Step: [2401/3125], Validation Acc: 62.8, Training Acc: 69.23\n",
      "Epoch: [2/10], Step: [2801/3125], Validation Acc: 61.9, Training Acc: 69.66\n",
      "Epoch: [3/10], Step: [401/3125], Validation Acc: 63.3, Training Acc: 71.21\n",
      "Epoch: [3/10], Step: [801/3125], Validation Acc: 62.5, Training Acc: 71.21\n",
      "Epoch: [3/10], Step: [1201/3125], Validation Acc: 62.3, Training Acc: 72.05\n",
      "Epoch: [3/10], Step: [1601/3125], Validation Acc: 62.5, Training Acc: 72.7\n",
      "Epoch: [3/10], Step: [2001/3125], Validation Acc: 64.2, Training Acc: 73.62\n",
      "Epoch: [3/10], Step: [2401/3125], Validation Acc: 63.3, Training Acc: 73.54\n",
      "Epoch: [3/10], Step: [2801/3125], Validation Acc: 64.4, Training Acc: 74.64\n",
      "Epoch: [4/10], Step: [401/3125], Validation Acc: 64.1, Training Acc: 75.07\n",
      "Epoch: [4/10], Step: [801/3125], Validation Acc: 64.9, Training Acc: 76.01\n",
      "Epoch: [4/10], Step: [1201/3125], Validation Acc: 64.7, Training Acc: 75.99\n",
      "Epoch: [4/10], Step: [1601/3125], Validation Acc: 63.5, Training Acc: 76.66\n",
      "Epoch: [4/10], Step: [2001/3125], Validation Acc: 63.5, Training Acc: 76.96\n",
      "Epoch: [4/10], Step: [2401/3125], Validation Acc: 64.3, Training Acc: 78.0\n",
      "Epoch: [4/10], Step: [2801/3125], Validation Acc: 63.6, Training Acc: 78.22\n",
      "Epoch: [5/10], Step: [401/3125], Validation Acc: 62.0, Training Acc: 78.7\n",
      "Epoch: [5/10], Step: [801/3125], Validation Acc: 62.6, Training Acc: 79.49\n",
      "Epoch: [5/10], Step: [1201/3125], Validation Acc: 64.7, Training Acc: 80.3\n",
      "Epoch: [5/10], Step: [1601/3125], Validation Acc: 64.9, Training Acc: 79.95\n",
      "Epoch: [5/10], Step: [2001/3125], Validation Acc: 64.3, Training Acc: 80.85\n",
      "Epoch: [5/10], Step: [2401/3125], Validation Acc: 64.0, Training Acc: 81.51\n",
      "Epoch: [5/10], Step: [2801/3125], Validation Acc: 63.7, Training Acc: 81.59\n",
      "Epoch: [6/10], Step: [401/3125], Validation Acc: 62.5, Training Acc: 81.45\n",
      "Epoch: [6/10], Step: [801/3125], Validation Acc: 63.7, Training Acc: 82.73\n",
      "Epoch: [6/10], Step: [1201/3125], Validation Acc: 63.1, Training Acc: 83.66\n",
      "Epoch: [6/10], Step: [1601/3125], Validation Acc: 65.1, Training Acc: 83.07\n",
      "Epoch: [6/10], Step: [2001/3125], Validation Acc: 64.1, Training Acc: 83.43\n",
      "Epoch: [6/10], Step: [2401/3125], Validation Acc: 63.5, Training Acc: 83.82\n",
      "Epoch: [6/10], Step: [2801/3125], Validation Acc: 63.9, Training Acc: 84.69\n",
      "Epoch: [7/10], Step: [401/3125], Validation Acc: 62.7, Training Acc: 85.51\n",
      "Epoch: [7/10], Step: [801/3125], Validation Acc: 63.6, Training Acc: 85.6\n",
      "Epoch: [7/10], Step: [1201/3125], Validation Acc: 62.8, Training Acc: 86.3\n",
      "Epoch: [7/10], Step: [1601/3125], Validation Acc: 64.5, Training Acc: 86.6\n",
      "Epoch: [7/10], Step: [2001/3125], Validation Acc: 64.6, Training Acc: 86.54\n",
      "Epoch: [7/10], Step: [2401/3125], Validation Acc: 62.3, Training Acc: 85.87\n",
      "Epoch: [7/10], Step: [2801/3125], Validation Acc: 63.2, Training Acc: 87.49\n",
      "Epoch: [8/10], Step: [401/3125], Validation Acc: 61.5, Training Acc: 87.94\n",
      "Epoch: [8/10], Step: [801/3125], Validation Acc: 61.8, Training Acc: 88.01\n",
      "Epoch: [8/10], Step: [1201/3125], Validation Acc: 62.9, Training Acc: 88.22\n",
      "Epoch: [8/10], Step: [1601/3125], Validation Acc: 63.3, Training Acc: 88.72\n",
      "Epoch: [8/10], Step: [2001/3125], Validation Acc: 63.8, Training Acc: 89.04\n",
      "Epoch: [8/10], Step: [2401/3125], Validation Acc: 62.2, Training Acc: 89.19\n",
      "Epoch: [8/10], Step: [2801/3125], Validation Acc: 63.7, Training Acc: 88.97\n",
      "Epoch: [9/10], Step: [401/3125], Validation Acc: 64.0, Training Acc: 90.12\n",
      "Epoch: [9/10], Step: [801/3125], Validation Acc: 62.8, Training Acc: 90.59\n",
      "Epoch: [9/10], Step: [1201/3125], Validation Acc: 62.0, Training Acc: 89.41\n",
      "Epoch: [9/10], Step: [1601/3125], Validation Acc: 63.5, Training Acc: 90.58\n",
      "Epoch: [9/10], Step: [2001/3125], Validation Acc: 63.0, Training Acc: 91.14\n",
      "Epoch: [9/10], Step: [2401/3125], Validation Acc: 61.2, Training Acc: 91.12\n",
      "Epoch: [9/10], Step: [2801/3125], Validation Acc: 61.3, Training Acc: 90.58\n",
      "Epoch: [10/10], Step: [401/3125], Validation Acc: 61.9, Training Acc: 92.2\n",
      "Epoch: [10/10], Step: [801/3125], Validation Acc: 61.7, Training Acc: 91.81\n",
      "Epoch: [10/10], Step: [1201/3125], Validation Acc: 61.9, Training Acc: 92.04\n",
      "Epoch: [10/10], Step: [1601/3125], Validation Acc: 63.4, Training Acc: 92.42\n",
      "Epoch: [10/10], Step: [2001/3125], Validation Acc: 61.1, Training Acc: 91.97\n",
      "Epoch: [10/10], Step: [2401/3125], Validation Acc: 62.5, Training Acc: 92.85\n",
      "Epoch: [10/10], Step: [2801/3125], Validation Acc: 62.2, Training Acc: 92.96\n"
     ]
    }
   ],
   "source": [
    "#cnn_hidden_trainacc = {}\n",
    "hidden_size = 100\n",
    "model = CNN(hidden_size = hidden_size,  kernel_size = 3,padding_size = 1,num_layers=2, num_classes=3, pre_trained_emb = ft_emb)\n",
    "use_cuda = True\n",
    "if use_cuda and torch.cuda.is_available():\n",
    "  model.cuda()\n",
    "val_acc,train_acc = train_model(train_loader,model)\n",
    "#torch.save(model.state_dict(), 'new_CNN_hidden_size_{}.pkl'.format(hidden_size))\n",
    "cnn_hidden_trainacc['hidden_size_{}'.format(hidden_size)] = (val_acc,train_acc)\n",
    "#!cp 'new_CNN_hidden_size_100.pkl' 'drive/My Drive/Colab Notebooks/new_CNN_hidden_size_100.pkl'\n"
   ]
  },
  {
   "cell_type": "code",
   "execution_count": 0,
   "metadata": {
    "colab": {},
    "colab_type": "code",
    "collapsed": true,
    "id": "qUU29Szya0QU"
   },
   "outputs": [],
   "source": [
    "import pickle\n",
    "g = open(\"cnn_hidden100_acc.pkl\",\"wb\")\n",
    "pickle.dump(cnn_hidden_trainacc,g)\n",
    "g.close()"
   ]
  },
  {
   "cell_type": "code",
   "execution_count": 0,
   "metadata": {
    "colab": {},
    "colab_type": "code",
    "collapsed": true,
    "id": "FHaWJJn5azv5"
   },
   "outputs": [],
   "source": [
    "from google.colab import files\n",
    "files.download('cnn_hidden100_acc.pkl') "
   ]
  },
  {
   "cell_type": "code",
   "execution_count": 30,
   "metadata": {
    "colab": {
     "base_uri": "https://localhost:8080/",
     "height": 34
    },
    "colab_type": "code",
    "id": "lLHP2wyRLbhS",
    "outputId": "0729441b-3f4a-433d-fd9f-1866f1e89375"
   },
   "outputs": [
    {
     "data": {
      "text/plain": [
       "dict_keys(['hidden_size_400'])"
      ]
     },
     "execution_count": 30,
     "metadata": {
      "tags": []
     },
     "output_type": "execute_result"
    }
   ],
   "source": [
    "cnn_hidden_trainacc.keys()"
   ]
  },
  {
   "cell_type": "code",
   "execution_count": 18,
   "metadata": {
    "colab": {
     "base_uri": "https://localhost:8080/",
     "height": 1207
    },
    "colab_type": "code",
    "id": "ESXiiPrw8RC0",
    "outputId": "bfc5984a-8ca1-404b-b370-e199abedd220"
   },
   "outputs": [
    {
     "name": "stdout",
     "output_type": "stream",
     "text": [
      "Epoch: [1/10], Step: [401/3125], Validation Acc: 53.0, Training Loss: 1.0692249536514282\n",
      "Epoch: [1/10], Step: [801/3125], Validation Acc: 56.0, Training Loss: 0.8814099431037903\n",
      "Epoch: [1/10], Step: [1201/3125], Validation Acc: 57.8, Training Loss: 0.8362947702407837\n",
      "Epoch: [1/10], Step: [1601/3125], Validation Acc: 60.6, Training Loss: 0.9681096076965332\n",
      "Epoch: [1/10], Step: [2001/3125], Validation Acc: 60.3, Training Loss: 0.8451114892959595\n",
      "Epoch: [1/10], Step: [2401/3125], Validation Acc: 60.8, Training Loss: 1.1132365465164185\n",
      "Epoch: [1/10], Step: [2801/3125], Validation Acc: 60.9, Training Loss: 0.8936682939529419\n",
      "Epoch: [2/10], Step: [401/3125], Validation Acc: 62.2, Training Loss: 1.004610538482666\n",
      "Epoch: [2/10], Step: [801/3125], Validation Acc: 61.4, Training Loss: 0.8382100462913513\n",
      "Epoch: [2/10], Step: [1201/3125], Validation Acc: 62.0, Training Loss: 0.9411917924880981\n",
      "Epoch: [2/10], Step: [1601/3125], Validation Acc: 61.7, Training Loss: 0.8374106884002686\n",
      "Epoch: [2/10], Step: [2001/3125], Validation Acc: 62.1, Training Loss: 0.7230600714683533\n",
      "Epoch: [2/10], Step: [2401/3125], Validation Acc: 62.8, Training Loss: 0.9382957816123962\n",
      "Epoch: [2/10], Step: [2801/3125], Validation Acc: 63.9, Training Loss: 0.6000391840934753\n",
      "Epoch: [3/10], Step: [401/3125], Validation Acc: 64.1, Training Loss: 0.6735298037528992\n",
      "Epoch: [3/10], Step: [801/3125], Validation Acc: 64.1, Training Loss: 0.7884275317192078\n",
      "Epoch: [3/10], Step: [1201/3125], Validation Acc: 65.4, Training Loss: 0.6439312696456909\n",
      "Epoch: [3/10], Step: [1601/3125], Validation Acc: 64.8, Training Loss: 0.8640626072883606\n",
      "Epoch: [3/10], Step: [2001/3125], Validation Acc: 63.2, Training Loss: 0.5380398631095886\n",
      "Epoch: [3/10], Step: [2401/3125], Validation Acc: 64.1, Training Loss: 0.7995352149009705\n",
      "Epoch: [3/10], Step: [2801/3125], Validation Acc: 64.3, Training Loss: 0.8569701910018921\n",
      "Epoch: [4/10], Step: [401/3125], Validation Acc: 64.1, Training Loss: 0.6097461581230164\n",
      "Epoch: [4/10], Step: [801/3125], Validation Acc: 63.2, Training Loss: 0.6564972400665283\n",
      "Epoch: [4/10], Step: [1201/3125], Validation Acc: 61.6, Training Loss: 0.9532409310340881\n",
      "Epoch: [4/10], Step: [1601/3125], Validation Acc: 64.0, Training Loss: 1.0661569833755493\n",
      "Epoch: [4/10], Step: [2001/3125], Validation Acc: 63.5, Training Loss: 0.8763945698738098\n",
      "Epoch: [4/10], Step: [2401/3125], Validation Acc: 65.0, Training Loss: 0.49310821294784546\n",
      "Epoch: [4/10], Step: [2801/3125], Validation Acc: 65.3, Training Loss: 0.4670814573764801\n",
      "Epoch: [5/10], Step: [401/3125], Validation Acc: 63.6, Training Loss: 0.6365820169448853\n",
      "Epoch: [5/10], Step: [801/3125], Validation Acc: 63.9, Training Loss: 0.567268967628479\n",
      "Epoch: [5/10], Step: [1201/3125], Validation Acc: 63.9, Training Loss: 0.502349853515625\n",
      "Epoch: [5/10], Step: [1601/3125], Validation Acc: 64.6, Training Loss: 0.5058029294013977\n",
      "Epoch: [5/10], Step: [2001/3125], Validation Acc: 65.3, Training Loss: 0.7010977268218994\n",
      "Epoch: [5/10], Step: [2401/3125], Validation Acc: 64.5, Training Loss: 0.5767678022384644\n",
      "Epoch: [5/10], Step: [2801/3125], Validation Acc: 65.4, Training Loss: 0.6941608190536499\n",
      "Epoch: [6/10], Step: [401/3125], Validation Acc: 65.4, Training Loss: 0.6166366338729858\n",
      "Epoch: [6/10], Step: [801/3125], Validation Acc: 64.6, Training Loss: 0.33627620339393616\n",
      "Epoch: [6/10], Step: [1201/3125], Validation Acc: 62.2, Training Loss: 0.3061389625072479\n",
      "Epoch: [6/10], Step: [1601/3125], Validation Acc: 63.7, Training Loss: 0.49594372510910034\n",
      "Epoch: [6/10], Step: [2001/3125], Validation Acc: 63.5, Training Loss: 0.5146507620811462\n",
      "Epoch: [6/10], Step: [2401/3125], Validation Acc: 64.4, Training Loss: 0.4513767659664154\n",
      "Epoch: [6/10], Step: [2801/3125], Validation Acc: 62.5, Training Loss: 0.4566677212715149\n",
      "Epoch: [7/10], Step: [401/3125], Validation Acc: 65.1, Training Loss: 0.40623554587364197\n",
      "Epoch: [7/10], Step: [801/3125], Validation Acc: 64.2, Training Loss: 0.47567296028137207\n",
      "Epoch: [7/10], Step: [1201/3125], Validation Acc: 63.5, Training Loss: 0.2375895380973816\n",
      "Epoch: [7/10], Step: [1601/3125], Validation Acc: 64.6, Training Loss: 0.6953147649765015\n",
      "Epoch: [7/10], Step: [2001/3125], Validation Acc: 64.3, Training Loss: 0.552335262298584\n",
      "Epoch: [7/10], Step: [2401/3125], Validation Acc: 61.7, Training Loss: 0.6818930506706238\n",
      "Epoch: [7/10], Step: [2801/3125], Validation Acc: 61.8, Training Loss: 0.4700080454349518\n",
      "Epoch: [8/10], Step: [401/3125], Validation Acc: 63.7, Training Loss: 0.35896438360214233\n",
      "Epoch: [8/10], Step: [801/3125], Validation Acc: 63.2, Training Loss: 0.2063538283109665\n",
      "Epoch: [8/10], Step: [1201/3125], Validation Acc: 65.3, Training Loss: 0.4508105218410492\n",
      "Epoch: [8/10], Step: [1601/3125], Validation Acc: 64.7, Training Loss: 0.7147457003593445\n",
      "Epoch: [8/10], Step: [2001/3125], Validation Acc: 63.9, Training Loss: 0.7103989720344543\n",
      "Epoch: [8/10], Step: [2401/3125], Validation Acc: 66.4, Training Loss: 0.4921944737434387\n",
      "Epoch: [8/10], Step: [2801/3125], Validation Acc: 64.1, Training Loss: 0.34804701805114746\n",
      "Epoch: [9/10], Step: [401/3125], Validation Acc: 64.1, Training Loss: 0.2934004068374634\n",
      "Epoch: [9/10], Step: [801/3125], Validation Acc: 64.4, Training Loss: 0.22186267375946045\n",
      "Epoch: [9/10], Step: [1201/3125], Validation Acc: 63.3, Training Loss: 0.4610440135002136\n",
      "Epoch: [9/10], Step: [1601/3125], Validation Acc: 64.6, Training Loss: 0.17228145897388458\n",
      "Epoch: [9/10], Step: [2001/3125], Validation Acc: 64.3, Training Loss: 0.5085827112197876\n",
      "Epoch: [9/10], Step: [2401/3125], Validation Acc: 64.4, Training Loss: 0.7113853096961975\n",
      "Epoch: [9/10], Step: [2801/3125], Validation Acc: 64.5, Training Loss: 0.46741461753845215\n",
      "Epoch: [10/10], Step: [401/3125], Validation Acc: 64.1, Training Loss: 0.2612959146499634\n",
      "Epoch: [10/10], Step: [801/3125], Validation Acc: 63.3, Training Loss: 0.12063543498516083\n",
      "Epoch: [10/10], Step: [1201/3125], Validation Acc: 61.9, Training Loss: 0.24450179934501648\n",
      "Epoch: [10/10], Step: [1601/3125], Validation Acc: 63.2, Training Loss: 0.2201957106590271\n",
      "Epoch: [10/10], Step: [2001/3125], Validation Acc: 63.1, Training Loss: 0.2872377634048462\n",
      "Epoch: [10/10], Step: [2401/3125], Validation Acc: 65.0, Training Loss: 0.3665763735771179\n",
      "Epoch: [10/10], Step: [2801/3125], Validation Acc: 63.4, Training Loss: 0.4022095203399658\n"
     ]
    }
   ],
   "source": [
    "performance_CNN = {}\n",
    "hidden_size = 100\n",
    "model_CNN = CNN(hidden_size = hidden_size, kernel_size = 3,padding_size = 1, num_layers=1, num_classes=3, pre_trained_emb = ft_emb)\n",
    "use_cuda = True\n",
    "if use_cuda and torch.cuda.is_available():\n",
    "  model_CNN.cuda()\n",
    "train_loss, val_acc = train_model(train_loader,model_CNN)\n",
    "torch.save(model_CNN.state_dict(), 'CNN_hidden_size_{}.pkl'.format(hidden_size))\n",
    "performance_CNN['hidden_size_{}'.format(hidden_size)] = (train_loss, val_acc)"
   ]
  },
  {
   "cell_type": "code",
   "execution_count": 0,
   "metadata": {
    "colab": {},
    "colab_type": "code",
    "collapsed": true,
    "id": "wLBOb-H_8x9T"
   },
   "outputs": [],
   "source": [
    "from google.colab import files\n",
    "files.download('CNN_hidden_size_100.pkl') "
   ]
  },
  {
   "cell_type": "code",
   "execution_count": 41,
   "metadata": {
    "colab": {
     "base_uri": "https://localhost:8080/",
     "height": 1207
    },
    "colab_type": "code",
    "id": "KaBhzN0vLl44",
    "outputId": "3f383451-1c8c-4844-bb90-427ed21b3c19"
   },
   "outputs": [
    {
     "name": "stdout",
     "output_type": "stream",
     "text": [
      "Epoch: [1/10], Step: [401/3125], Validation Acc: 56.5, Training Acc: 55.09\n",
      "Epoch: [1/10], Step: [801/3125], Validation Acc: 58.0, Training Acc: 58.7\n",
      "Epoch: [1/10], Step: [1201/3125], Validation Acc: 58.0, Training Acc: 59.35\n",
      "Epoch: [1/10], Step: [1601/3125], Validation Acc: 58.8, Training Acc: 61.11\n",
      "Epoch: [1/10], Step: [2001/3125], Validation Acc: 60.1, Training Acc: 61.93\n",
      "Epoch: [1/10], Step: [2401/3125], Validation Acc: 59.6, Training Acc: 63.65\n",
      "Epoch: [1/10], Step: [2801/3125], Validation Acc: 60.1, Training Acc: 64.68\n",
      "Epoch: [2/10], Step: [401/3125], Validation Acc: 61.6, Training Acc: 66.44\n",
      "Epoch: [2/10], Step: [801/3125], Validation Acc: 64.0, Training Acc: 66.09\n",
      "Epoch: [2/10], Step: [1201/3125], Validation Acc: 63.7, Training Acc: 68.66\n",
      "Epoch: [2/10], Step: [1601/3125], Validation Acc: 64.6, Training Acc: 68.99\n",
      "Epoch: [2/10], Step: [2001/3125], Validation Acc: 64.2, Training Acc: 69.58\n",
      "Epoch: [2/10], Step: [2401/3125], Validation Acc: 63.9, Training Acc: 70.83\n",
      "Epoch: [2/10], Step: [2801/3125], Validation Acc: 62.7, Training Acc: 70.05\n",
      "Epoch: [3/10], Step: [401/3125], Validation Acc: 65.1, Training Acc: 72.05\n",
      "Epoch: [3/10], Step: [801/3125], Validation Acc: 65.4, Training Acc: 73.79\n",
      "Epoch: [3/10], Step: [1201/3125], Validation Acc: 63.9, Training Acc: 73.67\n",
      "Epoch: [3/10], Step: [1601/3125], Validation Acc: 65.1, Training Acc: 73.87\n",
      "Epoch: [3/10], Step: [2001/3125], Validation Acc: 65.5, Training Acc: 74.39\n",
      "Epoch: [3/10], Step: [2401/3125], Validation Acc: 64.3, Training Acc: 75.31\n",
      "Epoch: [3/10], Step: [2801/3125], Validation Acc: 64.3, Training Acc: 75.98\n",
      "Epoch: [4/10], Step: [401/3125], Validation Acc: 65.2, Training Acc: 76.66\n",
      "Epoch: [4/10], Step: [801/3125], Validation Acc: 65.7, Training Acc: 78.17\n",
      "Epoch: [4/10], Step: [1201/3125], Validation Acc: 67.3, Training Acc: 78.49\n",
      "Epoch: [4/10], Step: [1601/3125], Validation Acc: 65.5, Training Acc: 78.76\n",
      "Epoch: [4/10], Step: [2001/3125], Validation Acc: 65.7, Training Acc: 79.44\n",
      "Epoch: [4/10], Step: [2401/3125], Validation Acc: 64.9, Training Acc: 79.6\n",
      "Epoch: [4/10], Step: [2801/3125], Validation Acc: 66.8, Training Acc: 80.39\n",
      "Epoch: [5/10], Step: [401/3125], Validation Acc: 66.4, Training Acc: 82.26\n",
      "Epoch: [5/10], Step: [801/3125], Validation Acc: 64.3, Training Acc: 80.13\n",
      "Epoch: [5/10], Step: [1201/3125], Validation Acc: 66.0, Training Acc: 82.93\n",
      "Epoch: [5/10], Step: [1601/3125], Validation Acc: 65.4, Training Acc: 82.75\n",
      "Epoch: [5/10], Step: [2001/3125], Validation Acc: 67.2, Training Acc: 83.74\n",
      "Epoch: [5/10], Step: [2401/3125], Validation Acc: 64.8, Training Acc: 83.52\n",
      "Epoch: [5/10], Step: [2801/3125], Validation Acc: 66.3, Training Acc: 84.78\n",
      "Epoch: [6/10], Step: [401/3125], Validation Acc: 66.3, Training Acc: 85.98\n",
      "Epoch: [6/10], Step: [801/3125], Validation Acc: 66.6, Training Acc: 86.55\n",
      "Epoch: [6/10], Step: [1201/3125], Validation Acc: 66.1, Training Acc: 87.03\n",
      "Epoch: [6/10], Step: [1601/3125], Validation Acc: 67.1, Training Acc: 87.35\n",
      "Epoch: [6/10], Step: [2001/3125], Validation Acc: 67.8, Training Acc: 87.02\n",
      "Epoch: [6/10], Step: [2401/3125], Validation Acc: 65.6, Training Acc: 87.78\n",
      "Epoch: [6/10], Step: [2801/3125], Validation Acc: 66.0, Training Acc: 88.12\n",
      "Epoch: [7/10], Step: [401/3125], Validation Acc: 66.6, Training Acc: 89.45\n",
      "Epoch: [7/10], Step: [801/3125], Validation Acc: 66.3, Training Acc: 89.05\n",
      "Epoch: [7/10], Step: [1201/3125], Validation Acc: 64.7, Training Acc: 89.38\n",
      "Epoch: [7/10], Step: [1601/3125], Validation Acc: 65.9, Training Acc: 89.57\n",
      "Epoch: [7/10], Step: [2001/3125], Validation Acc: 64.3, Training Acc: 89.28\n",
      "Epoch: [7/10], Step: [2401/3125], Validation Acc: 65.6, Training Acc: 90.21\n",
      "Epoch: [7/10], Step: [2801/3125], Validation Acc: 65.0, Training Acc: 91.3\n",
      "Epoch: [8/10], Step: [401/3125], Validation Acc: 65.0, Training Acc: 90.6\n",
      "Epoch: [8/10], Step: [801/3125], Validation Acc: 64.8, Training Acc: 91.54\n",
      "Epoch: [8/10], Step: [1201/3125], Validation Acc: 66.4, Training Acc: 92.06\n",
      "Epoch: [8/10], Step: [1601/3125], Validation Acc: 68.0, Training Acc: 92.23\n",
      "Epoch: [8/10], Step: [2001/3125], Validation Acc: 65.9, Training Acc: 92.35\n",
      "Epoch: [8/10], Step: [2401/3125], Validation Acc: 65.6, Training Acc: 92.77\n",
      "Epoch: [8/10], Step: [2801/3125], Validation Acc: 65.7, Training Acc: 92.57\n",
      "Epoch: [9/10], Step: [401/3125], Validation Acc: 65.6, Training Acc: 93.36\n",
      "Epoch: [9/10], Step: [801/3125], Validation Acc: 64.0, Training Acc: 93.28\n",
      "Epoch: [9/10], Step: [1201/3125], Validation Acc: 64.9, Training Acc: 92.92\n",
      "Epoch: [9/10], Step: [1601/3125], Validation Acc: 63.9, Training Acc: 93.12\n",
      "Epoch: [9/10], Step: [2001/3125], Validation Acc: 64.2, Training Acc: 93.64\n",
      "Epoch: [9/10], Step: [2401/3125], Validation Acc: 63.1, Training Acc: 93.88\n",
      "Epoch: [9/10], Step: [2801/3125], Validation Acc: 63.1, Training Acc: 93.85\n",
      "Epoch: [10/10], Step: [401/3125], Validation Acc: 64.6, Training Acc: 94.32\n",
      "Epoch: [10/10], Step: [801/3125], Validation Acc: 64.6, Training Acc: 95.41\n",
      "Epoch: [10/10], Step: [1201/3125], Validation Acc: 64.4, Training Acc: 94.8\n",
      "Epoch: [10/10], Step: [1601/3125], Validation Acc: 64.3, Training Acc: 94.78\n",
      "Epoch: [10/10], Step: [2001/3125], Validation Acc: 64.9, Training Acc: 94.76\n",
      "Epoch: [10/10], Step: [2401/3125], Validation Acc: 64.5, Training Acc: 94.42\n",
      "Epoch: [10/10], Step: [2801/3125], Validation Acc: 64.1, Training Acc: 95.0\n"
     ]
    }
   ],
   "source": [
    "#cnn_hidden_trainacc = {}\n",
    "hidden_size = 200\n",
    "model = CNN(hidden_size = hidden_size,  kernel_size = 3,padding_size = 1,num_layers=2, num_classes=3, pre_trained_emb = ft_emb)\n",
    "use_cuda = True\n",
    "if use_cuda and torch.cuda.is_available():\n",
    "  model.cuda()\n",
    "val_acc,train_acc = train_model(train_loader,model)\n",
    "torch.save(model.state_dict(), 'new_CNN_hidden_size_{}.pkl'.format(hidden_size))\n",
    "cnn_hidden_trainacc['hidden_size_{}'.format(hidden_size)] = (val_acc,train_acc)\n",
    "!cp 'new_CNN_hidden_size_200.pkl' 'drive/My Drive/Colab Notebooks/new_CNN_hidden_size_200.pkl'"
   ]
  },
  {
   "cell_type": "code",
   "execution_count": 20,
   "metadata": {
    "colab": {
     "base_uri": "https://localhost:8080/",
     "height": 1405
    },
    "colab_type": "code",
    "id": "iR8FBr-9bW-e",
    "outputId": "af9134bc-7320-4d72-a366-0fae7930eb3a"
   },
   "outputs": [
    {
     "name": "stdout",
     "output_type": "stream",
     "text": [
      "Epoch: [1/10], Step: [401/3125], Validation Acc: 54.5, Training Acc: 53.86\n",
      "Epoch: [1/10], Step: [801/3125], Validation Acc: 57.6, Training Acc: 57.58\n",
      "Epoch: [1/10], Step: [1201/3125], Validation Acc: 57.0, Training Acc: 60.43\n",
      "Epoch: [1/10], Step: [1601/3125], Validation Acc: 60.4, Training Acc: 61.97\n",
      "Epoch: [1/10], Step: [2001/3125], Validation Acc: 59.8, Training Acc: 63.04\n",
      "Epoch: [1/10], Step: [2401/3125], Validation Acc: 60.3, Training Acc: 65.21\n",
      "Epoch: [1/10], Step: [2801/3125], Validation Acc: 61.8, Training Acc: 65.16\n",
      "Epoch: [2/10], Step: [401/3125], Validation Acc: 61.5, Training Acc: 67.37\n",
      "Epoch: [2/10], Step: [801/3125], Validation Acc: 63.7, Training Acc: 68.3\n",
      "Epoch: [2/10], Step: [1201/3125], Validation Acc: 63.8, Training Acc: 68.74\n",
      "Epoch: [2/10], Step: [1601/3125], Validation Acc: 63.6, Training Acc: 69.41\n",
      "Epoch: [2/10], Step: [2001/3125], Validation Acc: 63.0, Training Acc: 69.75\n",
      "Epoch: [2/10], Step: [2401/3125], Validation Acc: 63.6, Training Acc: 70.77\n",
      "Epoch: [2/10], Step: [2801/3125], Validation Acc: 63.3, Training Acc: 71.04\n",
      "Epoch: [3/10], Step: [401/3125], Validation Acc: 64.3, Training Acc: 71.84\n",
      "Epoch: [3/10], Step: [801/3125], Validation Acc: 63.7, Training Acc: 72.33\n",
      "Epoch: [3/10], Step: [1201/3125], Validation Acc: 65.0, Training Acc: 73.94\n",
      "Epoch: [3/10], Step: [1601/3125], Validation Acc: 64.1, Training Acc: 74.27\n",
      "Epoch: [3/10], Step: [2001/3125], Validation Acc: 64.7, Training Acc: 74.62\n",
      "Epoch: [3/10], Step: [2401/3125], Validation Acc: 65.0, Training Acc: 75.97\n",
      "Epoch: [3/10], Step: [2801/3125], Validation Acc: 65.7, Training Acc: 76.33\n",
      "Epoch: [4/10], Step: [401/3125], Validation Acc: 65.3, Training Acc: 77.58\n",
      "Epoch: [4/10], Step: [801/3125], Validation Acc: 65.8, Training Acc: 78.43\n",
      "Epoch: [4/10], Step: [1201/3125], Validation Acc: 66.2, Training Acc: 78.81\n",
      "Epoch: [4/10], Step: [1601/3125], Validation Acc: 67.6, Training Acc: 79.18\n",
      "Epoch: [4/10], Step: [2001/3125], Validation Acc: 65.7, Training Acc: 79.46\n",
      "Epoch: [4/10], Step: [2401/3125], Validation Acc: 65.4, Training Acc: 78.79\n",
      "Epoch: [4/10], Step: [2801/3125], Validation Acc: 65.4, Training Acc: 80.19\n",
      "Epoch: [5/10], Step: [401/3125], Validation Acc: 65.5, Training Acc: 82.13\n",
      "Epoch: [5/10], Step: [801/3125], Validation Acc: 64.3, Training Acc: 82.17\n",
      "Epoch: [5/10], Step: [1201/3125], Validation Acc: 65.8, Training Acc: 81.62\n",
      "Epoch: [5/10], Step: [1601/3125], Validation Acc: 64.5, Training Acc: 83.06\n",
      "Epoch: [5/10], Step: [2001/3125], Validation Acc: 64.6, Training Acc: 83.65\n",
      "Epoch: [5/10], Step: [2401/3125], Validation Acc: 65.3, Training Acc: 84.49\n",
      "Epoch: [5/10], Step: [2801/3125], Validation Acc: 66.4, Training Acc: 84.67\n",
      "Epoch: [6/10], Step: [401/3125], Validation Acc: 64.5, Training Acc: 85.75\n",
      "Epoch: [6/10], Step: [801/3125], Validation Acc: 61.4, Training Acc: 84.31\n",
      "Epoch: [6/10], Step: [1201/3125], Validation Acc: 65.6, Training Acc: 86.58\n",
      "Epoch: [6/10], Step: [1601/3125], Validation Acc: 65.8, Training Acc: 87.6\n",
      "Epoch: [6/10], Step: [2001/3125], Validation Acc: 64.0, Training Acc: 87.34\n",
      "Epoch: [6/10], Step: [2401/3125], Validation Acc: 64.4, Training Acc: 88.23\n",
      "Epoch: [6/10], Step: [2801/3125], Validation Acc: 64.3, Training Acc: 87.57\n",
      "Epoch: [7/10], Step: [401/3125], Validation Acc: 63.7, Training Acc: 89.3\n",
      "Epoch: [7/10], Step: [801/3125], Validation Acc: 64.3, Training Acc: 88.95\n",
      "Epoch: [7/10], Step: [1201/3125], Validation Acc: 65.4, Training Acc: 89.41\n",
      "Epoch: [7/10], Step: [1601/3125], Validation Acc: 65.1, Training Acc: 88.58\n",
      "Epoch: [7/10], Step: [2001/3125], Validation Acc: 64.9, Training Acc: 90.25\n",
      "Epoch: [7/10], Step: [2401/3125], Validation Acc: 62.9, Training Acc: 91.08\n",
      "Epoch: [7/10], Step: [2801/3125], Validation Acc: 64.9, Training Acc: 90.62\n",
      "Epoch: [8/10], Step: [401/3125], Validation Acc: 64.2, Training Acc: 92.07\n",
      "Epoch: [8/10], Step: [801/3125], Validation Acc: 65.4, Training Acc: 91.61\n",
      "Epoch: [8/10], Step: [1201/3125], Validation Acc: 64.9, Training Acc: 91.64\n",
      "Epoch: [8/10], Step: [1601/3125], Validation Acc: 64.7, Training Acc: 92.32\n",
      "Epoch: [8/10], Step: [2001/3125], Validation Acc: 64.7, Training Acc: 92.3\n",
      "Epoch: [8/10], Step: [2401/3125], Validation Acc: 63.1, Training Acc: 92.18\n",
      "Epoch: [8/10], Step: [2801/3125], Validation Acc: 64.9, Training Acc: 93.36\n",
      "Epoch: [9/10], Step: [401/3125], Validation Acc: 64.2, Training Acc: 93.93\n",
      "Epoch: [9/10], Step: [801/3125], Validation Acc: 64.7, Training Acc: 93.9\n",
      "Epoch: [9/10], Step: [1201/3125], Validation Acc: 64.4, Training Acc: 93.64\n",
      "Epoch: [9/10], Step: [1601/3125], Validation Acc: 64.9, Training Acc: 93.8\n",
      "Epoch: [9/10], Step: [2001/3125], Validation Acc: 64.0, Training Acc: 93.77\n",
      "Epoch: [9/10], Step: [2401/3125], Validation Acc: 65.2, Training Acc: 94.33\n",
      "Epoch: [9/10], Step: [2801/3125], Validation Acc: 63.7, Training Acc: 94.16\n",
      "Epoch: [10/10], Step: [401/3125], Validation Acc: 64.3, Training Acc: 95.01\n",
      "Epoch: [10/10], Step: [801/3125], Validation Acc: 64.2, Training Acc: 95.07\n",
      "Epoch: [10/10], Step: [1201/3125], Validation Acc: 64.6, Training Acc: 94.59\n",
      "Epoch: [10/10], Step: [1601/3125], Validation Acc: 65.6, Training Acc: 94.4\n",
      "Epoch: [10/10], Step: [2001/3125], Validation Acc: 63.7, Training Acc: 94.92\n",
      "Epoch: [10/10], Step: [2401/3125], Validation Acc: 62.4, Training Acc: 95.22\n",
      "Epoch: [10/10], Step: [2801/3125], Validation Acc: 62.6, Training Acc: 95.02\n"
     ]
    },
    {
     "ename": "NameError",
     "evalue": "ignored",
     "output_type": "error",
     "traceback": [
      "\u001b[0;31m---------------------------------------------------------------------------\u001b[0m",
      "\u001b[0;31mNameError\u001b[0m                                 Traceback (most recent call last)",
      "\u001b[0;32m<ipython-input-20-6c485fc5371b>\u001b[0m in \u001b[0;36m<module>\u001b[0;34m()\u001b[0m\n\u001b[1;32m      6\u001b[0m \u001b[0mval_acc\u001b[0m\u001b[0;34m,\u001b[0m\u001b[0mtrain_acc\u001b[0m \u001b[0;34m=\u001b[0m \u001b[0mtrain_model\u001b[0m\u001b[0;34m(\u001b[0m\u001b[0mtrain_loader\u001b[0m\u001b[0;34m,\u001b[0m\u001b[0mmodel\u001b[0m\u001b[0;34m)\u001b[0m\u001b[0;34m\u001b[0m\u001b[0m\n\u001b[1;32m      7\u001b[0m \u001b[0;31m#torch.save(model.state_dict(), 'new_CNN_hidden_size_{}.pkl'.format(hidden_size))\u001b[0m\u001b[0;34m\u001b[0m\u001b[0;34m\u001b[0m\u001b[0m\n\u001b[0;32m----> 8\u001b[0;31m \u001b[0mcnn_hidden_trainacc\u001b[0m\u001b[0;34m[\u001b[0m\u001b[0;34m'hidden_size_{}'\u001b[0m\u001b[0;34m.\u001b[0m\u001b[0mformat\u001b[0m\u001b[0;34m(\u001b[0m\u001b[0mhidden_size\u001b[0m\u001b[0;34m)\u001b[0m\u001b[0;34m]\u001b[0m \u001b[0;34m=\u001b[0m \u001b[0;34m(\u001b[0m\u001b[0mval_acc\u001b[0m\u001b[0;34m,\u001b[0m\u001b[0mtrain_acc\u001b[0m\u001b[0;34m)\u001b[0m\u001b[0;34m\u001b[0m\u001b[0m\n\u001b[0m\u001b[1;32m      9\u001b[0m \u001b[0;31m#!cp 'new_CNN_hidden_size_200.pkl' 'drive/My Drive/Colab Notebooks/new_CNN_hidden_size_200.pkl'\u001b[0m\u001b[0;34m\u001b[0m\u001b[0;34m\u001b[0m\u001b[0m\n",
      "\u001b[0;31mNameError\u001b[0m: name 'cnn_hidden_trainacc' is not defined"
     ]
    }
   ],
   "source": [
    "#cnn_hidden_trainacc = {}\n",
    "hidden_size = 200\n",
    "model = CNN(hidden_size = hidden_size,  kernel_size = 3,padding_size = 1,num_layers=2, num_classes=3, pre_trained_emb = ft_emb)\n",
    "use_cuda = True\n",
    "if use_cuda and torch.cuda.is_available():\n",
    "  model.cuda()\n",
    "val_acc,train_acc = train_model(train_loader,model)\n",
    "#torch.save(model.state_dict(), 'new_CNN_hidden_size_{}.pkl'.format(hidden_size))\n",
    "cnn_hidden_trainacc['hidden_size_{}'.format(hidden_size)] = (val_acc,train_acc)\n",
    "#!cp 'new_CNN_hidden_size_200.pkl' 'drive/My Drive/Colab Notebooks/new_CNN_hidden_size_200.pkl'"
   ]
  },
  {
   "cell_type": "code",
   "execution_count": 0,
   "metadata": {
    "colab": {},
    "colab_type": "code",
    "collapsed": true,
    "id": "wfV-zWW3NNuJ"
   },
   "outputs": [],
   "source": [
    "cnn_hidden_trainacc = {}\n",
    "cnn_hidden_trainacc['hidden_size_{}'.format(hidden_size)] = (val_acc,train_acc)"
   ]
  },
  {
   "cell_type": "code",
   "execution_count": 0,
   "metadata": {
    "colab": {},
    "colab_type": "code",
    "collapsed": true,
    "id": "iqxTCN4ibr2Y"
   },
   "outputs": [],
   "source": [
    "import pickle\n",
    "g = open(\"cnn_hidden200_acc.pkl\",\"wb\")\n",
    "pickle.dump(cnn_hidden_trainacc,g)\n",
    "g.close()"
   ]
  },
  {
   "cell_type": "code",
   "execution_count": 0,
   "metadata": {
    "colab": {},
    "colab_type": "code",
    "collapsed": true,
    "id": "qvVqnq_JbmGc"
   },
   "outputs": [],
   "source": [
    "from google.colab import files\n",
    "files.download('cnn_hidden200_acc.pkl') "
   ]
  },
  {
   "cell_type": "code",
   "execution_count": 20,
   "metadata": {
    "colab": {
     "base_uri": "https://localhost:8080/",
     "height": 1207
    },
    "colab_type": "code",
    "id": "DPAXiuCh31YJ",
    "outputId": "d3dda624-38d7-4243-ded0-70370e88cdcf"
   },
   "outputs": [
    {
     "name": "stdout",
     "output_type": "stream",
     "text": [
      "Epoch: [1/10], Step: [401/3125], Validation Acc: 55.8, Training Loss: 0.858955979347229\n",
      "Epoch: [1/10], Step: [801/3125], Validation Acc: 59.4, Training Loss: 1.11115562915802\n",
      "Epoch: [1/10], Step: [1201/3125], Validation Acc: 58.4, Training Loss: 1.0620146989822388\n",
      "Epoch: [1/10], Step: [1601/3125], Validation Acc: 59.1, Training Loss: 0.6764976978302002\n",
      "Epoch: [1/10], Step: [2001/3125], Validation Acc: 60.3, Training Loss: 0.8525142669677734\n",
      "Epoch: [1/10], Step: [2401/3125], Validation Acc: 59.0, Training Loss: 0.8522081971168518\n",
      "Epoch: [1/10], Step: [2801/3125], Validation Acc: 60.8, Training Loss: 1.0003868341445923\n",
      "Epoch: [2/10], Step: [401/3125], Validation Acc: 62.4, Training Loss: 0.6956936120986938\n",
      "Epoch: [2/10], Step: [801/3125], Validation Acc: 61.9, Training Loss: 0.9119006395339966\n",
      "Epoch: [2/10], Step: [1201/3125], Validation Acc: 60.9, Training Loss: 0.6165597438812256\n",
      "Epoch: [2/10], Step: [1601/3125], Validation Acc: 63.0, Training Loss: 0.6860286593437195\n",
      "Epoch: [2/10], Step: [2001/3125], Validation Acc: 63.5, Training Loss: 0.8761845827102661\n",
      "Epoch: [2/10], Step: [2401/3125], Validation Acc: 62.8, Training Loss: 0.9427012205123901\n",
      "Epoch: [2/10], Step: [2801/3125], Validation Acc: 63.2, Training Loss: 0.6386137008666992\n",
      "Epoch: [3/10], Step: [401/3125], Validation Acc: 63.6, Training Loss: 0.5838547348976135\n",
      "Epoch: [3/10], Step: [801/3125], Validation Acc: 63.4, Training Loss: 0.6897433996200562\n",
      "Epoch: [3/10], Step: [1201/3125], Validation Acc: 65.0, Training Loss: 0.6793760061264038\n",
      "Epoch: [3/10], Step: [1601/3125], Validation Acc: 63.9, Training Loss: 0.6039997935295105\n",
      "Epoch: [3/10], Step: [2001/3125], Validation Acc: 63.9, Training Loss: 0.7236128449440002\n",
      "Epoch: [3/10], Step: [2401/3125], Validation Acc: 64.8, Training Loss: 0.8271684646606445\n",
      "Epoch: [3/10], Step: [2801/3125], Validation Acc: 64.8, Training Loss: 0.6407719254493713\n",
      "Epoch: [4/10], Step: [401/3125], Validation Acc: 64.3, Training Loss: 0.9203688502311707\n",
      "Epoch: [4/10], Step: [801/3125], Validation Acc: 64.8, Training Loss: 0.5755420327186584\n",
      "Epoch: [4/10], Step: [1201/3125], Validation Acc: 65.6, Training Loss: 0.4489104747772217\n",
      "Epoch: [4/10], Step: [1601/3125], Validation Acc: 66.3, Training Loss: 0.5519047975540161\n",
      "Epoch: [4/10], Step: [2001/3125], Validation Acc: 65.6, Training Loss: 0.6031177043914795\n",
      "Epoch: [4/10], Step: [2401/3125], Validation Acc: 64.6, Training Loss: 0.9015620350837708\n",
      "Epoch: [4/10], Step: [2801/3125], Validation Acc: 64.0, Training Loss: 0.5940044522285461\n",
      "Epoch: [5/10], Step: [401/3125], Validation Acc: 63.4, Training Loss: 0.5328242778778076\n",
      "Epoch: [5/10], Step: [801/3125], Validation Acc: 62.4, Training Loss: 0.43327444791793823\n",
      "Epoch: [5/10], Step: [1201/3125], Validation Acc: 63.5, Training Loss: 0.5054856538772583\n",
      "Epoch: [5/10], Step: [1601/3125], Validation Acc: 63.6, Training Loss: 0.547052264213562\n",
      "Epoch: [5/10], Step: [2001/3125], Validation Acc: 65.5, Training Loss: 0.6802220344543457\n",
      "Epoch: [5/10], Step: [2401/3125], Validation Acc: 66.1, Training Loss: 0.4144139587879181\n",
      "Epoch: [5/10], Step: [2801/3125], Validation Acc: 64.4, Training Loss: 0.3744817078113556\n",
      "Epoch: [6/10], Step: [401/3125], Validation Acc: 63.2, Training Loss: 0.45003369450569153\n",
      "Epoch: [6/10], Step: [801/3125], Validation Acc: 62.7, Training Loss: 0.31416457891464233\n",
      "Epoch: [6/10], Step: [1201/3125], Validation Acc: 62.5, Training Loss: 0.42616111040115356\n",
      "Epoch: [6/10], Step: [1601/3125], Validation Acc: 63.5, Training Loss: 0.4075465202331543\n",
      "Epoch: [6/10], Step: [2001/3125], Validation Acc: 62.6, Training Loss: 0.4083971679210663\n",
      "Epoch: [6/10], Step: [2401/3125], Validation Acc: 63.2, Training Loss: 0.5384467840194702\n",
      "Epoch: [6/10], Step: [2801/3125], Validation Acc: 63.9, Training Loss: 0.6266628503799438\n",
      "Epoch: [7/10], Step: [401/3125], Validation Acc: 63.6, Training Loss: 0.2182142287492752\n",
      "Epoch: [7/10], Step: [801/3125], Validation Acc: 62.9, Training Loss: 0.33235877752304077\n",
      "Epoch: [7/10], Step: [1201/3125], Validation Acc: 61.5, Training Loss: 0.5231101512908936\n",
      "Epoch: [7/10], Step: [1601/3125], Validation Acc: 62.3, Training Loss: 0.643420398235321\n",
      "Epoch: [7/10], Step: [2001/3125], Validation Acc: 63.4, Training Loss: 0.3820381760597229\n",
      "Epoch: [7/10], Step: [2401/3125], Validation Acc: 63.9, Training Loss: 0.565699577331543\n",
      "Epoch: [7/10], Step: [2801/3125], Validation Acc: 63.1, Training Loss: 0.38527897000312805\n",
      "Epoch: [8/10], Step: [401/3125], Validation Acc: 61.4, Training Loss: 0.21885927021503448\n",
      "Epoch: [8/10], Step: [801/3125], Validation Acc: 63.9, Training Loss: 0.45823347568511963\n",
      "Epoch: [8/10], Step: [1201/3125], Validation Acc: 62.2, Training Loss: 0.2929002046585083\n",
      "Epoch: [8/10], Step: [1601/3125], Validation Acc: 63.6, Training Loss: 0.22965291142463684\n",
      "Epoch: [8/10], Step: [2001/3125], Validation Acc: 63.5, Training Loss: 0.2628559172153473\n",
      "Epoch: [8/10], Step: [2401/3125], Validation Acc: 62.7, Training Loss: 0.41807520389556885\n",
      "Epoch: [8/10], Step: [2801/3125], Validation Acc: 62.0, Training Loss: 0.20791123807430267\n",
      "Epoch: [9/10], Step: [401/3125], Validation Acc: 61.7, Training Loss: 0.16306287050247192\n",
      "Epoch: [9/10], Step: [801/3125], Validation Acc: 62.4, Training Loss: 0.3693668842315674\n",
      "Epoch: [9/10], Step: [1201/3125], Validation Acc: 61.2, Training Loss: 0.20153702795505524\n",
      "Epoch: [9/10], Step: [1601/3125], Validation Acc: 63.1, Training Loss: 0.045800983905792236\n",
      "Epoch: [9/10], Step: [2001/3125], Validation Acc: 63.2, Training Loss: 0.24335870146751404\n",
      "Epoch: [9/10], Step: [2401/3125], Validation Acc: 61.9, Training Loss: 0.23981976509094238\n",
      "Epoch: [9/10], Step: [2801/3125], Validation Acc: 61.8, Training Loss: 0.3086698055267334\n",
      "Epoch: [10/10], Step: [401/3125], Validation Acc: 61.5, Training Loss: 0.0908304825425148\n",
      "Epoch: [10/10], Step: [801/3125], Validation Acc: 62.7, Training Loss: 0.42217350006103516\n",
      "Epoch: [10/10], Step: [1201/3125], Validation Acc: 63.0, Training Loss: 0.31123337149620056\n",
      "Epoch: [10/10], Step: [1601/3125], Validation Acc: 63.2, Training Loss: 0.47433602809906006\n",
      "Epoch: [10/10], Step: [2001/3125], Validation Acc: 63.3, Training Loss: 0.07522830367088318\n",
      "Epoch: [10/10], Step: [2401/3125], Validation Acc: 63.7, Training Loss: 0.06969090551137924\n",
      "Epoch: [10/10], Step: [2801/3125], Validation Acc: 61.6, Training Loss: 0.3946501314640045\n"
     ]
    }
   ],
   "source": [
    "hidden_size = 200\n",
    "model_CNN = CNN(hidden_size = hidden_size, kernel_size = 3, padding_size = 1, num_layers=1, num_classes=3, pre_trained_emb = ft_emb)\n",
    "use_cuda = True\n",
    "if use_cuda and torch.cuda.is_available():\n",
    "  model_CNN.cuda()\n",
    "train_loss, val_acc = train_model(train_loader,model_CNN)\n",
    "torch.save(model_CNN.state_dict(), 'CNN_hidden_size_{}.pkl'.format(hidden_size))\n",
    "performance_CNN['hidden_size_{}'.format(hidden_size)] = (train_loss, val_acc)"
   ]
  },
  {
   "cell_type": "code",
   "execution_count": 36,
   "metadata": {
    "colab": {
     "base_uri": "https://localhost:8080/",
     "height": 1207
    },
    "colab_type": "code",
    "id": "dpXlm-ufZ9CZ",
    "outputId": "91bb234a-ef3e-47d5-fe61-f4873ac568f0"
   },
   "outputs": [
    {
     "name": "stdout",
     "output_type": "stream",
     "text": [
      "Epoch: [1/10], Step: [401/3125], Validation Acc: 54.7, Training Acc: 54.9\n",
      "Epoch: [1/10], Step: [801/3125], Validation Acc: 58.5, Training Acc: 58.54\n",
      "Epoch: [1/10], Step: [1201/3125], Validation Acc: 58.0, Training Acc: 61.23\n",
      "Epoch: [1/10], Step: [1601/3125], Validation Acc: 61.8, Training Acc: 61.9\n",
      "Epoch: [1/10], Step: [2001/3125], Validation Acc: 61.3, Training Acc: 63.78\n",
      "Epoch: [1/10], Step: [2401/3125], Validation Acc: 62.0, Training Acc: 64.95\n",
      "Epoch: [1/10], Step: [2801/3125], Validation Acc: 62.7, Training Acc: 65.8\n",
      "Epoch: [2/10], Step: [401/3125], Validation Acc: 64.9, Training Acc: 67.56\n",
      "Epoch: [2/10], Step: [801/3125], Validation Acc: 61.7, Training Acc: 67.64\n",
      "Epoch: [2/10], Step: [1201/3125], Validation Acc: 63.0, Training Acc: 68.88\n",
      "Epoch: [2/10], Step: [1601/3125], Validation Acc: 62.9, Training Acc: 70.0\n",
      "Epoch: [2/10], Step: [2001/3125], Validation Acc: 63.0, Training Acc: 69.84\n",
      "Epoch: [2/10], Step: [2401/3125], Validation Acc: 64.8, Training Acc: 71.12\n",
      "Epoch: [2/10], Step: [2801/3125], Validation Acc: 65.0, Training Acc: 72.61\n",
      "Epoch: [3/10], Step: [401/3125], Validation Acc: 65.0, Training Acc: 73.4\n",
      "Epoch: [3/10], Step: [801/3125], Validation Acc: 66.0, Training Acc: 73.87\n",
      "Epoch: [3/10], Step: [1201/3125], Validation Acc: 66.0, Training Acc: 74.88\n",
      "Epoch: [3/10], Step: [1601/3125], Validation Acc: 66.1, Training Acc: 75.03\n",
      "Epoch: [3/10], Step: [2001/3125], Validation Acc: 64.4, Training Acc: 74.65\n",
      "Epoch: [3/10], Step: [2401/3125], Validation Acc: 64.3, Training Acc: 76.22\n",
      "Epoch: [3/10], Step: [2801/3125], Validation Acc: 65.1, Training Acc: 76.93\n",
      "Epoch: [4/10], Step: [401/3125], Validation Acc: 65.2, Training Acc: 78.37\n",
      "Epoch: [4/10], Step: [801/3125], Validation Acc: 63.7, Training Acc: 77.79\n",
      "Epoch: [4/10], Step: [1201/3125], Validation Acc: 64.4, Training Acc: 80.33\n",
      "Epoch: [4/10], Step: [1601/3125], Validation Acc: 66.7, Training Acc: 80.42\n",
      "Epoch: [4/10], Step: [2001/3125], Validation Acc: 65.9, Training Acc: 81.23\n",
      "Epoch: [4/10], Step: [2401/3125], Validation Acc: 67.2, Training Acc: 81.49\n",
      "Epoch: [4/10], Step: [2801/3125], Validation Acc: 66.4, Training Acc: 82.91\n",
      "Epoch: [5/10], Step: [401/3125], Validation Acc: 65.8, Training Acc: 83.46\n",
      "Epoch: [5/10], Step: [801/3125], Validation Acc: 64.8, Training Acc: 83.8\n",
      "Epoch: [5/10], Step: [1201/3125], Validation Acc: 66.2, Training Acc: 83.15\n",
      "Epoch: [5/10], Step: [1601/3125], Validation Acc: 65.5, Training Acc: 85.58\n",
      "Epoch: [5/10], Step: [2001/3125], Validation Acc: 64.4, Training Acc: 85.69\n",
      "Epoch: [5/10], Step: [2401/3125], Validation Acc: 66.6, Training Acc: 86.59\n",
      "Epoch: [5/10], Step: [2801/3125], Validation Acc: 66.0, Training Acc: 86.86\n",
      "Epoch: [6/10], Step: [401/3125], Validation Acc: 64.9, Training Acc: 86.97\n",
      "Epoch: [6/10], Step: [801/3125], Validation Acc: 63.9, Training Acc: 86.86\n",
      "Epoch: [6/10], Step: [1201/3125], Validation Acc: 64.4, Training Acc: 87.88\n",
      "Epoch: [6/10], Step: [1601/3125], Validation Acc: 65.4, Training Acc: 88.98\n",
      "Epoch: [6/10], Step: [2001/3125], Validation Acc: 66.9, Training Acc: 88.9\n",
      "Epoch: [6/10], Step: [2401/3125], Validation Acc: 64.1, Training Acc: 89.79\n",
      "Epoch: [6/10], Step: [2801/3125], Validation Acc: 65.0, Training Acc: 89.25\n",
      "Epoch: [7/10], Step: [401/3125], Validation Acc: 65.4, Training Acc: 90.51\n",
      "Epoch: [7/10], Step: [801/3125], Validation Acc: 64.0, Training Acc: 90.68\n",
      "Epoch: [7/10], Step: [1201/3125], Validation Acc: 64.8, Training Acc: 91.57\n",
      "Epoch: [7/10], Step: [1601/3125], Validation Acc: 63.6, Training Acc: 92.18\n",
      "Epoch: [7/10], Step: [2001/3125], Validation Acc: 65.8, Training Acc: 92.07\n",
      "Epoch: [7/10], Step: [2401/3125], Validation Acc: 64.9, Training Acc: 92.27\n",
      "Epoch: [7/10], Step: [2801/3125], Validation Acc: 65.2, Training Acc: 92.71\n",
      "Epoch: [8/10], Step: [401/3125], Validation Acc: 65.8, Training Acc: 93.36\n",
      "Epoch: [8/10], Step: [801/3125], Validation Acc: 65.4, Training Acc: 93.39\n",
      "Epoch: [8/10], Step: [1201/3125], Validation Acc: 64.1, Training Acc: 93.16\n",
      "Epoch: [8/10], Step: [1601/3125], Validation Acc: 64.1, Training Acc: 93.87\n",
      "Epoch: [8/10], Step: [2001/3125], Validation Acc: 63.1, Training Acc: 94.06\n",
      "Epoch: [8/10], Step: [2401/3125], Validation Acc: 64.8, Training Acc: 94.09\n",
      "Epoch: [8/10], Step: [2801/3125], Validation Acc: 64.3, Training Acc: 94.93\n",
      "Epoch: [9/10], Step: [401/3125], Validation Acc: 64.4, Training Acc: 95.15\n",
      "Epoch: [9/10], Step: [801/3125], Validation Acc: 64.4, Training Acc: 94.15\n",
      "Epoch: [9/10], Step: [1201/3125], Validation Acc: 65.5, Training Acc: 94.8\n",
      "Epoch: [9/10], Step: [1601/3125], Validation Acc: 62.5, Training Acc: 95.03\n",
      "Epoch: [9/10], Step: [2001/3125], Validation Acc: 63.8, Training Acc: 95.1\n",
      "Epoch: [9/10], Step: [2401/3125], Validation Acc: 64.0, Training Acc: 95.52\n",
      "Epoch: [9/10], Step: [2801/3125], Validation Acc: 62.9, Training Acc: 95.88\n",
      "Epoch: [10/10], Step: [401/3125], Validation Acc: 63.2, Training Acc: 96.06\n",
      "Epoch: [10/10], Step: [801/3125], Validation Acc: 63.8, Training Acc: 95.87\n",
      "Epoch: [10/10], Step: [1201/3125], Validation Acc: 62.5, Training Acc: 95.21\n",
      "Epoch: [10/10], Step: [1601/3125], Validation Acc: 64.5, Training Acc: 95.5\n",
      "Epoch: [10/10], Step: [2001/3125], Validation Acc: 63.3, Training Acc: 96.14\n",
      "Epoch: [10/10], Step: [2401/3125], Validation Acc: 64.2, Training Acc: 95.63\n",
      "Epoch: [10/10], Step: [2801/3125], Validation Acc: 64.5, Training Acc: 96.15\n"
     ]
    }
   ],
   "source": [
    "cnn_hidden_trainacc = {}\n",
    "hidden_size = 300\n",
    "model = CNN(hidden_size = hidden_size,  kernel_size = 3,padding_size = 1,num_layers=2, num_classes=3, pre_trained_emb = ft_emb)\n",
    "use_cuda = True\n",
    "if use_cuda and torch.cuda.is_available():\n",
    "  model.cuda()\n",
    "val_acc,train_acc = train_model(train_loader,model)\n",
    "#torch.save(model.state_dict(), 'new_CNN_hidden_size_{}.pkl'.format(hidden_size))\n",
    "cnn_hidden_trainacc['hidden_size_{}'.format(hidden_size)] = (val_acc,train_acc)\n",
    "#!cp 'new_CNN_hidden_size_300.pkl' 'drive/My Drive/Colab Notebooks/new_CNN_hidden_size_300.pkl'"
   ]
  },
  {
   "cell_type": "code",
   "execution_count": 0,
   "metadata": {
    "colab": {},
    "colab_type": "code",
    "collapsed": true,
    "id": "19NkZPgdb3y8"
   },
   "outputs": [],
   "source": [
    "import pickle\n",
    "g = open(\"cnn_hidden300_acc.pkl\",\"wb\")\n",
    "pickle.dump(cnn_hidden_trainacc,g)\n",
    "g.close()"
   ]
  },
  {
   "cell_type": "code",
   "execution_count": 0,
   "metadata": {
    "colab": {},
    "colab_type": "code",
    "collapsed": true,
    "id": "2-iq9mKjb7mZ"
   },
   "outputs": [],
   "source": [
    "from google.colab import files\n",
    "files.download('cnn_hidden300_acc.pkl')"
   ]
  },
  {
   "cell_type": "code",
   "execution_count": 31,
   "metadata": {
    "colab": {
     "base_uri": "https://localhost:8080/",
     "height": 34
    },
    "colab_type": "code",
    "id": "MMqr4bkTefm2",
    "outputId": "f89d4c03-2c70-45d1-9015-b434f1828526"
   },
   "outputs": [
    {
     "data": {
      "text/plain": [
       "dict_keys(['hidden_size_400'])"
      ]
     },
     "execution_count": 31,
     "metadata": {
      "tags": []
     },
     "output_type": "execute_result"
    }
   ],
   "source": [
    "cnn_hidden_trainacc.keys()"
   ]
  },
  {
   "cell_type": "code",
   "execution_count": 21,
   "metadata": {
    "colab": {
     "base_uri": "https://localhost:8080/",
     "height": 1207
    },
    "colab_type": "code",
    "id": "y2vDwd6w0H8E",
    "outputId": "c5b3ee9c-6116-4219-910a-f510e62a687d"
   },
   "outputs": [
    {
     "name": "stdout",
     "output_type": "stream",
     "text": [
      "Epoch: [1/10], Step: [401/3125], Validation Acc: 55.4, Training Loss: 0.9462689161300659\n",
      "Epoch: [1/10], Step: [801/3125], Validation Acc: 56.0, Training Loss: 0.9292481541633606\n",
      "Epoch: [1/10], Step: [1201/3125], Validation Acc: 58.5, Training Loss: 1.0269328355789185\n",
      "Epoch: [1/10], Step: [1601/3125], Validation Acc: 59.2, Training Loss: 0.7789084911346436\n",
      "Epoch: [1/10], Step: [2001/3125], Validation Acc: 58.8, Training Loss: 0.8680815696716309\n",
      "Epoch: [1/10], Step: [2401/3125], Validation Acc: 58.0, Training Loss: 0.8236707448959351\n",
      "Epoch: [1/10], Step: [2801/3125], Validation Acc: 61.2, Training Loss: 0.8517476916313171\n",
      "Epoch: [2/10], Step: [401/3125], Validation Acc: 62.3, Training Loss: 0.4673631489276886\n",
      "Epoch: [2/10], Step: [801/3125], Validation Acc: 61.5, Training Loss: 0.9887857437133789\n",
      "Epoch: [2/10], Step: [1201/3125], Validation Acc: 61.3, Training Loss: 0.4829244315624237\n",
      "Epoch: [2/10], Step: [1601/3125], Validation Acc: 63.1, Training Loss: 0.7256178855895996\n",
      "Epoch: [2/10], Step: [2001/3125], Validation Acc: 62.8, Training Loss: 0.7009432911872864\n",
      "Epoch: [2/10], Step: [2401/3125], Validation Acc: 64.2, Training Loss: 0.7720448970794678\n",
      "Epoch: [2/10], Step: [2801/3125], Validation Acc: 64.2, Training Loss: 0.7377708554267883\n",
      "Epoch: [3/10], Step: [401/3125], Validation Acc: 63.2, Training Loss: 0.6522626280784607\n",
      "Epoch: [3/10], Step: [801/3125], Validation Acc: 63.1, Training Loss: 1.1193687915802002\n",
      "Epoch: [3/10], Step: [1201/3125], Validation Acc: 63.5, Training Loss: 0.8159160017967224\n",
      "Epoch: [3/10], Step: [1601/3125], Validation Acc: 63.1, Training Loss: 0.7260789275169373\n",
      "Epoch: [3/10], Step: [2001/3125], Validation Acc: 65.2, Training Loss: 0.7621214389801025\n",
      "Epoch: [3/10], Step: [2401/3125], Validation Acc: 65.6, Training Loss: 0.6999930739402771\n",
      "Epoch: [3/10], Step: [2801/3125], Validation Acc: 64.3, Training Loss: 0.8316658735275269\n",
      "Epoch: [4/10], Step: [401/3125], Validation Acc: 65.1, Training Loss: 0.3847399652004242\n",
      "Epoch: [4/10], Step: [801/3125], Validation Acc: 62.9, Training Loss: 0.7569531202316284\n",
      "Epoch: [4/10], Step: [1201/3125], Validation Acc: 65.4, Training Loss: 0.6934089660644531\n",
      "Epoch: [4/10], Step: [1601/3125], Validation Acc: 64.8, Training Loss: 0.5699723958969116\n",
      "Epoch: [4/10], Step: [2001/3125], Validation Acc: 65.1, Training Loss: 0.48604246973991394\n",
      "Epoch: [4/10], Step: [2401/3125], Validation Acc: 65.3, Training Loss: 0.6003212928771973\n",
      "Epoch: [4/10], Step: [2801/3125], Validation Acc: 66.3, Training Loss: 0.5262251496315002\n",
      "Epoch: [5/10], Step: [401/3125], Validation Acc: 65.1, Training Loss: 0.2690596878528595\n",
      "Epoch: [5/10], Step: [801/3125], Validation Acc: 66.3, Training Loss: 0.7686499953269958\n",
      "Epoch: [5/10], Step: [1201/3125], Validation Acc: 64.7, Training Loss: 0.5566157698631287\n",
      "Epoch: [5/10], Step: [1601/3125], Validation Acc: 65.9, Training Loss: 0.4983900189399719\n",
      "Epoch: [5/10], Step: [2001/3125], Validation Acc: 65.3, Training Loss: 0.5247181057929993\n",
      "Epoch: [5/10], Step: [2401/3125], Validation Acc: 65.3, Training Loss: 0.4882514774799347\n",
      "Epoch: [5/10], Step: [2801/3125], Validation Acc: 64.4, Training Loss: 0.7631946206092834\n",
      "Epoch: [6/10], Step: [401/3125], Validation Acc: 65.5, Training Loss: 0.22289681434631348\n",
      "Epoch: [6/10], Step: [801/3125], Validation Acc: 64.9, Training Loss: 0.3598491847515106\n",
      "Epoch: [6/10], Step: [1201/3125], Validation Acc: 65.3, Training Loss: 0.5284957885742188\n",
      "Epoch: [6/10], Step: [1601/3125], Validation Acc: 64.2, Training Loss: 0.4636212885379791\n",
      "Epoch: [6/10], Step: [2001/3125], Validation Acc: 66.2, Training Loss: 0.7152658700942993\n",
      "Epoch: [6/10], Step: [2401/3125], Validation Acc: 65.4, Training Loss: 0.5932853817939758\n",
      "Epoch: [6/10], Step: [2801/3125], Validation Acc: 64.6, Training Loss: 0.47395068407058716\n",
      "Epoch: [7/10], Step: [401/3125], Validation Acc: 64.9, Training Loss: 0.3165717124938965\n",
      "Epoch: [7/10], Step: [801/3125], Validation Acc: 63.2, Training Loss: 0.4754441976547241\n",
      "Epoch: [7/10], Step: [1201/3125], Validation Acc: 63.5, Training Loss: 0.12535181641578674\n",
      "Epoch: [7/10], Step: [1601/3125], Validation Acc: 64.4, Training Loss: 0.4614451825618744\n",
      "Epoch: [7/10], Step: [2001/3125], Validation Acc: 64.4, Training Loss: 0.31140846014022827\n",
      "Epoch: [7/10], Step: [2401/3125], Validation Acc: 65.0, Training Loss: 0.2945340871810913\n",
      "Epoch: [7/10], Step: [2801/3125], Validation Acc: 64.9, Training Loss: 0.15499886870384216\n",
      "Epoch: [8/10], Step: [401/3125], Validation Acc: 65.3, Training Loss: 0.1753448098897934\n",
      "Epoch: [8/10], Step: [801/3125], Validation Acc: 63.8, Training Loss: 0.281290739774704\n",
      "Epoch: [8/10], Step: [1201/3125], Validation Acc: 62.8, Training Loss: 0.3176786005496979\n",
      "Epoch: [8/10], Step: [1601/3125], Validation Acc: 64.1, Training Loss: 0.04795089736580849\n",
      "Epoch: [8/10], Step: [2001/3125], Validation Acc: 65.2, Training Loss: 0.16216377913951874\n",
      "Epoch: [8/10], Step: [2401/3125], Validation Acc: 64.5, Training Loss: 0.22784548997879028\n",
      "Epoch: [8/10], Step: [2801/3125], Validation Acc: 64.7, Training Loss: 0.478498637676239\n",
      "Epoch: [9/10], Step: [401/3125], Validation Acc: 64.6, Training Loss: 0.2584761083126068\n",
      "Epoch: [9/10], Step: [801/3125], Validation Acc: 63.9, Training Loss: 0.052792929112911224\n",
      "Epoch: [9/10], Step: [1201/3125], Validation Acc: 63.2, Training Loss: 0.08689525723457336\n",
      "Epoch: [9/10], Step: [1601/3125], Validation Acc: 63.2, Training Loss: 0.265514075756073\n",
      "Epoch: [9/10], Step: [2001/3125], Validation Acc: 62.9, Training Loss: 0.10331469029188156\n",
      "Epoch: [9/10], Step: [2401/3125], Validation Acc: 62.7, Training Loss: 0.3199573755264282\n",
      "Epoch: [9/10], Step: [2801/3125], Validation Acc: 63.8, Training Loss: 0.2206835299730301\n",
      "Epoch: [10/10], Step: [401/3125], Validation Acc: 62.9, Training Loss: 0.013751741498708725\n",
      "Epoch: [10/10], Step: [801/3125], Validation Acc: 62.9, Training Loss: 0.33499059081077576\n",
      "Epoch: [10/10], Step: [1201/3125], Validation Acc: 64.7, Training Loss: 0.13017520308494568\n",
      "Epoch: [10/10], Step: [1601/3125], Validation Acc: 63.8, Training Loss: 0.3243575096130371\n",
      "Epoch: [10/10], Step: [2001/3125], Validation Acc: 63.8, Training Loss: 0.23284757137298584\n",
      "Epoch: [10/10], Step: [2401/3125], Validation Acc: 63.6, Training Loss: 0.2844119966030121\n",
      "Epoch: [10/10], Step: [2801/3125], Validation Acc: 63.2, Training Loss: 0.21636340022087097\n"
     ]
    }
   ],
   "source": [
    "performance_CNN = {}\n",
    "hidden_size = 300\n",
    "model_CNN = CNN(hidden_size = hidden_size, kernel_size = 3, padding_size = 1, num_layers=2, num_classes=3, pre_trained_emb = ft_emb)\n",
    "use_cuda = True\n",
    "if use_cuda and torch.cuda.is_available():\n",
    "  model_CNN.cuda()\n",
    "train_loss, val_acc = train_model(train_loader,model_CNN)\n",
    "torch.save(model_CNN.state_dict(), 'CNN_hidden_size_{}.pkl'.format(hidden_size))\n",
    "performance_CNN['hidden_size_{}'.format(hidden_size)] = (train_loss, val_acc)"
   ]
  },
  {
   "cell_type": "code",
   "execution_count": 0,
   "metadata": {
    "colab": {},
    "colab_type": "code",
    "collapsed": true,
    "id": "xfbWgZKm1S9X"
   },
   "outputs": [],
   "source": [
    "!cp 'CNN_hidden_size_300.pkl' 'drive/My Drive/Colab Notebooks/CNN_hidden_size_300.pkl'"
   ]
  },
  {
   "cell_type": "code",
   "execution_count": 23,
   "metadata": {
    "colab": {
     "base_uri": "https://localhost:8080/",
     "height": 34
    },
    "colab_type": "code",
    "id": "6WxDvtv0G0jr",
    "outputId": "a997e632-86b8-41d3-d7af-6a1d7f63c248"
   },
   "outputs": [
    {
     "data": {
      "text/plain": [
       "63.3"
      ]
     },
     "execution_count": 23,
     "metadata": {
      "tags": []
     },
     "output_type": "execute_result"
    }
   ],
   "source": [
    "test_model(val_loader, model_CNN)"
   ]
  },
  {
   "cell_type": "code",
   "execution_count": 19,
   "metadata": {
    "colab": {
     "base_uri": "https://localhost:8080/",
     "height": 1207
    },
    "colab_type": "code",
    "id": "SCb40zmNpP4x",
    "outputId": "089cf42c-ef0c-47c5-f93c-287881c7e8cf"
   },
   "outputs": [
    {
     "name": "stdout",
     "output_type": "stream",
     "text": [
      "Epoch: [1/10], Step: [401/3125], Validation Acc: 52.6, Training Loss: 0.957032322883606\n",
      "Epoch: [1/10], Step: [801/3125], Validation Acc: 57.9, Training Loss: 0.8670604228973389\n",
      "Epoch: [1/10], Step: [1201/3125], Validation Acc: 56.0, Training Loss: 0.9471521973609924\n",
      "Epoch: [1/10], Step: [1601/3125], Validation Acc: 60.4, Training Loss: 1.1565369367599487\n",
      "Epoch: [1/10], Step: [2001/3125], Validation Acc: 58.9, Training Loss: 0.9107176065444946\n",
      "Epoch: [1/10], Step: [2401/3125], Validation Acc: 61.2, Training Loss: 0.8247095942497253\n",
      "Epoch: [1/10], Step: [2801/3125], Validation Acc: 60.0, Training Loss: 0.7467164397239685\n",
      "Epoch: [2/10], Step: [401/3125], Validation Acc: 60.7, Training Loss: 1.0081230401992798\n",
      "Epoch: [2/10], Step: [801/3125], Validation Acc: 62.8, Training Loss: 0.7596130967140198\n",
      "Epoch: [2/10], Step: [1201/3125], Validation Acc: 62.1, Training Loss: 0.8079662322998047\n",
      "Epoch: [2/10], Step: [1601/3125], Validation Acc: 62.5, Training Loss: 0.6784083843231201\n",
      "Epoch: [2/10], Step: [2001/3125], Validation Acc: 63.0, Training Loss: 0.7020801901817322\n",
      "Epoch: [2/10], Step: [2401/3125], Validation Acc: 64.9, Training Loss: 0.8594412803649902\n",
      "Epoch: [2/10], Step: [2801/3125], Validation Acc: 63.7, Training Loss: 0.8927968740463257\n",
      "Epoch: [3/10], Step: [401/3125], Validation Acc: 64.4, Training Loss: 0.7829726338386536\n",
      "Epoch: [3/10], Step: [801/3125], Validation Acc: 64.3, Training Loss: 0.7159959673881531\n",
      "Epoch: [3/10], Step: [1201/3125], Validation Acc: 64.2, Training Loss: 0.7526259422302246\n",
      "Epoch: [3/10], Step: [1601/3125], Validation Acc: 64.2, Training Loss: 0.6037064790725708\n",
      "Epoch: [3/10], Step: [2001/3125], Validation Acc: 63.6, Training Loss: 0.5253869295120239\n",
      "Epoch: [3/10], Step: [2401/3125], Validation Acc: 64.3, Training Loss: 0.6513124704360962\n",
      "Epoch: [3/10], Step: [2801/3125], Validation Acc: 65.3, Training Loss: 0.7419357299804688\n",
      "Epoch: [4/10], Step: [401/3125], Validation Acc: 65.5, Training Loss: 0.4434279799461365\n",
      "Epoch: [4/10], Step: [801/3125], Validation Acc: 67.0, Training Loss: 0.6338775753974915\n",
      "Epoch: [4/10], Step: [1201/3125], Validation Acc: 65.3, Training Loss: 0.4377431273460388\n",
      "Epoch: [4/10], Step: [1601/3125], Validation Acc: 65.6, Training Loss: 0.5633437037467957\n",
      "Epoch: [4/10], Step: [2001/3125], Validation Acc: 65.3, Training Loss: 0.8826981782913208\n",
      "Epoch: [4/10], Step: [2401/3125], Validation Acc: 64.7, Training Loss: 0.4879341423511505\n",
      "Epoch: [4/10], Step: [2801/3125], Validation Acc: 65.6, Training Loss: 0.5529216527938843\n",
      "Epoch: [5/10], Step: [401/3125], Validation Acc: 65.6, Training Loss: 0.21147988736629486\n",
      "Epoch: [5/10], Step: [801/3125], Validation Acc: 63.9, Training Loss: 0.48362791538238525\n",
      "Epoch: [5/10], Step: [1201/3125], Validation Acc: 65.3, Training Loss: 0.48404592275619507\n",
      "Epoch: [5/10], Step: [1601/3125], Validation Acc: 65.5, Training Loss: 0.55342698097229\n",
      "Epoch: [5/10], Step: [2001/3125], Validation Acc: 65.0, Training Loss: 0.293820858001709\n",
      "Epoch: [5/10], Step: [2401/3125], Validation Acc: 64.6, Training Loss: 0.4069870114326477\n",
      "Epoch: [5/10], Step: [2801/3125], Validation Acc: 64.9, Training Loss: 0.5498335361480713\n",
      "Epoch: [6/10], Step: [401/3125], Validation Acc: 63.1, Training Loss: 0.3747572600841522\n",
      "Epoch: [6/10], Step: [801/3125], Validation Acc: 64.1, Training Loss: 0.3076436519622803\n",
      "Epoch: [6/10], Step: [1201/3125], Validation Acc: 63.8, Training Loss: 0.6056344509124756\n",
      "Epoch: [6/10], Step: [1601/3125], Validation Acc: 63.7, Training Loss: 0.2800811529159546\n",
      "Epoch: [6/10], Step: [2001/3125], Validation Acc: 65.0, Training Loss: 0.27968308329582214\n",
      "Epoch: [6/10], Step: [2401/3125], Validation Acc: 64.9, Training Loss: 0.5024949312210083\n",
      "Epoch: [6/10], Step: [2801/3125], Validation Acc: 65.1, Training Loss: 0.2585725486278534\n",
      "Epoch: [7/10], Step: [401/3125], Validation Acc: 65.8, Training Loss: 0.34930646419525146\n",
      "Epoch: [7/10], Step: [801/3125], Validation Acc: 64.5, Training Loss: 0.33759698271751404\n",
      "Epoch: [7/10], Step: [1201/3125], Validation Acc: 66.7, Training Loss: 0.20848047733306885\n",
      "Epoch: [7/10], Step: [1601/3125], Validation Acc: 64.6, Training Loss: 0.26876795291900635\n",
      "Epoch: [7/10], Step: [2001/3125], Validation Acc: 65.3, Training Loss: 0.21689891815185547\n",
      "Epoch: [7/10], Step: [2401/3125], Validation Acc: 66.0, Training Loss: 0.4141780734062195\n",
      "Epoch: [7/10], Step: [2801/3125], Validation Acc: 65.7, Training Loss: 0.2719460129737854\n",
      "Epoch: [8/10], Step: [401/3125], Validation Acc: 64.3, Training Loss: 0.23468731343746185\n",
      "Epoch: [8/10], Step: [801/3125], Validation Acc: 64.6, Training Loss: 0.3931754231452942\n",
      "Epoch: [8/10], Step: [1201/3125], Validation Acc: 65.5, Training Loss: 0.15731403231620789\n",
      "Epoch: [8/10], Step: [1601/3125], Validation Acc: 66.1, Training Loss: 0.19276177883148193\n",
      "Epoch: [8/10], Step: [2001/3125], Validation Acc: 66.2, Training Loss: 0.28738683462142944\n",
      "Epoch: [8/10], Step: [2401/3125], Validation Acc: 64.3, Training Loss: 0.15213970839977264\n",
      "Epoch: [8/10], Step: [2801/3125], Validation Acc: 65.1, Training Loss: 0.40966296195983887\n",
      "Epoch: [9/10], Step: [401/3125], Validation Acc: 64.2, Training Loss: 0.6654930114746094\n",
      "Epoch: [9/10], Step: [801/3125], Validation Acc: 64.1, Training Loss: 0.3055838644504547\n",
      "Epoch: [9/10], Step: [1201/3125], Validation Acc: 64.9, Training Loss: 0.08129440993070602\n",
      "Epoch: [9/10], Step: [1601/3125], Validation Acc: 64.3, Training Loss: 0.08704128861427307\n",
      "Epoch: [9/10], Step: [2001/3125], Validation Acc: 64.4, Training Loss: 0.27027565240859985\n",
      "Epoch: [9/10], Step: [2401/3125], Validation Acc: 63.9, Training Loss: 0.330048143863678\n",
      "Epoch: [9/10], Step: [2801/3125], Validation Acc: 64.9, Training Loss: 0.16099141538143158\n",
      "Epoch: [10/10], Step: [401/3125], Validation Acc: 65.1, Training Loss: 0.1203838437795639\n",
      "Epoch: [10/10], Step: [801/3125], Validation Acc: 65.5, Training Loss: 0.10561320185661316\n",
      "Epoch: [10/10], Step: [1201/3125], Validation Acc: 65.3, Training Loss: 0.038260262459516525\n",
      "Epoch: [10/10], Step: [1601/3125], Validation Acc: 64.8, Training Loss: 0.2569989562034607\n",
      "Epoch: [10/10], Step: [2001/3125], Validation Acc: 64.5, Training Loss: 0.31384819746017456\n",
      "Epoch: [10/10], Step: [2401/3125], Validation Acc: 64.7, Training Loss: 0.15411511063575745\n",
      "Epoch: [10/10], Step: [2801/3125], Validation Acc: 65.4, Training Loss: 0.25274592638015747\n"
     ]
    }
   ],
   "source": [
    "performance_CNN = {}\n",
    "hidden_size = 300\n",
    "model_CNN = CNN(hidden_size = hidden_size, kernel_size = 3, padding_size = 1, num_layers=2, num_classes=3, pre_trained_emb = ft_emb)\n",
    "use_cuda = True\n",
    "if use_cuda and torch.cuda.is_available():\n",
    "  model_CNN.cuda()\n",
    "train_loss, val_acc = train_model(train_loader,model_CNN)\n",
    "torch.save(model_CNN.state_dict(), 'CNN_hidden_size_{}.pkl'.format(hidden_size))\n",
    "performance_CNN['hidden_size_{}'.format(hidden_size)] = (train_loss, val_acc)"
   ]
  },
  {
   "cell_type": "code",
   "execution_count": 22,
   "metadata": {
    "colab": {
     "base_uri": "https://localhost:8080/",
     "height": 1207
    },
    "colab_type": "code",
    "id": "srco3CFjaPO2",
    "outputId": "c4dea4e6-2936-4c7f-a131-3b8ce5c3926a"
   },
   "outputs": [
    {
     "name": "stdout",
     "output_type": "stream",
     "text": [
      "Epoch: [1/10], Step: [401/3125], Validation Acc: 56.7, Training Acc: 55.46\n",
      "Epoch: [1/10], Step: [801/3125], Validation Acc: 56.6, Training Acc: 57.83\n",
      "Epoch: [1/10], Step: [1201/3125], Validation Acc: 58.6, Training Acc: 61.93\n",
      "Epoch: [1/10], Step: [1601/3125], Validation Acc: 59.0, Training Acc: 63.68\n",
      "Epoch: [1/10], Step: [2001/3125], Validation Acc: 59.1, Training Acc: 62.72\n",
      "Epoch: [1/10], Step: [2401/3125], Validation Acc: 63.0, Training Acc: 65.97\n",
      "Epoch: [1/10], Step: [2801/3125], Validation Acc: 61.1, Training Acc: 66.7\n",
      "Epoch: [2/10], Step: [401/3125], Validation Acc: 62.8, Training Acc: 68.86\n",
      "Epoch: [2/10], Step: [801/3125], Validation Acc: 64.0, Training Acc: 69.41\n",
      "Epoch: [2/10], Step: [1201/3125], Validation Acc: 62.1, Training Acc: 69.44\n",
      "Epoch: [2/10], Step: [1601/3125], Validation Acc: 62.7, Training Acc: 70.78\n",
      "Epoch: [2/10], Step: [2001/3125], Validation Acc: 62.5, Training Acc: 71.28\n",
      "Epoch: [2/10], Step: [2401/3125], Validation Acc: 62.4, Training Acc: 72.15\n",
      "Epoch: [2/10], Step: [2801/3125], Validation Acc: 63.7, Training Acc: 72.63\n",
      "Epoch: [3/10], Step: [401/3125], Validation Acc: 64.2, Training Acc: 74.58\n",
      "Epoch: [3/10], Step: [801/3125], Validation Acc: 64.6, Training Acc: 75.07\n",
      "Epoch: [3/10], Step: [1201/3125], Validation Acc: 65.2, Training Acc: 75.58\n",
      "Epoch: [3/10], Step: [1601/3125], Validation Acc: 64.4, Training Acc: 76.98\n",
      "Epoch: [3/10], Step: [2001/3125], Validation Acc: 65.3, Training Acc: 77.23\n",
      "Epoch: [3/10], Step: [2401/3125], Validation Acc: 64.1, Training Acc: 77.73\n",
      "Epoch: [3/10], Step: [2801/3125], Validation Acc: 64.3, Training Acc: 76.88\n",
      "Epoch: [4/10], Step: [401/3125], Validation Acc: 65.7, Training Acc: 79.91\n",
      "Epoch: [4/10], Step: [801/3125], Validation Acc: 65.9, Training Acc: 79.65\n",
      "Epoch: [4/10], Step: [1201/3125], Validation Acc: 65.8, Training Acc: 81.37\n",
      "Epoch: [4/10], Step: [1601/3125], Validation Acc: 66.1, Training Acc: 81.88\n",
      "Epoch: [4/10], Step: [2001/3125], Validation Acc: 64.2, Training Acc: 82.31\n",
      "Epoch: [4/10], Step: [2401/3125], Validation Acc: 65.7, Training Acc: 83.15\n",
      "Epoch: [4/10], Step: [2801/3125], Validation Acc: 65.3, Training Acc: 83.16\n",
      "Epoch: [5/10], Step: [401/3125], Validation Acc: 66.5, Training Acc: 85.14\n",
      "Epoch: [5/10], Step: [801/3125], Validation Acc: 66.2, Training Acc: 85.1\n",
      "Epoch: [5/10], Step: [1201/3125], Validation Acc: 66.6, Training Acc: 85.55\n",
      "Epoch: [5/10], Step: [1601/3125], Validation Acc: 65.7, Training Acc: 86.47\n",
      "Epoch: [5/10], Step: [2001/3125], Validation Acc: 65.9, Training Acc: 86.89\n",
      "Epoch: [5/10], Step: [2401/3125], Validation Acc: 65.5, Training Acc: 87.32\n",
      "Epoch: [5/10], Step: [2801/3125], Validation Acc: 64.4, Training Acc: 87.26\n",
      "Epoch: [6/10], Step: [401/3125], Validation Acc: 65.9, Training Acc: 89.76\n",
      "Epoch: [6/10], Step: [801/3125], Validation Acc: 64.3, Training Acc: 89.3\n",
      "Epoch: [6/10], Step: [1201/3125], Validation Acc: 64.1, Training Acc: 89.82\n",
      "Epoch: [6/10], Step: [1601/3125], Validation Acc: 66.1, Training Acc: 90.16\n",
      "Epoch: [6/10], Step: [2001/3125], Validation Acc: 64.4, Training Acc: 90.81\n",
      "Epoch: [6/10], Step: [2401/3125], Validation Acc: 63.4, Training Acc: 90.68\n",
      "Epoch: [6/10], Step: [2801/3125], Validation Acc: 63.4, Training Acc: 90.39\n",
      "Epoch: [7/10], Step: [401/3125], Validation Acc: 64.7, Training Acc: 92.06\n",
      "Epoch: [7/10], Step: [801/3125], Validation Acc: 64.6, Training Acc: 92.34\n",
      "Epoch: [7/10], Step: [1201/3125], Validation Acc: 64.5, Training Acc: 91.95\n",
      "Epoch: [7/10], Step: [1601/3125], Validation Acc: 64.7, Training Acc: 92.64\n",
      "Epoch: [7/10], Step: [2001/3125], Validation Acc: 66.0, Training Acc: 92.87\n",
      "Epoch: [7/10], Step: [2401/3125], Validation Acc: 64.9, Training Acc: 92.36\n",
      "Epoch: [7/10], Step: [2801/3125], Validation Acc: 65.3, Training Acc: 93.76\n",
      "Epoch: [8/10], Step: [401/3125], Validation Acc: 63.5, Training Acc: 94.19\n",
      "Epoch: [8/10], Step: [801/3125], Validation Acc: 63.0, Training Acc: 94.21\n",
      "Epoch: [8/10], Step: [1201/3125], Validation Acc: 63.7, Training Acc: 94.22\n",
      "Epoch: [8/10], Step: [1601/3125], Validation Acc: 63.7, Training Acc: 93.67\n",
      "Epoch: [8/10], Step: [2001/3125], Validation Acc: 63.8, Training Acc: 94.88\n",
      "Epoch: [8/10], Step: [2401/3125], Validation Acc: 64.7, Training Acc: 94.76\n",
      "Epoch: [8/10], Step: [2801/3125], Validation Acc: 65.1, Training Acc: 94.84\n",
      "Epoch: [9/10], Step: [401/3125], Validation Acc: 64.5, Training Acc: 95.57\n",
      "Epoch: [9/10], Step: [801/3125], Validation Acc: 64.4, Training Acc: 95.85\n",
      "Epoch: [9/10], Step: [1201/3125], Validation Acc: 64.0, Training Acc: 95.03\n",
      "Epoch: [9/10], Step: [1601/3125], Validation Acc: 64.8, Training Acc: 95.27\n",
      "Epoch: [9/10], Step: [2001/3125], Validation Acc: 66.0, Training Acc: 95.72\n",
      "Epoch: [9/10], Step: [2401/3125], Validation Acc: 65.9, Training Acc: 95.02\n",
      "Epoch: [9/10], Step: [2801/3125], Validation Acc: 63.4, Training Acc: 95.94\n",
      "Epoch: [10/10], Step: [401/3125], Validation Acc: 65.4, Training Acc: 97.03\n",
      "Epoch: [10/10], Step: [801/3125], Validation Acc: 63.1, Training Acc: 95.4\n",
      "Epoch: [10/10], Step: [1201/3125], Validation Acc: 64.3, Training Acc: 96.52\n",
      "Epoch: [10/10], Step: [1601/3125], Validation Acc: 65.8, Training Acc: 95.97\n",
      "Epoch: [10/10], Step: [2001/3125], Validation Acc: 64.8, Training Acc: 96.34\n",
      "Epoch: [10/10], Step: [2401/3125], Validation Acc: 64.2, Training Acc: 96.28\n",
      "Epoch: [10/10], Step: [2801/3125], Validation Acc: 64.2, Training Acc: 96.4\n"
     ]
    }
   ],
   "source": [
    "cnn_hidden_trainacc = {}\n",
    "hidden_size = 400\n",
    "model = CNN(hidden_size = hidden_size,  kernel_size = 3,padding_size = 1,num_layers=2, num_classes=3, pre_trained_emb = ft_emb)\n",
    "use_cuda = True\n",
    "if use_cuda and torch.cuda.is_available():\n",
    "  model.cuda()\n",
    "val_acc,train_acc = train_model(train_loader,model)\n",
    "torch.save(model.state_dict(), 'new_CNN_hidden_size_{}.pkl'.format(hidden_size))\n",
    "cnn_hidden_trainacc['hidden_size_{}'.format(hidden_size)] = (val_acc,train_acc)\n",
    "!cp 'new_CNN_hidden_size_400.pkl' 'drive/My Drive/Colab Notebooks/new_CNN_hidden_size_400.pkl'"
   ]
  },
  {
   "cell_type": "code",
   "execution_count": 0,
   "metadata": {
    "colab": {},
    "colab_type": "code",
    "collapsed": true,
    "id": "CifE8XnEsZLc"
   },
   "outputs": [],
   "source": [
    "import pickle\n",
    "g = open(\"cnn_hidden_size400_new.pkl\",\"wb\")\n",
    "pickle.dump(cnn_hidden_trainacc,g)\n",
    "g.close()"
   ]
  },
  {
   "cell_type": "code",
   "execution_count": 0,
   "metadata": {
    "colab": {},
    "colab_type": "code",
    "collapsed": true,
    "id": "OIIJ6p1Isf7w"
   },
   "outputs": [],
   "source": [
    "from google.colab import files\n",
    "files.download('cnn_hidden_size400_new.pkl') "
   ]
  },
  {
   "cell_type": "code",
   "execution_count": 20,
   "metadata": {
    "colab": {
     "base_uri": "https://localhost:8080/",
     "height": 1207
    },
    "colab_type": "code",
    "id": "j4oQz4nypUSP",
    "outputId": "1543f2dd-88e5-4f00-8222-0da97e7e4abe"
   },
   "outputs": [
    {
     "name": "stdout",
     "output_type": "stream",
     "text": [
      "Epoch: [1/10], Step: [401/3125], Validation Acc: 52.9, Training Loss: 0.9149646162986755\n",
      "Epoch: [1/10], Step: [801/3125], Validation Acc: 58.2, Training Loss: 0.8825314044952393\n",
      "Epoch: [1/10], Step: [1201/3125], Validation Acc: 58.9, Training Loss: 0.9381951689720154\n",
      "Epoch: [1/10], Step: [1601/3125], Validation Acc: 60.6, Training Loss: 0.9207388162612915\n",
      "Epoch: [1/10], Step: [2001/3125], Validation Acc: 62.2, Training Loss: 0.8168049454689026\n",
      "Epoch: [1/10], Step: [2401/3125], Validation Acc: 63.7, Training Loss: 1.0177844762802124\n",
      "Epoch: [1/10], Step: [2801/3125], Validation Acc: 60.0, Training Loss: 0.7530525922775269\n",
      "Epoch: [2/10], Step: [401/3125], Validation Acc: 61.4, Training Loss: 0.9100489020347595\n",
      "Epoch: [2/10], Step: [801/3125], Validation Acc: 61.5, Training Loss: 0.9704999923706055\n",
      "Epoch: [2/10], Step: [1201/3125], Validation Acc: 62.1, Training Loss: 0.7635511755943298\n",
      "Epoch: [2/10], Step: [1601/3125], Validation Acc: 64.0, Training Loss: 0.6446985006332397\n",
      "Epoch: [2/10], Step: [2001/3125], Validation Acc: 64.1, Training Loss: 0.9865669012069702\n",
      "Epoch: [2/10], Step: [2401/3125], Validation Acc: 64.3, Training Loss: 0.837921679019928\n",
      "Epoch: [2/10], Step: [2801/3125], Validation Acc: 63.4, Training Loss: 0.9416902661323547\n",
      "Epoch: [3/10], Step: [401/3125], Validation Acc: 61.9, Training Loss: 0.6256654262542725\n",
      "Epoch: [3/10], Step: [801/3125], Validation Acc: 61.8, Training Loss: 0.6820870041847229\n",
      "Epoch: [3/10], Step: [1201/3125], Validation Acc: 64.4, Training Loss: 0.985431969165802\n",
      "Epoch: [3/10], Step: [1601/3125], Validation Acc: 63.6, Training Loss: 0.5245583057403564\n",
      "Epoch: [3/10], Step: [2001/3125], Validation Acc: 64.2, Training Loss: 0.7564272880554199\n",
      "Epoch: [3/10], Step: [2401/3125], Validation Acc: 65.3, Training Loss: 0.7967150211334229\n",
      "Epoch: [3/10], Step: [2801/3125], Validation Acc: 63.2, Training Loss: 0.7030112743377686\n",
      "Epoch: [4/10], Step: [401/3125], Validation Acc: 66.1, Training Loss: 0.45007264614105225\n",
      "Epoch: [4/10], Step: [801/3125], Validation Acc: 64.9, Training Loss: 0.735908567905426\n",
      "Epoch: [4/10], Step: [1201/3125], Validation Acc: 64.8, Training Loss: 0.6531566977500916\n",
      "Epoch: [4/10], Step: [1601/3125], Validation Acc: 65.5, Training Loss: 0.4973016083240509\n",
      "Epoch: [4/10], Step: [2001/3125], Validation Acc: 65.0, Training Loss: 0.576430082321167\n",
      "Epoch: [4/10], Step: [2401/3125], Validation Acc: 64.7, Training Loss: 0.6961467862129211\n",
      "Epoch: [4/10], Step: [2801/3125], Validation Acc: 65.0, Training Loss: 0.6816051006317139\n",
      "Epoch: [5/10], Step: [401/3125], Validation Acc: 64.7, Training Loss: 0.485320508480072\n",
      "Epoch: [5/10], Step: [801/3125], Validation Acc: 66.1, Training Loss: 0.3340071439743042\n",
      "Epoch: [5/10], Step: [1201/3125], Validation Acc: 66.0, Training Loss: 0.43216922879219055\n",
      "Epoch: [5/10], Step: [1601/3125], Validation Acc: 66.4, Training Loss: 0.5461450815200806\n",
      "Epoch: [5/10], Step: [2001/3125], Validation Acc: 66.2, Training Loss: 0.2595319151878357\n",
      "Epoch: [5/10], Step: [2401/3125], Validation Acc: 67.4, Training Loss: 0.5014083385467529\n",
      "Epoch: [5/10], Step: [2801/3125], Validation Acc: 66.8, Training Loss: 0.30743110179901123\n",
      "Epoch: [6/10], Step: [401/3125], Validation Acc: 66.4, Training Loss: 0.29106107354164124\n",
      "Epoch: [6/10], Step: [801/3125], Validation Acc: 67.0, Training Loss: 0.23009397089481354\n",
      "Epoch: [6/10], Step: [1201/3125], Validation Acc: 65.2, Training Loss: 0.4865313470363617\n",
      "Epoch: [6/10], Step: [1601/3125], Validation Acc: 64.2, Training Loss: 0.4604805111885071\n",
      "Epoch: [6/10], Step: [2001/3125], Validation Acc: 64.5, Training Loss: 0.27960067987442017\n",
      "Epoch: [6/10], Step: [2401/3125], Validation Acc: 65.0, Training Loss: 0.2510744333267212\n",
      "Epoch: [6/10], Step: [2801/3125], Validation Acc: 66.2, Training Loss: 0.31572872400283813\n",
      "Epoch: [7/10], Step: [401/3125], Validation Acc: 67.6, Training Loss: 0.21943645179271698\n",
      "Epoch: [7/10], Step: [801/3125], Validation Acc: 66.1, Training Loss: 0.3854575455188751\n",
      "Epoch: [7/10], Step: [1201/3125], Validation Acc: 64.6, Training Loss: 0.12601608037948608\n",
      "Epoch: [7/10], Step: [1601/3125], Validation Acc: 66.1, Training Loss: 0.4040611684322357\n",
      "Epoch: [7/10], Step: [2001/3125], Validation Acc: 65.6, Training Loss: 0.38397932052612305\n",
      "Epoch: [7/10], Step: [2401/3125], Validation Acc: 66.5, Training Loss: 0.17575177550315857\n",
      "Epoch: [7/10], Step: [2801/3125], Validation Acc: 64.6, Training Loss: 0.24319258332252502\n",
      "Epoch: [8/10], Step: [401/3125], Validation Acc: 64.8, Training Loss: 0.20791727304458618\n",
      "Epoch: [8/10], Step: [801/3125], Validation Acc: 64.5, Training Loss: 0.08865601569414139\n",
      "Epoch: [8/10], Step: [1201/3125], Validation Acc: 64.8, Training Loss: 0.15028250217437744\n",
      "Epoch: [8/10], Step: [1601/3125], Validation Acc: 65.0, Training Loss: 0.28343674540519714\n",
      "Epoch: [8/10], Step: [2001/3125], Validation Acc: 66.1, Training Loss: 0.1214570552110672\n",
      "Epoch: [8/10], Step: [2401/3125], Validation Acc: 66.9, Training Loss: 0.27002793550491333\n",
      "Epoch: [8/10], Step: [2801/3125], Validation Acc: 65.7, Training Loss: 0.24062538146972656\n",
      "Epoch: [9/10], Step: [401/3125], Validation Acc: 66.3, Training Loss: 0.26678740978240967\n",
      "Epoch: [9/10], Step: [801/3125], Validation Acc: 66.6, Training Loss: 0.3057844042778015\n",
      "Epoch: [9/10], Step: [1201/3125], Validation Acc: 66.0, Training Loss: 0.22996264696121216\n",
      "Epoch: [9/10], Step: [1601/3125], Validation Acc: 65.8, Training Loss: 0.19889894127845764\n",
      "Epoch: [9/10], Step: [2001/3125], Validation Acc: 64.7, Training Loss: 0.19006752967834473\n",
      "Epoch: [9/10], Step: [2401/3125], Validation Acc: 64.7, Training Loss: 0.09921258687973022\n",
      "Epoch: [9/10], Step: [2801/3125], Validation Acc: 64.4, Training Loss: 0.18098808825016022\n",
      "Epoch: [10/10], Step: [401/3125], Validation Acc: 64.6, Training Loss: 0.09220732748508453\n",
      "Epoch: [10/10], Step: [801/3125], Validation Acc: 64.5, Training Loss: 0.20086240768432617\n",
      "Epoch: [10/10], Step: [1201/3125], Validation Acc: 64.2, Training Loss: 0.046124961227178574\n",
      "Epoch: [10/10], Step: [1601/3125], Validation Acc: 63.8, Training Loss: 0.11264130473136902\n",
      "Epoch: [10/10], Step: [2001/3125], Validation Acc: 64.4, Training Loss: 0.15730322897434235\n",
      "Epoch: [10/10], Step: [2401/3125], Validation Acc: 66.1, Training Loss: 0.12022845447063446\n",
      "Epoch: [10/10], Step: [2801/3125], Validation Acc: 64.3, Training Loss: 0.1151854619383812\n"
     ]
    }
   ],
   "source": [
    "hidden_size = 400\n",
    "model_CNN = CNN(hidden_size = hidden_size, kernel_size = 3, padding_size = 1, num_layers=2, num_classes=3, pre_trained_emb = ft_emb)\n",
    "use_cuda = True\n",
    "if use_cuda and torch.cuda.is_available():\n",
    "  model_CNN.cuda()\n",
    "train_loss, val_acc = train_model(train_loader,model_CNN)\n",
    "torch.save(model_CNN.state_dict(), 'CNN_hidden_size_{}.pkl'.format(hidden_size))\n",
    "performance_CNN['hidden_size_{}'.format(hidden_size)] = (train_loss, val_acc)"
   ]
  },
  {
   "cell_type": "code",
   "execution_count": 27,
   "metadata": {
    "colab": {
     "base_uri": "https://localhost:8080/",
     "height": 1207
    },
    "colab_type": "code",
    "id": "7Sh6NeTeaYNw",
    "outputId": "1754b36b-b44c-4598-acc8-2c973a13aa75"
   },
   "outputs": [
    {
     "name": "stdout",
     "output_type": "stream",
     "text": [
      "Epoch: [1/10], Step: [401/3125], Validation Acc: 56.2, Training Acc: 56.14\n",
      "Epoch: [1/10], Step: [801/3125], Validation Acc: 56.5, Training Acc: 59.08\n",
      "Epoch: [1/10], Step: [1201/3125], Validation Acc: 58.7, Training Acc: 59.51\n",
      "Epoch: [1/10], Step: [1601/3125], Validation Acc: 58.6, Training Acc: 62.61\n",
      "Epoch: [1/10], Step: [2001/3125], Validation Acc: 59.6, Training Acc: 63.21\n",
      "Epoch: [1/10], Step: [2401/3125], Validation Acc: 60.6, Training Acc: 65.99\n",
      "Epoch: [1/10], Step: [2801/3125], Validation Acc: 59.6, Training Acc: 65.73\n",
      "Epoch: [2/10], Step: [401/3125], Validation Acc: 61.2, Training Acc: 67.47\n",
      "Epoch: [2/10], Step: [801/3125], Validation Acc: 60.5, Training Acc: 68.99\n",
      "Epoch: [2/10], Step: [1201/3125], Validation Acc: 62.5, Training Acc: 69.76\n",
      "Epoch: [2/10], Step: [1601/3125], Validation Acc: 62.2, Training Acc: 70.28\n",
      "Epoch: [2/10], Step: [2001/3125], Validation Acc: 63.0, Training Acc: 71.54\n",
      "Epoch: [2/10], Step: [2401/3125], Validation Acc: 63.0, Training Acc: 70.75\n",
      "Epoch: [2/10], Step: [2801/3125], Validation Acc: 62.6, Training Acc: 73.14\n",
      "Epoch: [3/10], Step: [401/3125], Validation Acc: 62.5, Training Acc: 73.55\n",
      "Epoch: [3/10], Step: [801/3125], Validation Acc: 64.5, Training Acc: 74.69\n",
      "Epoch: [3/10], Step: [1201/3125], Validation Acc: 66.1, Training Acc: 76.2\n",
      "Epoch: [3/10], Step: [1601/3125], Validation Acc: 64.1, Training Acc: 77.05\n",
      "Epoch: [3/10], Step: [2001/3125], Validation Acc: 63.8, Training Acc: 77.07\n",
      "Epoch: [3/10], Step: [2401/3125], Validation Acc: 67.1, Training Acc: 77.88\n",
      "Epoch: [3/10], Step: [2801/3125], Validation Acc: 65.6, Training Acc: 78.05\n",
      "Epoch: [4/10], Step: [401/3125], Validation Acc: 65.5, Training Acc: 79.76\n",
      "Epoch: [4/10], Step: [801/3125], Validation Acc: 65.4, Training Acc: 80.6\n",
      "Epoch: [4/10], Step: [1201/3125], Validation Acc: 66.2, Training Acc: 80.28\n",
      "Epoch: [4/10], Step: [1601/3125], Validation Acc: 66.5, Training Acc: 82.16\n",
      "Epoch: [4/10], Step: [2001/3125], Validation Acc: 67.8, Training Acc: 83.05\n",
      "Epoch: [4/10], Step: [2401/3125], Validation Acc: 66.1, Training Acc: 82.46\n",
      "Epoch: [4/10], Step: [2801/3125], Validation Acc: 66.6, Training Acc: 83.48\n",
      "Epoch: [5/10], Step: [401/3125], Validation Acc: 64.2, Training Acc: 84.92\n",
      "Epoch: [5/10], Step: [801/3125], Validation Acc: 63.5, Training Acc: 85.41\n",
      "Epoch: [5/10], Step: [1201/3125], Validation Acc: 66.2, Training Acc: 86.5\n",
      "Epoch: [5/10], Step: [1601/3125], Validation Acc: 65.2, Training Acc: 87.06\n",
      "Epoch: [5/10], Step: [2001/3125], Validation Acc: 65.9, Training Acc: 87.49\n",
      "Epoch: [5/10], Step: [2401/3125], Validation Acc: 64.8, Training Acc: 87.55\n",
      "Epoch: [5/10], Step: [2801/3125], Validation Acc: 65.5, Training Acc: 88.64\n",
      "Epoch: [6/10], Step: [401/3125], Validation Acc: 65.2, Training Acc: 89.54\n",
      "Epoch: [6/10], Step: [801/3125], Validation Acc: 66.3, Training Acc: 89.53\n",
      "Epoch: [6/10], Step: [1201/3125], Validation Acc: 66.0, Training Acc: 89.77\n",
      "Epoch: [6/10], Step: [1601/3125], Validation Acc: 64.6, Training Acc: 90.76\n",
      "Epoch: [6/10], Step: [2001/3125], Validation Acc: 64.2, Training Acc: 91.03\n",
      "Epoch: [6/10], Step: [2401/3125], Validation Acc: 65.5, Training Acc: 91.58\n",
      "Epoch: [6/10], Step: [2801/3125], Validation Acc: 64.2, Training Acc: 91.35\n",
      "Epoch: [7/10], Step: [401/3125], Validation Acc: 63.4, Training Acc: 93.05\n",
      "Epoch: [7/10], Step: [801/3125], Validation Acc: 64.6, Training Acc: 92.71\n",
      "Epoch: [7/10], Step: [1201/3125], Validation Acc: 65.6, Training Acc: 92.9\n",
      "Epoch: [7/10], Step: [1601/3125], Validation Acc: 64.3, Training Acc: 93.2\n",
      "Epoch: [7/10], Step: [2001/3125], Validation Acc: 65.0, Training Acc: 93.39\n",
      "Epoch: [7/10], Step: [2401/3125], Validation Acc: 66.0, Training Acc: 93.29\n",
      "Epoch: [7/10], Step: [2801/3125], Validation Acc: 65.4, Training Acc: 94.32\n",
      "Epoch: [8/10], Step: [401/3125], Validation Acc: 64.3, Training Acc: 95.42\n",
      "Epoch: [8/10], Step: [801/3125], Validation Acc: 64.8, Training Acc: 94.89\n",
      "Epoch: [8/10], Step: [1201/3125], Validation Acc: 65.5, Training Acc: 95.22\n",
      "Epoch: [8/10], Step: [1601/3125], Validation Acc: 64.1, Training Acc: 94.83\n",
      "Epoch: [8/10], Step: [2001/3125], Validation Acc: 65.5, Training Acc: 94.86\n",
      "Epoch: [8/10], Step: [2401/3125], Validation Acc: 65.3, Training Acc: 95.4\n",
      "Epoch: [8/10], Step: [2801/3125], Validation Acc: 66.1, Training Acc: 95.6\n",
      "Epoch: [9/10], Step: [401/3125], Validation Acc: 64.7, Training Acc: 96.04\n",
      "Epoch: [9/10], Step: [801/3125], Validation Acc: 63.1, Training Acc: 95.96\n",
      "Epoch: [9/10], Step: [1201/3125], Validation Acc: 66.0, Training Acc: 96.02\n",
      "Epoch: [9/10], Step: [1601/3125], Validation Acc: 65.0, Training Acc: 95.99\n",
      "Epoch: [9/10], Step: [2001/3125], Validation Acc: 64.9, Training Acc: 95.89\n",
      "Epoch: [9/10], Step: [2401/3125], Validation Acc: 64.8, Training Acc: 96.05\n",
      "Epoch: [9/10], Step: [2801/3125], Validation Acc: 64.8, Training Acc: 96.73\n",
      "Epoch: [10/10], Step: [401/3125], Validation Acc: 66.3, Training Acc: 96.92\n",
      "Epoch: [10/10], Step: [801/3125], Validation Acc: 64.3, Training Acc: 96.89\n",
      "Epoch: [10/10], Step: [1201/3125], Validation Acc: 63.5, Training Acc: 96.81\n",
      "Epoch: [10/10], Step: [1601/3125], Validation Acc: 65.6, Training Acc: 96.72\n",
      "Epoch: [10/10], Step: [2001/3125], Validation Acc: 64.3, Training Acc: 97.0\n",
      "Epoch: [10/10], Step: [2401/3125], Validation Acc: 65.7, Training Acc: 96.85\n",
      "Epoch: [10/10], Step: [2801/3125], Validation Acc: 64.5, Training Acc: 97.06\n"
     ]
    }
   ],
   "source": [
    "#cnn_hidden_trainacc = {}\n",
    "hidden_size = 800\n",
    "model = CNN(hidden_size = hidden_size,  kernel_size = 3,padding_size = 1,num_layers=2, num_classes=3, pre_trained_emb = ft_emb)\n",
    "use_cuda = True\n",
    "if use_cuda and torch.cuda.is_available():\n",
    "  model.cuda()\n",
    "val_acc,train_acc = train_model(train_loader,model)\n",
    "#torch.save(model.state_dict(), 'new_CNN_hidden_size_{}.pkl'.format(hidden_size))\n",
    "cnn_hidden_trainacc['hidden_size_{}'.format(hidden_size)] = (val_acc,train_acc)\n",
    "#!cp 'new_CNN_hidden_size_800.pkl' 'drive/My Drive/Colab Notebooks/new_CNN_hidden_size_800.pkl'"
   ]
  },
  {
   "cell_type": "code",
   "execution_count": 30,
   "metadata": {
    "colab": {
     "base_uri": "https://localhost:8080/",
     "height": 34
    },
    "colab_type": "code",
    "id": "hOPPO-Zd1Rsk",
    "outputId": "b3014252-e88d-4b01-e679-da2a5454778a"
   },
   "outputs": [
    {
     "data": {
      "text/plain": [
       "dict_keys(['hidden_size_200', 'hidden_size_100', 'hidden_size_800'])"
      ]
     },
     "execution_count": 30,
     "metadata": {
      "tags": []
     },
     "output_type": "execute_result"
    }
   ],
   "source": [
    "cnn_hidden_trainacc.keys()"
   ]
  },
  {
   "cell_type": "code",
   "execution_count": 0,
   "metadata": {
    "colab": {},
    "colab_type": "code",
    "collapsed": true,
    "id": "cH9cLvtJxb5P"
   },
   "outputs": [],
   "source": [
    "import pickle\n",
    "g = open(\"cnn_hidden_size800_new.pkl\",\"wb\")\n",
    "pickle.dump(cnn_hidden_trainacc,g)\n",
    "g.close()"
   ]
  },
  {
   "cell_type": "code",
   "execution_count": 0,
   "metadata": {
    "colab": {},
    "colab_type": "code",
    "collapsed": true,
    "id": "3H2mCZaGb2sP"
   },
   "outputs": [],
   "source": [
    "import pickle\n",
    "g = open(\"cnn_hidden_size800_new.pkl\",\"wb\")\n",
    "pickle.dump(cnn_hidden_trainacc,g)\n",
    "g.close()"
   ]
  },
  {
   "cell_type": "code",
   "execution_count": 0,
   "metadata": {
    "colab": {},
    "colab_type": "code",
    "collapsed": true,
    "id": "GLPHYkGXb7za"
   },
   "outputs": [],
   "source": [
    "from google.colab import files\n",
    "files.download('cnn_hidden_size800_new.pkl') "
   ]
  },
  {
   "cell_type": "code",
   "execution_count": 28,
   "metadata": {
    "colab": {
     "base_uri": "https://localhost:8080/",
     "height": 1207
    },
    "colab_type": "code",
    "id": "itZgIM96NgqY",
    "outputId": "29dd9128-11df-455b-a1e6-0f0e7646c0b4"
   },
   "outputs": [
    {
     "name": "stdout",
     "output_type": "stream",
     "text": [
      "Epoch: [1/10], Step: [401/3125], Validation Acc: 56.0, Training Loss: 0.9951490759849548\n",
      "Epoch: [1/10], Step: [801/3125], Validation Acc: 55.7, Training Loss: 0.8658526539802551\n",
      "Epoch: [1/10], Step: [1201/3125], Validation Acc: 58.4, Training Loss: 0.8258790373802185\n",
      "Epoch: [1/10], Step: [1601/3125], Validation Acc: 59.8, Training Loss: 0.9195840954780579\n",
      "Epoch: [1/10], Step: [2001/3125], Validation Acc: 61.0, Training Loss: 0.8972375988960266\n",
      "Epoch: [1/10], Step: [2401/3125], Validation Acc: 61.5, Training Loss: 0.7824311256408691\n",
      "Epoch: [1/10], Step: [2801/3125], Validation Acc: 61.6, Training Loss: 0.7511696219444275\n",
      "Epoch: [2/10], Step: [401/3125], Validation Acc: 61.7, Training Loss: 0.7476624846458435\n",
      "Epoch: [2/10], Step: [801/3125], Validation Acc: 62.7, Training Loss: 0.7221182584762573\n",
      "Epoch: [2/10], Step: [1201/3125], Validation Acc: 66.8, Training Loss: 0.4947746992111206\n",
      "Epoch: [2/10], Step: [1601/3125], Validation Acc: 64.7, Training Loss: 0.9293842315673828\n",
      "Epoch: [2/10], Step: [2001/3125], Validation Acc: 64.8, Training Loss: 0.8525505661964417\n",
      "Epoch: [2/10], Step: [2401/3125], Validation Acc: 62.7, Training Loss: 0.7383254766464233\n",
      "Epoch: [2/10], Step: [2801/3125], Validation Acc: 64.7, Training Loss: 0.8505603671073914\n",
      "Epoch: [3/10], Step: [401/3125], Validation Acc: 63.6, Training Loss: 0.7723081111907959\n",
      "Epoch: [3/10], Step: [801/3125], Validation Acc: 62.9, Training Loss: 0.8786203265190125\n",
      "Epoch: [3/10], Step: [1201/3125], Validation Acc: 65.4, Training Loss: 0.6257753372192383\n",
      "Epoch: [3/10], Step: [1601/3125], Validation Acc: 63.9, Training Loss: 0.8967399597167969\n",
      "Epoch: [3/10], Step: [2001/3125], Validation Acc: 65.7, Training Loss: 0.649400532245636\n",
      "Epoch: [3/10], Step: [2401/3125], Validation Acc: 66.6, Training Loss: 0.6458433866500854\n",
      "Epoch: [3/10], Step: [2801/3125], Validation Acc: 64.4, Training Loss: 0.6137059926986694\n",
      "Epoch: [4/10], Step: [401/3125], Validation Acc: 63.9, Training Loss: 0.49198371171951294\n",
      "Epoch: [4/10], Step: [801/3125], Validation Acc: 65.1, Training Loss: 0.47410687804222107\n",
      "Epoch: [4/10], Step: [1201/3125], Validation Acc: 66.3, Training Loss: 0.6787463426589966\n",
      "Epoch: [4/10], Step: [1601/3125], Validation Acc: 64.9, Training Loss: 0.7327559590339661\n",
      "Epoch: [4/10], Step: [2001/3125], Validation Acc: 65.0, Training Loss: 0.6067221164703369\n",
      "Epoch: [4/10], Step: [2401/3125], Validation Acc: 65.7, Training Loss: 0.7739036679267883\n",
      "Epoch: [4/10], Step: [2801/3125], Validation Acc: 66.6, Training Loss: 0.596551775932312\n",
      "Epoch: [5/10], Step: [401/3125], Validation Acc: 65.8, Training Loss: 0.5211811661720276\n",
      "Epoch: [5/10], Step: [801/3125], Validation Acc: 64.6, Training Loss: 0.41983744502067566\n",
      "Epoch: [5/10], Step: [1201/3125], Validation Acc: 66.5, Training Loss: 0.31310832500457764\n",
      "Epoch: [5/10], Step: [1601/3125], Validation Acc: 65.0, Training Loss: 0.23640401661396027\n",
      "Epoch: [5/10], Step: [2001/3125], Validation Acc: 66.2, Training Loss: 0.6180932521820068\n",
      "Epoch: [5/10], Step: [2401/3125], Validation Acc: 67.2, Training Loss: 0.2685752809047699\n",
      "Epoch: [5/10], Step: [2801/3125], Validation Acc: 66.1, Training Loss: 0.5617402791976929\n",
      "Epoch: [6/10], Step: [401/3125], Validation Acc: 65.3, Training Loss: 0.226300448179245\n",
      "Epoch: [6/10], Step: [801/3125], Validation Acc: 66.9, Training Loss: 0.1738199144601822\n",
      "Epoch: [6/10], Step: [1201/3125], Validation Acc: 65.1, Training Loss: 0.515631914138794\n",
      "Epoch: [6/10], Step: [1601/3125], Validation Acc: 66.4, Training Loss: 0.16881005465984344\n",
      "Epoch: [6/10], Step: [2001/3125], Validation Acc: 66.2, Training Loss: 0.20889298617839813\n",
      "Epoch: [6/10], Step: [2401/3125], Validation Acc: 66.9, Training Loss: 0.44715818762779236\n",
      "Epoch: [6/10], Step: [2801/3125], Validation Acc: 65.6, Training Loss: 0.4001157283782959\n",
      "Epoch: [7/10], Step: [401/3125], Validation Acc: 65.9, Training Loss: 0.28770729899406433\n",
      "Epoch: [7/10], Step: [801/3125], Validation Acc: 65.6, Training Loss: 0.14381660521030426\n",
      "Epoch: [7/10], Step: [1201/3125], Validation Acc: 66.1, Training Loss: 0.10438413918018341\n",
      "Epoch: [7/10], Step: [1601/3125], Validation Acc: 66.2, Training Loss: 0.16328927874565125\n",
      "Epoch: [7/10], Step: [2001/3125], Validation Acc: 63.8, Training Loss: 0.20322471857070923\n",
      "Epoch: [7/10], Step: [2401/3125], Validation Acc: 66.1, Training Loss: 0.20043087005615234\n",
      "Epoch: [7/10], Step: [2801/3125], Validation Acc: 64.3, Training Loss: 0.31750476360321045\n",
      "Epoch: [8/10], Step: [401/3125], Validation Acc: 65.1, Training Loss: 0.2424193173646927\n",
      "Epoch: [8/10], Step: [801/3125], Validation Acc: 64.7, Training Loss: 0.15169301629066467\n",
      "Epoch: [8/10], Step: [1201/3125], Validation Acc: 66.4, Training Loss: 0.3521072268486023\n",
      "Epoch: [8/10], Step: [1601/3125], Validation Acc: 63.9, Training Loss: 0.2996700704097748\n",
      "Epoch: [8/10], Step: [2001/3125], Validation Acc: 66.0, Training Loss: 0.2466271072626114\n",
      "Epoch: [8/10], Step: [2401/3125], Validation Acc: 63.6, Training Loss: 0.19060783088207245\n",
      "Epoch: [8/10], Step: [2801/3125], Validation Acc: 65.2, Training Loss: 0.30129778385162354\n",
      "Epoch: [9/10], Step: [401/3125], Validation Acc: 66.1, Training Loss: 0.12184213846921921\n",
      "Epoch: [9/10], Step: [801/3125], Validation Acc: 65.4, Training Loss: 0.1024988666176796\n",
      "Epoch: [9/10], Step: [1201/3125], Validation Acc: 64.8, Training Loss: 0.35202446579933167\n",
      "Epoch: [9/10], Step: [1601/3125], Validation Acc: 65.1, Training Loss: 0.12175052613019943\n",
      "Epoch: [9/10], Step: [2001/3125], Validation Acc: 65.0, Training Loss: 0.024310188367962837\n",
      "Epoch: [9/10], Step: [2401/3125], Validation Acc: 63.6, Training Loss: 0.24470873177051544\n",
      "Epoch: [9/10], Step: [2801/3125], Validation Acc: 64.9, Training Loss: 0.17555955052375793\n",
      "Epoch: [10/10], Step: [401/3125], Validation Acc: 63.5, Training Loss: 0.17924658954143524\n",
      "Epoch: [10/10], Step: [801/3125], Validation Acc: 64.5, Training Loss: 0.06759721785783768\n",
      "Epoch: [10/10], Step: [1201/3125], Validation Acc: 64.5, Training Loss: 0.11128208041191101\n",
      "Epoch: [10/10], Step: [1601/3125], Validation Acc: 66.3, Training Loss: 0.2992163300514221\n",
      "Epoch: [10/10], Step: [2001/3125], Validation Acc: 65.7, Training Loss: 0.5052473545074463\n",
      "Epoch: [10/10], Step: [2401/3125], Validation Acc: 63.3, Training Loss: 0.07434675097465515\n",
      "Epoch: [10/10], Step: [2801/3125], Validation Acc: 63.9, Training Loss: 0.08548682928085327\n"
     ]
    }
   ],
   "source": [
    "hidden_size = 800\n",
    "model_CNN = CNN(hidden_size = hidden_size, kernel_size = 3, padding_size = 1, num_layers=2, num_classes=3, pre_trained_emb = ft_emb)\n",
    "use_cuda = True\n",
    "if use_cuda and torch.cuda.is_available():\n",
    "  model_CNN.cuda()\n",
    "train_loss, val_acc = train_model(train_loader,model_CNN)\n",
    "torch.save(model_CNN.state_dict(), 'CNN_hidden_size_{}.pkl'.format(hidden_size))\n",
    "performance_CNN['hidden_size_{}'.format(hidden_size)] = (train_loss, val_acc)"
   ]
  },
  {
   "cell_type": "code",
   "execution_count": 0,
   "metadata": {
    "colab": {},
    "colab_type": "code",
    "collapsed": true,
    "id": "9YbpZMAWKyRk"
   },
   "outputs": [],
   "source": [
    "model_cnn = CNN(hidden_size = 300, kernel_size = 3, padding_size = 1, num_layers = 2, num_classes = 3, pre_trained_emb = ft_emb)\n",
    "use_cuda = True\n",
    "if use_cuda and torch.cuda.is_available():\n",
    "  model_cnn.cuda()\n",
    "model_cnn.load_state_dict(torch.load('CNN_hidden_size_300.pkl'))"
   ]
  },
  {
   "cell_type": "code",
   "execution_count": 25,
   "metadata": {
    "colab": {
     "base_uri": "https://localhost:8080/",
     "height": 34
    },
    "colab_type": "code",
    "id": "RRnz2MmoLB6t",
    "outputId": "f4634796-92e6-4453-c61b-f379ac8666b5"
   },
   "outputs": [
    {
     "data": {
      "text/plain": [
       "65.6"
      ]
     },
     "execution_count": 25,
     "metadata": {
      "tags": []
     },
     "output_type": "execute_result"
    }
   ],
   "source": [
    "# VAL ACC for CNN with hidden_size 300 and kernel_size 3 :65.6\n",
    "test_model(val_loader, model_cnn)"
   ]
  },
  {
   "cell_type": "code",
   "execution_count": 26,
   "metadata": {
    "colab": {
     "base_uri": "https://localhost:8080/",
     "height": 34
    },
    "colab_type": "code",
    "id": "VlBMdqjzL7ey",
    "outputId": "7f531fe6-05c0-4d0c-9f22-2a9968b41ab8"
   },
   "outputs": [
    {
     "data": {
      "text/plain": [
       "64.9"
      ]
     },
     "execution_count": 26,
     "metadata": {
      "tags": []
     },
     "output_type": "execute_result"
    }
   ],
   "source": [
    "# VAL ACC for CNN with hidden_size 400 and kernel_size 3: 64.9\n",
    "model_cnn = CNN(hidden_size = 400, kernel_size = 3, padding_size = 1, num_layers = 2, num_classes = 3, pre_trained_emb = ft_emb)\n",
    "use_cuda = True\n",
    "if use_cuda and torch.cuda.is_available():\n",
    "  model_cnn.cuda()\n",
    "model_cnn.load_state_dict(torch.load('CNN_hidden_size_400.pkl'))\n",
    "test_model(val_loader, model_cnn)"
   ]
  },
  {
   "cell_type": "code",
   "execution_count": 29,
   "metadata": {
    "colab": {
     "base_uri": "https://localhost:8080/",
     "height": 34
    },
    "colab_type": "code",
    "id": "oCNKhHhEkC8A",
    "outputId": "e63f2b35-f45c-43e4-fac3-749797af84eb"
   },
   "outputs": [
    {
     "data": {
      "text/plain": [
       "65.0"
      ]
     },
     "execution_count": 29,
     "metadata": {
      "tags": []
     },
     "output_type": "execute_result"
    }
   ],
   "source": [
    "# VAL ACC for CNN with hidden_size 800 and kernel_size 3: 65.0\n",
    "model_cnn = CNN(hidden_size = 800, kernel_size = 3, padding_size = 1, num_layers = 2, num_classes = 3, pre_trained_emb = ft_emb)\n",
    "use_cuda = True\n",
    "if use_cuda and torch.cuda.is_available():\n",
    "  model_cnn.cuda()\n",
    "model_cnn.load_state_dict(torch.load('CNN_hidden_size_800.pkl'))\n",
    "test_model(val_loader, model_cnn)"
   ]
  },
  {
   "cell_type": "code",
   "execution_count": 0,
   "metadata": {
    "colab": {},
    "colab_type": "code",
    "collapsed": true,
    "id": "Tzk7liqFkE4Z"
   },
   "outputs": [],
   "source": [
    "g = open(\"cnn_hidden_size_record3.pkl\",\"wb\")\n",
    "pkl.dump(performance_CNN,g)\n",
    "g.close()"
   ]
  },
  {
   "cell_type": "code",
   "execution_count": 0,
   "metadata": {
    "colab": {},
    "colab_type": "code",
    "collapsed": true,
    "id": "hZjt6AgxkSBY"
   },
   "outputs": [],
   "source": [
    "from google.colab import files\n",
    "files.download('cnn_hidden_size_record3.pkl') "
   ]
  },
  {
   "cell_type": "markdown",
   "metadata": {
    "colab_type": "text",
    "id": "imc3ok0XnE7x"
   },
   "source": [
    "## 3.2  Kernel Size Tuning for CNN\n",
    "- Hidden size 400\n",
    "- Kernel size list (3, 5, 7)"
   ]
  },
  {
   "cell_type": "code",
   "execution_count": 25,
   "metadata": {
    "colab": {
     "base_uri": "https://localhost:8080/",
     "height": 1224
    },
    "colab_type": "code",
    "id": "_sB07T2Sf0Br",
    "outputId": "81efe21a-1983-4a46-9b6d-b2cf4c424f23"
   },
   "outputs": [
    {
     "name": "stdout",
     "output_type": "stream",
     "text": [
      "Epoch: [1/10], Step: [401/3125], Validation Acc: 52.7, Training Acc: 55.51\n",
      "Epoch: [1/10], Step: [801/3125], Validation Acc: 54.2, Training Acc: 57.6\n",
      "Epoch: [1/10], Step: [1201/3125], Validation Acc: 58.7, Training Acc: 61.96\n",
      "Epoch: [1/10], Step: [1601/3125], Validation Acc: 58.6, Training Acc: 61.85\n",
      "Epoch: [1/10], Step: [2001/3125], Validation Acc: 59.6, Training Acc: 63.64\n",
      "Epoch: [1/10], Step: [2401/3125], Validation Acc: 61.4, Training Acc: 64.76\n",
      "Epoch: [1/10], Step: [2801/3125], Validation Acc: 62.3, Training Acc: 65.74\n",
      "Epoch: [2/10], Step: [401/3125], Validation Acc: 60.8, Training Acc: 68.41\n",
      "Epoch: [2/10], Step: [801/3125], Validation Acc: 60.7, Training Acc: 69.43\n",
      "Epoch: [2/10], Step: [1201/3125], Validation Acc: 61.0, Training Acc: 69.92\n",
      "Epoch: [2/10], Step: [1601/3125], Validation Acc: 62.4, Training Acc: 71.25\n",
      "Epoch: [2/10], Step: [2001/3125], Validation Acc: 63.9, Training Acc: 72.21\n",
      "Epoch: [2/10], Step: [2401/3125], Validation Acc: 62.7, Training Acc: 72.06\n",
      "Epoch: [2/10], Step: [2801/3125], Validation Acc: 63.4, Training Acc: 73.29\n",
      "Epoch: [3/10], Step: [401/3125], Validation Acc: 62.9, Training Acc: 75.22\n",
      "Epoch: [3/10], Step: [801/3125], Validation Acc: 62.8, Training Acc: 76.47\n",
      "Epoch: [3/10], Step: [1201/3125], Validation Acc: 65.1, Training Acc: 77.38\n",
      "Epoch: [3/10], Step: [1601/3125], Validation Acc: 63.8, Training Acc: 78.18\n",
      "Epoch: [3/10], Step: [2001/3125], Validation Acc: 63.1, Training Acc: 78.69\n",
      "Epoch: [3/10], Step: [2401/3125], Validation Acc: 66.2, Training Acc: 80.49\n",
      "Epoch: [3/10], Step: [2801/3125], Validation Acc: 63.9, Training Acc: 81.08\n",
      "Epoch: [4/10], Step: [401/3125], Validation Acc: 64.4, Training Acc: 82.42\n",
      "Epoch: [4/10], Step: [801/3125], Validation Acc: 64.3, Training Acc: 83.39\n",
      "Epoch: [4/10], Step: [1201/3125], Validation Acc: 63.9, Training Acc: 83.86\n",
      "Epoch: [4/10], Step: [1601/3125], Validation Acc: 64.6, Training Acc: 84.98\n",
      "Epoch: [4/10], Step: [2001/3125], Validation Acc: 64.4, Training Acc: 85.66\n",
      "Epoch: [4/10], Step: [2401/3125], Validation Acc: 65.0, Training Acc: 85.45\n",
      "Epoch: [4/10], Step: [2801/3125], Validation Acc: 66.2, Training Acc: 86.96\n",
      "Epoch: [5/10], Step: [401/3125], Validation Acc: 64.4, Training Acc: 88.11\n",
      "Epoch: [5/10], Step: [801/3125], Validation Acc: 63.4, Training Acc: 87.97\n",
      "Epoch: [5/10], Step: [1201/3125], Validation Acc: 61.8, Training Acc: 88.87\n",
      "Epoch: [5/10], Step: [1601/3125], Validation Acc: 64.4, Training Acc: 89.86\n",
      "Epoch: [5/10], Step: [2001/3125], Validation Acc: 63.4, Training Acc: 89.76\n",
      "Epoch: [5/10], Step: [2401/3125], Validation Acc: 62.9, Training Acc: 90.69\n",
      "Epoch: [5/10], Step: [2801/3125], Validation Acc: 63.9, Training Acc: 91.29\n",
      "Epoch: [6/10], Step: [401/3125], Validation Acc: 63.7, Training Acc: 92.87\n",
      "Epoch: [6/10], Step: [801/3125], Validation Acc: 62.4, Training Acc: 91.28\n",
      "Epoch: [6/10], Step: [1201/3125], Validation Acc: 61.5, Training Acc: 92.72\n",
      "Epoch: [6/10], Step: [1601/3125], Validation Acc: 64.2, Training Acc: 91.61\n",
      "Epoch: [6/10], Step: [2001/3125], Validation Acc: 61.3, Training Acc: 93.46\n",
      "Epoch: [6/10], Step: [2401/3125], Validation Acc: 63.9, Training Acc: 93.84\n",
      "Epoch: [6/10], Step: [2801/3125], Validation Acc: 62.6, Training Acc: 94.37\n",
      "Epoch: [7/10], Step: [401/3125], Validation Acc: 62.6, Training Acc: 94.96\n",
      "Epoch: [7/10], Step: [801/3125], Validation Acc: 62.3, Training Acc: 94.19\n",
      "Epoch: [7/10], Step: [1201/3125], Validation Acc: 63.1, Training Acc: 94.77\n",
      "Epoch: [7/10], Step: [1601/3125], Validation Acc: 61.7, Training Acc: 93.87\n",
      "Epoch: [7/10], Step: [2001/3125], Validation Acc: 61.4, Training Acc: 95.06\n",
      "Epoch: [7/10], Step: [2401/3125], Validation Acc: 61.2, Training Acc: 95.62\n",
      "Epoch: [7/10], Step: [2801/3125], Validation Acc: 61.7, Training Acc: 95.86\n",
      "Epoch: [8/10], Step: [401/3125], Validation Acc: 61.1, Training Acc: 96.3\n",
      "Epoch: [8/10], Step: [801/3125], Validation Acc: 62.3, Training Acc: 95.85\n",
      "Epoch: [8/10], Step: [1201/3125], Validation Acc: 62.1, Training Acc: 96.05\n",
      "Epoch: [8/10], Step: [1601/3125], Validation Acc: 63.0, Training Acc: 96.13\n",
      "Epoch: [8/10], Step: [2001/3125], Validation Acc: 62.8, Training Acc: 96.21\n",
      "Epoch: [8/10], Step: [2401/3125], Validation Acc: 63.3, Training Acc: 96.34\n",
      "Epoch: [8/10], Step: [2801/3125], Validation Acc: 63.0, Training Acc: 96.34\n",
      "Epoch: [9/10], Step: [401/3125], Validation Acc: 62.7, Training Acc: 97.2\n",
      "Epoch: [9/10], Step: [801/3125], Validation Acc: 62.7, Training Acc: 97.14\n",
      "Epoch: [9/10], Step: [1201/3125], Validation Acc: 61.4, Training Acc: 96.7\n",
      "Epoch: [9/10], Step: [1601/3125], Validation Acc: 63.0, Training Acc: 96.73\n",
      "Epoch: [9/10], Step: [2001/3125], Validation Acc: 62.4, Training Acc: 96.79\n",
      "Epoch: [9/10], Step: [2401/3125], Validation Acc: 63.8, Training Acc: 97.05\n",
      "Epoch: [9/10], Step: [2801/3125], Validation Acc: 61.7, Training Acc: 97.22\n",
      "Epoch: [10/10], Step: [401/3125], Validation Acc: 64.0, Training Acc: 97.43\n",
      "Epoch: [10/10], Step: [801/3125], Validation Acc: 64.9, Training Acc: 97.0\n",
      "Epoch: [10/10], Step: [1201/3125], Validation Acc: 65.3, Training Acc: 97.38\n",
      "Epoch: [10/10], Step: [1601/3125], Validation Acc: 64.5, Training Acc: 97.27\n",
      "Epoch: [10/10], Step: [2001/3125], Validation Acc: 62.7, Training Acc: 97.7\n",
      "Epoch: [10/10], Step: [2401/3125], Validation Acc: 62.7, Training Acc: 97.78\n",
      "Epoch: [10/10], Step: [2801/3125], Validation Acc: 63.0, Training Acc: 97.63\n",
      "cp: cannot stat 'new_CNN_kernel_size_5.pkl': No such file or directory\n"
     ]
    }
   ],
   "source": [
    "cnn_kernel_trainacc = {}\n",
    "kernel_size = 5\n",
    "model = CNN(hidden_size = 400,  kernel_size = kernel_size,padding_size = 2,num_layers=2, num_classes=3, pre_trained_emb = ft_emb)\n",
    "use_cuda = True\n",
    "if use_cuda and torch.cuda.is_available():\n",
    "  model.cuda()\n",
    "val_acc,train_acc = train_model(train_loader,model)\n",
    "torch.save(model.state_dict(), 'new_CNN_kernel_size_{}.pkl'.format(hidden_size))\n",
    "cnn_kernel_trainacc['kernel_size_{}'.format(kernel_size)] = (val_acc,train_acc)\n"
   ]
  },
  {
   "cell_type": "code",
   "execution_count": 0,
   "metadata": {
    "colab": {},
    "colab_type": "code",
    "collapsed": true,
    "id": "Dyjq4a4Ss9L3"
   },
   "outputs": [],
   "source": [
    "g = open(\"cnn_kernel5_acc.pkl\",\"wb\")\n",
    "pkl.dump(cnn_kernel_trainacc,g)\n",
    "g.close()"
   ]
  },
  {
   "cell_type": "code",
   "execution_count": 0,
   "metadata": {
    "colab": {},
    "colab_type": "code",
    "collapsed": true,
    "id": "xSgE31NKtImK"
   },
   "outputs": [],
   "source": [
    "from google.colab import files\n",
    "files.download('cnn_kernel5_acc.pkl')"
   ]
  },
  {
   "cell_type": "code",
   "execution_count": 0,
   "metadata": {
    "colab": {},
    "colab_type": "code",
    "collapsed": true,
    "id": "XPtEQyYsNqcq"
   },
   "outputs": [],
   "source": [
    "!cp 'new_CNN_kernel_size_400.pkl' 'drive/My Drive/Colab Notebooks/new_CNN_kernel_size_5.pkl'"
   ]
  },
  {
   "cell_type": "code",
   "execution_count": 38,
   "metadata": {
    "colab": {
     "base_uri": "https://localhost:8080/",
     "height": 1207
    },
    "colab_type": "code",
    "id": "TGKM3tHgmq4u",
    "outputId": "17763fc3-d945-4956-c415-9fa69c394f36"
   },
   "outputs": [
    {
     "name": "stdout",
     "output_type": "stream",
     "text": [
      "Epoch: [1/10], Step: [401/3125], Validation Acc: 53.2, Training Loss: 0.8358578681945801\n",
      "Epoch: [1/10], Step: [801/3125], Validation Acc: 55.7, Training Loss: 0.8203444480895996\n",
      "Epoch: [1/10], Step: [1201/3125], Validation Acc: 57.4, Training Loss: 0.7594694495201111\n",
      "Epoch: [1/10], Step: [1601/3125], Validation Acc: 59.2, Training Loss: 0.8315712809562683\n",
      "Epoch: [1/10], Step: [2001/3125], Validation Acc: 58.7, Training Loss: 0.8887002468109131\n",
      "Epoch: [1/10], Step: [2401/3125], Validation Acc: 59.7, Training Loss: 0.8540970087051392\n",
      "Epoch: [1/10], Step: [2801/3125], Validation Acc: 61.0, Training Loss: 0.7540554404258728\n",
      "Epoch: [2/10], Step: [401/3125], Validation Acc: 59.4, Training Loss: 0.913895845413208\n",
      "Epoch: [2/10], Step: [801/3125], Validation Acc: 61.2, Training Loss: 0.7809163928031921\n",
      "Epoch: [2/10], Step: [1201/3125], Validation Acc: 61.2, Training Loss: 0.6057379841804504\n",
      "Epoch: [2/10], Step: [1601/3125], Validation Acc: 60.0, Training Loss: 0.6565442681312561\n",
      "Epoch: [2/10], Step: [2001/3125], Validation Acc: 61.7, Training Loss: 0.7264928817749023\n",
      "Epoch: [2/10], Step: [2401/3125], Validation Acc: 62.8, Training Loss: 0.858089804649353\n",
      "Epoch: [2/10], Step: [2801/3125], Validation Acc: 62.4, Training Loss: 0.6874130368232727\n",
      "Epoch: [3/10], Step: [401/3125], Validation Acc: 63.4, Training Loss: 0.6100260615348816\n",
      "Epoch: [3/10], Step: [801/3125], Validation Acc: 62.8, Training Loss: 0.6206166744232178\n",
      "Epoch: [3/10], Step: [1201/3125], Validation Acc: 63.2, Training Loss: 0.556153416633606\n",
      "Epoch: [3/10], Step: [1601/3125], Validation Acc: 62.6, Training Loss: 0.7716799974441528\n",
      "Epoch: [3/10], Step: [2001/3125], Validation Acc: 63.7, Training Loss: 0.594855010509491\n",
      "Epoch: [3/10], Step: [2401/3125], Validation Acc: 63.6, Training Loss: 0.6161189079284668\n",
      "Epoch: [3/10], Step: [2801/3125], Validation Acc: 61.2, Training Loss: 0.4911780059337616\n",
      "Epoch: [4/10], Step: [401/3125], Validation Acc: 64.2, Training Loss: 0.34702491760253906\n",
      "Epoch: [4/10], Step: [801/3125], Validation Acc: 62.6, Training Loss: 0.45640096068382263\n",
      "Epoch: [4/10], Step: [1201/3125], Validation Acc: 62.4, Training Loss: 0.390640527009964\n",
      "Epoch: [4/10], Step: [1601/3125], Validation Acc: 62.5, Training Loss: 0.7912795543670654\n",
      "Epoch: [4/10], Step: [2001/3125], Validation Acc: 64.3, Training Loss: 0.5074267387390137\n",
      "Epoch: [4/10], Step: [2401/3125], Validation Acc: 60.8, Training Loss: 0.7084445357322693\n",
      "Epoch: [4/10], Step: [2801/3125], Validation Acc: 63.1, Training Loss: 0.7994515895843506\n",
      "Epoch: [5/10], Step: [401/3125], Validation Acc: 62.3, Training Loss: 0.32298436760902405\n",
      "Epoch: [5/10], Step: [801/3125], Validation Acc: 61.1, Training Loss: 0.42018622159957886\n",
      "Epoch: [5/10], Step: [1201/3125], Validation Acc: 61.2, Training Loss: 0.4551186263561249\n",
      "Epoch: [5/10], Step: [1601/3125], Validation Acc: 61.4, Training Loss: 0.4877707362174988\n",
      "Epoch: [5/10], Step: [2001/3125], Validation Acc: 62.7, Training Loss: 0.36630356311798096\n",
      "Epoch: [5/10], Step: [2401/3125], Validation Acc: 61.7, Training Loss: 0.37952160835266113\n",
      "Epoch: [5/10], Step: [2801/3125], Validation Acc: 62.6, Training Loss: 0.3476976454257965\n",
      "Epoch: [6/10], Step: [401/3125], Validation Acc: 63.2, Training Loss: 0.13754616677761078\n",
      "Epoch: [6/10], Step: [801/3125], Validation Acc: 62.7, Training Loss: 0.23778024315834045\n",
      "Epoch: [6/10], Step: [1201/3125], Validation Acc: 61.2, Training Loss: 0.26750993728637695\n",
      "Epoch: [6/10], Step: [1601/3125], Validation Acc: 61.1, Training Loss: 0.5316581130027771\n",
      "Epoch: [6/10], Step: [2001/3125], Validation Acc: 62.1, Training Loss: 0.2510615885257721\n",
      "Epoch: [6/10], Step: [2401/3125], Validation Acc: 61.5, Training Loss: 0.23182567954063416\n",
      "Epoch: [6/10], Step: [2801/3125], Validation Acc: 62.9, Training Loss: 0.3774125277996063\n",
      "Epoch: [7/10], Step: [401/3125], Validation Acc: 62.2, Training Loss: 0.14141036570072174\n",
      "Epoch: [7/10], Step: [801/3125], Validation Acc: 62.4, Training Loss: 0.20866835117340088\n",
      "Epoch: [7/10], Step: [1201/3125], Validation Acc: 62.2, Training Loss: 0.29202210903167725\n",
      "Epoch: [7/10], Step: [1601/3125], Validation Acc: 62.1, Training Loss: 0.04983750730752945\n",
      "Epoch: [7/10], Step: [2001/3125], Validation Acc: 63.3, Training Loss: 0.1859150528907776\n",
      "Epoch: [7/10], Step: [2401/3125], Validation Acc: 62.8, Training Loss: 0.2191164195537567\n",
      "Epoch: [7/10], Step: [2801/3125], Validation Acc: 62.6, Training Loss: 0.160538449883461\n",
      "Epoch: [8/10], Step: [401/3125], Validation Acc: 61.2, Training Loss: 0.19409090280532837\n",
      "Epoch: [8/10], Step: [801/3125], Validation Acc: 63.0, Training Loss: 0.29193586111068726\n",
      "Epoch: [8/10], Step: [1201/3125], Validation Acc: 61.8, Training Loss: 0.22671206295490265\n",
      "Epoch: [8/10], Step: [1601/3125], Validation Acc: 60.8, Training Loss: 0.10222037136554718\n",
      "Epoch: [8/10], Step: [2001/3125], Validation Acc: 60.9, Training Loss: 0.11008625477552414\n",
      "Epoch: [8/10], Step: [2401/3125], Validation Acc: 61.5, Training Loss: 0.10467441380023956\n",
      "Epoch: [8/10], Step: [2801/3125], Validation Acc: 63.5, Training Loss: 0.22884401679039001\n",
      "Epoch: [9/10], Step: [401/3125], Validation Acc: 62.2, Training Loss: 0.019221089780330658\n",
      "Epoch: [9/10], Step: [801/3125], Validation Acc: 61.8, Training Loss: 0.13586975634098053\n",
      "Epoch: [9/10], Step: [1201/3125], Validation Acc: 61.3, Training Loss: 0.05401105806231499\n",
      "Epoch: [9/10], Step: [1601/3125], Validation Acc: 61.5, Training Loss: 0.1155615895986557\n",
      "Epoch: [9/10], Step: [2001/3125], Validation Acc: 61.8, Training Loss: 0.05312900245189667\n",
      "Epoch: [9/10], Step: [2401/3125], Validation Acc: 63.2, Training Loss: 0.13906049728393555\n",
      "Epoch: [9/10], Step: [2801/3125], Validation Acc: 60.8, Training Loss: 0.05735886096954346\n",
      "Epoch: [10/10], Step: [401/3125], Validation Acc: 61.4, Training Loss: 0.09048101305961609\n",
      "Epoch: [10/10], Step: [801/3125], Validation Acc: 63.3, Training Loss: 0.10443154722452164\n",
      "Epoch: [10/10], Step: [1201/3125], Validation Acc: 61.8, Training Loss: 0.058092616498470306\n",
      "Epoch: [10/10], Step: [1601/3125], Validation Acc: 62.2, Training Loss: 0.043906766921281815\n",
      "Epoch: [10/10], Step: [2001/3125], Validation Acc: 60.3, Training Loss: 0.08128190040588379\n",
      "Epoch: [10/10], Step: [2401/3125], Validation Acc: 61.3, Training Loss: 0.15955254435539246\n",
      "Epoch: [10/10], Step: [2801/3125], Validation Acc: 61.8, Training Loss: 0.22629109025001526\n"
     ]
    }
   ],
   "source": [
    "cnn_kernel_record = {}\n",
    "kernel_size = 5\n",
    "model_CNN = CNN(hidden_size = 400, kernel_size = kernel_size, padding_size = 2,num_layers=2, num_classes=3, pre_trained_emb = ft_emb)\n",
    "use_cuda = True\n",
    "if use_cuda and torch.cuda.is_available():\n",
    "  model_CNN.cuda()\n",
    "train_loss, val_acc = train_model(train_loader,model_CNN)\n",
    "torch.save(model_CNN.state_dict(), 'CNN_kernel_size_{}.pkl'.format(kernel_size))\n",
    "cnn_kernel_record['kernel_size_{}'.format(kernel_size)] = (train_loss, val_acc)"
   ]
  },
  {
   "cell_type": "code",
   "execution_count": 44,
   "metadata": {
    "colab": {
     "base_uri": "https://localhost:8080/",
     "height": 34
    },
    "colab_type": "code",
    "id": "G-NBoHBD7Rsu",
    "outputId": "4befcd23-70bd-42f9-abb2-86cbe27f6c98"
   },
   "outputs": [
    {
     "data": {
      "text/plain": [
       "62.0"
      ]
     },
     "execution_count": 44,
     "metadata": {
      "tags": []
     },
     "output_type": "execute_result"
    }
   ],
   "source": [
    "# VAL ACC for CNN with hidden_size 400 and kernel_size 5: 62\n",
    "model_cnn = CNN(hidden_size = 400, kernel_size = 5, padding_size = 2, num_layers = 2, num_classes = 3, pre_trained_emb = ft_emb)\n",
    "use_cuda = True\n",
    "if use_cuda and torch.cuda.is_available():\n",
    "  model_cnn.cuda()\n",
    "model_cnn.load_state_dict(torch.load('CNN_kernel_size_5.pkl'))\n",
    "test_model(val_loader, model_cnn)"
   ]
  },
  {
   "cell_type": "code",
   "execution_count": 29,
   "metadata": {
    "colab": {
     "base_uri": "https://localhost:8080/",
     "height": 1207
    },
    "colab_type": "code",
    "id": "h8-DKnOmN66O",
    "outputId": "dd709172-e5f0-4e23-c313-42afa3186b4a"
   },
   "outputs": [
    {
     "name": "stdout",
     "output_type": "stream",
     "text": [
      "Epoch: [1/10], Step: [401/3125], Validation Acc: 51.8, Training Acc: 53.61\n",
      "Epoch: [1/10], Step: [801/3125], Validation Acc: 56.5, Training Acc: 57.82\n",
      "Epoch: [1/10], Step: [1201/3125], Validation Acc: 56.4, Training Acc: 60.85\n",
      "Epoch: [1/10], Step: [1601/3125], Validation Acc: 57.0, Training Acc: 61.7\n",
      "Epoch: [1/10], Step: [2001/3125], Validation Acc: 57.3, Training Acc: 63.5\n",
      "Epoch: [1/10], Step: [2401/3125], Validation Acc: 58.4, Training Acc: 65.04\n",
      "Epoch: [1/10], Step: [2801/3125], Validation Acc: 59.7, Training Acc: 65.01\n",
      "Epoch: [2/10], Step: [401/3125], Validation Acc: 59.5, Training Acc: 67.71\n",
      "Epoch: [2/10], Step: [801/3125], Validation Acc: 59.8, Training Acc: 68.77\n",
      "Epoch: [2/10], Step: [1201/3125], Validation Acc: 61.4, Training Acc: 70.16\n",
      "Epoch: [2/10], Step: [1601/3125], Validation Acc: 60.7, Training Acc: 70.65\n",
      "Epoch: [2/10], Step: [2001/3125], Validation Acc: 61.4, Training Acc: 71.64\n",
      "Epoch: [2/10], Step: [2401/3125], Validation Acc: 62.5, Training Acc: 72.45\n",
      "Epoch: [2/10], Step: [2801/3125], Validation Acc: 64.3, Training Acc: 73.36\n",
      "Epoch: [3/10], Step: [401/3125], Validation Acc: 63.1, Training Acc: 73.46\n",
      "Epoch: [3/10], Step: [801/3125], Validation Acc: 61.8, Training Acc: 76.06\n",
      "Epoch: [3/10], Step: [1201/3125], Validation Acc: 60.1, Training Acc: 76.27\n",
      "Epoch: [3/10], Step: [1601/3125], Validation Acc: 63.4, Training Acc: 78.49\n",
      "Epoch: [3/10], Step: [2001/3125], Validation Acc: 63.3, Training Acc: 77.45\n",
      "Epoch: [3/10], Step: [2401/3125], Validation Acc: 63.8, Training Acc: 79.81\n",
      "Epoch: [3/10], Step: [2801/3125], Validation Acc: 63.3, Training Acc: 80.21\n",
      "Epoch: [4/10], Step: [401/3125], Validation Acc: 61.9, Training Acc: 83.03\n",
      "Epoch: [4/10], Step: [801/3125], Validation Acc: 62.5, Training Acc: 83.05\n",
      "Epoch: [4/10], Step: [1201/3125], Validation Acc: 61.1, Training Acc: 83.72\n",
      "Epoch: [4/10], Step: [1601/3125], Validation Acc: 61.6, Training Acc: 85.25\n",
      "Epoch: [4/10], Step: [2001/3125], Validation Acc: 62.1, Training Acc: 86.07\n",
      "Epoch: [4/10], Step: [2401/3125], Validation Acc: 60.8, Training Acc: 86.42\n",
      "Epoch: [4/10], Step: [2801/3125], Validation Acc: 63.0, Training Acc: 87.28\n",
      "Epoch: [5/10], Step: [401/3125], Validation Acc: 60.4, Training Acc: 89.25\n",
      "Epoch: [5/10], Step: [801/3125], Validation Acc: 62.3, Training Acc: 89.12\n",
      "Epoch: [5/10], Step: [1201/3125], Validation Acc: 61.2, Training Acc: 88.98\n",
      "Epoch: [5/10], Step: [1601/3125], Validation Acc: 63.0, Training Acc: 90.08\n",
      "Epoch: [5/10], Step: [2001/3125], Validation Acc: 61.2, Training Acc: 90.84\n",
      "Epoch: [5/10], Step: [2401/3125], Validation Acc: 61.2, Training Acc: 91.66\n",
      "Epoch: [5/10], Step: [2801/3125], Validation Acc: 60.7, Training Acc: 92.95\n",
      "Epoch: [6/10], Step: [401/3125], Validation Acc: 62.4, Training Acc: 93.8\n",
      "Epoch: [6/10], Step: [801/3125], Validation Acc: 61.3, Training Acc: 93.15\n",
      "Epoch: [6/10], Step: [1201/3125], Validation Acc: 63.8, Training Acc: 93.27\n",
      "Epoch: [6/10], Step: [1601/3125], Validation Acc: 62.7, Training Acc: 93.81\n",
      "Epoch: [6/10], Step: [2001/3125], Validation Acc: 62.4, Training Acc: 93.82\n",
      "Epoch: [6/10], Step: [2401/3125], Validation Acc: 61.8, Training Acc: 93.72\n",
      "Epoch: [6/10], Step: [2801/3125], Validation Acc: 61.7, Training Acc: 94.14\n",
      "Epoch: [7/10], Step: [401/3125], Validation Acc: 63.1, Training Acc: 95.22\n",
      "Epoch: [7/10], Step: [801/3125], Validation Acc: 60.1, Training Acc: 95.0\n",
      "Epoch: [7/10], Step: [1201/3125], Validation Acc: 61.2, Training Acc: 95.01\n",
      "Epoch: [7/10], Step: [1601/3125], Validation Acc: 61.8, Training Acc: 95.58\n",
      "Epoch: [7/10], Step: [2001/3125], Validation Acc: 63.4, Training Acc: 95.15\n",
      "Epoch: [7/10], Step: [2401/3125], Validation Acc: 63.4, Training Acc: 95.59\n",
      "Epoch: [7/10], Step: [2801/3125], Validation Acc: 62.2, Training Acc: 96.54\n",
      "Epoch: [8/10], Step: [401/3125], Validation Acc: 64.5, Training Acc: 97.29\n",
      "Epoch: [8/10], Step: [801/3125], Validation Acc: 61.1, Training Acc: 96.88\n",
      "Epoch: [8/10], Step: [1201/3125], Validation Acc: 61.4, Training Acc: 96.19\n",
      "Epoch: [8/10], Step: [1601/3125], Validation Acc: 61.3, Training Acc: 96.7\n",
      "Epoch: [8/10], Step: [2001/3125], Validation Acc: 62.3, Training Acc: 96.64\n",
      "Epoch: [8/10], Step: [2401/3125], Validation Acc: 61.3, Training Acc: 96.72\n",
      "Epoch: [8/10], Step: [2801/3125], Validation Acc: 63.1, Training Acc: 96.4\n",
      "Epoch: [9/10], Step: [401/3125], Validation Acc: 62.3, Training Acc: 97.07\n",
      "Epoch: [9/10], Step: [801/3125], Validation Acc: 61.7, Training Acc: 97.36\n",
      "Epoch: [9/10], Step: [1201/3125], Validation Acc: 61.9, Training Acc: 96.81\n",
      "Epoch: [9/10], Step: [1601/3125], Validation Acc: 62.1, Training Acc: 97.15\n",
      "Epoch: [9/10], Step: [2001/3125], Validation Acc: 63.5, Training Acc: 97.15\n",
      "Epoch: [9/10], Step: [2401/3125], Validation Acc: 60.8, Training Acc: 97.5\n",
      "Epoch: [9/10], Step: [2801/3125], Validation Acc: 64.6, Training Acc: 97.58\n",
      "Epoch: [10/10], Step: [401/3125], Validation Acc: 62.9, Training Acc: 98.2\n",
      "Epoch: [10/10], Step: [801/3125], Validation Acc: 62.0, Training Acc: 97.35\n",
      "Epoch: [10/10], Step: [1201/3125], Validation Acc: 61.8, Training Acc: 97.63\n",
      "Epoch: [10/10], Step: [1601/3125], Validation Acc: 62.8, Training Acc: 97.88\n",
      "Epoch: [10/10], Step: [2001/3125], Validation Acc: 62.6, Training Acc: 97.56\n",
      "Epoch: [10/10], Step: [2401/3125], Validation Acc: 62.9, Training Acc: 97.37\n",
      "Epoch: [10/10], Step: [2801/3125], Validation Acc: 61.1, Training Acc: 97.57\n"
     ]
    }
   ],
   "source": [
    "#cnn_kernel_trainacc = {}\n",
    "kernel_size = 7\n",
    "model = CNN(hidden_size = 400,  kernel_size = kernel_size,padding_size = 3,num_layers=2, num_classes=3, pre_trained_emb = ft_emb)\n",
    "use_cuda = True\n",
    "if use_cuda and torch.cuda.is_available():\n",
    "  model.cuda()\n",
    "val_acc,train_acc = train_model(train_loader,model)\n",
    "torch.save(model.state_dict(), 'new_CNN_kernel_size_{}.pkl'.format(kernel_size))\n",
    "cnn_kernel_trainacc['kernel_size_{}'.format(kernel_size)] = (val_acc,train_acc)\n",
    "!cp 'new_CNN_kernel_size_7.pkl' 'drive/My Drive/Colab Notebooks/new_CNN_kernel_size_7.pkl'"
   ]
  },
  {
   "cell_type": "code",
   "execution_count": 0,
   "metadata": {
    "colab": {},
    "colab_type": "code",
    "collapsed": true,
    "id": "EvbcF_ODOOKf"
   },
   "outputs": [],
   "source": [
    "g = open(\"cnn_kernel7_acc.pkl\",\"wb\")\n",
    "pkl.dump(cnn_kernel_trainacc,g)\n",
    "g.close()"
   ]
  },
  {
   "cell_type": "code",
   "execution_count": 0,
   "metadata": {
    "colab": {},
    "colab_type": "code",
    "collapsed": true,
    "id": "DOGnkCQOOQmX"
   },
   "outputs": [],
   "source": [
    "from google.colab import files\n",
    "files.download('cnn_kernel7_acc.pkl')"
   ]
  },
  {
   "cell_type": "code",
   "execution_count": 32,
   "metadata": {
    "colab": {
     "base_uri": "https://localhost:8080/",
     "height": 1207
    },
    "colab_type": "code",
    "id": "4q_2iUZdcplj",
    "outputId": "acfa3a34-2ec6-4e8d-d4c4-e45b5c271bc1"
   },
   "outputs": [
    {
     "name": "stdout",
     "output_type": "stream",
     "text": [
      "Epoch: [1/10], Step: [401/3125], Validation Acc: 54.9, Training Loss: 0.9650066494941711\n",
      "Epoch: [1/10], Step: [801/3125], Validation Acc: 55.6, Training Loss: 0.9134538769721985\n",
      "Epoch: [1/10], Step: [1201/3125], Validation Acc: 58.2, Training Loss: 1.0140962600708008\n",
      "Epoch: [1/10], Step: [1601/3125], Validation Acc: 59.1, Training Loss: 0.8418033123016357\n",
      "Epoch: [1/10], Step: [2001/3125], Validation Acc: 59.0, Training Loss: 0.7065867781639099\n",
      "Epoch: [1/10], Step: [2401/3125], Validation Acc: 60.8, Training Loss: 0.8253891468048096\n",
      "Epoch: [1/10], Step: [2801/3125], Validation Acc: 62.6, Training Loss: 0.9053332209587097\n",
      "Epoch: [2/10], Step: [401/3125], Validation Acc: 60.8, Training Loss: 0.9090737104415894\n",
      "Epoch: [2/10], Step: [801/3125], Validation Acc: 60.6, Training Loss: 0.6993919014930725\n",
      "Epoch: [2/10], Step: [1201/3125], Validation Acc: 61.2, Training Loss: 0.8176190257072449\n",
      "Epoch: [2/10], Step: [1601/3125], Validation Acc: 62.7, Training Loss: 0.5847613215446472\n",
      "Epoch: [2/10], Step: [2001/3125], Validation Acc: 61.9, Training Loss: 0.7752571702003479\n",
      "Epoch: [2/10], Step: [2401/3125], Validation Acc: 60.9, Training Loss: 0.7452965974807739\n",
      "Epoch: [2/10], Step: [2801/3125], Validation Acc: 62.1, Training Loss: 0.5981795191764832\n",
      "Epoch: [3/10], Step: [401/3125], Validation Acc: 61.7, Training Loss: 0.6579989790916443\n",
      "Epoch: [3/10], Step: [801/3125], Validation Acc: 61.6, Training Loss: 0.750095784664154\n",
      "Epoch: [3/10], Step: [1201/3125], Validation Acc: 63.4, Training Loss: 0.6436989903450012\n",
      "Epoch: [3/10], Step: [1601/3125], Validation Acc: 62.7, Training Loss: 0.7978069186210632\n",
      "Epoch: [3/10], Step: [2001/3125], Validation Acc: 64.2, Training Loss: 0.7187321186065674\n",
      "Epoch: [3/10], Step: [2401/3125], Validation Acc: 62.4, Training Loss: 0.527772068977356\n",
      "Epoch: [3/10], Step: [2801/3125], Validation Acc: 63.4, Training Loss: 0.6639373898506165\n",
      "Epoch: [4/10], Step: [401/3125], Validation Acc: 65.0, Training Loss: 0.5146326422691345\n",
      "Epoch: [4/10], Step: [801/3125], Validation Acc: 64.5, Training Loss: 0.48870211839675903\n",
      "Epoch: [4/10], Step: [1201/3125], Validation Acc: 62.0, Training Loss: 0.8203883767127991\n",
      "Epoch: [4/10], Step: [1601/3125], Validation Acc: 63.1, Training Loss: 0.4450528919696808\n",
      "Epoch: [4/10], Step: [2001/3125], Validation Acc: 64.9, Training Loss: 0.42475053668022156\n",
      "Epoch: [4/10], Step: [2401/3125], Validation Acc: 64.6, Training Loss: 0.5368466377258301\n",
      "Epoch: [4/10], Step: [2801/3125], Validation Acc: 63.8, Training Loss: 0.4079143702983856\n",
      "Epoch: [5/10], Step: [401/3125], Validation Acc: 63.5, Training Loss: 0.4468161463737488\n",
      "Epoch: [5/10], Step: [801/3125], Validation Acc: 64.2, Training Loss: 0.35128429532051086\n",
      "Epoch: [5/10], Step: [1201/3125], Validation Acc: 62.7, Training Loss: 0.2419811487197876\n",
      "Epoch: [5/10], Step: [1601/3125], Validation Acc: 61.8, Training Loss: 0.3547332286834717\n",
      "Epoch: [5/10], Step: [2001/3125], Validation Acc: 61.8, Training Loss: 0.4162597060203552\n",
      "Epoch: [5/10], Step: [2401/3125], Validation Acc: 62.4, Training Loss: 0.5104904174804688\n",
      "Epoch: [5/10], Step: [2801/3125], Validation Acc: 64.3, Training Loss: 0.4614028334617615\n",
      "Epoch: [6/10], Step: [401/3125], Validation Acc: 62.3, Training Loss: 0.1906796395778656\n",
      "Epoch: [6/10], Step: [801/3125], Validation Acc: 62.4, Training Loss: 0.08808771520853043\n",
      "Epoch: [6/10], Step: [1201/3125], Validation Acc: 64.8, Training Loss: 0.20731109380722046\n",
      "Epoch: [6/10], Step: [1601/3125], Validation Acc: 65.9, Training Loss: 0.34358325600624084\n",
      "Epoch: [6/10], Step: [2001/3125], Validation Acc: 63.1, Training Loss: 0.18764173984527588\n",
      "Epoch: [6/10], Step: [2401/3125], Validation Acc: 63.3, Training Loss: 0.14333629608154297\n",
      "Epoch: [6/10], Step: [2801/3125], Validation Acc: 63.0, Training Loss: 0.32594168186187744\n",
      "Epoch: [7/10], Step: [401/3125], Validation Acc: 64.4, Training Loss: 0.27668607234954834\n",
      "Epoch: [7/10], Step: [801/3125], Validation Acc: 61.9, Training Loss: 0.18009237945079803\n",
      "Epoch: [7/10], Step: [1201/3125], Validation Acc: 62.2, Training Loss: 0.3027004599571228\n",
      "Epoch: [7/10], Step: [1601/3125], Validation Acc: 62.2, Training Loss: 0.1584107130765915\n",
      "Epoch: [7/10], Step: [2001/3125], Validation Acc: 63.3, Training Loss: 0.1572665572166443\n",
      "Epoch: [7/10], Step: [2401/3125], Validation Acc: 63.9, Training Loss: 0.12373493611812592\n",
      "Epoch: [7/10], Step: [2801/3125], Validation Acc: 62.8, Training Loss: 0.1790570616722107\n",
      "Epoch: [8/10], Step: [401/3125], Validation Acc: 63.0, Training Loss: 0.053720101714134216\n",
      "Epoch: [8/10], Step: [801/3125], Validation Acc: 62.5, Training Loss: 0.09792785346508026\n",
      "Epoch: [8/10], Step: [1201/3125], Validation Acc: 62.7, Training Loss: 0.1811390072107315\n",
      "Epoch: [8/10], Step: [1601/3125], Validation Acc: 62.4, Training Loss: 0.07243320345878601\n",
      "Epoch: [8/10], Step: [2001/3125], Validation Acc: 62.5, Training Loss: 0.12526553869247437\n",
      "Epoch: [8/10], Step: [2401/3125], Validation Acc: 62.5, Training Loss: 0.2279941737651825\n",
      "Epoch: [8/10], Step: [2801/3125], Validation Acc: 61.7, Training Loss: 0.10401372611522675\n",
      "Epoch: [9/10], Step: [401/3125], Validation Acc: 63.8, Training Loss: 0.043508131057024\n",
      "Epoch: [9/10], Step: [801/3125], Validation Acc: 64.0, Training Loss: 0.09575676918029785\n",
      "Epoch: [9/10], Step: [1201/3125], Validation Acc: 64.0, Training Loss: 0.12894636392593384\n",
      "Epoch: [9/10], Step: [1601/3125], Validation Acc: 63.5, Training Loss: 0.1036992222070694\n",
      "Epoch: [9/10], Step: [2001/3125], Validation Acc: 62.1, Training Loss: 0.20481619238853455\n",
      "Epoch: [9/10], Step: [2401/3125], Validation Acc: 64.2, Training Loss: 0.2964804768562317\n",
      "Epoch: [9/10], Step: [2801/3125], Validation Acc: 63.2, Training Loss: 0.1107170581817627\n",
      "Epoch: [10/10], Step: [401/3125], Validation Acc: 62.2, Training Loss: 0.03704079985618591\n",
      "Epoch: [10/10], Step: [801/3125], Validation Acc: 61.4, Training Loss: 0.1066797524690628\n",
      "Epoch: [10/10], Step: [1201/3125], Validation Acc: 62.8, Training Loss: 0.042036499828100204\n",
      "Epoch: [10/10], Step: [1601/3125], Validation Acc: 63.7, Training Loss: 0.024006813764572144\n",
      "Epoch: [10/10], Step: [2001/3125], Validation Acc: 63.4, Training Loss: 0.0703052505850792\n",
      "Epoch: [10/10], Step: [2401/3125], Validation Acc: 63.5, Training Loss: 0.13316291570663452\n",
      "Epoch: [10/10], Step: [2801/3125], Validation Acc: 63.9, Training Loss: 0.012281063944101334\n"
     ]
    }
   ],
   "source": [
    "cnn_kernel_record1 = {}\n",
    "kernel_size = 7\n",
    "model_CNN = CNN(hidden_size = 400, kernel_size = kernel_size, padding_size = 3,num_layers=2, num_classes=3, pre_trained_emb = ft_emb)\n",
    "use_cuda = True\n",
    "if use_cuda and torch.cuda.is_available():\n",
    "  model_CNN.cuda()\n",
    "train_loss, val_acc = train_model(train_loader,model_CNN)\n",
    "torch.save(model_CNN.state_dict(), 'CNN_kernel_size_{}.pkl'.format(kernel_size))\n",
    "cnn_kernel_record1['kernel_size_{}'.format(kernel_size)] = (train_loss, val_acc)"
   ]
  },
  {
   "cell_type": "code",
   "execution_count": 0,
   "metadata": {
    "colab": {},
    "colab_type": "code",
    "collapsed": true,
    "id": "2lCMPq7rwNb2"
   },
   "outputs": [],
   "source": [
    "!cp 'CNN_kernel_size_7.pkl' 'drive/My Drive/Colab Notebooks/CNN_kernel_size_7.pkl'"
   ]
  },
  {
   "cell_type": "code",
   "execution_count": 35,
   "metadata": {
    "colab": {
     "base_uri": "https://localhost:8080/",
     "height": 34
    },
    "colab_type": "code",
    "id": "Uksx4gHUEsa0",
    "outputId": "e296eedd-de26-414f-8362-4c157b3dc9f1"
   },
   "outputs": [
    {
     "data": {
      "text/plain": [
       "63.8"
      ]
     },
     "execution_count": 35,
     "metadata": {
      "tags": []
     },
     "output_type": "execute_result"
    }
   ],
   "source": [
    "test_model(val_loader, model_CNN)"
   ]
  },
  {
   "cell_type": "code",
   "execution_count": 0,
   "metadata": {
    "colab": {},
    "colab_type": "code",
    "collapsed": true,
    "id": "zj4DxDsVE6pC"
   },
   "outputs": [],
   "source": [
    "g = open(\"cnn_kernel_size_record1.pkl\",\"wb\")\n",
    "pkl.dump(cnn_kernel_record1,g)\n",
    "g.close()"
   ]
  },
  {
   "cell_type": "code",
   "execution_count": 0,
   "metadata": {
    "colab": {},
    "colab_type": "code",
    "collapsed": true,
    "id": "U5iglQWzFBem"
   },
   "outputs": [],
   "source": [
    "files.download('cnn_kernel_size_record1.pkl')"
   ]
  },
  {
   "cell_type": "code",
   "execution_count": 27,
   "metadata": {
    "colab": {
     "base_uri": "https://localhost:8080/",
     "height": 34
    },
    "colab_type": "code",
    "id": "9SargazNK7VT",
    "outputId": "4fdc38de-985c-45ad-9176-2d91242f789d"
   },
   "outputs": [
    {
     "data": {
      "text/plain": [
       "65.0"
      ]
     },
     "execution_count": 27,
     "metadata": {
      "tags": []
     },
     "output_type": "execute_result"
    }
   ],
   "source": [
    "# VAL ACC for CNN with hidden_size 400 and kernel_size 7: 65\n",
    "model_cnn = CNN(hidden_size = 800, kernel_size = 3, padding_size = 1, num_layers = 2, num_classes = 3, pre_trained_emb = ft_emb)\n",
    "use_cuda = True\n",
    "if use_cuda and torch.cuda.is_available():\n",
    "  model_cnn.cuda()\n",
    "model_cnn.load_state_dict(torch.load('drive/My Drive/Colab Notebooks/CNN_hidden_size_800.pkl'))\n",
    "test_model(val_loader, model_cnn)"
   ]
  },
  {
   "cell_type": "code",
   "execution_count": 0,
   "metadata": {
    "colab": {},
    "colab_type": "code",
    "collapsed": true,
    "id": "_hgi5ZKLZUGN"
   },
   "outputs": [],
   "source": [
    "# VAL ACC for CNN with hidden_size 400 and kernel_size 5: 62\n",
    "model_cnn = CNN(hidden_size = 400, kernel_size = 5, padding_size = 2, num_layers = 2, num_classes = 3, pre_trained_emb = ft_emb)\n",
    "use_cuda = True\n",
    "if use_cuda and torch.cuda.is_available():\n",
    "  model_cnn.cuda()\n",
    "model_cnn.load_state_dict(torch.load('CNN_kernel_size_5.pkl'))\n",
    "test_model(val_loader, model_cnn)"
   ]
  },
  {
   "cell_type": "code",
   "execution_count": 0,
   "metadata": {
    "colab": {},
    "colab_type": "code",
    "collapsed": true,
    "id": "dDTTpIBlmqro"
   },
   "outputs": [],
   "source": [
    "!cp 'CNN_hidden_size_800.pkl' 'drive/My Drive/Colab Notebooks'"
   ]
  },
  {
   "cell_type": "code",
   "execution_count": 0,
   "metadata": {
    "colab": {},
    "colab_type": "code",
    "collapsed": true,
    "id": "BH4an28l9h5T"
   },
   "outputs": [],
   "source": [
    "g = open(\"cnn_kernel_size_record.pkl\",\"wb\")\n",
    "pkl.dump(cnn_kernel_record,g)\n",
    "g.close()"
   ]
  },
  {
   "cell_type": "code",
   "execution_count": 0,
   "metadata": {
    "colab": {},
    "colab_type": "code",
    "collapsed": true,
    "id": "V3-rrRhc9xCg"
   },
   "outputs": [],
   "source": [
    "files.download('cnn_kernel_size_record.pkl')"
   ]
  },
  {
   "cell_type": "markdown",
   "metadata": {
    "colab_type": "text",
    "id": "4piixm8hLIl-"
   },
   "source": [
    "## 3.3 Concatenate two encoded sentences with element-wise multiplication for CNN\n",
    "- Kernel size: 3\n",
    "- Hidden size list: (200, 300, 400)"
   ]
  },
  {
   "cell_type": "code",
   "execution_count": 0,
   "metadata": {
    "colab": {},
    "colab_type": "code",
    "collapsed": true,
    "id": "gFhFU-C-LiSE"
   },
   "outputs": [],
   "source": [
    "class CNN_mul(nn.Module):\n",
    "    def __init__(self,  hidden_size, kernel_size, padding_size, num_layers, num_classes, pre_trained_emb):\n",
    "\n",
    "        super(CNN_mul, self).__init__()\n",
    "\n",
    "        self.num_layers, self.hidden_size, self.kernel_size ,self.padding_size= num_layers, hidden_size,kernel_size,padding_size\n",
    "        self.embedding = nn.Embedding(pre_trained_emb.shape[0], pre_trained_emb.shape[1], padding_idx=PAD_IDX)\n",
    "        #emb_size is the size of imput, hidden_size is the size of output. kernel_size is like the window size, \n",
    "        # the kernel size 3 here means read 3 words/chars once\n",
    "        self.conv1 = nn.Conv1d( pre_trained_emb.shape[1], hidden_size, kernel_size, padding=padding_size)\n",
    "        self.conv2 = nn.Conv1d(hidden_size, hidden_size, kernel_size, padding=padding_size)\n",
    "\n",
    "        self.linear1 = nn.Linear(hidden_size, hidden_size)\n",
    "        self.relu = nn.ReLU()\n",
    "        self.linear2 = nn.Linear(hidden_size, num_classes)\n",
    "        #self.maxpooling = nn.MaxPool1d()\n",
    "    def init_weights(self, is_static=True):\n",
    "        self.embedding.weight = nn.Parameter(torch.from_numpy(pre_trained_emb).float())\n",
    "        if is_static:\n",
    "            self.embedding.weight.requires_grad = False\n",
    "            \n",
    "    def forward(self, token1_data, token1_lengths,token2_data, token2_lengths):\n",
    "        batch_size, token1_seq_len = token1_data.size()\n",
    "        _,token2_seq_len = token2_data.size()\n",
    "\n",
    "        embed_sent1 = self.embedding(token1_data)\n",
    "        embed_sent2 = self.embedding(token2_data)\n",
    "        # the convolusional module in pytorch expects the input of size  batch size by the hidden size by the sequence length\n",
    "        hidden_sent1 = self.conv1(embed_sent1.transpose(1,2)).transpose(1,2)\n",
    "        hidden_sent2 = self.conv1(embed_sent2.transpose(1,2)).transpose(1,2)\n",
    "        # relu expect 2-d tensor as input , merging the 0th and 1st dim together\n",
    "        hidden_sent1 = F.relu(hidden_sent1.contiguous().view(-1, hidden_sent1.size(-1))).view(batch_size, token1_seq_len, hidden_sent1.size(-1))\n",
    "        hidden_sent2 = F.relu(hidden_sent2.contiguous().view(-1, hidden_sent2.size(-1))).view(batch_size, token2_seq_len, hidden_sent2.size(-1))\n",
    "        hidden_sent1 = self.conv2(hidden_sent1.transpose(1,2)).transpose(1,2)\n",
    "        hidden_sent2 = self.conv2(hidden_sent2.transpose(1,2)).transpose(1,2)\n",
    "        hidden_sent1 = F.relu(hidden_sent1.contiguous().view(-1, hidden_sent1.size(-1))).view(batch_size, token1_seq_len, hidden_sent1.size(-1))\n",
    "        hidden_sent2 = F.relu(hidden_sent2.contiguous().view(-1, hidden_sent2.size(-1))).view(batch_size, token2_seq_len, hidden_sent2.size(-1))\n",
    "        # max-pooling over time\n",
    "        hidden_sent1 = F.max_pool1d(hidden_sent1.transpose(1,2), kernel_size = token1_seq_len ).transpose(1,2)\n",
    "        hidden_sent2 = F.max_pool1d(hidden_sent2.transpose(1,2), kernel_size = token2_seq_len ).transpose(1,2)\n",
    "        hidden = torch.mul(hidden_sent1, hidden_sent2).squeeze()\n",
    "        fc1_out = self.linear1(hidden)\n",
    "        fc1_out = self.relu(fc1_out)\n",
    "        fc2_out = self.linear2(fc1_out)\n",
    "        preds = F.log_softmax(fc2_out, 1)\n",
    "        return preds"
   ]
  },
  {
   "cell_type": "code",
   "execution_count": 32,
   "metadata": {
    "colab": {
     "base_uri": "https://localhost:8080/",
     "height": 1207
    },
    "colab_type": "code",
    "id": "WEjqSqLsMQbi",
    "outputId": "28f78f08-efe5-46f7-8677-029983d4295a"
   },
   "outputs": [
    {
     "name": "stdout",
     "output_type": "stream",
     "text": [
      "Epoch: [1/10], Step: [401/3125], Validation Acc: 50.7, Training Acc: 48.94\n",
      "Epoch: [1/10], Step: [801/3125], Validation Acc: 51.5, Training Acc: 53.75\n",
      "Epoch: [1/10], Step: [1201/3125], Validation Acc: 54.2, Training Acc: 54.47\n",
      "Epoch: [1/10], Step: [1601/3125], Validation Acc: 54.4, Training Acc: 57.73\n",
      "Epoch: [1/10], Step: [2001/3125], Validation Acc: 57.3, Training Acc: 58.21\n",
      "Epoch: [1/10], Step: [2401/3125], Validation Acc: 55.0, Training Acc: 58.61\n",
      "Epoch: [1/10], Step: [2801/3125], Validation Acc: 56.4, Training Acc: 59.22\n",
      "Epoch: [2/10], Step: [401/3125], Validation Acc: 58.3, Training Acc: 62.3\n",
      "Epoch: [2/10], Step: [801/3125], Validation Acc: 59.3, Training Acc: 63.44\n",
      "Epoch: [2/10], Step: [1201/3125], Validation Acc: 59.2, Training Acc: 65.45\n",
      "Epoch: [2/10], Step: [1601/3125], Validation Acc: 59.2, Training Acc: 66.02\n",
      "Epoch: [2/10], Step: [2001/3125], Validation Acc: 58.6, Training Acc: 65.25\n",
      "Epoch: [2/10], Step: [2401/3125], Validation Acc: 59.7, Training Acc: 67.46\n",
      "Epoch: [2/10], Step: [2801/3125], Validation Acc: 62.5, Training Acc: 68.1\n",
      "Epoch: [3/10], Step: [401/3125], Validation Acc: 59.7, Training Acc: 68.75\n",
      "Epoch: [3/10], Step: [801/3125], Validation Acc: 60.9, Training Acc: 70.53\n",
      "Epoch: [3/10], Step: [1201/3125], Validation Acc: 60.8, Training Acc: 70.7\n",
      "Epoch: [3/10], Step: [1601/3125], Validation Acc: 61.6, Training Acc: 71.71\n",
      "Epoch: [3/10], Step: [2001/3125], Validation Acc: 62.9, Training Acc: 72.87\n",
      "Epoch: [3/10], Step: [2401/3125], Validation Acc: 61.0, Training Acc: 70.57\n",
      "Epoch: [3/10], Step: [2801/3125], Validation Acc: 63.9, Training Acc: 73.94\n",
      "Epoch: [4/10], Step: [401/3125], Validation Acc: 63.5, Training Acc: 75.26\n",
      "Epoch: [4/10], Step: [801/3125], Validation Acc: 61.3, Training Acc: 75.06\n",
      "Epoch: [4/10], Step: [1201/3125], Validation Acc: 63.4, Training Acc: 76.83\n",
      "Epoch: [4/10], Step: [1601/3125], Validation Acc: 64.3, Training Acc: 77.63\n",
      "Epoch: [4/10], Step: [2001/3125], Validation Acc: 63.0, Training Acc: 78.14\n",
      "Epoch: [4/10], Step: [2401/3125], Validation Acc: 63.5, Training Acc: 78.49\n",
      "Epoch: [4/10], Step: [2801/3125], Validation Acc: 64.5, Training Acc: 79.58\n",
      "Epoch: [5/10], Step: [401/3125], Validation Acc: 63.8, Training Acc: 79.42\n",
      "Epoch: [5/10], Step: [801/3125], Validation Acc: 64.0, Training Acc: 79.99\n",
      "Epoch: [5/10], Step: [1201/3125], Validation Acc: 64.1, Training Acc: 80.09\n",
      "Epoch: [5/10], Step: [1601/3125], Validation Acc: 64.5, Training Acc: 81.92\n",
      "Epoch: [5/10], Step: [2001/3125], Validation Acc: 62.8, Training Acc: 81.32\n",
      "Epoch: [5/10], Step: [2401/3125], Validation Acc: 64.9, Training Acc: 82.5\n",
      "Epoch: [5/10], Step: [2801/3125], Validation Acc: 64.0, Training Acc: 83.76\n",
      "Epoch: [6/10], Step: [401/3125], Validation Acc: 62.1, Training Acc: 83.5\n",
      "Epoch: [6/10], Step: [801/3125], Validation Acc: 63.4, Training Acc: 84.26\n",
      "Epoch: [6/10], Step: [1201/3125], Validation Acc: 61.0, Training Acc: 84.19\n",
      "Epoch: [6/10], Step: [1601/3125], Validation Acc: 60.3, Training Acc: 84.52\n",
      "Epoch: [6/10], Step: [2001/3125], Validation Acc: 61.3, Training Acc: 85.49\n",
      "Epoch: [6/10], Step: [2401/3125], Validation Acc: 61.3, Training Acc: 86.65\n",
      "Epoch: [6/10], Step: [2801/3125], Validation Acc: 64.0, Training Acc: 87.46\n",
      "Epoch: [7/10], Step: [401/3125], Validation Acc: 63.7, Training Acc: 87.77\n",
      "Epoch: [7/10], Step: [801/3125], Validation Acc: 63.9, Training Acc: 88.47\n",
      "Epoch: [7/10], Step: [1201/3125], Validation Acc: 62.9, Training Acc: 88.65\n",
      "Epoch: [7/10], Step: [1601/3125], Validation Acc: 62.1, Training Acc: 88.95\n",
      "Epoch: [7/10], Step: [2001/3125], Validation Acc: 63.9, Training Acc: 88.26\n",
      "Epoch: [7/10], Step: [2401/3125], Validation Acc: 61.3, Training Acc: 88.7\n",
      "Epoch: [7/10], Step: [2801/3125], Validation Acc: 63.2, Training Acc: 89.41\n",
      "Epoch: [8/10], Step: [401/3125], Validation Acc: 62.3, Training Acc: 88.39\n",
      "Epoch: [8/10], Step: [801/3125], Validation Acc: 63.4, Training Acc: 90.97\n",
      "Epoch: [8/10], Step: [1201/3125], Validation Acc: 63.2, Training Acc: 90.92\n",
      "Epoch: [8/10], Step: [1601/3125], Validation Acc: 63.1, Training Acc: 90.87\n",
      "Epoch: [8/10], Step: [2001/3125], Validation Acc: 61.9, Training Acc: 91.1\n",
      "Epoch: [8/10], Step: [2401/3125], Validation Acc: 63.7, Training Acc: 91.93\n",
      "Epoch: [8/10], Step: [2801/3125], Validation Acc: 60.7, Training Acc: 92.37\n",
      "Epoch: [9/10], Step: [401/3125], Validation Acc: 63.9, Training Acc: 92.73\n",
      "Epoch: [9/10], Step: [801/3125], Validation Acc: 60.8, Training Acc: 92.24\n",
      "Epoch: [9/10], Step: [1201/3125], Validation Acc: 62.5, Training Acc: 92.24\n",
      "Epoch: [9/10], Step: [1601/3125], Validation Acc: 61.9, Training Acc: 92.52\n",
      "Epoch: [9/10], Step: [2001/3125], Validation Acc: 61.2, Training Acc: 93.13\n",
      "Epoch: [9/10], Step: [2401/3125], Validation Acc: 63.1, Training Acc: 92.7\n",
      "Epoch: [9/10], Step: [2801/3125], Validation Acc: 62.6, Training Acc: 93.06\n",
      "Epoch: [10/10], Step: [401/3125], Validation Acc: 61.6, Training Acc: 94.15\n",
      "Epoch: [10/10], Step: [801/3125], Validation Acc: 62.0, Training Acc: 93.7\n",
      "Epoch: [10/10], Step: [1201/3125], Validation Acc: 64.0, Training Acc: 93.97\n",
      "Epoch: [10/10], Step: [1601/3125], Validation Acc: 62.1, Training Acc: 94.47\n",
      "Epoch: [10/10], Step: [2001/3125], Validation Acc: 62.5, Training Acc: 94.49\n",
      "Epoch: [10/10], Step: [2401/3125], Validation Acc: 62.4, Training Acc: 92.41\n",
      "Epoch: [10/10], Step: [2801/3125], Validation Acc: 62.1, Training Acc: 94.29\n"
     ]
    }
   ],
   "source": [
    "cnn_mul_hidden_trainacc = {}\n",
    "hidden_size = 200\n",
    "model = CNN_mul(hidden_size = hidden_size,  kernel_size = 3,padding_size = 1,num_layers=2, num_classes=3, pre_trained_emb = ft_emb)\n",
    "use_cuda = True\n",
    "if use_cuda and torch.cuda.is_available():\n",
    "  model.cuda()\n",
    "val_acc,train_acc = train_model(train_loader,model)\n",
    "#torch.save(model.state_dict(), 'new_CNN_hidden_size_{}.pkl'.format(hidden_size))\n",
    "cnn_mul_hidden_trainacc['hidden_size_{}'.format(hidden_size)] = (val_acc,train_acc)\n",
    "#!cp 'new_CNN_hidden_size_800.pkl' 'drive/My Drive/Colab Notebooks/new_CNN_hidden_size_800.pkl'"
   ]
  },
  {
   "cell_type": "code",
   "execution_count": 0,
   "metadata": {
    "colab": {},
    "colab_type": "code",
    "collapsed": true,
    "id": "onPs8Zt7MZ_s"
   },
   "outputs": [],
   "source": [
    "import pickle\n",
    "g = open(\"cnn_mul_hidden200_acc.pkl\",\"wb\")\n",
    "pickle.dump(cnn_mul_hidden_trainacc,g)\n",
    "g.close()"
   ]
  },
  {
   "cell_type": "code",
   "execution_count": 0,
   "metadata": {
    "colab": {},
    "colab_type": "code",
    "collapsed": true,
    "id": "TRccju8OMkpG"
   },
   "outputs": [],
   "source": [
    "from google.colab import files\n",
    "files.download('cnn_mul_hidden200_acc.pkl')"
   ]
  },
  {
   "cell_type": "code",
   "execution_count": 67,
   "metadata": {
    "colab": {
     "base_uri": "https://localhost:8080/",
     "height": 1207
    },
    "colab_type": "code",
    "id": "AlxTn4RpMhqD",
    "outputId": "acf3b3d6-3f69-44f7-fe6b-75609a06cdcf"
   },
   "outputs": [
    {
     "name": "stdout",
     "output_type": "stream",
     "text": [
      "Epoch: [1/10], Step: [401/3125], Validation Acc: 48.7, Training Loss: 1.1032335758209229\n",
      "Epoch: [1/10], Step: [801/3125], Validation Acc: 53.0, Training Loss: 0.9255911111831665\n",
      "Epoch: [1/10], Step: [1201/3125], Validation Acc: 55.2, Training Loss: 0.9379119873046875\n",
      "Epoch: [1/10], Step: [1601/3125], Validation Acc: 55.4, Training Loss: 0.9146648049354553\n",
      "Epoch: [1/10], Step: [2001/3125], Validation Acc: 57.5, Training Loss: 1.0605806112289429\n",
      "Epoch: [1/10], Step: [2401/3125], Validation Acc: 56.3, Training Loss: 0.9028449654579163\n",
      "Epoch: [1/10], Step: [2801/3125], Validation Acc: 59.3, Training Loss: 1.19395911693573\n",
      "Epoch: [2/10], Step: [401/3125], Validation Acc: 59.4, Training Loss: 0.732001006603241\n",
      "Epoch: [2/10], Step: [801/3125], Validation Acc: 60.8, Training Loss: 0.7924373149871826\n",
      "Epoch: [2/10], Step: [1201/3125], Validation Acc: 60.4, Training Loss: 0.9057833552360535\n",
      "Epoch: [2/10], Step: [1601/3125], Validation Acc: 59.0, Training Loss: 0.5876357555389404\n",
      "Epoch: [2/10], Step: [2001/3125], Validation Acc: 59.6, Training Loss: 0.9173228740692139\n",
      "Epoch: [2/10], Step: [2401/3125], Validation Acc: 57.9, Training Loss: 0.6688698530197144\n",
      "Epoch: [2/10], Step: [2801/3125], Validation Acc: 58.5, Training Loss: 0.9863791465759277\n",
      "Epoch: [3/10], Step: [401/3125], Validation Acc: 60.4, Training Loss: 0.7804970145225525\n",
      "Epoch: [3/10], Step: [801/3125], Validation Acc: 59.3, Training Loss: 0.6713650226593018\n",
      "Epoch: [3/10], Step: [1201/3125], Validation Acc: 62.7, Training Loss: 0.5956174731254578\n",
      "Epoch: [3/10], Step: [1601/3125], Validation Acc: 60.1, Training Loss: 0.8428855538368225\n",
      "Epoch: [3/10], Step: [2001/3125], Validation Acc: 62.5, Training Loss: 0.975441038608551\n",
      "Epoch: [3/10], Step: [2401/3125], Validation Acc: 60.6, Training Loss: 0.794787585735321\n",
      "Epoch: [3/10], Step: [2801/3125], Validation Acc: 63.9, Training Loss: 0.6150362491607666\n",
      "Epoch: [4/10], Step: [401/3125], Validation Acc: 61.9, Training Loss: 0.8073329925537109\n",
      "Epoch: [4/10], Step: [801/3125], Validation Acc: 59.7, Training Loss: 0.7024978995323181\n",
      "Epoch: [4/10], Step: [1201/3125], Validation Acc: 62.9, Training Loss: 0.789605975151062\n",
      "Epoch: [4/10], Step: [1601/3125], Validation Acc: 61.5, Training Loss: 0.6569920778274536\n",
      "Epoch: [4/10], Step: [2001/3125], Validation Acc: 64.3, Training Loss: 0.5764853954315186\n",
      "Epoch: [4/10], Step: [2401/3125], Validation Acc: 61.5, Training Loss: 0.9281554222106934\n",
      "Epoch: [4/10], Step: [2801/3125], Validation Acc: 65.1, Training Loss: 0.6372500061988831\n",
      "Epoch: [5/10], Step: [401/3125], Validation Acc: 62.3, Training Loss: 0.8084722757339478\n",
      "Epoch: [5/10], Step: [801/3125], Validation Acc: 64.0, Training Loss: 0.7067391872406006\n",
      "Epoch: [5/10], Step: [1201/3125], Validation Acc: 63.5, Training Loss: 0.6271831393241882\n",
      "Epoch: [5/10], Step: [1601/3125], Validation Acc: 64.4, Training Loss: 0.5696516036987305\n",
      "Epoch: [5/10], Step: [2001/3125], Validation Acc: 61.9, Training Loss: 0.8583717942237854\n",
      "Epoch: [5/10], Step: [2401/3125], Validation Acc: 63.0, Training Loss: 0.6814943552017212\n",
      "Epoch: [5/10], Step: [2801/3125], Validation Acc: 63.2, Training Loss: 0.49156174063682556\n",
      "Epoch: [6/10], Step: [401/3125], Validation Acc: 63.5, Training Loss: 0.3275874853134155\n",
      "Epoch: [6/10], Step: [801/3125], Validation Acc: 64.0, Training Loss: 0.5445377826690674\n",
      "Epoch: [6/10], Step: [1201/3125], Validation Acc: 62.2, Training Loss: 0.5194318294525146\n",
      "Epoch: [6/10], Step: [1601/3125], Validation Acc: 63.6, Training Loss: 0.3653431534767151\n",
      "Epoch: [6/10], Step: [2001/3125], Validation Acc: 62.8, Training Loss: 0.3346638083457947\n",
      "Epoch: [6/10], Step: [2401/3125], Validation Acc: 64.4, Training Loss: 0.37125512957572937\n",
      "Epoch: [6/10], Step: [2801/3125], Validation Acc: 64.1, Training Loss: 0.7222945690155029\n",
      "Epoch: [7/10], Step: [401/3125], Validation Acc: 63.2, Training Loss: 0.32593071460723877\n",
      "Epoch: [7/10], Step: [801/3125], Validation Acc: 64.3, Training Loss: 0.3340581953525543\n",
      "Epoch: [7/10], Step: [1201/3125], Validation Acc: 63.6, Training Loss: 0.22230975329875946\n",
      "Epoch: [7/10], Step: [1601/3125], Validation Acc: 61.7, Training Loss: 0.9016715884208679\n",
      "Epoch: [7/10], Step: [2001/3125], Validation Acc: 62.3, Training Loss: 0.4941967725753784\n",
      "Epoch: [7/10], Step: [2401/3125], Validation Acc: 64.3, Training Loss: 0.6271120309829712\n",
      "Epoch: [7/10], Step: [2801/3125], Validation Acc: 63.5, Training Loss: 0.4817521870136261\n",
      "Epoch: [8/10], Step: [401/3125], Validation Acc: 61.7, Training Loss: 0.3042750954627991\n",
      "Epoch: [8/10], Step: [801/3125], Validation Acc: 64.1, Training Loss: 0.37442734837532043\n",
      "Epoch: [8/10], Step: [1201/3125], Validation Acc: 62.6, Training Loss: 0.2049553543329239\n",
      "Epoch: [8/10], Step: [1601/3125], Validation Acc: 63.3, Training Loss: 0.20807868242263794\n",
      "Epoch: [8/10], Step: [2001/3125], Validation Acc: 64.9, Training Loss: 0.27626097202301025\n",
      "Epoch: [8/10], Step: [2401/3125], Validation Acc: 63.7, Training Loss: 0.30849677324295044\n",
      "Epoch: [8/10], Step: [2801/3125], Validation Acc: 62.2, Training Loss: 0.2399095892906189\n",
      "Epoch: [9/10], Step: [401/3125], Validation Acc: 62.5, Training Loss: 0.13479892909526825\n",
      "Epoch: [9/10], Step: [801/3125], Validation Acc: 63.7, Training Loss: 0.20943158864974976\n",
      "Epoch: [9/10], Step: [1201/3125], Validation Acc: 63.3, Training Loss: 0.4740001857280731\n",
      "Epoch: [9/10], Step: [1601/3125], Validation Acc: 62.0, Training Loss: 0.345903217792511\n",
      "Epoch: [9/10], Step: [2001/3125], Validation Acc: 61.5, Training Loss: 0.23299109935760498\n",
      "Epoch: [9/10], Step: [2401/3125], Validation Acc: 61.9, Training Loss: 0.31814485788345337\n",
      "Epoch: [9/10], Step: [2801/3125], Validation Acc: 64.6, Training Loss: 0.290347695350647\n",
      "Epoch: [10/10], Step: [401/3125], Validation Acc: 62.8, Training Loss: 0.08442419767379761\n",
      "Epoch: [10/10], Step: [801/3125], Validation Acc: 62.6, Training Loss: 0.18237803876399994\n",
      "Epoch: [10/10], Step: [1201/3125], Validation Acc: 63.9, Training Loss: 0.13475416600704193\n",
      "Epoch: [10/10], Step: [1601/3125], Validation Acc: 63.3, Training Loss: 0.2501171827316284\n",
      "Epoch: [10/10], Step: [2001/3125], Validation Acc: 63.2, Training Loss: 0.3564680814743042\n",
      "Epoch: [10/10], Step: [2401/3125], Validation Acc: 62.3, Training Loss: 0.3033125400543213\n",
      "Epoch: [10/10], Step: [2801/3125], Validation Acc: 62.5, Training Loss: 0.11059080809354782\n"
     ]
    }
   ],
   "source": [
    "# VAL ACC for CNN with hidden_size 200 and kernel_size 3:\n",
    "cnn_mul_record = {}\n",
    "hidden_size = 200\n",
    "cnn_mul_200 = CNN_mul(hidden_size = hidden_size ,kernel_size = 3, padding_size = 1, num_layers = 2, num_classes = 3, pre_trained_emb = ft_emb)\n",
    "use_cuda = True\n",
    "if use_cuda and torch.cuda.is_available():\n",
    "  cnn_mul_200.cuda()\n",
    "train_loss, val_acc = train_model(train_loader,cnn_mul_200)\n",
    "torch.save(cnn_mul_200.state_dict(), 'CNN_mul_hidden_size_{}.pkl'.format(hidden_size))\n",
    "cnn_mul_record['hidden_size_{}'.format(hidden_size)] = (train_loss, val_acc)"
   ]
  },
  {
   "cell_type": "code",
   "execution_count": 68,
   "metadata": {
    "colab": {
     "base_uri": "https://localhost:8080/",
     "height": 34
    },
    "colab_type": "code",
    "id": "eMZyBkxhOJBF",
    "outputId": "5f1e7a66-b9a4-4b7e-8861-bca7bc5bd4cf"
   },
   "outputs": [
    {
     "data": {
      "text/plain": [
       "63.2"
      ]
     },
     "execution_count": 68,
     "metadata": {
      "tags": []
     },
     "output_type": "execute_result"
    }
   ],
   "source": [
    "test_model(val_loader, cnn_mul_200)"
   ]
  },
  {
   "cell_type": "code",
   "execution_count": 35,
   "metadata": {
    "colab": {
     "base_uri": "https://localhost:8080/",
     "height": 1207
    },
    "colab_type": "code",
    "id": "xVbEpAOpa4ua",
    "outputId": "a6cf8164-e2a7-42c9-843a-6c7e39492398"
   },
   "outputs": [
    {
     "name": "stdout",
     "output_type": "stream",
     "text": [
      "Epoch: [1/10], Step: [401/3125], Validation Acc: 48.1, Training Acc: 49.33\n",
      "Epoch: [1/10], Step: [801/3125], Validation Acc: 50.1, Training Acc: 51.78\n",
      "Epoch: [1/10], Step: [1201/3125], Validation Acc: 53.6, Training Acc: 55.51\n",
      "Epoch: [1/10], Step: [1601/3125], Validation Acc: 58.0, Training Acc: 58.67\n",
      "Epoch: [1/10], Step: [2001/3125], Validation Acc: 54.5, Training Acc: 58.84\n",
      "Epoch: [1/10], Step: [2401/3125], Validation Acc: 58.7, Training Acc: 60.88\n",
      "Epoch: [1/10], Step: [2801/3125], Validation Acc: 57.6, Training Acc: 61.97\n",
      "Epoch: [2/10], Step: [401/3125], Validation Acc: 58.6, Training Acc: 64.06\n",
      "Epoch: [2/10], Step: [801/3125], Validation Acc: 56.4, Training Acc: 62.9\n",
      "Epoch: [2/10], Step: [1201/3125], Validation Acc: 60.6, Training Acc: 66.19\n",
      "Epoch: [2/10], Step: [1601/3125], Validation Acc: 60.0, Training Acc: 65.24\n",
      "Epoch: [2/10], Step: [2001/3125], Validation Acc: 60.6, Training Acc: 67.81\n",
      "Epoch: [2/10], Step: [2401/3125], Validation Acc: 58.9, Training Acc: 66.96\n",
      "Epoch: [2/10], Step: [2801/3125], Validation Acc: 60.9, Training Acc: 69.35\n",
      "Epoch: [3/10], Step: [401/3125], Validation Acc: 60.7, Training Acc: 70.26\n",
      "Epoch: [3/10], Step: [801/3125], Validation Acc: 61.8, Training Acc: 71.15\n",
      "Epoch: [3/10], Step: [1201/3125], Validation Acc: 61.9, Training Acc: 72.58\n",
      "Epoch: [3/10], Step: [1601/3125], Validation Acc: 61.9, Training Acc: 73.3\n",
      "Epoch: [3/10], Step: [2001/3125], Validation Acc: 61.8, Training Acc: 73.84\n",
      "Epoch: [3/10], Step: [2401/3125], Validation Acc: 64.1, Training Acc: 73.67\n",
      "Epoch: [3/10], Step: [2801/3125], Validation Acc: 64.4, Training Acc: 74.8\n",
      "Epoch: [4/10], Step: [401/3125], Validation Acc: 63.2, Training Acc: 75.53\n",
      "Epoch: [4/10], Step: [801/3125], Validation Acc: 63.0, Training Acc: 77.45\n",
      "Epoch: [4/10], Step: [1201/3125], Validation Acc: 63.4, Training Acc: 77.15\n",
      "Epoch: [4/10], Step: [1601/3125], Validation Acc: 66.7, Training Acc: 79.07\n",
      "Epoch: [4/10], Step: [2001/3125], Validation Acc: 60.7, Training Acc: 78.38\n",
      "Epoch: [4/10], Step: [2401/3125], Validation Acc: 64.7, Training Acc: 80.01\n",
      "Epoch: [4/10], Step: [2801/3125], Validation Acc: 64.4, Training Acc: 80.8\n",
      "Epoch: [5/10], Step: [401/3125], Validation Acc: 63.6, Training Acc: 81.86\n",
      "Epoch: [5/10], Step: [801/3125], Validation Acc: 61.7, Training Acc: 81.44\n",
      "Epoch: [5/10], Step: [1201/3125], Validation Acc: 64.9, Training Acc: 82.87\n",
      "Epoch: [5/10], Step: [1601/3125], Validation Acc: 64.1, Training Acc: 83.55\n",
      "Epoch: [5/10], Step: [2001/3125], Validation Acc: 64.3, Training Acc: 84.26\n",
      "Epoch: [5/10], Step: [2401/3125], Validation Acc: 63.7, Training Acc: 84.9\n",
      "Epoch: [5/10], Step: [2801/3125], Validation Acc: 63.2, Training Acc: 85.18\n",
      "Epoch: [6/10], Step: [401/3125], Validation Acc: 62.4, Training Acc: 85.35\n",
      "Epoch: [6/10], Step: [801/3125], Validation Acc: 63.6, Training Acc: 86.64\n",
      "Epoch: [6/10], Step: [1201/3125], Validation Acc: 63.4, Training Acc: 87.25\n",
      "Epoch: [6/10], Step: [1601/3125], Validation Acc: 61.8, Training Acc: 87.15\n",
      "Epoch: [6/10], Step: [2001/3125], Validation Acc: 64.7, Training Acc: 87.76\n",
      "Epoch: [6/10], Step: [2401/3125], Validation Acc: 62.8, Training Acc: 87.56\n",
      "Epoch: [6/10], Step: [2801/3125], Validation Acc: 62.8, Training Acc: 89.33\n",
      "Epoch: [7/10], Step: [401/3125], Validation Acc: 62.1, Training Acc: 89.59\n",
      "Epoch: [7/10], Step: [801/3125], Validation Acc: 61.4, Training Acc: 88.59\n",
      "Epoch: [7/10], Step: [1201/3125], Validation Acc: 61.2, Training Acc: 89.68\n",
      "Epoch: [7/10], Step: [1601/3125], Validation Acc: 61.1, Training Acc: 87.66\n",
      "Epoch: [7/10], Step: [2001/3125], Validation Acc: 63.1, Training Acc: 90.76\n",
      "Epoch: [7/10], Step: [2401/3125], Validation Acc: 62.8, Training Acc: 91.24\n",
      "Epoch: [7/10], Step: [2801/3125], Validation Acc: 61.6, Training Acc: 91.5\n",
      "Epoch: [8/10], Step: [401/3125], Validation Acc: 62.4, Training Acc: 92.18\n",
      "Epoch: [8/10], Step: [801/3125], Validation Acc: 61.7, Training Acc: 92.37\n",
      "Epoch: [8/10], Step: [1201/3125], Validation Acc: 61.7, Training Acc: 92.75\n",
      "Epoch: [8/10], Step: [1601/3125], Validation Acc: 62.6, Training Acc: 91.63\n",
      "Epoch: [8/10], Step: [2001/3125], Validation Acc: 62.1, Training Acc: 92.31\n",
      "Epoch: [8/10], Step: [2401/3125], Validation Acc: 62.7, Training Acc: 92.66\n",
      "Epoch: [8/10], Step: [2801/3125], Validation Acc: 60.5, Training Acc: 91.75\n",
      "Epoch: [9/10], Step: [401/3125], Validation Acc: 62.5, Training Acc: 94.23\n",
      "Epoch: [9/10], Step: [801/3125], Validation Acc: 63.5, Training Acc: 93.7\n",
      "Epoch: [9/10], Step: [1201/3125], Validation Acc: 62.6, Training Acc: 94.19\n",
      "Epoch: [9/10], Step: [1601/3125], Validation Acc: 60.8, Training Acc: 93.41\n",
      "Epoch: [9/10], Step: [2001/3125], Validation Acc: 61.5, Training Acc: 93.48\n",
      "Epoch: [9/10], Step: [2401/3125], Validation Acc: 61.6, Training Acc: 94.17\n",
      "Epoch: [9/10], Step: [2801/3125], Validation Acc: 62.3, Training Acc: 94.9\n",
      "Epoch: [10/10], Step: [401/3125], Validation Acc: 62.6, Training Acc: 95.08\n",
      "Epoch: [10/10], Step: [801/3125], Validation Acc: 60.8, Training Acc: 94.35\n",
      "Epoch: [10/10], Step: [1201/3125], Validation Acc: 59.6, Training Acc: 93.69\n",
      "Epoch: [10/10], Step: [1601/3125], Validation Acc: 61.7, Training Acc: 95.09\n",
      "Epoch: [10/10], Step: [2001/3125], Validation Acc: 62.3, Training Acc: 95.31\n",
      "Epoch: [10/10], Step: [2401/3125], Validation Acc: 61.7, Training Acc: 94.8\n",
      "Epoch: [10/10], Step: [2801/3125], Validation Acc: 62.3, Training Acc: 95.95\n"
     ]
    }
   ],
   "source": [
    "#cnn_mul_hidden_trainacc = {}\n",
    "hidden_size = 300\n",
    "model = CNN_mul(hidden_size = hidden_size,  kernel_size = 3,padding_size = 1,num_layers=2, num_classes=3, pre_trained_emb = ft_emb)\n",
    "use_cuda = True\n",
    "if use_cuda and torch.cuda.is_available():\n",
    "  model.cuda()\n",
    "val_acc,train_acc = train_model(train_loader,model)\n",
    "#torch.save(model.state_dict(), 'new_CNN_hidden_size_{}.pkl'.format(hidden_size))\n",
    "cnn_mul_hidden_trainacc['hidden_size_{}'.format(hidden_size)] = (val_acc,train_acc)\n",
    "#!cp 'new_CNN_hidden_size_800.pkl' 'drive/My Drive/Colab Notebooks/new_CNN_hidden_size_800.pkl'"
   ]
  },
  {
   "cell_type": "code",
   "execution_count": 0,
   "metadata": {
    "colab": {},
    "colab_type": "code",
    "collapsed": true,
    "id": "lA-ixdtwp9Kg"
   },
   "outputs": [],
   "source": [
    "import pickle\n",
    "g = open(\"cnn_mul_hidden300_acc.pkl\",\"wb\")\n",
    "pickle.dump(cnn_mul_hidden_trainacc,g)\n",
    "g.close()"
   ]
  },
  {
   "cell_type": "code",
   "execution_count": 0,
   "metadata": {
    "colab": {},
    "colab_type": "code",
    "collapsed": true,
    "id": "05Q1ITVrqHGo"
   },
   "outputs": [],
   "source": [
    "files.download('cnn_mul_hidden300_acc.pkl')"
   ]
  },
  {
   "cell_type": "code",
   "execution_count": 69,
   "metadata": {
    "colab": {
     "base_uri": "https://localhost:8080/",
     "height": 1207
    },
    "colab_type": "code",
    "id": "5ePLJ_eeOO_g",
    "outputId": "03ca7896-edd8-4c51-a0f1-4d80815a75e5"
   },
   "outputs": [
    {
     "name": "stdout",
     "output_type": "stream",
     "text": [
      "Epoch: [1/10], Step: [401/3125], Validation Acc: 45.7, Training Loss: 1.0349533557891846\n",
      "Epoch: [1/10], Step: [801/3125], Validation Acc: 51.4, Training Loss: 1.0663421154022217\n",
      "Epoch: [1/10], Step: [1201/3125], Validation Acc: 51.7, Training Loss: 1.0119922161102295\n",
      "Epoch: [1/10], Step: [1601/3125], Validation Acc: 53.1, Training Loss: 0.9978107213973999\n",
      "Epoch: [1/10], Step: [2001/3125], Validation Acc: 56.1, Training Loss: 0.9159250259399414\n",
      "Epoch: [1/10], Step: [2401/3125], Validation Acc: 57.7, Training Loss: 0.9301472902297974\n",
      "Epoch: [1/10], Step: [2801/3125], Validation Acc: 56.2, Training Loss: 0.7586804032325745\n",
      "Epoch: [2/10], Step: [401/3125], Validation Acc: 58.8, Training Loss: 0.9810324311256409\n",
      "Epoch: [2/10], Step: [801/3125], Validation Acc: 59.7, Training Loss: 0.8196980953216553\n",
      "Epoch: [2/10], Step: [1201/3125], Validation Acc: 63.9, Training Loss: 0.7884206175804138\n",
      "Epoch: [2/10], Step: [1601/3125], Validation Acc: 60.5, Training Loss: 0.8009560704231262\n",
      "Epoch: [2/10], Step: [2001/3125], Validation Acc: 61.2, Training Loss: 0.8191480040550232\n",
      "Epoch: [2/10], Step: [2401/3125], Validation Acc: 62.6, Training Loss: 1.0009655952453613\n",
      "Epoch: [2/10], Step: [2801/3125], Validation Acc: 61.4, Training Loss: 0.5276641845703125\n",
      "Epoch: [3/10], Step: [401/3125], Validation Acc: 62.2, Training Loss: 0.8020718693733215\n",
      "Epoch: [3/10], Step: [801/3125], Validation Acc: 61.7, Training Loss: 0.7722583413124084\n",
      "Epoch: [3/10], Step: [1201/3125], Validation Acc: 62.1, Training Loss: 0.6422416567802429\n",
      "Epoch: [3/10], Step: [1601/3125], Validation Acc: 65.4, Training Loss: 0.8534078598022461\n",
      "Epoch: [3/10], Step: [2001/3125], Validation Acc: 64.5, Training Loss: 0.6305645704269409\n",
      "Epoch: [3/10], Step: [2401/3125], Validation Acc: 64.1, Training Loss: 0.7861608266830444\n",
      "Epoch: [3/10], Step: [2801/3125], Validation Acc: 62.8, Training Loss: 0.7141339778900146\n",
      "Epoch: [4/10], Step: [401/3125], Validation Acc: 63.7, Training Loss: 0.49894195795059204\n",
      "Epoch: [4/10], Step: [801/3125], Validation Acc: 63.2, Training Loss: 0.8256518244743347\n",
      "Epoch: [4/10], Step: [1201/3125], Validation Acc: 63.0, Training Loss: 0.6496365666389465\n",
      "Epoch: [4/10], Step: [1601/3125], Validation Acc: 65.4, Training Loss: 0.7527653574943542\n",
      "Epoch: [4/10], Step: [2001/3125], Validation Acc: 64.3, Training Loss: 0.639247715473175\n",
      "Epoch: [4/10], Step: [2401/3125], Validation Acc: 65.4, Training Loss: 0.549799382686615\n",
      "Epoch: [4/10], Step: [2801/3125], Validation Acc: 65.4, Training Loss: 0.6860210299491882\n",
      "Epoch: [5/10], Step: [401/3125], Validation Acc: 62.5, Training Loss: 0.42543911933898926\n",
      "Epoch: [5/10], Step: [801/3125], Validation Acc: 63.2, Training Loss: 0.3804897964000702\n",
      "Epoch: [5/10], Step: [1201/3125], Validation Acc: 61.9, Training Loss: 0.527839720249176\n",
      "Epoch: [5/10], Step: [1601/3125], Validation Acc: 64.8, Training Loss: 0.3662206828594208\n",
      "Epoch: [5/10], Step: [2001/3125], Validation Acc: 64.5, Training Loss: 0.6821723580360413\n",
      "Epoch: [5/10], Step: [2401/3125], Validation Acc: 64.2, Training Loss: 0.41290411353111267\n",
      "Epoch: [5/10], Step: [2801/3125], Validation Acc: 67.9, Training Loss: 0.8984229564666748\n",
      "Epoch: [6/10], Step: [401/3125], Validation Acc: 64.4, Training Loss: 0.4866623878479004\n",
      "Epoch: [6/10], Step: [801/3125], Validation Acc: 63.6, Training Loss: 0.4916762411594391\n",
      "Epoch: [6/10], Step: [1201/3125], Validation Acc: 63.2, Training Loss: 0.45119157433509827\n",
      "Epoch: [6/10], Step: [1601/3125], Validation Acc: 63.8, Training Loss: 0.41148096323013306\n",
      "Epoch: [6/10], Step: [2001/3125], Validation Acc: 65.4, Training Loss: 0.41601890325546265\n",
      "Epoch: [6/10], Step: [2401/3125], Validation Acc: 64.2, Training Loss: 0.34438467025756836\n",
      "Epoch: [6/10], Step: [2801/3125], Validation Acc: 65.0, Training Loss: 0.40667057037353516\n",
      "Epoch: [7/10], Step: [401/3125], Validation Acc: 64.1, Training Loss: 0.15922459959983826\n",
      "Epoch: [7/10], Step: [801/3125], Validation Acc: 64.2, Training Loss: 0.3738552927970886\n",
      "Epoch: [7/10], Step: [1201/3125], Validation Acc: 63.6, Training Loss: 0.35251298546791077\n",
      "Epoch: [7/10], Step: [1601/3125], Validation Acc: 64.9, Training Loss: 0.2878877818584442\n",
      "Epoch: [7/10], Step: [2001/3125], Validation Acc: 62.8, Training Loss: 0.29510393738746643\n",
      "Epoch: [7/10], Step: [2401/3125], Validation Acc: 64.4, Training Loss: 0.505668580532074\n",
      "Epoch: [7/10], Step: [2801/3125], Validation Acc: 64.6, Training Loss: 0.26176130771636963\n",
      "Epoch: [8/10], Step: [401/3125], Validation Acc: 63.8, Training Loss: 0.2111772894859314\n",
      "Epoch: [8/10], Step: [801/3125], Validation Acc: 62.2, Training Loss: 0.3112441897392273\n",
      "Epoch: [8/10], Step: [1201/3125], Validation Acc: 63.9, Training Loss: 0.12632305920124054\n",
      "Epoch: [8/10], Step: [1601/3125], Validation Acc: 62.2, Training Loss: 0.3448757529258728\n",
      "Epoch: [8/10], Step: [2001/3125], Validation Acc: 63.2, Training Loss: 0.20448115468025208\n",
      "Epoch: [8/10], Step: [2401/3125], Validation Acc: 63.3, Training Loss: 0.42349773645401\n",
      "Epoch: [8/10], Step: [2801/3125], Validation Acc: 62.7, Training Loss: 0.3189288079738617\n",
      "Epoch: [9/10], Step: [401/3125], Validation Acc: 64.2, Training Loss: 0.16681517660617828\n",
      "Epoch: [9/10], Step: [801/3125], Validation Acc: 64.9, Training Loss: 0.2945862412452698\n",
      "Epoch: [9/10], Step: [1201/3125], Validation Acc: 63.1, Training Loss: 0.10885824263095856\n",
      "Epoch: [9/10], Step: [1601/3125], Validation Acc: 62.9, Training Loss: 0.16370047628879547\n",
      "Epoch: [9/10], Step: [2001/3125], Validation Acc: 64.7, Training Loss: 0.3886605501174927\n",
      "Epoch: [9/10], Step: [2401/3125], Validation Acc: 64.2, Training Loss: 0.29340019822120667\n",
      "Epoch: [9/10], Step: [2801/3125], Validation Acc: 64.2, Training Loss: 0.1086091548204422\n",
      "Epoch: [10/10], Step: [401/3125], Validation Acc: 62.6, Training Loss: 0.1696302890777588\n",
      "Epoch: [10/10], Step: [801/3125], Validation Acc: 61.3, Training Loss: 0.17332489788532257\n",
      "Epoch: [10/10], Step: [1201/3125], Validation Acc: 63.9, Training Loss: 0.07255034893751144\n",
      "Epoch: [10/10], Step: [1601/3125], Validation Acc: 64.5, Training Loss: 0.17127469182014465\n",
      "Epoch: [10/10], Step: [2001/3125], Validation Acc: 63.4, Training Loss: 0.23872360587120056\n",
      "Epoch: [10/10], Step: [2401/3125], Validation Acc: 62.9, Training Loss: 0.18776220083236694\n",
      "Epoch: [10/10], Step: [2801/3125], Validation Acc: 62.4, Training Loss: 0.27574843168258667\n"
     ]
    }
   ],
   "source": [
    "# VAL ACC for CNN with hidden_size 300 and kernel_size 3:\n",
    "#cnn_mul_record = {}\n",
    "hidden_size = 300\n",
    "cnn_mul_300 = CNN_mul(hidden_size = hidden_size ,kernel_size = 3, padding_size = 1, num_layers = 2, num_classes = 3, pre_trained_emb = ft_emb)\n",
    "use_cuda = True\n",
    "if use_cuda and torch.cuda.is_available():\n",
    "  cnn_mul_300.cuda()\n",
    "train_loss, val_acc = train_model(train_loader,cnn_mul_300)\n",
    "torch.save(cnn_mul_300.state_dict(), 'CNN_mul_hidden_size_{}.pkl'.format(hidden_size))\n",
    "cnn_mul_record['hidden_size_{}'.format(hidden_size)] = (train_loss, val_acc)"
   ]
  },
  {
   "cell_type": "code",
   "execution_count": 70,
   "metadata": {
    "colab": {
     "base_uri": "https://localhost:8080/",
     "height": 34
    },
    "colab_type": "code",
    "id": "dMzJ9QneOabq",
    "outputId": "aa8dab27-ef77-4967-f330-90ca66b6bf64"
   },
   "outputs": [
    {
     "data": {
      "text/plain": [
       "63.7"
      ]
     },
     "execution_count": 70,
     "metadata": {
      "tags": []
     },
     "output_type": "execute_result"
    }
   ],
   "source": [
    "test_model(val_loader, cnn_mul_300)"
   ]
  },
  {
   "cell_type": "code",
   "execution_count": 0,
   "metadata": {
    "colab": {},
    "colab_type": "code",
    "collapsed": true,
    "id": "TEZYeMPab9SQ"
   },
   "outputs": [],
   "source": [
    "!cp 'CNN_mul_hidden_size_200.pkl' 'drive/My Drive/Colab Notebooks'\n",
    "!cp 'CNN_mul_hidden_size_300.pkl' 'drive/My Drive/Colab Notebooks'"
   ]
  },
  {
   "cell_type": "code",
   "execution_count": 71,
   "metadata": {
    "colab": {
     "base_uri": "https://localhost:8080/",
     "height": 1207
    },
    "colab_type": "code",
    "id": "T06MGi4eOgIj",
    "outputId": "cfb5d898-4b62-45b7-948a-f49368aa81b1"
   },
   "outputs": [
    {
     "name": "stdout",
     "output_type": "stream",
     "text": [
      "Epoch: [1/10], Step: [401/3125], Validation Acc: 46.9, Training Loss: 1.0549224615097046\n",
      "Epoch: [1/10], Step: [801/3125], Validation Acc: 52.8, Training Loss: 0.8810384273529053\n",
      "Epoch: [1/10], Step: [1201/3125], Validation Acc: 52.8, Training Loss: 0.9858664870262146\n",
      "Epoch: [1/10], Step: [1601/3125], Validation Acc: 57.3, Training Loss: 1.0246943235397339\n",
      "Epoch: [1/10], Step: [2001/3125], Validation Acc: 55.5, Training Loss: 0.9618517160415649\n",
      "Epoch: [1/10], Step: [2401/3125], Validation Acc: 54.5, Training Loss: 1.0884836912155151\n",
      "Epoch: [1/10], Step: [2801/3125], Validation Acc: 59.2, Training Loss: 0.8771393299102783\n",
      "Epoch: [2/10], Step: [401/3125], Validation Acc: 58.1, Training Loss: 0.8243652582168579\n",
      "Epoch: [2/10], Step: [801/3125], Validation Acc: 58.1, Training Loss: 0.8500962257385254\n",
      "Epoch: [2/10], Step: [1201/3125], Validation Acc: 59.9, Training Loss: 0.8621939420700073\n",
      "Epoch: [2/10], Step: [1601/3125], Validation Acc: 59.9, Training Loss: 0.6971622705459595\n",
      "Epoch: [2/10], Step: [2001/3125], Validation Acc: 58.7, Training Loss: 1.076784610748291\n",
      "Epoch: [2/10], Step: [2401/3125], Validation Acc: 60.6, Training Loss: 0.9006773829460144\n",
      "Epoch: [2/10], Step: [2801/3125], Validation Acc: 60.3, Training Loss: 0.9421108961105347\n",
      "Epoch: [3/10], Step: [401/3125], Validation Acc: 61.1, Training Loss: 0.46823951601982117\n",
      "Epoch: [3/10], Step: [801/3125], Validation Acc: 60.7, Training Loss: 0.7637720704078674\n",
      "Epoch: [3/10], Step: [1201/3125], Validation Acc: 60.2, Training Loss: 0.8180708289146423\n",
      "Epoch: [3/10], Step: [1601/3125], Validation Acc: 61.4, Training Loss: 0.7299935817718506\n",
      "Epoch: [3/10], Step: [2001/3125], Validation Acc: 62.9, Training Loss: 0.6944471597671509\n",
      "Epoch: [3/10], Step: [2401/3125], Validation Acc: 63.2, Training Loss: 0.6169922351837158\n",
      "Epoch: [3/10], Step: [2801/3125], Validation Acc: 61.3, Training Loss: 0.7095563411712646\n",
      "Epoch: [4/10], Step: [401/3125], Validation Acc: 60.2, Training Loss: 0.6753442883491516\n",
      "Epoch: [4/10], Step: [801/3125], Validation Acc: 62.8, Training Loss: 0.49416670203208923\n",
      "Epoch: [4/10], Step: [1201/3125], Validation Acc: 60.8, Training Loss: 0.5399802923202515\n",
      "Epoch: [4/10], Step: [1601/3125], Validation Acc: 63.8, Training Loss: 0.6562901735305786\n",
      "Epoch: [4/10], Step: [2001/3125], Validation Acc: 62.4, Training Loss: 0.6249665021896362\n",
      "Epoch: [4/10], Step: [2401/3125], Validation Acc: 63.3, Training Loss: 0.6073518991470337\n",
      "Epoch: [4/10], Step: [2801/3125], Validation Acc: 62.8, Training Loss: 0.5261099934577942\n",
      "Epoch: [5/10], Step: [401/3125], Validation Acc: 61.6, Training Loss: 0.6315193176269531\n",
      "Epoch: [5/10], Step: [801/3125], Validation Acc: 62.2, Training Loss: 0.5147220492362976\n",
      "Epoch: [5/10], Step: [1201/3125], Validation Acc: 63.7, Training Loss: 0.6637301445007324\n",
      "Epoch: [5/10], Step: [1601/3125], Validation Acc: 64.0, Training Loss: 0.47909408807754517\n",
      "Epoch: [5/10], Step: [2001/3125], Validation Acc: 62.6, Training Loss: 0.6440976858139038\n",
      "Epoch: [5/10], Step: [2401/3125], Validation Acc: 62.7, Training Loss: 0.6739933490753174\n",
      "Epoch: [5/10], Step: [2801/3125], Validation Acc: 63.3, Training Loss: 0.7669863104820251\n",
      "Epoch: [6/10], Step: [401/3125], Validation Acc: 63.9, Training Loss: 0.2874775230884552\n",
      "Epoch: [6/10], Step: [801/3125], Validation Acc: 62.3, Training Loss: 0.46195855736732483\n",
      "Epoch: [6/10], Step: [1201/3125], Validation Acc: 61.6, Training Loss: 0.44694870710372925\n",
      "Epoch: [6/10], Step: [1601/3125], Validation Acc: 62.9, Training Loss: 0.385908842086792\n",
      "Epoch: [6/10], Step: [2001/3125], Validation Acc: 63.2, Training Loss: 0.29152223467826843\n",
      "Epoch: [6/10], Step: [2401/3125], Validation Acc: 63.4, Training Loss: 0.37531667947769165\n",
      "Epoch: [6/10], Step: [2801/3125], Validation Acc: 64.4, Training Loss: 0.3155738115310669\n",
      "Epoch: [7/10], Step: [401/3125], Validation Acc: 62.6, Training Loss: 0.23428598046302795\n",
      "Epoch: [7/10], Step: [801/3125], Validation Acc: 63.9, Training Loss: 0.3270414173603058\n",
      "Epoch: [7/10], Step: [1201/3125], Validation Acc: 63.4, Training Loss: 0.18658597767353058\n",
      "Epoch: [7/10], Step: [1601/3125], Validation Acc: 61.2, Training Loss: 0.1432075798511505\n",
      "Epoch: [7/10], Step: [2001/3125], Validation Acc: 61.2, Training Loss: 0.27446338534355164\n",
      "Epoch: [7/10], Step: [2401/3125], Validation Acc: 61.7, Training Loss: 0.2999715209007263\n",
      "Epoch: [7/10], Step: [2801/3125], Validation Acc: 60.1, Training Loss: 0.4305099844932556\n",
      "Epoch: [8/10], Step: [401/3125], Validation Acc: 61.7, Training Loss: 0.2967727780342102\n",
      "Epoch: [8/10], Step: [801/3125], Validation Acc: 64.1, Training Loss: 0.3807128667831421\n",
      "Epoch: [8/10], Step: [1201/3125], Validation Acc: 63.2, Training Loss: 0.41516029834747314\n",
      "Epoch: [8/10], Step: [1601/3125], Validation Acc: 63.1, Training Loss: 0.20809896290302277\n",
      "Epoch: [8/10], Step: [2001/3125], Validation Acc: 62.5, Training Loss: 0.10318838059902191\n",
      "Epoch: [8/10], Step: [2401/3125], Validation Acc: 62.3, Training Loss: 0.4236152768135071\n",
      "Epoch: [8/10], Step: [2801/3125], Validation Acc: 61.6, Training Loss: 0.3441959619522095\n",
      "Epoch: [9/10], Step: [401/3125], Validation Acc: 62.5, Training Loss: 0.16023996472358704\n",
      "Epoch: [9/10], Step: [801/3125], Validation Acc: 63.2, Training Loss: 0.30829179286956787\n",
      "Epoch: [9/10], Step: [1201/3125], Validation Acc: 61.4, Training Loss: 0.11103649437427521\n",
      "Epoch: [9/10], Step: [1601/3125], Validation Acc: 62.0, Training Loss: 0.24316737055778503\n",
      "Epoch: [9/10], Step: [2001/3125], Validation Acc: 63.1, Training Loss: 0.18564091622829437\n",
      "Epoch: [9/10], Step: [2401/3125], Validation Acc: 60.9, Training Loss: 0.21734027564525604\n",
      "Epoch: [9/10], Step: [2801/3125], Validation Acc: 61.4, Training Loss: 0.32105156779289246\n",
      "Epoch: [10/10], Step: [401/3125], Validation Acc: 61.7, Training Loss: 0.056828152388334274\n",
      "Epoch: [10/10], Step: [801/3125], Validation Acc: 61.6, Training Loss: 0.21666161715984344\n",
      "Epoch: [10/10], Step: [1201/3125], Validation Acc: 60.8, Training Loss: 0.11147712916135788\n",
      "Epoch: [10/10], Step: [1601/3125], Validation Acc: 61.3, Training Loss: 0.15556921064853668\n",
      "Epoch: [10/10], Step: [2001/3125], Validation Acc: 63.0, Training Loss: 0.16539721190929413\n",
      "Epoch: [10/10], Step: [2401/3125], Validation Acc: 62.4, Training Loss: 0.5054908394813538\n",
      "Epoch: [10/10], Step: [2801/3125], Validation Acc: 62.7, Training Loss: 0.3005179166793823\n"
     ]
    }
   ],
   "source": [
    "# VAL ACC for CNN with hidden_size 400 and kernel_size 3:\n",
    "#cnn_mul_record = {}\n",
    "hidden_size = 400\n",
    "cnn_mul_400 = CNN_mul(hidden_size = hidden_size ,kernel_size = 3, padding_size = 1, num_layers = 2, num_classes = 3, pre_trained_emb = ft_emb)\n",
    "use_cuda = True\n",
    "if use_cuda and torch.cuda.is_available():\n",
    "  cnn_mul_400.cuda()\n",
    "train_loss, val_acc = train_model(train_loader,cnn_mul_400)\n",
    "torch.save(cnn_mul_400.state_dict(), 'CNN_mul_hidden_size_{}.pkl'.format(hidden_size))\n",
    "cnn_mul_record['hidden_size_{}'.format(hidden_size)] = (train_loss, val_acc)"
   ]
  },
  {
   "cell_type": "code",
   "execution_count": 72,
   "metadata": {
    "colab": {
     "base_uri": "https://localhost:8080/",
     "height": 34
    },
    "colab_type": "code",
    "id": "7Zp7NrB7OpbX",
    "outputId": "bc4cd2b5-9723-4d87-c820-a4db362f6b5a"
   },
   "outputs": [
    {
     "data": {
      "text/plain": [
       "62.1"
      ]
     },
     "execution_count": 72,
     "metadata": {
      "tags": []
     },
     "output_type": "execute_result"
    }
   ],
   "source": [
    "test_model(val_loader, cnn_mul_400)"
   ]
  },
  {
   "cell_type": "code",
   "execution_count": 0,
   "metadata": {
    "colab": {},
    "colab_type": "code",
    "collapsed": true,
    "id": "6krvJ4_xOyJD"
   },
   "outputs": [],
   "source": [
    "test_model(val_loader, cnn_mul_800)"
   ]
  },
  {
   "cell_type": "code",
   "execution_count": 0,
   "metadata": {
    "colab": {},
    "colab_type": "code",
    "collapsed": true,
    "id": "O_NSAoGeNw7c"
   },
   "outputs": [],
   "source": [
    "g = open(\"cnn_mul_record.pkl\",\"wb\")\n",
    "pkl.dump(cnn_mul_record,g)\n",
    "g.close()"
   ]
  },
  {
   "cell_type": "code",
   "execution_count": 0,
   "metadata": {
    "colab": {},
    "colab_type": "code",
    "collapsed": true,
    "id": "AXE5UxYiN-WR"
   },
   "outputs": [],
   "source": [
    "from google.colab import files\n",
    "files.download('cnn_mul_record.pkl')"
   ]
  },
  {
   "cell_type": "code",
   "execution_count": 0,
   "metadata": {
    "colab": {},
    "colab_type": "code",
    "collapsed": true,
    "id": "srtNWOLsOCNv"
   },
   "outputs": [],
   "source": [
    "!cp 'CNN_mul_hidden_size_200.pkl' 'drive/My Drive/Colab Notebooks'\n",
    "!cp 'CNN_mul_hidden_size_300.pkl' 'drive/My Drive/Colab Notebooks'\n",
    "!cp 'CNN_mul_hidden_size_400.pkl' 'drive/My Drive/Colab Notebooks'\n",
    "#!cp 'CNN_mul_hidden_size_800.pkl' 'drive/My Drive/Colab Notebooks'"
   ]
  },
  {
   "cell_type": "markdown",
   "metadata": {
    "colab_type": "text",
    "id": "4W88Ttjlw6P4"
   },
   "source": [
    "# 4. Pick the best model and find 3 correct and 3 incorrect examples"
   ]
  },
  {
   "cell_type": "code",
   "execution_count": 22,
   "metadata": {
    "colab": {
     "base_uri": "https://localhost:8080/",
     "height": 34
    },
    "colab_type": "code",
    "id": "BIJ7Y2kGxOEC",
    "outputId": "470616e0-98db-4e50-d651-9cedaa812604"
   },
   "outputs": [
    {
     "data": {
      "text/plain": [
       "69.9"
      ]
     },
     "execution_count": 22,
     "metadata": {
      "tags": []
     },
     "output_type": "execute_result"
    }
   ],
   "source": [
    "rnn_mul_800 = RNN_mul(hidden_size = 800, num_layers = 1, num_classes = 3, pre_trained_emb = ft_emb)\n",
    "use_cuda = True\n",
    "if use_cuda and torch.cuda.is_available():\n",
    "  rnn_mul_800.cuda()\n",
    "rnn_mul_800.load_state_dict(torch.load('drive/My Drive/Colab Notebooks/RNN_mul_hidden_size_800.pkl'))\n",
    "test_model(val_loader, rnn_mul_800)"
   ]
  },
  {
   "cell_type": "code",
   "execution_count": 0,
   "metadata": {
    "colab": {},
    "colab_type": "code",
    "collapsed": true,
    "id": "eh_7uCcixNpN"
   },
   "outputs": [],
   "source": [
    "def test_model(loader, model):\n",
    "    \"\"\"\n",
    "    Help function that tests the model's performance on a dataset\n",
    "    @param: loader - data loader for the dataset to test against\n",
    "    \"\"\"\n",
    "    correct = 0\n",
    "    total = 0\n",
    "    model.eval()\n",
    "    for data1, lengths1,data2, lengths2, labels in loader:\n",
    "        data1_batch, lengths1_batch,data2_batch, lengths2_batch, label_batch = data1, lengths1, data2, lengths2,labels\n",
    "        outputs =model(data1_batch, lengths1_batch,data2_batch, lengths2_batch)\n",
    "        predicted = outputs.max(1, keepdim=True)[1]\n",
    "\n",
    "        total += labels.size(0)\n",
    "        correct += predicted.eq(labels.view_as(predicted)).sum().item()\n",
    "    return (100 * correct / total)"
   ]
  },
  {
   "cell_type": "code",
   "execution_count": 0,
   "metadata": {
    "colab": {},
    "colab_type": "code",
    "collapsed": true,
    "id": "MBgXR8kZy9_B"
   },
   "outputs": [],
   "source": [
    "#val_dataset_best = NewsGroupDataset(val_data_indices[0:200], y_val[0:200])\n",
    "val_loader_best = torch.utils.data.DataLoader(dataset=val_dataset, \n",
    "                                           batch_size=200,\n",
    "                                           collate_fn=newsgroup_collate_func,\n",
    "                                           shuffle=False)\n"
   ]
  },
  {
   "cell_type": "code",
   "execution_count": 35,
   "metadata": {
    "colab": {
     "base_uri": "https://localhost:8080/",
     "height": 88
    },
    "colab_type": "code",
    "id": "9QT3kpdk1e6A",
    "outputId": "a1d9b591-9453-451b-80b0-6f7b2171c436"
   },
   "outputs": [
    {
     "name": "stdout",
     "output_type": "stream",
     "text": [
      "Wrong index : [1, 5, 7, 10, 15, 23, 25, 26, 30, 36, 39, 42, 48, 49, 52, 56, 58, 60, 65, 70, 73, 76, 89, 90, 91, 92, 95, 101, 105, 108, 109, 112, 116, 119, 120, 121, 124, 125, 129, 131, 137, 139, 142, 145, 147, 161, 163, 165, 166, 168, 170, 171, 174, 175, 177, 178, 180, 184, 185, 190, 191, 193, 196, 198]\n",
      "Wrong predict:  [2, 2, 2, 2, 2, 1, 0, 0, 1, 0, 2, 2, 1, 0, 2, 0, 0, 0, 2, 1, 1, 0, 2, 1, 2, 1, 2, 0, 2, 1, 2, 2, 2, 2, 0, 2, 2, 0, 2, 1, 1, 1, 1, 2, 2, 2, 0, 1, 2, 0, 0, 1, 0, 0, 2, 0, 2, 2, 2, 1, 2, 0, 1, 0]\n",
      "True label:  [0, 0, 1, 0, 0, 0, 2, 1, 2, 2, 1, 0, 2, 1, 0, 1, 1, 1, 1, 2, 0, 2, 1, 0, 1, 2, 1, 2, 1, 2, 0, 1, 1, 0, 1, 0, 0, 2, 0, 2, 2, 2, 0, 1, 1, 1, 1, 0, 1, 2, 2, 2, 1, 2, 0, 2, 0, 0, 1, 0, 0, 1, 2, 2]\n"
     ]
    }
   ],
   "source": [
    "rnn_mul_800.eval()\n",
    "for data1, lengths1,data2, lengths2, labels in val_loader_best:\n",
    "  if use_cuda and torch.cuda.is_available():\n",
    "    data1 = data1.cuda()\n",
    "    lengths1  = lengths1.cuda()\n",
    "    data2 = data2.cuda()\n",
    "    lengths2  = lengths2.cuda()\n",
    "    labels = labels.cuda()\n",
    "  data1_batch, lengths1_batch,data2_batch, lengths2_batch, label_batch = data1, lengths1, data2, lengths2,labels\n",
    "  outputs = rnn_mul_800(data1_batch, lengths1_batch,data2_batch, lengths2_batch)\n",
    "  predicted = outputs.max(1, keepdim=True)[1]\n",
    "  \n",
    "  wrong_idx = [i[0] for i in (predicted.eq(labels.view_as(predicted))==0).nonzero().cpu().numpy()]\n",
    "  wrong_predict = [predicted.flatten().cpu().numpy()[i] for i in wrong_idx]\n",
    "  true_label = [label_batch.flatten().cpu().numpy()[i] for i in wrong_idx]\n",
    "  break\n",
    "\n",
    "print ('Wrong index :', wrong_idx)\n",
    "print('Wrong predict: ', wrong_predict)\n",
    "print('True label: ', true_label)\n",
    "        "
   ]
  },
  {
   "cell_type": "code",
   "execution_count": 36,
   "metadata": {
    "colab": {
     "base_uri": "https://localhost:8080/",
     "height": 34
    },
    "colab_type": "code",
    "id": "iaOvwUUv3aIZ",
    "outputId": "b8a07462-3493-4346-9960-3b2b14374690"
   },
   "outputs": [
    {
     "data": {
      "text/plain": [
       "64"
      ]
     },
     "execution_count": 36,
     "metadata": {
      "tags": []
     },
     "output_type": "execute_result"
    }
   ],
   "source": [
    "len(wrong_idx)"
   ]
  },
  {
   "cell_type": "markdown",
   "metadata": {
    "colab_type": "text",
    "id": "8qVR8SSc7q4h"
   },
   "source": [
    "### Incorrect 1"
   ]
  },
  {
   "cell_type": "code",
   "execution_count": 51,
   "metadata": {
    "colab": {
     "base_uri": "https://localhost:8080/",
     "height": 119
    },
    "colab_type": "code",
    "id": "nrkkIuvC6MMS",
    "outputId": "69a6aecd-fd58-45f4-c542-6f811335969f"
   },
   "outputs": [
    {
     "name": "stdout",
     "output_type": "stream",
     "text": [
      "Sent1:\n",
      "  Four people sit on a subway two read books , one looks at a cellphone and is wearing knee high boots .\n",
      "Sent2:\n",
      "  Multiple people are on a subway together , with each of them doing their own thing .\n",
      "True Label: 0\n",
      "Wrong Predict: 2\n"
     ]
    }
   ],
   "source": [
    "print('Sent1:\\n ', ' '.join([id2token[i] for i in val_data[1][0] if i!=0]))\n",
    "print('Sent2:\\n ', ' '.join([id2token[i] for i in val_data[1][1] if i!=0]))\n",
    "print('True Label:',  val_targets[1])\n",
    "print('Wrong Predict:', wrong_predict[wrong_idx.index(1)])"
   ]
  },
  {
   "cell_type": "markdown",
   "metadata": {
    "colab_type": "text",
    "id": "jrvz4BuD7x3M"
   },
   "source": [
    "### Incorrect 2"
   ]
  },
  {
   "cell_type": "code",
   "execution_count": 52,
   "metadata": {
    "colab": {
     "base_uri": "https://localhost:8080/",
     "height": 119
    },
    "colab_type": "code",
    "id": "24aF_iww7oXS",
    "outputId": "9b3a2ea2-0385-401f-b091-a9b7f68d28c9"
   },
   "outputs": [
    {
     "name": "stdout",
     "output_type": "stream",
     "text": [
      "Sent1:\n",
      "  People walk amongst a traffic jam in a crowded city .\n",
      "Sent2:\n",
      "  The traffic is halted and people are walking between the cars .\n",
      "True Label: 0\n",
      "Wrong Predict: 1\n"
     ]
    }
   ],
   "source": [
    "print('Sent1:\\n ', ' '.join([id2token[i] for i in val_data[23][0] if i!=0]))\n",
    "print('Sent2:\\n ', ' '.join([id2token[i] for i in val_data[23][1] if i!=0]))\n",
    "print('True Label:',  val_targets[23])\n",
    "print('Wrong Predict:', wrong_predict[wrong_idx.index(23)])"
   ]
  },
  {
   "cell_type": "markdown",
   "metadata": {
    "colab_type": "text",
    "id": "F2FzT3jQ8gQg"
   },
   "source": [
    "### Incorrect 3"
   ]
  },
  {
   "cell_type": "code",
   "execution_count": 54,
   "metadata": {
    "colab": {
     "base_uri": "https://localhost:8080/",
     "height": 119
    },
    "colab_type": "code",
    "id": "zd71mG8T8j_x",
    "outputId": "e36810a7-b075-4c8f-e96d-363aa1c37c01"
   },
   "outputs": [
    {
     "name": "stdout",
     "output_type": "stream",
     "text": [
      "Sent1:\n",
      "  A woman walking a dog on a leash at the beach , trailing behind as a pug follows another unseen woman .\n",
      "Sent2:\n",
      "  a large woman walks a dog\n",
      "True Label: 2\n",
      "Wrong Predict: 0\n"
     ]
    }
   ],
   "source": [
    "print('Sent1:\\n ', ' '.join([id2token[i] for i in val_data[36][0] if i!=0]))\n",
    "print('Sent2:\\n ', ' '.join([id2token[i] for i in val_data[36][1] if i!=0]))\n",
    "print('True Label:',  val_targets[36])\n",
    "print('Wrong Predict:', wrong_predict[wrong_idx.index(36)])"
   ]
  },
  {
   "cell_type": "markdown",
   "metadata": {
    "colab_type": "text",
    "id": "ni5GPois87CS"
   },
   "source": [
    "### Correct 1"
   ]
  },
  {
   "cell_type": "code",
   "execution_count": 59,
   "metadata": {
    "colab": {
     "base_uri": "https://localhost:8080/",
     "height": 119
    },
    "colab_type": "code",
    "id": "EBi1Mcws85X5",
    "outputId": "9ade6f01-7392-4673-fba5-6048d1a2cdbe"
   },
   "outputs": [
    {
     "name": "stdout",
     "output_type": "stream",
     "text": [
      "Sent1:\n",
      "  bicycles stationed while a group of people socialize .\n",
      "Sent2:\n",
      "  People get together near a stand of bicycles .\n",
      "True Label: 0\n",
      "Predict: 0\n"
     ]
    }
   ],
   "source": [
    "print('Sent1:\\n ', ' '.join([id2token[i] for i in val_data[2][0] if i!=0]))\n",
    "print('Sent2:\\n ', ' '.join([id2token[i] for i in val_data[2][1] if i!=0]))\n",
    "print('True Label:',  val_targets[2])\n",
    "print('Predict:', predicted.flatten().cpu().numpy()[2])"
   ]
  },
  {
   "cell_type": "markdown",
   "metadata": {
    "colab_type": "text",
    "id": "4h9Ck47d9rmr"
   },
   "source": [
    "### Correct 2"
   ]
  },
  {
   "cell_type": "code",
   "execution_count": 60,
   "metadata": {
    "colab": {
     "base_uri": "https://localhost:8080/",
     "height": 119
    },
    "colab_type": "code",
    "id": "8E-tfW8A9xWu",
    "outputId": "16ccf8ea-aea3-44cd-c1c2-c0fcb7a54148"
   },
   "outputs": [
    {
     "name": "stdout",
     "output_type": "stream",
     "text": [
      "Sent1:\n",
      "  A chef speaks into a microphone about a mixed salad contained in a bowl with a decorative lid .\n",
      "Sent2:\n",
      "  a chef speaks into a microphone near a bowl\n",
      "True Label: 0\n",
      "Predict: 0\n"
     ]
    }
   ],
   "source": [
    "print('Sent1:\\n ', ' '.join([id2token[i] for i in val_data[27][0] if i!=0]))\n",
    "print('Sent2:\\n ', ' '.join([id2token[i] for i in val_data[27][1] if i!=0]))\n",
    "print('True Label:',  val_targets[27])\n",
    "print('Predict:', predicted.flatten().cpu().numpy()[27])"
   ]
  },
  {
   "cell_type": "markdown",
   "metadata": {
    "colab_type": "text",
    "id": "LpHUPti-9sgg"
   },
   "source": [
    "### Correct 3"
   ]
  },
  {
   "cell_type": "code",
   "execution_count": 62,
   "metadata": {
    "colab": {
     "base_uri": "https://localhost:8080/",
     "height": 119
    },
    "colab_type": "code",
    "id": "Onc3tr_Z9ppv",
    "outputId": "053250f5-a908-45b5-fa67-64fc71ec1439"
   },
   "outputs": [
    {
     "name": "stdout",
     "output_type": "stream",
     "text": [
      "Sent1:\n",
      "  Children and adults swim in large pool with red staircase .\n",
      "Sent2:\n",
      "  Children and adults are standing outside of a gym .\n",
      "True Label: 1\n",
      "Predict: 1\n"
     ]
    }
   ],
   "source": [
    "print('Sent1:\\n ', ' '.join([id2token[i] for i in val_data[199][0] if i!=0]))\n",
    "print('Sent2:\\n ', ' '.join([id2token[i] for i in val_data[199][1] if i!=0]))\n",
    "print('True Label:',  val_targets[199])\n",
    "print('Predict:', predicted.flatten().cpu().numpy()[199])"
   ]
  },
  {
   "cell_type": "markdown",
   "metadata": {
    "colab_type": "text",
    "id": "c4fuZeudGTvD"
   },
   "source": [
    "# Evaluation on _mnli val_"
   ]
  },
  {
   "cell_type": "code",
   "execution_count": 38,
   "metadata": {
    "colab": {
     "base_uri": "https://localhost:8080/",
     "height": 204
    },
    "colab_type": "code",
    "id": "QN1QcXTBGvuq",
    "outputId": "7795f8a8-ef06-432f-d10e-2139d4725622"
   },
   "outputs": [
    {
     "data": {
      "text/html": [
       "<div>\n",
       "<style scoped>\n",
       "    .dataframe tbody tr th:only-of-type {\n",
       "        vertical-align: middle;\n",
       "    }\n",
       "\n",
       "    .dataframe tbody tr th {\n",
       "        vertical-align: top;\n",
       "    }\n",
       "\n",
       "    .dataframe thead th {\n",
       "        text-align: right;\n",
       "    }\n",
       "</style>\n",
       "<table border=\"1\" class=\"dataframe\">\n",
       "  <thead>\n",
       "    <tr style=\"text-align: right;\">\n",
       "      <th></th>\n",
       "      <th>sentence1</th>\n",
       "      <th>sentence2</th>\n",
       "      <th>label</th>\n",
       "      <th>genre</th>\n",
       "    </tr>\n",
       "  </thead>\n",
       "  <tbody>\n",
       "    <tr>\n",
       "      <th>0</th>\n",
       "      <td>'Not entirely , ' I snapped , harsher than int...</td>\n",
       "      <td>I spoke more harshly than I wanted to .</td>\n",
       "      <td>entailment</td>\n",
       "      <td>fiction</td>\n",
       "    </tr>\n",
       "    <tr>\n",
       "      <th>1</th>\n",
       "      <td>cook and then the next time it would be my tur...</td>\n",
       "      <td>I would cook and then the next turn would be h...</td>\n",
       "      <td>contradiction</td>\n",
       "      <td>telephone</td>\n",
       "    </tr>\n",
       "    <tr>\n",
       "      <th>2</th>\n",
       "      <td>The disorder hardly seemed to exist before the...</td>\n",
       "      <td>The disorder did n't seem to be as common when...</td>\n",
       "      <td>entailment</td>\n",
       "      <td>slate</td>\n",
       "    </tr>\n",
       "    <tr>\n",
       "      <th>3</th>\n",
       "      <td>The Report and Order , in large part , adopts ...</td>\n",
       "      <td>The Report and Order ignores recommendations f...</td>\n",
       "      <td>contradiction</td>\n",
       "      <td>government</td>\n",
       "    </tr>\n",
       "    <tr>\n",
       "      <th>4</th>\n",
       "      <td>IDPA 's OIG 's mission is to prevent , detect ...</td>\n",
       "      <td>IDPA 's OIG 's mission is clear and cares abou...</td>\n",
       "      <td>entailment</td>\n",
       "      <td>government</td>\n",
       "    </tr>\n",
       "  </tbody>\n",
       "</table>\n",
       "</div>"
      ],
      "text/plain": [
       "                                           sentence1  \\\n",
       "0  'Not entirely , ' I snapped , harsher than int...   \n",
       "1  cook and then the next time it would be my tur...   \n",
       "2  The disorder hardly seemed to exist before the...   \n",
       "3  The Report and Order , in large part , adopts ...   \n",
       "4  IDPA 's OIG 's mission is to prevent , detect ...   \n",
       "\n",
       "                                           sentence2          label  \\\n",
       "0            I spoke more harshly than I wanted to .     entailment   \n",
       "1  I would cook and then the next turn would be h...  contradiction   \n",
       "2  The disorder did n't seem to be as common when...     entailment   \n",
       "3  The Report and Order ignores recommendations f...  contradiction   \n",
       "4  IDPA 's OIG 's mission is clear and cares abou...     entailment   \n",
       "\n",
       "        genre  \n",
       "0     fiction  \n",
       "1   telephone  \n",
       "2       slate  \n",
       "3  government  \n",
       "4  government  "
      ]
     },
     "execution_count": 38,
     "metadata": {
      "tags": []
     },
     "output_type": "execute_result"
    }
   ],
   "source": [
    "test_df = pd.read_csv('mnli_val.tsv', sep=\"\\t\", index_col=False )\n",
    "test_df.head()"
   ]
  },
  {
   "cell_type": "code",
   "execution_count": 42,
   "metadata": {
    "colab": {
     "base_uri": "https://localhost:8080/",
     "height": 51
    },
    "colab_type": "code",
    "id": "Id5elBjOIWUj",
    "outputId": "da458f6f-9452-432e-f33e-5f8cda3ade1b"
   },
   "outputs": [
    {
     "data": {
      "text/plain": [
       "array(['fiction', 'telephone', 'slate', 'government', 'travel'],\n",
       "      dtype=object)"
      ]
     },
     "execution_count": 42,
     "metadata": {
      "tags": []
     },
     "output_type": "execute_result"
    }
   ],
   "source": [
    "test_df['genre'].unique()"
   ]
  },
  {
   "cell_type": "code",
   "execution_count": 0,
   "metadata": {
    "colab": {},
    "colab_type": "code",
    "collapsed": true,
    "id": "6zs7wk1nG9k7"
   },
   "outputs": [],
   "source": [
    "def df2idx_mnli(fname,genre):\n",
    "    df = pd.read_csv(fname, sep=\"\\t\", index_col=False )\n",
    "    df = df[df.genre == genre]\n",
    "    # change the label to numerical value\n",
    "    df.loc[df['label'] == 'entailment', 'label'] = 0\n",
    "    df.loc[df['label'] == 'contradiction', 'label'] = 1\n",
    "    df.loc[df['label'] == 'neutral', 'label'] = 2\n",
    "    # convert token to idx\n",
    "    df['sent1_idx']  = df.apply (lambda row:[token2id[token] if token in token2id else UNK_IDX for token in row.sentence1.split()],axis=1)\n",
    "    df['sent2_idx']  = df.apply (lambda row:[token2id[token] if token in token2id else UNK_IDX for token in row.sentence2.split()],axis=1)\n",
    "    # convert df to data list and label list\n",
    "    indexed_data = list(zip(df.sent1_idx, df.sent2_idx))\n",
    "    label = np.array(df.label)\n",
    "    return indexed_data, label, df"
   ]
  },
  {
   "cell_type": "code",
   "execution_count": 0,
   "metadata": {
    "colab": {},
    "colab_type": "code",
    "collapsed": true,
    "id": "w2ujNvIjH0Ss"
   },
   "outputs": [],
   "source": [
    "fic_test_data, fic_test_targets,_= df2idx_mnli(\"mnli_val.tsv\", 'fiction')\n",
    "tel_test_data, tel_test_targets,_= df2idx_mnli(\"mnli_val.tsv\", 'telephone')\n",
    "sla_test_data, sla_test_targets,_= df2idx_mnli(\"mnli_val.tsv\", 'slate')\n",
    "gov_test_data, gov_test_targets,_= df2idx_mnli(\"mnli_val.tsv\", 'government')\n",
    "tra_test_data, tra_test_targets,_= df2idx_mnli(\"mnli_val.tsv\", 'travel')"
   ]
  },
  {
   "cell_type": "code",
   "execution_count": 0,
   "metadata": {
    "colab": {},
    "colab_type": "code",
    "collapsed": true,
    "id": "2ajHNOimrFkL"
   },
   "outputs": [],
   "source": [
    "fic_train_data, fic_train_targets,_= df2idx_mnli(\"mnli_train.tsv\", 'fiction')\n",
    "tel_train_data, tel_train_targets,_= df2idx_mnli(\"mnli_train.tsv\", 'telephone')\n",
    "sla_train_data, sla_train_targets,_= df2idx_mnli(\"mnli_train.tsv\", 'slate')\n",
    "gov_train_data, gov_train_targets,_= df2idx_mnli(\"mnli_train.tsv\", 'government')\n",
    "tra_train_data, tra_train_targets,_= df2idx_mnli(\"mnli_train.tsv\", 'travel')"
   ]
  },
  {
   "cell_type": "code",
   "execution_count": 0,
   "metadata": {
    "colab": {},
    "colab_type": "code",
    "collapsed": true,
    "id": "aQCzF4EEJI10"
   },
   "outputs": [],
   "source": [
    "fic_test_dataset =  NewsGroupDataset(fic_test_data, fic_test_targets)\n",
    "fic_test_loader = torch.utils.data.DataLoader(dataset=fic_test_dataset, \n",
    "                                           batch_size=BATCH_SIZE,\n",
    "                                           collate_fn=newsgroup_collate_func,\n",
    "                                           shuffle=False)\n",
    "tel_test_dataset =  NewsGroupDataset(tel_test_data, tel_test_targets)\n",
    "tel_test_loader = torch.utils.data.DataLoader(dataset=tel_test_dataset, \n",
    "                                           batch_size=BATCH_SIZE,\n",
    "                                           collate_fn=newsgroup_collate_func,\n",
    "                                           shuffle=False)\n",
    "sla_test_dataset =  NewsGroupDataset(sla_test_data, sla_test_targets)\n",
    "sla_test_loader = torch.utils.data.DataLoader(dataset=sla_test_dataset, \n",
    "                                           batch_size=BATCH_SIZE,\n",
    "                                           collate_fn=newsgroup_collate_func,\n",
    "                                           shuffle=False)\n",
    "gov_test_dataset =  NewsGroupDataset(gov_test_data, gov_test_targets)\n",
    "gov_test_loader = torch.utils.data.DataLoader(dataset=gov_test_dataset, \n",
    "                                           batch_size=BATCH_SIZE,\n",
    "                                           collate_fn=newsgroup_collate_func,\n",
    "                                           shuffle=False)\n",
    "tra_test_dataset =  NewsGroupDataset(tra_test_data, tra_test_targets)\n",
    "tra_test_loader = torch.utils.data.DataLoader(dataset=tra_test_dataset, \n",
    "                                           batch_size=BATCH_SIZE,\n",
    "                                           collate_fn=newsgroup_collate_func,\n",
    "                                           shuffle=False)"
   ]
  },
  {
   "cell_type": "code",
   "execution_count": 0,
   "metadata": {
    "colab": {},
    "colab_type": "code",
    "collapsed": true,
    "id": "_cDMsJO2rclt"
   },
   "outputs": [],
   "source": [
    "fic_train_dataset =  NewsGroupDataset(fic_train_data, fic_train_targets)\n",
    "fic_train_loader = torch.utils.data.DataLoader(dataset=fic_train_dataset, \n",
    "                                           batch_size=BATCH_SIZE,\n",
    "                                           collate_fn=newsgroup_collate_func,\n",
    "                                           shuffle=False)\n",
    "tel_train_dataset =  NewsGroupDataset(tel_train_data, tel_train_targets)\n",
    "tel_train_loader = torch.utils.data.DataLoader(dataset=tel_train_dataset, \n",
    "                                           batch_size=BATCH_SIZE,\n",
    "                                           collate_fn=newsgroup_collate_func,\n",
    "                                           shuffle=False)\n",
    "sla_train_dataset =  NewsGroupDataset(sla_train_data, sla_train_targets)\n",
    "sla_train_loader = torch.utils.data.DataLoader(dataset=sla_train_dataset, \n",
    "                                           batch_size=BATCH_SIZE,\n",
    "                                           collate_fn=newsgroup_collate_func,\n",
    "                                           shuffle=False)\n",
    "gov_train_dataset =  NewsGroupDataset(gov_train_data, gov_train_targets)\n",
    "gov_train_loader = torch.utils.data.DataLoader(dataset=gov_train_dataset, \n",
    "                                           batch_size=BATCH_SIZE,\n",
    "                                           collate_fn=newsgroup_collate_func,\n",
    "                                           shuffle=False)\n",
    "tra_train_dataset =  NewsGroupDataset(tra_train_data, tra_train_targets)\n",
    "tra_train_loader = torch.utils.data.DataLoader(dataset=tra_train_dataset, \n",
    "                                           batch_size=BATCH_SIZE,\n",
    "                                           collate_fn=newsgroup_collate_func,\n",
    "                                           shuffle=False)"
   ]
  },
  {
   "cell_type": "markdown",
   "metadata": {
    "colab_type": "text",
    "id": "e8XU5DlWPK0u"
   },
   "source": [
    "## 5.1 Evaluation of RNN"
   ]
  },
  {
   "cell_type": "markdown",
   "metadata": {
    "colab_type": "text",
    "id": "1WaRfRcGSHx_"
   },
   "source": [
    "### 5.1.1 Load Best RNN Model\n",
    "- hidden size :800\n",
    "- concatenate two encoded sentences with element-wise multiplication"
   ]
  },
  {
   "cell_type": "code",
   "execution_count": 0,
   "metadata": {
    "colab": {},
    "colab_type": "code",
    "collapsed": true,
    "id": "I5SXtWcQScqz"
   },
   "outputs": [],
   "source": [
    "rnn_mul_800 = RNN_mul(hidden_size = 800, num_layers = 1, num_classes = 3, pre_trained_emb = ft_emb)\n",
    "use_cuda = True\n",
    "if use_cuda and torch.cuda.is_available():\n",
    "  rnn_mul_800.cuda()\n",
    "rnn_mul_800.load_state_dict(torch.load('drive/My Drive/Colab Notebooks/RNN_mul_hidden_size_800.pkl'))\n",
    "#test_model(val_loader, rnn_mul_800)"
   ]
  },
  {
   "cell_type": "markdown",
   "metadata": {
    "colab_type": "text",
    "id": "s_AYb7zRPxFJ"
   },
   "source": [
    "### 5.1.2 Evaluate across genres and generate val acc table "
   ]
  },
  {
   "cell_type": "code",
   "execution_count": 0,
   "metadata": {
    "colab": {},
    "colab_type": "code",
    "collapsed": true,
    "id": "bFh4WAEESmPr"
   },
   "outputs": [],
   "source": [
    "rnn_val_acc_genre = []\n",
    "for data_loader in [fic_test_loader, tel_test_loader, sla_test_loader, gov_test_loader, tra_test_loader]:\n",
    "  rnn_val_acc_genre.append(test_model(data_loader, rnn_mul_800))\n",
    "genres = ['fiction', 'telephone', 'slate', 'government', 'travel']\n",
    "rnn_mnli_acc = pd.DataFrame(data = {'Genre': genres, 'Validation Accuracy':rnn_val_acc_genre})"
   ]
  },
  {
   "cell_type": "code",
   "execution_count": 84,
   "metadata": {
    "colab": {
     "base_uri": "https://localhost:8080/",
     "height": 204
    },
    "colab_type": "code",
    "id": "4ZMPmLTk-tEM",
    "outputId": "793af579-88b0-49cc-d2c9-186042a22d07"
   },
   "outputs": [
    {
     "data": {
      "text/html": [
       "<div>\n",
       "<style scoped>\n",
       "    .dataframe tbody tr th:only-of-type {\n",
       "        vertical-align: middle;\n",
       "    }\n",
       "\n",
       "    .dataframe tbody tr th {\n",
       "        vertical-align: top;\n",
       "    }\n",
       "\n",
       "    .dataframe thead th {\n",
       "        text-align: right;\n",
       "    }\n",
       "</style>\n",
       "<table border=\"1\" class=\"dataframe\">\n",
       "  <thead>\n",
       "    <tr style=\"text-align: right;\">\n",
       "      <th></th>\n",
       "      <th>Genre</th>\n",
       "      <th>Validation Accuracy</th>\n",
       "    </tr>\n",
       "  </thead>\n",
       "  <tbody>\n",
       "    <tr>\n",
       "      <th>0</th>\n",
       "      <td>fiction</td>\n",
       "      <td>43.216080</td>\n",
       "    </tr>\n",
       "    <tr>\n",
       "      <th>1</th>\n",
       "      <td>telephone</td>\n",
       "      <td>42.885572</td>\n",
       "    </tr>\n",
       "    <tr>\n",
       "      <th>2</th>\n",
       "      <td>slate</td>\n",
       "      <td>40.219561</td>\n",
       "    </tr>\n",
       "    <tr>\n",
       "      <th>3</th>\n",
       "      <td>government</td>\n",
       "      <td>42.125984</td>\n",
       "    </tr>\n",
       "    <tr>\n",
       "      <th>4</th>\n",
       "      <td>travel</td>\n",
       "      <td>41.955193</td>\n",
       "    </tr>\n",
       "  </tbody>\n",
       "</table>\n",
       "</div>"
      ],
      "text/plain": [
       "        Genre  Validation Accuracy\n",
       "0     fiction            43.216080\n",
       "1   telephone            42.885572\n",
       "2       slate            40.219561\n",
       "3  government            42.125984\n",
       "4      travel            41.955193"
      ]
     },
     "execution_count": 84,
     "metadata": {
      "tags": []
     },
     "output_type": "execute_result"
    }
   ],
   "source": [
    "rnn_mnli_acc"
   ]
  },
  {
   "cell_type": "code",
   "execution_count": 0,
   "metadata": {
    "colab": {},
    "colab_type": "code",
    "collapsed": true,
    "id": "UYP0qoBD-yIG"
   },
   "outputs": [],
   "source": [
    "rnn_mnli_acc.to_csv('MNLI_rnn_acc.csv')"
   ]
  },
  {
   "cell_type": "markdown",
   "metadata": {
    "colab_type": "text",
    "id": "gXmqqOz9PU9C"
   },
   "source": [
    "## 5.2 Evaluation of CNN"
   ]
  },
  {
   "cell_type": "markdown",
   "metadata": {
    "colab_type": "text",
    "id": "yeXNvxWaT_P1"
   },
   "source": [
    "###5.2.1 Load Best CNN Model \n",
    "- hidden size: \n",
    "- concatenate two encoded sentences with element-wise multiplication"
   ]
  },
  {
   "cell_type": "code",
   "execution_count": 0,
   "metadata": {
    "colab": {},
    "colab_type": "code",
    "collapsed": true,
    "id": "NlbVg_BgPZ1d"
   },
   "outputs": [],
   "source": [
    "cnn_300 = CNN(hidden_size = 300, kernel_size = 3, padding_size = 1,num_layers = 2, num_classes = 3, pre_trained_emb = ft_emb)\n",
    "use_cuda = True\n",
    "if use_cuda and torch.cuda.is_available():\n",
    "  cnn_300.cuda()\n",
    "cnn_300.load_state_dict(torch.load('drive/My Drive/Colab Notebooks/CNN_hidden_size_300.pkl'))\n",
    "#test_model(val_loader, cnn_300)"
   ]
  },
  {
   "cell_type": "markdown",
   "metadata": {
    "colab_type": "text",
    "id": "Lh9ZJkwmUdkv"
   },
   "source": [
    "### 5.2.2 Evaluate across genres and generate val acc table"
   ]
  },
  {
   "cell_type": "code",
   "execution_count": 0,
   "metadata": {
    "colab": {},
    "colab_type": "code",
    "collapsed": true,
    "id": "9GLsqDaZUi7T"
   },
   "outputs": [],
   "source": [
    "cnn_val_acc_genre = []\n",
    "for data_loader in [fic_test_loader, tel_test_loader, sla_test_loader, gov_test_loader, tra_test_loader]:\n",
    "  cnn_val_acc_genre.append(test_model(data_loader, cnn_300))\n",
    "genres = ['fiction', 'telephone', 'slate', 'government', 'travel']\n",
    "cnn_mnli_acc = pd.DataFrame(data = {'Genre': genres, 'Validation Accuracy':cnn_val_acc_genre})"
   ]
  },
  {
   "cell_type": "code",
   "execution_count": 30,
   "metadata": {
    "colab": {
     "base_uri": "https://localhost:8080/",
     "height": 204
    },
    "colab_type": "code",
    "id": "gLL6LgcxHAzO",
    "outputId": "a44edfa6-959b-4093-81d6-16c0b3a20b3d"
   },
   "outputs": [
    {
     "data": {
      "text/html": [
       "<div>\n",
       "<style scoped>\n",
       "    .dataframe tbody tr th:only-of-type {\n",
       "        vertical-align: middle;\n",
       "    }\n",
       "\n",
       "    .dataframe tbody tr th {\n",
       "        vertical-align: top;\n",
       "    }\n",
       "\n",
       "    .dataframe thead th {\n",
       "        text-align: right;\n",
       "    }\n",
       "</style>\n",
       "<table border=\"1\" class=\"dataframe\">\n",
       "  <thead>\n",
       "    <tr style=\"text-align: right;\">\n",
       "      <th></th>\n",
       "      <th>Genre</th>\n",
       "      <th>Validation Accuracy</th>\n",
       "    </tr>\n",
       "  </thead>\n",
       "  <tbody>\n",
       "    <tr>\n",
       "      <th>0</th>\n",
       "      <td>fiction</td>\n",
       "      <td>38.793970</td>\n",
       "    </tr>\n",
       "    <tr>\n",
       "      <th>1</th>\n",
       "      <td>telephone</td>\n",
       "      <td>41.293532</td>\n",
       "    </tr>\n",
       "    <tr>\n",
       "      <th>2</th>\n",
       "      <td>slate</td>\n",
       "      <td>41.417166</td>\n",
       "    </tr>\n",
       "    <tr>\n",
       "      <th>3</th>\n",
       "      <td>government</td>\n",
       "      <td>39.271654</td>\n",
       "    </tr>\n",
       "    <tr>\n",
       "      <th>4</th>\n",
       "      <td>travel</td>\n",
       "      <td>41.344196</td>\n",
       "    </tr>\n",
       "  </tbody>\n",
       "</table>\n",
       "</div>"
      ],
      "text/plain": [
       "        Genre  Validation Accuracy\n",
       "0     fiction            38.793970\n",
       "1   telephone            41.293532\n",
       "2       slate            41.417166\n",
       "3  government            39.271654\n",
       "4      travel            41.344196"
      ]
     },
     "execution_count": 30,
     "metadata": {
      "tags": []
     },
     "output_type": "execute_result"
    }
   ],
   "source": [
    "cnn_mnli_acc"
   ]
  },
  {
   "cell_type": "code",
   "execution_count": 0,
   "metadata": {
    "colab": {},
    "colab_type": "code",
    "collapsed": true,
    "id": "YqjQ9mbIHKAt"
   },
   "outputs": [],
   "source": [
    "cnn_mnli_acc.to_csv('MNLI_cnn_acc.csv')"
   ]
  },
  {
   "cell_type": "code",
   "execution_count": 0,
   "metadata": {
    "colab": {},
    "colab_type": "code",
    "collapsed": true,
    "id": "_7aqP4TkoheN"
   },
   "outputs": [],
   "source": []
  },
  {
   "cell_type": "markdown",
   "metadata": {
    "colab_type": "text",
    "id": "yXV1PlOHq1AK"
   },
   "source": [
    "# Fine-Tuning MultiNLI"
   ]
  },
  {
   "cell_type": "code",
   "execution_count": 0,
   "metadata": {
    "colab": {},
    "colab_type": "code",
    "collapsed": true,
    "id": "jt3dH6VssLUs"
   },
   "outputs": [],
   "source": [
    "def fine_tuning(train_loader,val_loader, model):\n",
    "  criterion = torch.nn.NLLLoss()\n",
    "  optimizer = torch.optim.Adam(model.parameters(), lr=learning_rate)\n",
    "  total_step = len(train_loader)\n",
    "  train_loss_ls = []\n",
    "  val_acc_ls = []\n",
    "  for epoch in range(num_epochs):\n",
    "      loss_batch = []\n",
    "      for i, (data1, lengths1, data2, lengths2, labels) in enumerate(train_loader):\n",
    "  #         data1 = Variable(data1)  \n",
    "  #         lengths1 = Variable(lengths1)\n",
    "  #         data2 = Variable(data2)  \n",
    "  #         lengths2 = Variable(lengths2)# Convert torch tensor to Variable: change image from a vector of size 784 to a matrix of 28 x 28\n",
    "  #         labels = Variable(labels)\n",
    "          if use_cuda and torch.cuda.is_available():\n",
    "              data1 = data1.cuda()\n",
    "              lengths1  = lengths1.cuda()\n",
    "              data2 = data2.cuda()\n",
    "              lengths2  = lengths2.cuda()\n",
    "              labels = labels.cuda()\n",
    "          model.train()\n",
    "          optimizer.zero_grad()\n",
    "          # Forward pass\n",
    "          outputs = model(data1, lengths1, data2, lengths2)\n",
    "          predicted = outputs.max(1, keepdim=True)[1]\n",
    "          loss = criterion(outputs, labels)\n",
    "          loss_batch.append(loss.item())\n",
    "          # Backward and optimize\n",
    "          loss.backward()\n",
    "          optimizer.step()\n",
    "          # validate every 100 iterations\n",
    "          if i > 0 and i % 50 == 0:\n",
    "              # validate\n",
    "              train_loss = loss_batch[i]\n",
    "              val_acc = test_model(val_loader, model)\n",
    "              train_loss_ls.append(train_loss)\n",
    "              val_acc_ls.append(val_acc)\n",
    "              print('Epoch: [{}/{}], Step: [{}/{}], Validation Acc: {}, Training Loss: {}'.format(\n",
    "                         epoch+1, num_epochs, i+1, len(train_loader), val_acc,train_loss))\n",
    "  #torch.save(model_object.state_dict(), 'params_{}.pkl'.format())\n",
    "#model_object.load_state_dict(torch.load('params.pkl'))\n",
    "  return train_loss_ls, val_acc_ls\n",
    "\n"
   ]
  },
  {
   "cell_type": "code",
   "execution_count": 0,
   "metadata": {
    "colab": {},
    "colab_type": "code",
    "collapsed": true,
    "id": "JeujrhIrsmvV"
   },
   "outputs": [],
   "source": [
    "num_epochs = 10\n",
    "fine_tuning_dic = {}"
   ]
  },
  {
   "cell_type": "code",
   "execution_count": 49,
   "metadata": {
    "colab": {
     "base_uri": "https://localhost:8080/",
     "height": 357
    },
    "colab_type": "code",
    "id": "pQSRO444q9dM",
    "outputId": "4cf0257d-dc32-41c0-9a17-83616f28c10f"
   },
   "outputs": [
    {
     "name": "stdout",
     "output_type": "stream",
     "text": [
      "Epoch: [1/10], Step: [51/120], Validation Acc: 41.30653266331658, Training Loss: 1.3316197395324707\n",
      "Epoch: [1/10], Step: [101/120], Validation Acc: 41.4070351758794, Training Loss: 1.5383548736572266\n",
      "Epoch: [2/10], Step: [51/120], Validation Acc: 43.71859296482412, Training Loss: 0.49553167819976807\n",
      "Epoch: [2/10], Step: [101/120], Validation Acc: 43.81909547738694, Training Loss: 0.7056248784065247\n",
      "Epoch: [3/10], Step: [51/120], Validation Acc: 43.91959798994975, Training Loss: 0.261760950088501\n",
      "Epoch: [3/10], Step: [101/120], Validation Acc: 42.61306532663317, Training Loss: 0.2711864709854126\n",
      "Epoch: [4/10], Step: [51/120], Validation Acc: 45.42713567839196, Training Loss: 0.08623187243938446\n",
      "Epoch: [4/10], Step: [101/120], Validation Acc: 44.120603015075375, Training Loss: 0.028541721403598785\n",
      "Epoch: [5/10], Step: [51/120], Validation Acc: 44.120603015075375, Training Loss: 0.0163022018969059\n",
      "Epoch: [5/10], Step: [101/120], Validation Acc: 44.321608040201006, Training Loss: 0.021250933408737183\n",
      "Epoch: [6/10], Step: [51/120], Validation Acc: 44.62311557788945, Training Loss: 0.007165499031543732\n",
      "Epoch: [6/10], Step: [101/120], Validation Acc: 44.42211055276382, Training Loss: 0.028633393347263336\n",
      "Epoch: [7/10], Step: [51/120], Validation Acc: 44.221105527638194, Training Loss: 0.006075907498598099\n",
      "Epoch: [7/10], Step: [101/120], Validation Acc: 43.81909547738694, Training Loss: 0.004292845726013184\n",
      "Epoch: [8/10], Step: [51/120], Validation Acc: 43.41708542713568, Training Loss: 0.0029182657599449158\n",
      "Epoch: [8/10], Step: [101/120], Validation Acc: 44.92462311557789, Training Loss: 0.0184534452855587\n",
      "Epoch: [9/10], Step: [51/120], Validation Acc: 44.02010050251256, Training Loss: 0.023653119802474976\n",
      "Epoch: [9/10], Step: [101/120], Validation Acc: 45.92964824120603, Training Loss: 0.002188757061958313\n",
      "Epoch: [10/10], Step: [51/120], Validation Acc: 44.824120603015075, Training Loss: 0.0008720383048057556\n",
      "Epoch: [10/10], Step: [101/120], Validation Acc: 45.32663316582914, Training Loss: 0.003023166209459305\n"
     ]
    }
   ],
   "source": [
    "rnn_fic = RNN_mul(hidden_size = 800, num_layers = 1, num_classes = 3, pre_trained_emb = ft_emb)\n",
    "use_cuda = True\n",
    "if use_cuda and torch.cuda.is_available():\n",
    "  rnn_fic.cuda()\n",
    "rnn_fic.load_state_dict(torch.load('drive/My Drive/Colab Notebooks/RNN_mul_hidden_size_800.pkl'))\n",
    "fine_tuning_dic['fic'] = fine_tuning(fic_train_loader,fic_test_loader,rnn_fic )\n",
    "torch.save(rnn_fic.state_dict(), 'RNN_finetuning_FIC.pkl')\n",
    "#cnn_mul_record['hidden_size_{}'.format(hidden_size)] = (train_loss, val_acc)\n",
    "#!cp 'RNN_finetuning_FIC.pkl' 'drive/My Drive/Colab Notebooks/RNN_finetuning_FIC.pkl'"
   ]
  },
  {
   "cell_type": "code",
   "execution_count": 50,
   "metadata": {
    "colab": {
     "base_uri": "https://localhost:8080/",
     "height": 34
    },
    "colab_type": "code",
    "id": "BZ87mPIPrpFk",
    "outputId": "cb646647-51a2-4ecb-f588-c5bf6e3f9f99"
   },
   "outputs": [
    {
     "data": {
      "text/plain": [
       "46.33165829145729"
      ]
     },
     "execution_count": 50,
     "metadata": {
      "tags": []
     },
     "output_type": "execute_result"
    }
   ],
   "source": [
    "test_model(fic_test_loader,rnn_fic)"
   ]
  },
  {
   "cell_type": "code",
   "execution_count": 51,
   "metadata": {
    "colab": {
     "base_uri": "https://localhost:8080/",
     "height": 187
    },
    "colab_type": "code",
    "id": "WixNI0CSqsxz",
    "outputId": "267a6064-d263-4349-8e2e-ec2f2c1822ad"
   },
   "outputs": [
    {
     "name": "stdout",
     "output_type": "stream",
     "text": [
      "Epoch: [1/5], Step: [51/134], Validation Acc: 43.28358208955224, Training Loss: 1.8829325437545776\n",
      "Epoch: [1/5], Step: [101/134], Validation Acc: 42.6865671641791, Training Loss: 1.1916170120239258\n",
      "Epoch: [2/5], Step: [51/134], Validation Acc: 46.3681592039801, Training Loss: 0.5325435400009155\n",
      "Epoch: [2/5], Step: [101/134], Validation Acc: 45.57213930348259, Training Loss: 0.7811086773872375\n",
      "Epoch: [3/5], Step: [51/134], Validation Acc: 46.069651741293534, Training Loss: 0.33982160687446594\n",
      "Epoch: [3/5], Step: [101/134], Validation Acc: 45.97014925373134, Training Loss: 0.15582451224327087\n",
      "Epoch: [4/5], Step: [51/134], Validation Acc: 46.766169154228855, Training Loss: 0.26185742020606995\n",
      "Epoch: [4/5], Step: [101/134], Validation Acc: 44.875621890547265, Training Loss: 0.03331920504570007\n",
      "Epoch: [5/5], Step: [51/134], Validation Acc: 46.3681592039801, Training Loss: 0.021506931632757187\n",
      "Epoch: [5/5], Step: [101/134], Validation Acc: 46.865671641791046, Training Loss: 0.00874597579240799\n"
     ]
    }
   ],
   "source": [
    "num_epochs = 5\n",
    "rnn_tel = RNN_mul(hidden_size = 800, num_layers = 1, num_classes = 3, pre_trained_emb = ft_emb)\n",
    "use_cuda = True\n",
    "if use_cuda and torch.cuda.is_available():\n",
    "  rnn_tel.cuda()\n",
    "rnn_tel.load_state_dict(torch.load('drive/My Drive/Colab Notebooks/RNN_mul_hidden_size_800.pkl'))\n",
    "fine_tuning_dic['tel'] = fine_tuning(tel_train_loader,tel_test_loader,rnn_tel )\n",
    "torch.save(rnn_tel.state_dict(), 'RNN_finetuning_TEL.pkl')\n",
    "#cnn_mul_record['hidden_size_{}'.format(hidden_size)] = (train_loss, val_acc)\n",
    "!cp 'RNN_finetuning_TEL.pkl' 'drive/My Drive/Colab Notebooks/RNN_finetuning_TEL.pkl'"
   ]
  },
  {
   "cell_type": "code",
   "execution_count": 52,
   "metadata": {
    "colab": {
     "base_uri": "https://localhost:8080/",
     "height": 34
    },
    "colab_type": "code",
    "id": "cRyLdAGkrwj6",
    "outputId": "f9001b68-067c-48f3-ade7-4ab8f1687394"
   },
   "outputs": [
    {
     "data": {
      "text/plain": [
       "45.57213930348259"
      ]
     },
     "execution_count": 52,
     "metadata": {
      "tags": []
     },
     "output_type": "execute_result"
    }
   ],
   "source": [
    "test_model(tel_test_loader,rnn_tel)"
   ]
  },
  {
   "cell_type": "code",
   "execution_count": 53,
   "metadata": {
    "colab": {
     "base_uri": "https://localhost:8080/",
     "height": 187
    },
    "colab_type": "code",
    "id": "5zcfqv4JrRnB",
    "outputId": "59898c6c-49a8-4e4d-a1fd-033151ec227f"
   },
   "outputs": [
    {
     "name": "stdout",
     "output_type": "stream",
     "text": [
      "Epoch: [1/5], Step: [51/126], Validation Acc: 43.41317365269461, Training Loss: 1.3365195989608765\n",
      "Epoch: [1/5], Step: [101/126], Validation Acc: 39.52095808383233, Training Loss: 1.0557008981704712\n",
      "Epoch: [2/5], Step: [51/126], Validation Acc: 43.41317365269461, Training Loss: 0.5040886402130127\n",
      "Epoch: [2/5], Step: [101/126], Validation Acc: 42.51497005988024, Training Loss: 0.6487178206443787\n",
      "Epoch: [3/5], Step: [51/126], Validation Acc: 43.213572854291414, Training Loss: 0.16986176371574402\n",
      "Epoch: [3/5], Step: [101/126], Validation Acc: 42.315369261477045, Training Loss: 0.16872018575668335\n",
      "Epoch: [4/5], Step: [51/126], Validation Acc: 42.21556886227545, Training Loss: 0.025206491351127625\n",
      "Epoch: [4/5], Step: [101/126], Validation Acc: 42.21556886227545, Training Loss: 0.032765839248895645\n",
      "Epoch: [5/5], Step: [51/126], Validation Acc: 41.417165668662676, Training Loss: 0.01117626577615738\n",
      "Epoch: [5/5], Step: [101/126], Validation Acc: 42.315369261477045, Training Loss: 0.006664253771305084\n"
     ]
    }
   ],
   "source": [
    "num_epochs = 5\n",
    "rnn_sla= RNN_mul(hidden_size = 800, num_layers = 1, num_classes = 3, pre_trained_emb = ft_emb)\n",
    "use_cuda = True\n",
    "if use_cuda and torch.cuda.is_available():\n",
    "  rnn_sla.cuda()\n",
    "rnn_sla.load_state_dict(torch.load('drive/My Drive/Colab Notebooks/RNN_mul_hidden_size_800.pkl'))\n",
    "fine_tuning_dic['sla'] = fine_tuning(sla_train_loader,sla_test_loader,rnn_sla )\n",
    "torch.save(rnn_sla.state_dict(), 'RNN_finetuning_SLA.pkl')\n",
    "#cnn_mul_record['hidden_size_{}'.format(hidden_size)] = (train_loss, val_acc)\n",
    "!cp 'RNN_finetuning_SLA.pkl' 'drive/My Drive/Colab Notebooks/RNN_finetuning_SLA.pkl'"
   ]
  },
  {
   "cell_type": "code",
   "execution_count": 55,
   "metadata": {
    "colab": {
     "base_uri": "https://localhost:8080/",
     "height": 34
    },
    "colab_type": "code",
    "id": "s5EpIl0FsieS",
    "outputId": "872fca3e-919f-4a02-efd7-005a0fbe271e"
   },
   "outputs": [
    {
     "data": {
      "text/plain": [
       "41.01796407185629"
      ]
     },
     "execution_count": 55,
     "metadata": {
      "tags": []
     },
     "output_type": "execute_result"
    }
   ],
   "source": [
    "test_model(sla_test_loader,rnn_sla)"
   ]
  },
  {
   "cell_type": "code",
   "execution_count": 60,
   "metadata": {
    "colab": {
     "base_uri": "https://localhost:8080/",
     "height": 187
    },
    "colab_type": "code",
    "id": "8KX7K6-ZsPsj",
    "outputId": "041164da-134c-4905-c897-94b487e1c7aa"
   },
   "outputs": [
    {
     "name": "stdout",
     "output_type": "stream",
     "text": [
      "Epoch: [1/5], Step: [51/122], Validation Acc: 45.57086614173228, Training Loss: 1.6344153881072998\n",
      "Epoch: [1/5], Step: [101/122], Validation Acc: 46.06299212598425, Training Loss: 1.332634449005127\n",
      "Epoch: [2/5], Step: [51/122], Validation Acc: 45.767716535433074, Training Loss: 0.4796903729438782\n",
      "Epoch: [2/5], Step: [101/122], Validation Acc: 48.22834645669291, Training Loss: 0.9034083485603333\n",
      "Epoch: [3/5], Step: [51/122], Validation Acc: 47.34251968503937, Training Loss: 0.18312059342861176\n",
      "Epoch: [3/5], Step: [101/122], Validation Acc: 46.45669291338583, Training Loss: 0.22560104727745056\n",
      "Epoch: [4/5], Step: [51/122], Validation Acc: 47.24409448818898, Training Loss: 0.033569324761629105\n",
      "Epoch: [4/5], Step: [101/122], Validation Acc: 48.22834645669291, Training Loss: 0.02359027788043022\n",
      "Epoch: [5/5], Step: [51/122], Validation Acc: 46.75196850393701, Training Loss: 0.011223532259464264\n",
      "Epoch: [5/5], Step: [101/122], Validation Acc: 46.94881889763779, Training Loss: 0.013730734586715698\n"
     ]
    }
   ],
   "source": [
    "num_epochs = 5\n",
    "rnn_gov= RNN_mul(hidden_size = 800, num_layers = 1, num_classes = 3, pre_trained_emb = ft_emb)\n",
    "use_cuda = True\n",
    "if use_cuda and torch.cuda.is_available():\n",
    "  rnn_gov.cuda()\n",
    "rnn_gov.load_state_dict(torch.load('drive/My Drive/Colab Notebooks/RNN_mul_hidden_size_800.pkl'))\n",
    "fine_tuning_dic['gov'] = fine_tuning(gov_train_loader,gov_test_loader,rnn_gov )\n",
    "torch.save(rnn_gov.state_dict(), 'RNN_finetuning_GOV.pkl')\n",
    "#cnn_mul_record['hidden_size_{}'.format(hidden_size)] = (train_loss, val_acc)\n",
    "!cp 'RNN_finetuning_GOV.pkl' 'drive/My Drive/Colab Notebooks/RNN_finetuning_GOV.pkl'"
   ]
  },
  {
   "cell_type": "code",
   "execution_count": 59,
   "metadata": {
    "colab": {
     "base_uri": "https://localhost:8080/",
     "height": 34
    },
    "colab_type": "code",
    "id": "LuFZzc3ksmk0",
    "outputId": "ce18311c-2f94-4b0e-8a1d-3e5c94a1301a"
   },
   "outputs": [
    {
     "data": {
      "text/plain": [
       "48.326771653543304"
      ]
     },
     "execution_count": 59,
     "metadata": {
      "tags": []
     },
     "output_type": "execute_result"
    }
   ],
   "source": [
    "test_model(gov_test_loader,rnn_gov)"
   ]
  },
  {
   "cell_type": "code",
   "execution_count": 61,
   "metadata": {
    "colab": {
     "base_uri": "https://localhost:8080/",
     "height": 187
    },
    "colab_type": "code",
    "id": "2wd3ioE5tjyh",
    "outputId": "1dce788d-c499-450c-9678-e8c9e0733f3b"
   },
   "outputs": [
    {
     "name": "stdout",
     "output_type": "stream",
     "text": [
      "Epoch: [1/5], Step: [51/125], Validation Acc: 43.890020366598776, Training Loss: 1.2621415853500366\n",
      "Epoch: [1/5], Step: [101/125], Validation Acc: 46.13034623217923, Training Loss: 0.9454455375671387\n",
      "Epoch: [2/5], Step: [51/125], Validation Acc: 47.45417515274949, Training Loss: 0.35416141152381897\n",
      "Epoch: [2/5], Step: [101/125], Validation Acc: 45.31568228105906, Training Loss: 0.5583660006523132\n",
      "Epoch: [3/5], Step: [51/125], Validation Acc: 46.537678207739305, Training Loss: 0.09738357365131378\n",
      "Epoch: [3/5], Step: [101/125], Validation Acc: 45.824847250509166, Training Loss: 0.04340731352567673\n",
      "Epoch: [4/5], Step: [51/125], Validation Acc: 48.16700610997963, Training Loss: 0.012604370713233948\n",
      "Epoch: [4/5], Step: [101/125], Validation Acc: 47.14867617107943, Training Loss: 0.0083855539560318\n",
      "Epoch: [5/5], Step: [51/125], Validation Acc: 47.86150712830957, Training Loss: 0.008099891245365143\n",
      "Epoch: [5/5], Step: [101/125], Validation Acc: 47.55600814663951, Training Loss: 0.004204504191875458\n"
     ]
    }
   ],
   "source": [
    "num_epochs = 5\n",
    "rnn_tra= RNN_mul(hidden_size = 800, num_layers = 1, num_classes = 3, pre_trained_emb = ft_emb)\n",
    "use_cuda = True\n",
    "if use_cuda and torch.cuda.is_available():\n",
    "  rnn_tra.cuda()\n",
    "rnn_tra.load_state_dict(torch.load('drive/My Drive/Colab Notebooks/RNN_mul_hidden_size_800.pkl'))\n",
    "fine_tuning_dic['tra'] = fine_tuning(tra_train_loader,tra_test_loader,rnn_gov )\n",
    "torch.save(rnn_tra.state_dict(), 'RNN_finetuning_TRA.pkl')\n",
    "#cnn_mul_record['hidden_size_{}'.format(hidden_size)] = (train_loss, val_acc)\n",
    "!cp 'RNN_finetuning_TRA.pkl' 'drive/My Drive/Colab Notebooks/RNN_finetuning_TRA.pkl'"
   ]
  },
  {
   "cell_type": "code",
   "execution_count": 62,
   "metadata": {
    "colab": {
     "base_uri": "https://localhost:8080/",
     "height": 34
    },
    "colab_type": "code",
    "id": "BIX3z_WjtvPn",
    "outputId": "dd09178f-6c6e-4747-e5bf-4fe06f538bc2"
   },
   "outputs": [
    {
     "data": {
      "text/plain": [
       "43.4826883910387"
      ]
     },
     "execution_count": 62,
     "metadata": {
      "tags": []
     },
     "output_type": "execute_result"
    }
   ],
   "source": [
    "test_model(tra_test_loader,rnn_tra)"
   ]
  },
  {
   "cell_type": "code",
   "execution_count": 0,
   "metadata": {
    "colab": {},
    "colab_type": "code",
    "collapsed": true,
    "id": "6hJX63Iqvhq-"
   },
   "outputs": [],
   "source": []
  }
 ],
 "metadata": {
  "accelerator": "GPU",
  "colab": {
   "collapsed_sections": [],
   "name": "NLP_HW2.ipynb",
   "provenance": [],
   "toc_visible": true,
   "version": "0.3.2"
  },
  "kernelspec": {
   "display_name": "Python 3",
   "language": "python",
   "name": "python3"
  },
  "language_info": {
   "codemirror_mode": {
    "name": "ipython",
    "version": 3
   },
   "file_extension": ".py",
   "mimetype": "text/x-python",
   "name": "python",
   "nbconvert_exporter": "python",
   "pygments_lexer": "ipython3",
   "version": "3.6.2"
  }
 },
 "nbformat": 4,
 "nbformat_minor": 1
}
